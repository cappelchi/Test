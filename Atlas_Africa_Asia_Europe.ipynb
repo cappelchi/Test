{
 "cells": [
  {
   "cell_type": "markdown",
   "metadata": {},
   "source": [
    "План проекта\n",
    "1. Отобрать 9 популяций:\n",
    "- Africa (393)\n",
    "    - yoruba\n",
    "    - bantu\n",
    "    - egyptans\n",
    "- Asia (502)\n",
    "    - indians\n",
    "    - japanese\n",
    "    - chinese\n",
    "- Europe (390)\n",
    "    - finns\n",
    "    - english\n",
    "    - italians\n",
    "\n",
    "2. Выбрать базы (Поскольку образцы повторяются от базы к базе) содержащую макс кол-во образцов - потом максимум от того что осталось итд.\n",
    "3. Перевести в бинарник, если необходимо.\n",
    "4. Выровнять на последнюю версию генома.\n",
    "5. Слить в один бинарный файл. \n",
    "6. Убрать лишние SNP.\n",
    "7. Проверить пересечение SNP, отбирать там где больше 300 000. \n",
    "8. Установить семью как популяцию.\n",
    "9. Сделать PCA на 10 первых компонент. Картинка с цветами и семьями.\n",
    "10. Прогнать admixture. Сделать картинку на популяции в admixture"
   ]
  },
  {
   "cell_type": "code",
   "execution_count": null,
   "metadata": {},
   "outputs": [],
   "source": [
    "!wget http://s3.amazonaws.com/plink1-assets/plink_linux_x86_64_20200219.zip\n",
    "!unzip plink_linux_x86_64_20200219.zip -d plink/"
   ]
  },
  {
   "cell_type": "code",
   "execution_count": null,
   "metadata": {},
   "outputs": [],
   "source": [
    "#!pip install pandas\n",
    "#!pip install tqdm"
   ]
  },
  {
   "cell_type": "code",
   "execution_count": null,
   "metadata": {},
   "outputs": [],
   "source": [
    "!pip install pyliftover\n",
    "!wget http://hgdownload.cse.ucsc.edu/gbdb/hg19/liftOver/hg19ToHg38.over.chain.gz\n",
    "!wget http://hgdownload.cse.ucsc.edu/gbdb/hg18/liftOver/hg18ToHg38.over.chain.gz\n",
    "!wget http://hgdownload.cse.ucsc.edu/gbdbb/hg17/liftOver/hg17ToHg19.over.chain.gz\n",
    "!wget http://hgdownload.cse.ucsc.edu/gbdb/hg38/liftOver/hg38ToHg19.over.chain.gz\n",
    "!wget http://hgdownload.cse.ucsc.edu/gbdb/hg19/liftOver/hg19ToHg18.over.chain.gz\n",
    "!wget http://hgdownload.cse.ucsc.edu/gbdb/hg19/liftOver/hg19ToHg17.over.chain.gz\n",
    "!wget http://hgdownload.cse.ucsc.edu/gbdb/hg18/liftOver/hg18ToHg38.over.chain.gz"
   ]
  },
  {
   "cell_type": "code",
   "execution_count": 1,
   "metadata": {},
   "outputs": [],
   "source": [
    "import pandas as pd\n",
    "import sys\n",
    "#from os import listdir\n",
    "#from os.path import isfile, join\n",
    "#import codecs\n",
    "import numpy as np\n",
    "import os\n",
    "import csv\n",
    "from tqdm import tqdm\n",
    "from pyliftover import LiftOver"
   ]
  },
  {
   "cell_type": "code",
   "execution_count": 2,
   "metadata": {},
   "outputs": [],
   "source": [
    "df = pd.read_csv('Databases - individuals.csv')"
   ]
  },
  {
   "cell_type": "code",
   "execution_count": 3,
   "metadata": {},
   "outputs": [
    {
     "data": {
      "text/html": [
       "<div>\n",
       "<style scoped>\n",
       "    .dataframe tbody tr th:only-of-type {\n",
       "        vertical-align: middle;\n",
       "    }\n",
       "\n",
       "    .dataframe tbody tr th {\n",
       "        vertical-align: top;\n",
       "    }\n",
       "\n",
       "    .dataframe thead th {\n",
       "        text-align: right;\n",
       "    }\n",
       "</style>\n",
       "<table border=\"1\" class=\"dataframe\">\n",
       "  <thead>\n",
       "    <tr style=\"text-align: right;\">\n",
       "      <th></th>\n",
       "      <th>ID</th>\n",
       "      <th>population</th>\n",
       "      <th>Subpopulation</th>\n",
       "      <th>Region Macro</th>\n",
       "      <th>Region</th>\n",
       "      <th>Accuracy of pop</th>\n",
       "      <th>Project</th>\n",
       "      <th>Type of sequencing</th>\n",
       "      <th>directory</th>\n",
       "      <th>downloaded</th>\n",
       "      <th>Unnamed: 10</th>\n",
       "      <th>Unnamed: 11</th>\n",
       "    </tr>\n",
       "  </thead>\n",
       "  <tbody>\n",
       "    <tr>\n",
       "      <th>0</th>\n",
       "      <td>Hazara6_27Af</td>\n",
       "      <td>hazaras</td>\n",
       "      <td>NaN</td>\n",
       "      <td>Asia</td>\n",
       "      <td>Asia Central</td>\n",
       "      <td>NaN</td>\n",
       "      <td>Estonian Biocenter</td>\n",
       "      <td>GENOTYPE</td>\n",
       "      <td>Estonian_Biocenter/afgan/</td>\n",
       "      <td>yes</td>\n",
       "      <td>NaN</td>\n",
       "      <td>NaN</td>\n",
       "    </tr>\n",
       "    <tr>\n",
       "      <th>1</th>\n",
       "      <td>Hazara6_2Af</td>\n",
       "      <td>hazaras</td>\n",
       "      <td>NaN</td>\n",
       "      <td>Asia</td>\n",
       "      <td>Asia Central</td>\n",
       "      <td>NaN</td>\n",
       "      <td>Estonian Biocenter</td>\n",
       "      <td>GENOTYPE</td>\n",
       "      <td>Estonian_Biocenter/afgan/</td>\n",
       "      <td>yes</td>\n",
       "      <td>NaN</td>\n",
       "      <td>NaN</td>\n",
       "    </tr>\n",
       "    <tr>\n",
       "      <th>2</th>\n",
       "      <td>Hazara6_66Af</td>\n",
       "      <td>hazaras</td>\n",
       "      <td>NaN</td>\n",
       "      <td>Asia</td>\n",
       "      <td>Asia Central</td>\n",
       "      <td>NaN</td>\n",
       "      <td>Estonian Biocenter</td>\n",
       "      <td>GENOTYPE</td>\n",
       "      <td>Estonian_Biocenter/afgan/</td>\n",
       "      <td>yes</td>\n",
       "      <td>NaN</td>\n",
       "      <td>NaN</td>\n",
       "    </tr>\n",
       "    <tr>\n",
       "      <th>3</th>\n",
       "      <td>Hazara6_68Af</td>\n",
       "      <td>hazaras</td>\n",
       "      <td>NaN</td>\n",
       "      <td>Asia</td>\n",
       "      <td>Asia Central</td>\n",
       "      <td>NaN</td>\n",
       "      <td>Estonian Biocenter</td>\n",
       "      <td>GENOTYPE</td>\n",
       "      <td>Estonian_Biocenter/afgan/</td>\n",
       "      <td>yes</td>\n",
       "      <td>NaN</td>\n",
       "      <td>NaN</td>\n",
       "    </tr>\n",
       "    <tr>\n",
       "      <th>4</th>\n",
       "      <td>Hazara6_6Af</td>\n",
       "      <td>hazaras</td>\n",
       "      <td>NaN</td>\n",
       "      <td>Asia</td>\n",
       "      <td>Asia Central</td>\n",
       "      <td>NaN</td>\n",
       "      <td>Estonian Biocenter</td>\n",
       "      <td>GENOTYPE</td>\n",
       "      <td>Estonian_Biocenter/afgan/</td>\n",
       "      <td>yes</td>\n",
       "      <td>NaN</td>\n",
       "      <td>NaN</td>\n",
       "    </tr>\n",
       "    <tr>\n",
       "      <th>...</th>\n",
       "      <td>...</td>\n",
       "      <td>...</td>\n",
       "      <td>...</td>\n",
       "      <td>...</td>\n",
       "      <td>...</td>\n",
       "      <td>...</td>\n",
       "      <td>...</td>\n",
       "      <td>...</td>\n",
       "      <td>...</td>\n",
       "      <td>...</td>\n",
       "      <td>...</td>\n",
       "      <td>...</td>\n",
       "    </tr>\n",
       "    <tr>\n",
       "      <th>12223</th>\n",
       "      <td>SGVP00598</td>\n",
       "      <td>indians</td>\n",
       "      <td>NaN</td>\n",
       "      <td>Asia</td>\n",
       "      <td>Asia Southeast</td>\n",
       "      <td>NaN</td>\n",
       "      <td>Singapore Genome Variation Project</td>\n",
       "      <td>NaN</td>\n",
       "      <td>SingaporeGVP/2009-0-30/</td>\n",
       "      <td>yes</td>\n",
       "      <td>NaN</td>\n",
       "      <td>NaN</td>\n",
       "    </tr>\n",
       "    <tr>\n",
       "      <th>12224</th>\n",
       "      <td>SGVP00015</td>\n",
       "      <td>chinese</td>\n",
       "      <td>NaN</td>\n",
       "      <td>Asia</td>\n",
       "      <td>Asia Southeast</td>\n",
       "      <td>NaN</td>\n",
       "      <td>Singapore Genome Variation Project</td>\n",
       "      <td>NaN</td>\n",
       "      <td>SingaporeGVP/2009-0-30/</td>\n",
       "      <td>yes</td>\n",
       "      <td>NaN</td>\n",
       "      <td>NaN</td>\n",
       "    </tr>\n",
       "    <tr>\n",
       "      <th>12225</th>\n",
       "      <td>SGVP00016</td>\n",
       "      <td>chinese</td>\n",
       "      <td>NaN</td>\n",
       "      <td>Asia</td>\n",
       "      <td>Asia Southeast</td>\n",
       "      <td>NaN</td>\n",
       "      <td>Singapore Genome Variation Project</td>\n",
       "      <td>NaN</td>\n",
       "      <td>SingaporeGVP/2009-0-30/</td>\n",
       "      <td>yes</td>\n",
       "      <td>NaN</td>\n",
       "      <td>NaN</td>\n",
       "    </tr>\n",
       "    <tr>\n",
       "      <th>12226</th>\n",
       "      <td>SGVP00178</td>\n",
       "      <td>chinese</td>\n",
       "      <td>NaN</td>\n",
       "      <td>Asia</td>\n",
       "      <td>Asia Southeast</td>\n",
       "      <td>NaN</td>\n",
       "      <td>Singapore Genome Variation Project</td>\n",
       "      <td>NaN</td>\n",
       "      <td>SingaporeGVP/2009-0-30/</td>\n",
       "      <td>yes</td>\n",
       "      <td>NaN</td>\n",
       "      <td>NaN</td>\n",
       "    </tr>\n",
       "    <tr>\n",
       "      <th>12227</th>\n",
       "      <td>SGVP00014</td>\n",
       "      <td>chinese</td>\n",
       "      <td>NaN</td>\n",
       "      <td>Asia</td>\n",
       "      <td>Asia Southeast</td>\n",
       "      <td>NaN</td>\n",
       "      <td>Singapore Genome Variation Project</td>\n",
       "      <td>NaN</td>\n",
       "      <td>SingaporeGVP/2009-0-30/</td>\n",
       "      <td>yes</td>\n",
       "      <td>NaN</td>\n",
       "      <td>NaN</td>\n",
       "    </tr>\n",
       "  </tbody>\n",
       "</table>\n",
       "<p>12228 rows × 12 columns</p>\n",
       "</div>"
      ],
      "text/plain": [
       "                 ID population Subpopulation Region Macro          Region  \\\n",
       "0      Hazara6_27Af    hazaras           NaN         Asia    Asia Central   \n",
       "1       Hazara6_2Af    hazaras           NaN         Asia    Asia Central   \n",
       "2      Hazara6_66Af    hazaras           NaN         Asia    Asia Central   \n",
       "3      Hazara6_68Af    hazaras           NaN         Asia    Asia Central   \n",
       "4       Hazara6_6Af    hazaras           NaN         Asia    Asia Central   \n",
       "...             ...        ...           ...          ...             ...   \n",
       "12223     SGVP00598    indians           NaN         Asia  Asia Southeast   \n",
       "12224     SGVP00015    chinese           NaN         Asia  Asia Southeast   \n",
       "12225     SGVP00016    chinese           NaN         Asia  Asia Southeast   \n",
       "12226     SGVP00178    chinese           NaN         Asia  Asia Southeast   \n",
       "12227     SGVP00014    chinese           NaN         Asia  Asia Southeast   \n",
       "\n",
       "      Accuracy of pop                             Project Type of sequencing  \\\n",
       "0                 NaN                  Estonian Biocenter           GENOTYPE   \n",
       "1                 NaN                  Estonian Biocenter           GENOTYPE   \n",
       "2                 NaN                  Estonian Biocenter           GENOTYPE   \n",
       "3                 NaN                  Estonian Biocenter           GENOTYPE   \n",
       "4                 NaN                  Estonian Biocenter           GENOTYPE   \n",
       "...               ...                                 ...                ...   \n",
       "12223             NaN  Singapore Genome Variation Project                NaN   \n",
       "12224             NaN  Singapore Genome Variation Project                NaN   \n",
       "12225             NaN  Singapore Genome Variation Project                NaN   \n",
       "12226             NaN  Singapore Genome Variation Project                NaN   \n",
       "12227             NaN  Singapore Genome Variation Project                NaN   \n",
       "\n",
       "                       directory downloaded  Unnamed: 10 Unnamed: 11  \n",
       "0      Estonian_Biocenter/afgan/        yes          NaN         NaN  \n",
       "1      Estonian_Biocenter/afgan/        yes          NaN         NaN  \n",
       "2      Estonian_Biocenter/afgan/        yes          NaN         NaN  \n",
       "3      Estonian_Biocenter/afgan/        yes          NaN         NaN  \n",
       "4      Estonian_Biocenter/afgan/        yes          NaN         NaN  \n",
       "...                          ...        ...          ...         ...  \n",
       "12223    SingaporeGVP/2009-0-30/        yes          NaN         NaN  \n",
       "12224    SingaporeGVP/2009-0-30/        yes          NaN         NaN  \n",
       "12225    SingaporeGVP/2009-0-30/        yes          NaN         NaN  \n",
       "12226    SingaporeGVP/2009-0-30/        yes          NaN         NaN  \n",
       "12227    SingaporeGVP/2009-0-30/        yes          NaN         NaN  \n",
       "\n",
       "[12228 rows x 12 columns]"
      ]
     },
     "execution_count": 3,
     "metadata": {},
     "output_type": "execute_result"
    }
   ],
   "source": [
    "df"
   ]
  },
  {
   "cell_type": "code",
   "execution_count": 4,
   "metadata": {},
   "outputs": [],
   "source": [
    "listofpopulations = ['bantu', 'yoruba', 'egyptans', 'Egyptian', 'Indian', 'indians', 'chinese', 'japanese', 'finns', 'english', 'italians']"
   ]
  },
  {
   "cell_type": "code",
   "execution_count": null,
   "metadata": {},
   "outputs": [],
   "source": [
    "id = [y for x in listofpopulations for y in df.ID[df.population == x]]\n",
    "dr = [y for x in listofpopulations for y in df.directory[df.population == x]]\n",
    "#print (id)\n",
    "#print(dr)"
   ]
  },
  {
   "cell_type": "code",
   "execution_count": 28,
   "metadata": {},
   "outputs": [
    {
     "data": {
      "text/plain": [
       "1282"
      ]
     },
     "execution_count": 28,
     "metadata": {},
     "output_type": "execute_result"
    }
   ],
   "source": [
    "len(id)"
   ]
  },
  {
   "cell_type": "markdown",
   "metadata": {},
   "source": [
    "**Распределение популяций по папкам**"
   ]
  },
  {
   "cell_type": "code",
   "execution_count": 6,
   "metadata": {},
   "outputs": [
    {
     "name": "stdout",
     "output_type": "stream",
     "text": [
      "['ReichLab/AncietPresent2019/long', 558]\n",
      "['SingaporeGVP/2009-0-30/', 179]\n",
      "['ReichLab/AncietPresent2019/short', 152]\n",
      "['SIBERIA/', 46]\n",
      "['Estonian_Biocenter/Tamm_2019', 34]\n",
      "['Estonian_Biocenter/khazar', 24]\n",
      "['Jakobsson2008/', 20]\n",
      "['Estonian_Biocenter/Tambets2018', 19]\n",
      "['Estonian_Biocenter/jew/', 4]\n",
      "['Estonian_Biocenter/Eichstaedt_2017', 3]\n",
      "['Li2008/', 2]\n",
      "['Estonian_Biocenter/america/', 1]\n"
     ]
    }
   ],
   "source": [
    "drct = df[df.population.isin(listofpopulations)].groupby(by = 'directory').count().idxmax().ID\n",
    "unique_dict = {}\n",
    "best_count = 1\n",
    "unique_dict = {x:y for x, y in zip(id, dr) if y == drct}\n",
    "samples_in_directories =[[drct, len(unique_dict)]]\n",
    "#unique_list(collect_sample)\n",
    "cnt = 0\n",
    "while  best_count > 0:\n",
    "    dir_list = []\n",
    "    for drct in df.directory[df.population.isin(listofpopulations)].unique():\n",
    "\n",
    "        dir_list.append([drct, len([sample for sample in df.ID[df.population.isin(listofpopulations) & (df.directory == drct)] if sample not in unique_dict.keys()])])\n",
    "        #print ('1 - ', drct, ' = ', len([sample for sample in df.ID[df.population.isin(listofpopulations) & (df.directory == drct)] if sample not in unique_dict.keys()]))\n",
    "    best_count = max([int(x[1]) for x in dir_list])\n",
    "    best_dir = [y[0] for y in dir_list if y[1] == best_count][0]\n",
    "    if best_count ==0:\n",
    "        break\n",
    "    unique_dict.update({x:y for x, y in zip(id, dr) if (y == best_dir) & (x not in unique_dict)})\n",
    "    samples_in_directories.append([best_dir, best_count])\n",
    "    #print('6 - next step', best_dir, best_count)\n",
    "    cnt +=1\n",
    "    if cnt > 50:\n",
    "        break\n",
    "\n",
    "for record in samples_in_directories:\n",
    "    print(record)"
   ]
  },
  {
   "cell_type": "markdown",
   "metadata": {},
   "source": [
    "1. Готовим данные из папки Recihlab. Появилась новая 42 версия датасета (у нас 37). Обе версии выравненны на hg19 или 37 версию генома. Конвертация из формата проекта в бинарник происходит софтом eigensoft. "
   ]
  },
  {
   "cell_type": "markdown",
   "metadata": {},
   "source": [
    "# Dataset n.1"
   ]
  },
  {
   "cell_type": "markdown",
   "metadata": {},
   "source": [
    "Устанавливаем eigensof"
   ]
  },
  {
   "cell_type": "code",
   "execution_count": null,
   "metadata": {},
   "outputs": [],
   "source": [
    "!sudo apt-get install eigensoft"
   ]
  },
  {
   "cell_type": "markdown",
   "metadata": {},
   "source": [
    "Закачиваем новую версию датасета"
   ]
  },
  {
   "cell_type": "code",
   "execution_count": null,
   "metadata": {},
   "outputs": [],
   "source": [
    "!wget https://reichdata.hms.harvard.edu/pub/datasets/amh_repo/curated_releases/V42/V42.4/SHARE/public.dir/v42.4.1240K.tar"
   ]
  },
  {
   "cell_type": "code",
   "execution_count": null,
   "metadata": {},
   "outputs": [],
   "source": [
    "!mkdir -p /home/cappelchi/ReichLab/V42/long/\n",
    "!tar -xf v42.4.1240K.tar -C /home/cappelchi/ReichLab/V42/long"
   ]
  },
  {
   "cell_type": "markdown",
   "metadata": {},
   "source": [
    "Готовим файл для конвертации"
   ]
  },
  {
   "cell_type": "code",
   "execution_count": null,
   "metadata": {},
   "outputs": [],
   "source": [
    "!echo \"genotypename:    /home/cappelchi/ReichLab/V42/long/v42.4.1240K.geno\" > /home/cappelchi/ReichLab/V42/long/par.EIGENSTRAT.PEDPACKED\n",
    "!echo \"snpname:        /home/cappelchi/ReichLab/V42/long/v42.4.1240K.snp\" >> /home/cappelchi/ReichLab/V42/long/par.EIGENSTRAT.PEDPACKED\n",
    "!echo \"indivname:       /home/cappelchi/ReichLab/V42/long/v42.4.1240K.ind\" >> /home/cappelchi/ReichLab/V42/long/par.EIGENSTRAT.PEDPACKED\n",
    "!echo \"outputformat:    PACKEDPED\" >> /home/cappelchi/ReichLab/V42/long/par.EIGENSTRAT.PEDPACKED\n",
    "!echo \"genotypeoutname: /home/cappelchi/ReichLab/V42/long/v42.4.1240K.bed\" >> /home/cappelchi/ReichLab/V42/long/par.EIGENSTRAT.PEDPACKED\n",
    "!echo \"snpoutname:      /home/cappelchi/ReichLab/V42/long/v42.4.1240K.bim\" >> /home/cappelchi/ReichLab/V42/long/par.EIGENSTRAT.PEDPACKED\n",
    "!echo \"indivoutname:    /home/cappelchi/ReichLab/V42/long/v42.4.1240K.fam\" >> /home/cappelchi/ReichLab/V42/long/par.EIGENSTRAT.PEDPACKED\n",
    "!echo \"familynames:     NO\" >> /home/cappelchi/ReichLab/V42/long/par.EIGENSTRAT.PEDPACKED\n",
    "!cat /home/cappelchi/ReichLab/V42/long/par.EIGENSTRAT.PEDPACKED"
   ]
  },
  {
   "cell_type": "code",
   "execution_count": null,
   "metadata": {},
   "outputs": [],
   "source": [
    "!convertf -p /home/cappelchi/ReichLab/V42/long/par.EIGENSTRAT.PEDPACKED"
   ]
  },
  {
   "cell_type": "markdown",
   "metadata": {},
   "source": [
    ".fam files specification:\n",
    "* Family ID ('FID')\n",
    "* Within-family ID ('IID'; cannot be '0')\n",
    "* Within-family ID of father ('0' if father isn't in dataset)\n",
    "* Within-family ID of mother ('0' if mother isn't in dataset)\n",
    "* Sex code ('1' = male, '2' = female, '0' = unknown)\n",
    "* Phenotype value ('1' = control, '2' = case, '-9'/'0'/non-numeric = missing data if case/control)"
   ]
  },
  {
   "cell_type": "code",
   "execution_count": 8,
   "metadata": {},
   "outputs": [],
   "source": [
    "df_fam = pd.read_csv(\n",
    "    '/home/cappelchi/ReichLab/V42/long/v42.4.1240K.fam', \n",
    "    sep = '\\s+', \n",
    "    names = ['ID1', 'ID2', 'IDF', 'IDM', 'sex', 'pop'], \n",
    "    header = None, \n",
    "    index_col = False\n",
    "    )"
   ]
  },
  {
   "cell_type": "markdown",
   "metadata": {},
   "source": [
    "Собираем названия образцов для выборки"
   ]
  },
  {
   "cell_type": "code",
   "execution_count": 9,
   "metadata": {},
   "outputs": [],
   "source": [
    "Reich_long = [key for key in unique_dict if unique_dict[key] == 'ReichLab/AncietPresent2019/long']"
   ]
  },
  {
   "cell_type": "markdown",
   "metadata": {},
   "source": [
    "Оказалось, что в новой базе названия образцов немного изменились. Корректируем названия для вырезания из датасета."
   ]
  },
  {
   "cell_type": "code",
   "execution_count": 11,
   "metadata": {
    "scrolled": true
   },
   "outputs": [
    {
     "name": "stdout",
     "output_type": "stream",
     "text": [
      "531\n"
     ]
    }
   ],
   "source": [
    "corr_names = [name for name in df_fam.ID2 if (name in Reich_long) or (name.split('.')[0] in Reich_long)]\n",
    "print(len(corr_names))"
   ]
  },
  {
   "cell_type": "markdown",
   "metadata": {},
   "source": [
    "Количество образцов немного уменьшилось. Смотрим какие образцы не вошли."
   ]
  },
  {
   "cell_type": "code",
   "execution_count": 12,
   "metadata": {},
   "outputs": [
    {
     "name": "stdout",
     "output_type": "stream",
     "text": [
      "531\n",
      "['HGDP01028', 'HGDP01030', 'HGDP01034', 'HGDP01035', 'HGDP01414', 'HGDP01417', 'HGDP00928', 'HGDP00932', 'HGDP00936', 'IL-01', 'IL-04', 'IL-07', 'IL-08', 'IL-09', 'IL-10', 'IL-11', 'IL-12', 'IL-15', 'IL-16', 'HGDP00749', 'HGDP00773', 'HGDP01076', 'HGDP01078', 'HGDP01079', 'HGDP01163', 'HGDP01168', 'HGDP01172']\n"
     ]
    }
   ],
   "source": [
    "split_point = [name.split('.')[0] for name in df_fam.ID2 if (name in Reich_long) or (name.split('.')[0] in Reich_long)]\n",
    "print(len(split_point))\n",
    "rest = [name for name in Reich_long if name not in split_point]\n",
    "print (rest)"
   ]
  },
  {
   "cell_type": "markdown",
   "metadata": {},
   "source": [
    "Апдейтим датасет под нашу выборку"
   ]
  },
  {
   "cell_type": "code",
   "execution_count": null,
   "metadata": {},
   "outputs": [],
   "source": [
    "df_fam_selected = df_fam[df_fam.ID2.isin(corr_names)]"
   ]
  },
  {
   "cell_type": "markdown",
   "metadata": {},
   "source": [
    "Создаём файл списка образцов под plink"
   ]
  },
  {
   "cell_type": "code",
   "execution_count": null,
   "metadata": {},
   "outputs": [],
   "source": [
    "df_fam_selected.to_csv('/home/cappelchi/ReichLab/V42/long/keep.fam',\n",
    "                      sep = ' ',\n",
    "                       header = False,\n",
    "                       index = False                       \n",
    "                      )"
   ]
  },
  {
   "cell_type": "markdown",
   "metadata": {},
   "source": [
    "Оставляем только нужные образцы и конвертируем в vcf"
   ]
  },
  {
   "cell_type": "code",
   "execution_count": null,
   "metadata": {},
   "outputs": [],
   "source": [
    "!plink/plink --bfile /home/cappelchi/ReichLab/V42/long/v42.4.1240K --keep-fam /home/cappelchi/ReichLab/V42/long/keep.fam --make-bed --out /home/cappelchi/ReichLab/V42/long/v42.4.1240K.selected"
   ]
  },
  {
   "cell_type": "code",
   "execution_count": null,
   "metadata": {},
   "outputs": [],
   "source": [
    "!plink/plink --bfile /home/cappelchi/ReichLab/V42/long/v42.4.1240K.selected  --keep-allele-order --recode vcf --out /home/cappelchi/ReichLab/V42/long/v42.4.1240K.selected"
   ]
  },
  {
   "cell_type": "code",
   "execution_count": 7,
   "metadata": {},
   "outputs": [],
   "source": [
    "lo = LiftOver('hg19ToHg38.over.chain.gz')\n",
    "lo38_19 = LiftOver('hg38ToHg19.over.chain.gz')\n",
    "lo19_18 = LiftOver('hg19ToHg18.over.chain.gz')\n",
    "lo19_17 = LiftOver('hg19ToHg17.over.chain.gz')"
   ]
  },
  {
   "cell_type": "code",
   "execution_count": 146,
   "metadata": {},
   "outputs": [],
   "source": [
    "def recoord_vcf(input_name = '', output_name = ''):\n",
    "    if (input_name == '') or (output_name == ''):\n",
    "        return\n",
    "    with open(input_name, 'r') as input_file:\n",
    "        reader = csv.reader(input_file, delimiter = '\\t')\n",
    "        trigger = False\n",
    "        cnt = 0\n",
    "        cnt_crd = 0\n",
    "        cnt_mis = 0\n",
    "        with open(output_name, 'w') as output_file:\n",
    "            for row in tqdm(reader):\n",
    "                writer = csv.writer(output_file, delimiter = '\\t')\n",
    "                if trigger:\n",
    "                    cnt += 1\n",
    "                    rw = lo.convert_coordinate('chr' + str(row[0]), int(row[1]))\n",
    "                    if rw:                   \n",
    "                        row[1] = rw[0][1]\n",
    "                        writer.writerow(row)\n",
    "                        cnt_crd += 1\n",
    "                    else:\n",
    "                        cnt_mis +=1\n",
    "\n",
    "                if row[0] == '#CHROM':\n",
    "                    writer.writerow(row)\n",
    "                    trigger = True\n",
    "\n",
    "    print ('Cнипов перемещено = ', cnt_crd)\n",
    "    print ('Снипов не найдено = ', cnt_mis)"
   ]
  },
  {
   "cell_type": "code",
   "execution_count": null,
   "metadata": {},
   "outputs": [],
   "source": [
    "!plink/plink --vcf /home/cappelchi/ReichLab/V42/long/v42.4.1240K.selected_v38.vcf --double-id --make-bed --out /home/cappelchi/ReichLab/V42/long/v42.4.1240K.selected_v38"
   ]
  },
  {
   "cell_type": "markdown",
   "metadata": {},
   "source": [
    "# Dataset n.2"
   ]
  },
  {
   "cell_type": "code",
   "execution_count": null,
   "metadata": {},
   "outputs": [],
   "source": [
    "!wget https://reichdata.hms.harvard.edu/pub/datasets/amh_repo/curated_releases/V42/V42.4/SHARE/public.dir/v42.4.1240K_HO.tar\n",
    "!mkdir -p /home/cappelchi/ReichLab/V42/long/\n",
    "!tar -xf v42.4.1240K_HO.tar -C /home/cappelchi/ReichLab/V42/long"
   ]
  },
  {
   "cell_type": "code",
   "execution_count": null,
   "metadata": {},
   "outputs": [],
   "source": [
    "!echo \"genotypename:    /home/cappelchi/ReichLab/V42/short/v42.4.1240K_HO.geno\" > /home/cappelchi/ReichLab/V42/long/par.EIGENSTRAT.PEDPACKED\n",
    "!echo \"snpname:        /home/cappelchi/ReichLab/V42/short/v42.4.1240K_HO.snp\" >> /home/cappelchi/ReichLab/V42/long/par.EIGENSTRAT.PEDPACKED\n",
    "!echo \"indivname:       /home/cappelchi/ReichLab/V42/short/v42.4.1240K_HO.ind\" >> /home/cappelchi/ReichLab/V42/long/par.EIGENSTRAT.PEDPACKED\n",
    "!echo \"outputformat:    PACKEDPED\" >> /home/cappelchi/ReichLab/V42/long/par.EIGENSTRAT.PEDPACKED\n",
    "!echo \"genotypeoutname: /home/cappelchi/ReichLab/V42/short/v42.4.1240K_HO.bed\" >> /home/cappelchi/ReichLab/V42/long/par.EIGENSTRAT.PEDPACKED\n",
    "!echo \"snpoutname:      /home/cappelchi/ReichLab/V42/short/v42.4.1240K_HO.bim\" >> /home/cappelchi/ReichLab/V42/long/par.EIGENSTRAT.PEDPACKED\n",
    "!echo \"indivoutname:    /home/cappelchi/ReichLab/V42/short/v42.4.1240K_HO.fam\" >> /home/cappelchi/ReichLab/V42/long/par.EIGENSTRAT.PEDPACKED\n",
    "!echo \"familynames:     NO\" >> /home/cappelchi/ReichLab/V42/long/par.EIGENSTRAT.PEDPACKED\n",
    "!cat /home/cappelchi/ReichLab/V42/short/par.EIGENSTRAT.PEDPACKED"
   ]
  },
  {
   "cell_type": "code",
   "execution_count": null,
   "metadata": {},
   "outputs": [],
   "source": [
    "!convertf -p /home/cappelchi/ReichLab/V42/short/par.EIGENSTRAT.PEDPACKED"
   ]
  },
  {
   "cell_type": "code",
   "execution_count": 129,
   "metadata": {},
   "outputs": [],
   "source": [
    "df_fam = pd.read_csv(\n",
    "    '/home/cappelchi/ReichLab/V42/short/v42.4.1240K_HO.fam', \n",
    "    sep = '\\s+', \n",
    "    names = ['ID1', 'ID2', 'IDF', 'IDM', 'sex', 'pop'], \n",
    "    header = None, \n",
    "    index_col = False\n",
    "    )"
   ]
  },
  {
   "cell_type": "code",
   "execution_count": 130,
   "metadata": {},
   "outputs": [],
   "source": [
    "Reich_short = [key for key in unique_dict if unique_dict[key] == 'ReichLab/AncietPresent2019/short']"
   ]
  },
  {
   "cell_type": "code",
   "execution_count": 131,
   "metadata": {},
   "outputs": [
    {
     "data": {
      "text/plain": [
       "152"
      ]
     },
     "execution_count": 131,
     "metadata": {},
     "output_type": "execute_result"
    }
   ],
   "source": [
    "len(Reich_short)"
   ]
  },
  {
   "cell_type": "code",
   "execution_count": 135,
   "metadata": {},
   "outputs": [],
   "source": [
    "df_fam_selected = df_fam[df_fam.ID2.isin(Reich_short)]"
   ]
  },
  {
   "cell_type": "code",
   "execution_count": 138,
   "metadata": {},
   "outputs": [],
   "source": [
    "df_fam_selected.to_csv('/home/cappelchi/ReichLab/V42/short/keep.fam',\n",
    "                      sep = ' ',\n",
    "                       header = False,\n",
    "                       index = False                       \n",
    "                      )"
   ]
  },
  {
   "cell_type": "code",
   "execution_count": null,
   "metadata": {},
   "outputs": [],
   "source": [
    "!plink/plink --bfile /home/cappelchi/ReichLab/V42/short/v42.4.1240K_HO --keep-fam /home/cappelchi/ReichLab/V42/short/keep.fam --make-bed --out /home/cappelchi/ReichLab/V42/short/v42.4.1240K_HO.selected"
   ]
  },
  {
   "cell_type": "code",
   "execution_count": null,
   "metadata": {},
   "outputs": [],
   "source": [
    "!plink/plink --bfile /home/cappelchi/ReichLab/V42/short/v42.4.1240K_HO.selected  --keep-allele-order --recode vcf --out /home/cappelchi/ReichLab/V42/short/v42.4.1240K_HO.selected"
   ]
  },
  {
   "cell_type": "code",
   "execution_count": 147,
   "metadata": {
    "scrolled": true
   },
   "outputs": [
    {
     "name": "stderr",
     "output_type": "stream",
     "text": [
      "597603it [00:14, 41405.22it/s]"
     ]
    },
    {
     "name": "stdout",
     "output_type": "stream",
     "text": [
      "Cнипов перемещено =  593100\n",
      "Снипов не найдено =  4473\n"
     ]
    },
    {
     "name": "stderr",
     "output_type": "stream",
     "text": [
      "\n"
     ]
    }
   ],
   "source": [
    "recoord_vcf(\n",
    "    input_name = '/home/cappelchi/ReichLab/V42/short/v42.4.1240K_HO.selected.vcf', \n",
    "    output_name = '/home/cappelchi/ReichLab/V42/short/v42.4.1240K_HO.selected_38.vcf'\n",
    ")"
   ]
  },
  {
   "cell_type": "code",
   "execution_count": null,
   "metadata": {},
   "outputs": [],
   "source": [
    "!plink/plink --vcf /home/cappelchi/ReichLab/V42/short/v42.4.1240K_HO.selected_38.vcf --double-id --make-bed --out /home/cappelchi/ReichLab/V42/short/v42.4.1240K_HO.selected_38"
   ]
  },
  {
   "cell_type": "markdown",
   "metadata": {},
   "source": [
    "# Dataset n.3"
   ]
  },
  {
   "cell_type": "code",
   "execution_count": 17,
   "metadata": {},
   "outputs": [],
   "source": [
    "path = '/home/cappelchi/SingaporeGVP/QC/'\n",
    "genotype1 = 'genotypes_chr' \n",
    "genotype2 = '_INS_15apr08_QC_b36_fwd'\n",
    "genotype_ins= '_INS_15apr08_QC_b36_fwd'\n",
    "genotype_chs = '_CHS_15apr08_QC_b36_fwd'\n",
    "genotype_mas = '_MAS_15apr08_QC_b36_fwd'"
   ]
  },
  {
   "cell_type": "code",
   "execution_count": 8,
   "metadata": {},
   "outputs": [],
   "source": [
    "def multi_snp(df_txt):\n",
    "    #возвращает list с мульти SNP для запроса в онлайн базу\n",
    "    to_del = []\n",
    "    for cnt, allel in enumerate(df_txt.SNPalleles):    \n",
    "        if len(allel) > 3:\n",
    "            print (cnt, ' - ',df_txt.rs[cnt], ' - ', allel)\n",
    "            to_del.append(df_txt.rs[cnt])\n",
    "    return to_del"
   ]
  },
  {
   "cell_type": "code",
   "execution_count": 9,
   "metadata": {},
   "outputs": [],
   "source": [
    "def del_multi_snp(to_del, input_file, output_file):\n",
    "    #Удаляем мультиаллели\n",
    "    with open(input_file, \"r\") as input:\n",
    "        with open(output_file, \"w\") as output:\n",
    "            for line in input:\n",
    "                to_not_write = any(snp in to_del for snp in line.split('\\t'))\n",
    "                if not to_not_write:\n",
    "                    #print (line.split('\\t'))\n",
    "                    output.write(line)        "
   ]
  },
  {
   "cell_type": "code",
   "execution_count": null,
   "metadata": {},
   "outputs": [],
   "source": [
    "#for chrom in range(1, 23):    \n",
    "#    df_txt = pd.read_csv(path + genotype1 + str(chrom) + genotype2 + '.txt', \n",
    "#                         #names = ['CHR', 'SNP', ' gen_dist', ' pos', 'ref', 'ALT'], \n",
    "#                         sep = '\\s+', \n",
    "#                         header = 0, \n",
    "#                         index_col = False)\n",
    "#    df_txt = df_txt.rename(columns={'rs#': 'rs'})\n",
    "#    \n",
    "#    multi_snps = multi_snp(df_txt)\n",
    "#    \n",
    "#    del_multi_snp(\n",
    "#    multi_snps,\n",
    "#    input_file  = path + genotype1 + str(chrom) + genotype2 + '.txt',\n",
    "#    output_file = path + genotype1 + str(chrom) + genotype2 + '_cnv.txt'\n",
    "#    )"
   ]
  },
  {
   "cell_type": "code",
   "execution_count": 188,
   "metadata": {},
   "outputs": [
    {
     "name": "stdout",
     "output_type": "stream",
     "text": [
      "['rs#', 'SNPalleles', 'chrom', 'pos', 'strand', 'genome_build', 'center', 'protLSID', 'assayLSID', 'panelLSID', 'QC_code', 'SGVP00417']\n",
      "['rs10458597', 'C/T', 'chr1', '554484', '+', 'ncbi_36', 'gis', 'AffymetrixSNP6', 'commercial.assay', 'Indian-83-unrelated', 'QC+', 'CC']\n",
      "['rs9629043', 'C/T', 'chr1', '554636', '+', 'ncbi_36', 'gis', 'AffymetrixSNP6', 'commercial.assay', 'Indian-83-unrelated', 'QC+', 'CC']\n",
      "['rs12565286', 'C/G', 'chr1', '711153', '+', 'ncbi_36', 'gis', 'AffymetrixSNP6', 'commercial.assay', 'Indian-83-unrelated', 'QC+', 'GG']\n",
      "['rs12082473', 'A/G', 'chr1', '730720', '+', 'ncbi_36', 'gis', 'AffymetrixSNP6', 'commercial.assay', 'Indian-83-unrelated', 'QC+', 'GG']\n",
      "['rs3094315', 'A/G', 'chr1', '742429', '+', 'ncbi_36', 'gis', 'Illumina1M_single', 'commercial.assay', 'Indian-83-unrelated', 'QC+', 'AG']\n"
     ]
    }
   ],
   "source": [
    "#with open('/home/cappelchi/SingaporeGVP/QC/genotypes_chr1_INS_15apr08_QC_b36_fwd.txt', 'r') as input_file:\n",
    "#    cnt = 0\n",
    "#    reader = csv.reader(input_file, delimiter = '\\t')\n",
    "#    for line in reader:\n",
    "#        print(line[0:12])\n",
    "#        cnt += 1\n",
    "#        if cnt > 5:\n",
    "#            break"
   ]
  },
  {
   "cell_type": "code",
   "execution_count": 24,
   "metadata": {},
   "outputs": [],
   "source": [
    "lo18_38 = LiftOver('hg18ToHg38.over.chain.gz')"
   ]
  },
  {
   "cell_type": "code",
   "execution_count": 10,
   "metadata": {},
   "outputs": [],
   "source": [
    "def snp_recode(sample, ref, alt):\n",
    "    #возвращает пару для VCF файла вида 0|0, на вход 'AA'\n",
    "    if len(sample) == 2:\n",
    "        snp_recode = str(2 * int(alt == sample[0]) - 1 + \\\n",
    "                         (ref == sample[0])).replace('-1', '.')  + '|' + \\\n",
    "                        str(2 * int(alt == sample[1]) - 1 + \\\n",
    "                            (ref == sample[1])).replace('-1', '.')\n",
    "    else:\n",
    "        snp_recode = '.|.'  \n",
    "    \n",
    "    return snp_recode"
   ]
  },
  {
   "cell_type": "code",
   "execution_count": 11,
   "metadata": {},
   "outputs": [],
   "source": [
    "def recoord_vcf(input_name = '', output_name = ''):\n",
    "    #Конвертирует txt файл в vcf требуется функция snp_recode\n",
    "    if (input_name == '') or (output_name == ''):\n",
    "        print ('File name missing')\n",
    "        return\n",
    "    header_vcf = ['#CHROM', 'POS', 'ID', 'REF', 'ALT', 'QUAL', 'FILTER', 'INFO', 'FORMAT']\n",
    "    with open(input_name, 'r') as input_file:\n",
    "        reader = csv.reader(input_file, delimiter = '\\t')\n",
    "        cnt_crd = 0\n",
    "        cnt_mis = 0\n",
    "        with open(output_name, 'w') as output_file:\n",
    "            for cnt, row in tqdm(enumerate(reader)):\n",
    "                #if cnt > 10:\n",
    "                #    break\n",
    "                writer = csv.writer(output_file, delimiter = '\\t')\n",
    "                \n",
    "                if cnt == 0:\n",
    "                    for sample in row[11:]:\n",
    "                        header_vcf.append(sample)\n",
    "                    writer.writerow(header_vcf)\n",
    "                \n",
    "                else:\n",
    "                    #print(row[3], row[4])\n",
    "                    pos = lo18_38.convert_coordinate(row[2], int(row[3]))\n",
    "                    if (pos != []) & (len(row[1]) == 3):\n",
    "                        ref = row[1][0]\n",
    "                        alt = row[1][-1]\n",
    "                        out_row = [row[2][3:], pos[0][1], row[0], ref, alt,  '.', 'PASS', '.', 'GT']\n",
    "                        for smpl in row[11:]:\n",
    "                            out_row.append(snp_recode(smpl, ref, alt))\n",
    "                            \n",
    "                        cnt_crd += 1\n",
    "                        writer.writerow(out_row)\n",
    "                    else:\n",
    "                        cnt_mis += 1\n",
    "\n",
    "    print ('Строк включено = ', cnt_crd)\n",
    "    print ('Снипов не включено = ', cnt_mis)"
   ]
  },
  {
   "cell_type": "markdown",
   "metadata": {},
   "source": [
    "### Индусы"
   ]
  },
  {
   "cell_type": "markdown",
   "metadata": {},
   "source": [
    "1. Распаковываем"
   ]
  },
  {
   "cell_type": "code",
   "execution_count": 29,
   "metadata": {},
   "outputs": [],
   "source": [
    "pop_dir_ins = 'INS/'\n",
    "!mkdir {path}{pop_dir_ins}"
   ]
  },
  {
   "cell_type": "code",
   "execution_count": null,
   "metadata": {},
   "outputs": [],
   "source": [
    "for chrom in range(1, 23):\n",
    "    !gunzip -d -c {path}{genotype1}{chrom}{genotype_ins}.txt.gz > {path}{pop_dir_ins}{genotype1}{chrom}{genotype_ins}.txt"
   ]
  },
  {
   "cell_type": "markdown",
   "metadata": {},
   "source": [
    "2. Переводим в VCF и обновляем координаты в 38 геном"
   ]
  },
  {
   "cell_type": "code",
   "execution_count": 267,
   "metadata": {
    "scrolled": true
   },
   "outputs": [
    {
     "name": "stderr",
     "output_type": "stream",
     "text": [
      "115486it [00:14, 8230.15it/s]\n",
      "849it [00:00, 8484.57it/s]"
     ]
    },
    {
     "name": "stdout",
     "output_type": "stream",
     "text": [
      "Строк включено =  115460\n",
      "Снипов не включено =  25\n"
     ]
    },
    {
     "name": "stderr",
     "output_type": "stream",
     "text": [
      "117114it [00:14, 8172.75it/s]\n",
      "801it [00:00, 8003.77it/s]"
     ]
    },
    {
     "name": "stdout",
     "output_type": "stream",
     "text": [
      "Строк включено =  117102\n",
      "Снипов не включено =  11\n"
     ]
    },
    {
     "name": "stderr",
     "output_type": "stream",
     "text": [
      "97188it [00:12, 7919.12it/s]\n",
      "840it [00:00, 8398.51it/s]"
     ]
    },
    {
     "name": "stdout",
     "output_type": "stream",
     "text": [
      "Строк включено =  97181\n",
      "Снипов не включено =  6\n"
     ]
    },
    {
     "name": "stderr",
     "output_type": "stream",
     "text": [
      "88414it [00:11, 8031.17it/s]\n",
      "1557it [00:00, 7821.37it/s]"
     ]
    },
    {
     "name": "stdout",
     "output_type": "stream",
     "text": [
      "Строк включено =  88405\n",
      "Снипов не включено =  8\n"
     ]
    },
    {
     "name": "stderr",
     "output_type": "stream",
     "text": [
      "89556it [00:11, 8021.19it/s]\n",
      "842it [00:00, 8415.35it/s]"
     ]
    },
    {
     "name": "stdout",
     "output_type": "stream",
     "text": [
      "Строк включено =  89547\n",
      "Снипов не включено =  8\n"
     ]
    },
    {
     "name": "stderr",
     "output_type": "stream",
     "text": [
      "93686it [00:11, 8212.46it/s]\n",
      "853it [00:00, 8525.50it/s]"
     ]
    },
    {
     "name": "stdout",
     "output_type": "stream",
     "text": [
      "Строк включено =  93666\n",
      "Снипов не включено =  19\n"
     ]
    },
    {
     "name": "stderr",
     "output_type": "stream",
     "text": [
      "77248it [00:09, 8101.25it/s]\n",
      "774it [00:00, 7739.69it/s]"
     ]
    },
    {
     "name": "stdout",
     "output_type": "stream",
     "text": [
      "Строк включено =  77212\n",
      "Снипов не включено =  35\n"
     ]
    },
    {
     "name": "stderr",
     "output_type": "stream",
     "text": [
      "76838it [00:09, 7912.11it/s]\n",
      "809it [00:00, 8082.45it/s]"
     ]
    },
    {
     "name": "stdout",
     "output_type": "stream",
     "text": [
      "Строк включено =  76828\n",
      "Снипов не включено =  9\n"
     ]
    },
    {
     "name": "stderr",
     "output_type": "stream",
     "text": [
      "65552it [00:08, 8053.28it/s]\n",
      "518it [00:00, 5176.75it/s]"
     ]
    },
    {
     "name": "stdout",
     "output_type": "stream",
     "text": [
      "Строк включено =  65543\n",
      "Снипов не включено =  8\n"
     ]
    },
    {
     "name": "stderr",
     "output_type": "stream",
     "text": [
      "74987it [00:09, 7975.73it/s]\n",
      "1666it [00:00, 8281.15it/s]"
     ]
    },
    {
     "name": "stdout",
     "output_type": "stream",
     "text": [
      "Строк включено =  74963\n",
      "Снипов не включено =  23\n"
     ]
    },
    {
     "name": "stderr",
     "output_type": "stream",
     "text": [
      "71163it [00:08, 8359.19it/s]\n",
      "837it [00:00, 8361.50it/s]"
     ]
    },
    {
     "name": "stdout",
     "output_type": "stream",
     "text": [
      "Строк включено =  71155\n",
      "Снипов не включено =  7\n"
     ]
    },
    {
     "name": "stderr",
     "output_type": "stream",
     "text": [
      "69581it [00:08, 8211.02it/s]\n",
      "851it [00:00, 8506.64it/s]"
     ]
    },
    {
     "name": "stdout",
     "output_type": "stream",
     "text": [
      "Строк включено =  69568\n",
      "Снипов не включено =  12\n"
     ]
    },
    {
     "name": "stderr",
     "output_type": "stream",
     "text": [
      "53303it [00:06, 8285.47it/s]\n",
      "512it [00:00, 5117.37it/s]"
     ]
    },
    {
     "name": "stdout",
     "output_type": "stream",
     "text": [
      "Строк включено =  53295\n",
      "Снипов не включено =  7\n"
     ]
    },
    {
     "name": "stderr",
     "output_type": "stream",
     "text": [
      "46019it [00:05, 7722.27it/s]\n",
      "723it [00:00, 7223.34it/s]"
     ]
    },
    {
     "name": "stdout",
     "output_type": "stream",
     "text": [
      "Строк включено =  46008\n",
      "Снипов не включено =  10\n"
     ]
    },
    {
     "name": "stderr",
     "output_type": "stream",
     "text": [
      "42649it [00:05, 7832.53it/s]\n",
      "749it [00:00, 7483.53it/s]"
     ]
    },
    {
     "name": "stdout",
     "output_type": "stream",
     "text": [
      "Строк включено =  42645\n",
      "Снипов не включено =  3\n"
     ]
    },
    {
     "name": "stderr",
     "output_type": "stream",
     "text": [
      "43930it [00:05, 8093.03it/s]\n",
      "820it [00:00, 8199.17it/s]"
     ]
    },
    {
     "name": "stdout",
     "output_type": "stream",
     "text": [
      "Строк включено =  43924\n",
      "Снипов не включено =  5\n"
     ]
    },
    {
     "name": "stderr",
     "output_type": "stream",
     "text": [
      "37950it [00:04, 8276.20it/s]\n",
      "865it [00:00, 8644.26it/s]"
     ]
    },
    {
     "name": "stdout",
     "output_type": "stream",
     "text": [
      "Строк включено =  37932\n",
      "Снипов не включено =  17\n"
     ]
    },
    {
     "name": "stderr",
     "output_type": "stream",
     "text": [
      "41534it [00:04, 8314.75it/s]\n",
      "886it [00:00, 8851.95it/s]"
     ]
    },
    {
     "name": "stdout",
     "output_type": "stream",
     "text": [
      "Строк включено =  41532\n",
      "Снипов не включено =  1\n"
     ]
    },
    {
     "name": "stderr",
     "output_type": "stream",
     "text": [
      "25901it [00:03, 8328.41it/s]\n",
      "798it [00:00, 7975.79it/s]"
     ]
    },
    {
     "name": "stdout",
     "output_type": "stream",
     "text": [
      "Строк включено =  25880\n",
      "Снипов не включено =  20\n"
     ]
    },
    {
     "name": "stderr",
     "output_type": "stream",
     "text": [
      "36221it [00:04, 8157.19it/s]\n",
      "847it [00:00, 8469.93it/s]"
     ]
    },
    {
     "name": "stdout",
     "output_type": "stream",
     "text": [
      "Строк включено =  36219\n",
      "Снипов не включено =  1\n"
     ]
    },
    {
     "name": "stderr",
     "output_type": "stream",
     "text": [
      "19978it [00:02, 7520.60it/s]\n",
      "829it [00:00, 8281.08it/s]"
     ]
    },
    {
     "name": "stdout",
     "output_type": "stream",
     "text": [
      "Строк включено =  19973\n",
      "Снипов не включено =  4\n"
     ]
    },
    {
     "name": "stderr",
     "output_type": "stream",
     "text": [
      "20423it [00:03, 6367.92it/s]"
     ]
    },
    {
     "name": "stdout",
     "output_type": "stream",
     "text": [
      "Строк включено =  20404\n",
      "Снипов не включено =  18\n"
     ]
    },
    {
     "name": "stderr",
     "output_type": "stream",
     "text": [
      "\n"
     ]
    }
   ],
   "source": [
    "for chrom in range(1, 23):\n",
    "    recoord_vcf(\n",
    "        input_name = path + genotype1 + str(chrom) + genotype2 + '.txt',\n",
    "        output_name = path + genotype1 + str(chrom) + genotype2 + '_cnv_v38.vcf'\n",
    "    )"
   ]
  },
  {
   "cell_type": "markdown",
   "metadata": {},
   "source": [
    "3. Конвертируем VCF to BED"
   ]
  },
  {
   "cell_type": "code",
   "execution_count": null,
   "metadata": {},
   "outputs": [],
   "source": [
    "for chrom in range(1, 23):\n",
    "    !plink/plink --vcf /home/cappelchi/SingaporeGVP/QC/genotypes_chr{chrom}_INS_15apr08_QC_b36_fwd_cnv_v38.vcf --make-bed --out /home/cappelchi/SingaporeGVP/QC/BED_INS/genotypes_INS_chr{chrom}"
   ]
  },
  {
   "cell_type": "markdown",
   "metadata": {},
   "source": [
    "4. Создаем список и сливем всё в один бинарник "
   ]
  },
  {
   "cell_type": "code",
   "execution_count": null,
   "metadata": {
    "scrolled": true
   },
   "outputs": [],
   "source": [
    "!echo /home/cappelchi/SingaporeGVP/QC/BED_INS/genotypes_INS_chr1 > /home/cappelchi/SingaporeGVP/QC/BED_INS/merge_ins.txt\n",
    "for chrom in range(2, 23):\n",
    "    !echo /home/cappelchi/SingaporeGVP/QC/BED_INS/genotypes_INS_chr{chrom} >> /home/cappelchi/SingaporeGVP/QC/BED_INS/merge_ins.txt\n",
    "!cat /home/cappelchi/SingaporeGVP/QC/BED_INS/merge_ins.txt"
   ]
  },
  {
   "cell_type": "code",
   "execution_count": null,
   "metadata": {
    "scrolled": false
   },
   "outputs": [],
   "source": [
    "#Пробуем объединить все файлы в один набор\n",
    "!plink/plink --threads 6 --bfile /home/cappelchi/SingaporeGVP/QC/BED_INS/genotypes_INS_chr1 --merge-list /home/cappelchi/SingaporeGVP/QC/BED_INS/merge_ins.txt --make-bed --out /home/cappelchi/SingaporeGVP/QC/BED_INS/genotypes_INS_merged"
   ]
  },
  {
   "cell_type": "markdown",
   "metadata": {},
   "source": [
    "### Малазийцы"
   ]
  },
  {
   "cell_type": "markdown",
   "metadata": {},
   "source": [
    "1. Распаковываем"
   ]
  },
  {
   "cell_type": "code",
   "execution_count": 31,
   "metadata": {},
   "outputs": [],
   "source": [
    "pop_dir_mas = 'MAS/'\n",
    "!mkdir {path}{pop_dir_mas}"
   ]
  },
  {
   "cell_type": "code",
   "execution_count": 38,
   "metadata": {},
   "outputs": [],
   "source": [
    "for chrom in range(1, 23):\n",
    "    !gunzip -d {path}{genotype1}{chrom}{genotype_mas}.txt.gz > {path}{pop_dir_mas}{genotype1}{chrom}{genotype_mas}.txt\n",
    "    #!rm {path}{genotype1}{chrom}{genotype_chs}.txt > {path}{pop_dir_chs}{genotype1}{chrom}{genotype_chs}.txt"
   ]
  },
  {
   "cell_type": "markdown",
   "metadata": {},
   "source": [
    "2. Переводим в VCF и обновляем координаты в 38 геном"
   ]
  },
  {
   "cell_type": "code",
   "execution_count": 41,
   "metadata": {
    "scrolled": true
   },
   "outputs": [
    {
     "name": "stderr",
     "output_type": "stream",
     "text": [
      "115056it [00:12, 9478.22it/s]\n",
      "947it [00:00, 9457.29it/s]"
     ]
    },
    {
     "name": "stdout",
     "output_type": "stream",
     "text": [
      "Строк включено =  115030\n",
      "Снипов не включено =  25\n"
     ]
    },
    {
     "name": "stderr",
     "output_type": "stream",
     "text": [
      "116930it [00:12, 9512.26it/s]\n",
      "946it [00:00, 9452.64it/s]"
     ]
    },
    {
     "name": "stdout",
     "output_type": "stream",
     "text": [
      "Строк включено =  116917\n",
      "Снипов не включено =  12\n"
     ]
    },
    {
     "name": "stderr",
     "output_type": "stream",
     "text": [
      "97017it [00:10, 9276.08it/s]\n",
      "934it [00:00, 9334.31it/s]"
     ]
    },
    {
     "name": "stdout",
     "output_type": "stream",
     "text": [
      "Строк включено =  97009\n",
      "Снипов не включено =  7\n"
     ]
    },
    {
     "name": "stderr",
     "output_type": "stream",
     "text": [
      "88232it [00:09, 9573.83it/s]\n",
      "949it [00:00, 9487.27it/s]"
     ]
    },
    {
     "name": "stdout",
     "output_type": "stream",
     "text": [
      "Строк включено =  88223\n",
      "Снипов не включено =  8\n"
     ]
    },
    {
     "name": "stderr",
     "output_type": "stream",
     "text": [
      "89366it [00:10, 8807.25it/s]\n",
      "837it [00:00, 8367.16it/s]"
     ]
    },
    {
     "name": "stdout",
     "output_type": "stream",
     "text": [
      "Строк включено =  89357\n",
      "Снипов не включено =  8\n"
     ]
    },
    {
     "name": "stderr",
     "output_type": "stream",
     "text": [
      "93478it [00:10, 8785.28it/s]\n",
      "944it [00:00, 9430.59it/s]"
     ]
    },
    {
     "name": "stdout",
     "output_type": "stream",
     "text": [
      "Строк включено =  93458\n",
      "Снипов не включено =  19\n"
     ]
    },
    {
     "name": "stderr",
     "output_type": "stream",
     "text": [
      "77173it [00:08, 9512.94it/s]\n",
      "951it [00:00, 9506.68it/s]"
     ]
    },
    {
     "name": "stdout",
     "output_type": "stream",
     "text": [
      "Строк включено =  77138\n",
      "Снипов не включено =  34\n"
     ]
    },
    {
     "name": "stderr",
     "output_type": "stream",
     "text": [
      "76782it [00:08, 9477.03it/s]\n",
      "950it [00:00, 9497.31it/s]"
     ]
    },
    {
     "name": "stdout",
     "output_type": "stream",
     "text": [
      "Строк включено =  76773\n",
      "Снипов не включено =  8\n"
     ]
    },
    {
     "name": "stderr",
     "output_type": "stream",
     "text": [
      "65455it [00:06, 9529.57it/s]\n",
      "949it [00:00, 9481.13it/s]"
     ]
    },
    {
     "name": "stdout",
     "output_type": "stream",
     "text": [
      "Строк включено =  65446\n",
      "Снипов не включено =  8\n"
     ]
    },
    {
     "name": "stderr",
     "output_type": "stream",
     "text": [
      "74838it [00:07, 9509.68it/s]\n",
      "940it [00:00, 9394.97it/s]"
     ]
    },
    {
     "name": "stdout",
     "output_type": "stream",
     "text": [
      "Строк включено =  74815\n",
      "Снипов не включено =  22\n"
     ]
    },
    {
     "name": "stderr",
     "output_type": "stream",
     "text": [
      "71069it [00:07, 9558.53it/s]\n",
      "958it [00:00, 9579.05it/s]"
     ]
    },
    {
     "name": "stdout",
     "output_type": "stream",
     "text": [
      "Строк включено =  71061\n",
      "Снипов не включено =  7\n"
     ]
    },
    {
     "name": "stderr",
     "output_type": "stream",
     "text": [
      "69522it [00:07, 9260.14it/s]\n",
      "748it [00:00, 7474.23it/s]"
     ]
    },
    {
     "name": "stdout",
     "output_type": "stream",
     "text": [
      "Строк включено =  69509\n",
      "Снипов не включено =  12\n"
     ]
    },
    {
     "name": "stderr",
     "output_type": "stream",
     "text": [
      "53299it [00:06, 8171.33it/s]\n",
      "838it [00:00, 8379.09it/s]"
     ]
    },
    {
     "name": "stdout",
     "output_type": "stream",
     "text": [
      "Строк включено =  53291\n",
      "Снипов не включено =  7\n"
     ]
    },
    {
     "name": "stderr",
     "output_type": "stream",
     "text": [
      "46007it [00:05, 8669.22it/s]\n",
      "939it [00:00, 9389.67it/s]"
     ]
    },
    {
     "name": "stdout",
     "output_type": "stream",
     "text": [
      "Строк включено =  45996\n",
      "Снипов не включено =  10\n"
     ]
    },
    {
     "name": "stderr",
     "output_type": "stream",
     "text": [
      "42559it [00:04, 9490.63it/s]\n",
      "910it [00:00, 9097.36it/s]"
     ]
    },
    {
     "name": "stdout",
     "output_type": "stream",
     "text": [
      "Строк включено =  42555\n",
      "Снипов не включено =  3\n"
     ]
    },
    {
     "name": "stderr",
     "output_type": "stream",
     "text": [
      "43957it [00:04, 9529.98it/s]\n",
      "945it [00:00, 9444.29it/s]"
     ]
    },
    {
     "name": "stdout",
     "output_type": "stream",
     "text": [
      "Строк включено =  43951\n",
      "Снипов не включено =  5\n"
     ]
    },
    {
     "name": "stderr",
     "output_type": "stream",
     "text": [
      "37813it [00:03, 9505.30it/s]\n",
      "854it [00:00, 8539.97it/s]"
     ]
    },
    {
     "name": "stdout",
     "output_type": "stream",
     "text": [
      "Строк включено =  37793\n",
      "Снипов не включено =  19\n"
     ]
    },
    {
     "name": "stderr",
     "output_type": "stream",
     "text": [
      "41371it [00:04, 9448.90it/s]\n",
      "953it [00:00, 9528.44it/s]"
     ]
    },
    {
     "name": "stdout",
     "output_type": "stream",
     "text": [
      "Строк включено =  41369\n",
      "Снипов не включено =  1\n"
     ]
    },
    {
     "name": "stderr",
     "output_type": "stream",
     "text": [
      "25849it [00:02, 9508.04it/s]\n",
      "952it [00:00, 9518.94it/s]"
     ]
    },
    {
     "name": "stdout",
     "output_type": "stream",
     "text": [
      "Строк включено =  25827\n",
      "Снипов не включено =  21\n"
     ]
    },
    {
     "name": "stderr",
     "output_type": "stream",
     "text": [
      "36099it [00:03, 9484.17it/s]\n",
      "955it [00:00, 9548.55it/s]"
     ]
    },
    {
     "name": "stdout",
     "output_type": "stream",
     "text": [
      "Строк включено =  36096\n",
      "Снипов не включено =  2\n"
     ]
    },
    {
     "name": "stderr",
     "output_type": "stream",
     "text": [
      "19948it [00:02, 9134.10it/s]\n",
      "828it [00:00, 8271.98it/s]"
     ]
    },
    {
     "name": "stdout",
     "output_type": "stream",
     "text": [
      "Строк включено =  19943\n",
      "Снипов не включено =  4\n"
     ]
    },
    {
     "name": "stderr",
     "output_type": "stream",
     "text": [
      "20458it [00:02, 8544.26it/s]"
     ]
    },
    {
     "name": "stdout",
     "output_type": "stream",
     "text": [
      "Строк включено =  20441\n",
      "Снипов не включено =  16\n"
     ]
    },
    {
     "name": "stderr",
     "output_type": "stream",
     "text": [
      "\n"
     ]
    }
   ],
   "source": [
    "for chrom in range(1, 23):\n",
    "    recoord_vcf(\n",
    "        input_name = path + genotype1 + str(chrom) + genotype_mas + '.txt',\n",
    "        output_name = path + pop_dir_mas + genotype1 + str(chrom) + genotype_mas + '_cnv_v38.vcf'\n",
    "    )"
   ]
  },
  {
   "cell_type": "markdown",
   "metadata": {},
   "source": [
    "3. Конвертируем VCF to BED"
   ]
  },
  {
   "cell_type": "code",
   "execution_count": null,
   "metadata": {},
   "outputs": [],
   "source": [
    "for chrom in range(1, 23):\n",
    "    !plink/plink --vcf {path}{pop_dir_mas}{genotype1}{chrom}{genotype_mas}_cnv_v38.vcf --make-bed --out {path}{pop_dir_mas}genotypes_MAS_chr{chrom}"
   ]
  },
  {
   "cell_type": "markdown",
   "metadata": {},
   "source": [
    "4. Создаем список и сливем всё в один бинарник "
   ]
  },
  {
   "cell_type": "code",
   "execution_count": 43,
   "metadata": {},
   "outputs": [
    {
     "name": "stdout",
     "output_type": "stream",
     "text": [
      "/home/cappelchi/SingaporeGVP/QC/MAS/genotypes_MAS_chr1\r\n",
      "/home/cappelchi/SingaporeGVP/QC/MAS/genotypes_MAS_chr2\r\n",
      "/home/cappelchi/SingaporeGVP/QC/MAS/genotypes_MAS_chr3\r\n",
      "/home/cappelchi/SingaporeGVP/QC/MAS/genotypes_MAS_chr4\r\n",
      "/home/cappelchi/SingaporeGVP/QC/MAS/genotypes_MAS_chr5\r\n",
      "/home/cappelchi/SingaporeGVP/QC/MAS/genotypes_MAS_chr6\r\n",
      "/home/cappelchi/SingaporeGVP/QC/MAS/genotypes_MAS_chr7\r\n",
      "/home/cappelchi/SingaporeGVP/QC/MAS/genotypes_MAS_chr8\r\n",
      "/home/cappelchi/SingaporeGVP/QC/MAS/genotypes_MAS_chr9\r\n",
      "/home/cappelchi/SingaporeGVP/QC/MAS/genotypes_MAS_chr10\r\n",
      "/home/cappelchi/SingaporeGVP/QC/MAS/genotypes_MAS_chr11\r\n",
      "/home/cappelchi/SingaporeGVP/QC/MAS/genotypes_MAS_chr12\r\n",
      "/home/cappelchi/SingaporeGVP/QC/MAS/genotypes_MAS_chr13\r\n",
      "/home/cappelchi/SingaporeGVP/QC/MAS/genotypes_MAS_chr14\r\n",
      "/home/cappelchi/SingaporeGVP/QC/MAS/genotypes_MAS_chr15\r\n",
      "/home/cappelchi/SingaporeGVP/QC/MAS/genotypes_MAS_chr16\r\n",
      "/home/cappelchi/SingaporeGVP/QC/MAS/genotypes_MAS_chr17\r\n",
      "/home/cappelchi/SingaporeGVP/QC/MAS/genotypes_MAS_chr18\r\n",
      "/home/cappelchi/SingaporeGVP/QC/MAS/genotypes_MAS_chr19\r\n",
      "/home/cappelchi/SingaporeGVP/QC/MAS/genotypes_MAS_chr20\r\n",
      "/home/cappelchi/SingaporeGVP/QC/MAS/genotypes_MAS_chr21\r\n",
      "/home/cappelchi/SingaporeGVP/QC/MAS/genotypes_MAS_chr22\r\n"
     ]
    }
   ],
   "source": [
    "!echo {path}{pop_dir_mas}genotypes_MAS_chr1 > {path}{pop_dir_mas}merge_mas.txt\n",
    "for chrom in range(2, 23):\n",
    "    !echo {path}{pop_dir_mas}genotypes_MAS_chr{chrom} >> {path}{pop_dir_mas}merge_mas.txt\n",
    "!cat {path}{pop_dir_mas}merge_mas.txt"
   ]
  },
  {
   "cell_type": "code",
   "execution_count": null,
   "metadata": {},
   "outputs": [],
   "source": [
    "#Пробуем объединить все файлы в один набор\n",
    "!plink/plink --threads 6 --bfile {path}{pop_dir_mas}genotypes_MAS_chr1 --merge-list {path}{pop_dir_mas}merge_mas.txt --make-bed --out {path}{pop_dir_mas}genotypes_MAS_merged"
   ]
  },
  {
   "cell_type": "markdown",
   "metadata": {},
   "source": [
    "### Китайцы"
   ]
  },
  {
   "cell_type": "markdown",
   "metadata": {},
   "source": [
    "1. Распаковываем"
   ]
  },
  {
   "cell_type": "code",
   "execution_count": 13,
   "metadata": {},
   "outputs": [],
   "source": [
    "pop_dir_chs = 'CHS/'\n",
    "!mkdir {path}{pop_dir_chs}"
   ]
  },
  {
   "cell_type": "code",
   "execution_count": 21,
   "metadata": {},
   "outputs": [],
   "source": [
    "for chrom in range(1, 23):\n",
    "    !gunzip -d -c {path}{genotype1}{chrom}{genotype_chs}.txt.gz > {path}{pop_dir_chs}{genotype1}{chrom}{genotype_chs}.txt"
   ]
  },
  {
   "cell_type": "markdown",
   "metadata": {},
   "source": [
    "2. Переводим в VCF и обновляем координаты в 38 геном"
   ]
  },
  {
   "cell_type": "code",
   "execution_count": 25,
   "metadata": {},
   "outputs": [
    {
     "name": "stderr",
     "output_type": "stream",
     "text": [
      "115410it [00:12, 8930.35it/s]\n",
      "896it [00:00, 8956.81it/s]"
     ]
    },
    {
     "name": "stdout",
     "output_type": "stream",
     "text": [
      "Строк включено =  115383\n",
      "Снипов не включено =  26\n"
     ]
    },
    {
     "name": "stderr",
     "output_type": "stream",
     "text": [
      "117093it [00:13, 8925.19it/s]\n",
      "888it [00:00, 8869.75it/s]"
     ]
    },
    {
     "name": "stdout",
     "output_type": "stream",
     "text": [
      "Строк включено =  117080\n",
      "Снипов не включено =  12\n"
     ]
    },
    {
     "name": "stderr",
     "output_type": "stream",
     "text": [
      "97243it [00:10, 8910.82it/s]\n",
      "886it [00:00, 8853.63it/s]"
     ]
    },
    {
     "name": "stdout",
     "output_type": "stream",
     "text": [
      "Строк включено =  97235\n",
      "Снипов не включено =  7\n"
     ]
    },
    {
     "name": "stderr",
     "output_type": "stream",
     "text": [
      "88522it [00:09, 8906.25it/s]\n",
      "872it [00:00, 8713.86it/s]"
     ]
    },
    {
     "name": "stdout",
     "output_type": "stream",
     "text": [
      "Строк включено =  88513\n",
      "Снипов не включено =  8\n"
     ]
    },
    {
     "name": "stderr",
     "output_type": "stream",
     "text": [
      "89640it [00:10, 8499.64it/s]\n",
      "766it [00:00, 7652.16it/s]"
     ]
    },
    {
     "name": "stdout",
     "output_type": "stream",
     "text": [
      "Строк включено =  89631\n",
      "Снипов не включено =  8\n"
     ]
    },
    {
     "name": "stderr",
     "output_type": "stream",
     "text": [
      "93824it [00:10, 8704.64it/s]\n",
      "866it [00:00, 8655.86it/s]"
     ]
    },
    {
     "name": "stdout",
     "output_type": "stream",
     "text": [
      "Строк включено =  93804\n",
      "Снипов не включено =  19\n"
     ]
    },
    {
     "name": "stderr",
     "output_type": "stream",
     "text": [
      "77245it [00:08, 8873.26it/s]\n",
      "885it [00:00, 8840.94it/s]"
     ]
    },
    {
     "name": "stdout",
     "output_type": "stream",
     "text": [
      "Строк включено =  77206\n",
      "Снипов не включено =  38\n"
     ]
    },
    {
     "name": "stderr",
     "output_type": "stream",
     "text": [
      "76896it [00:08, 8911.84it/s]\n",
      "840it [00:00, 8399.45it/s]"
     ]
    },
    {
     "name": "stdout",
     "output_type": "stream",
     "text": [
      "Строк включено =  76887\n",
      "Снипов не включено =  8\n"
     ]
    },
    {
     "name": "stderr",
     "output_type": "stream",
     "text": [
      "65554it [00:07, 8940.66it/s]\n",
      "893it [00:00, 8927.01it/s]"
     ]
    },
    {
     "name": "stdout",
     "output_type": "stream",
     "text": [
      "Строк включено =  65546\n",
      "Снипов не включено =  7\n"
     ]
    },
    {
     "name": "stderr",
     "output_type": "stream",
     "text": [
      "75019it [00:08, 8700.35it/s]\n",
      "893it [00:00, 8926.09it/s]"
     ]
    },
    {
     "name": "stdout",
     "output_type": "stream",
     "text": [
      "Строк включено =  74995\n",
      "Снипов не включено =  23\n"
     ]
    },
    {
     "name": "stderr",
     "output_type": "stream",
     "text": [
      "71253it [00:08, 8893.49it/s]\n",
      "900it [00:00, 8991.80it/s]"
     ]
    },
    {
     "name": "stdout",
     "output_type": "stream",
     "text": [
      "Строк включено =  71244\n",
      "Снипов не включено =  8\n"
     ]
    },
    {
     "name": "stderr",
     "output_type": "stream",
     "text": [
      "69616it [00:08, 8613.71it/s]\n",
      "696it [00:00, 6953.38it/s]"
     ]
    },
    {
     "name": "stdout",
     "output_type": "stream",
     "text": [
      "Строк включено =  69603\n",
      "Снипов не включено =  12\n"
     ]
    },
    {
     "name": "stderr",
     "output_type": "stream",
     "text": [
      "53457it [00:06, 8481.89it/s]\n",
      "874it [00:00, 8731.04it/s]"
     ]
    },
    {
     "name": "stdout",
     "output_type": "stream",
     "text": [
      "Строк включено =  53449\n",
      "Снипов не включено =  7\n"
     ]
    },
    {
     "name": "stderr",
     "output_type": "stream",
     "text": [
      "46081it [00:05, 8958.68it/s]\n",
      "885it [00:00, 8849.46it/s]"
     ]
    },
    {
     "name": "stdout",
     "output_type": "stream",
     "text": [
      "Строк включено =  46070\n",
      "Снипов не включено =  10\n"
     ]
    },
    {
     "name": "stderr",
     "output_type": "stream",
     "text": [
      "42592it [00:04, 8963.99it/s]\n",
      "889it [00:00, 8883.40it/s]"
     ]
    },
    {
     "name": "stdout",
     "output_type": "stream",
     "text": [
      "Строк включено =  42589\n",
      "Снипов не включено =  2\n"
     ]
    },
    {
     "name": "stderr",
     "output_type": "stream",
     "text": [
      "44069it [00:04, 8984.55it/s]\n",
      "896it [00:00, 8959.67it/s]"
     ]
    },
    {
     "name": "stdout",
     "output_type": "stream",
     "text": [
      "Строк включено =  44063\n",
      "Снипов не включено =  5\n"
     ]
    },
    {
     "name": "stderr",
     "output_type": "stream",
     "text": [
      "37895it [00:04, 8932.65it/s]\n",
      "899it [00:00, 8981.57it/s]"
     ]
    },
    {
     "name": "stdout",
     "output_type": "stream",
     "text": [
      "Строк включено =  37876\n",
      "Снипов не включено =  18\n"
     ]
    },
    {
     "name": "stderr",
     "output_type": "stream",
     "text": [
      "41518it [00:04, 8943.37it/s]\n",
      "894it [00:00, 8934.11it/s]"
     ]
    },
    {
     "name": "stdout",
     "output_type": "stream",
     "text": [
      "Строк включено =  41516\n",
      "Снипов не включено =  1\n"
     ]
    },
    {
     "name": "stderr",
     "output_type": "stream",
     "text": [
      "25908it [00:02, 8888.56it/s]\n",
      "885it [00:00, 8844.82it/s]"
     ]
    },
    {
     "name": "stdout",
     "output_type": "stream",
     "text": [
      "Строк включено =  25888\n",
      "Снипов не включено =  19\n"
     ]
    },
    {
     "name": "stderr",
     "output_type": "stream",
     "text": [
      "36234it [00:04, 8896.01it/s]\n",
      "1761it [00:00, 8826.27it/s]"
     ]
    },
    {
     "name": "stdout",
     "output_type": "stream",
     "text": [
      "Строк включено =  36231\n",
      "Снипов не включено =  2\n"
     ]
    },
    {
     "name": "stderr",
     "output_type": "stream",
     "text": [
      "19970it [00:02, 8774.51it/s]\n",
      "888it [00:00, 8872.25it/s]"
     ]
    },
    {
     "name": "stdout",
     "output_type": "stream",
     "text": [
      "Строк включено =  19965\n",
      "Снипов не включено =  4\n"
     ]
    },
    {
     "name": "stderr",
     "output_type": "stream",
     "text": [
      "20400it [00:02, 8872.09it/s]"
     ]
    },
    {
     "name": "stdout",
     "output_type": "stream",
     "text": [
      "Строк включено =  20382\n",
      "Снипов не включено =  17\n"
     ]
    },
    {
     "name": "stderr",
     "output_type": "stream",
     "text": [
      "\n"
     ]
    }
   ],
   "source": [
    "for chrom in range(1, 23):\n",
    "    recoord_vcf(\n",
    "        input_name = path + pop_dir_chs + genotype1 + str(chrom) + genotype_chs + '.txt',\n",
    "        output_name = path + pop_dir_chs + genotype1 + str(chrom) + genotype_chs + '_cnv_v38.vcf'\n",
    "    )"
   ]
  },
  {
   "cell_type": "markdown",
   "metadata": {},
   "source": [
    "3. Конвертируем VCF to BED"
   ]
  },
  {
   "cell_type": "code",
   "execution_count": null,
   "metadata": {},
   "outputs": [],
   "source": [
    "for chrom in range(1, 23):\n",
    "    !plink/plink --vcf {path}{pop_dir_chs}{genotype1}{chrom}{genotype_chs}_cnv_v38.vcf --make-bed --out {path}{pop_dir_chs}genotypes_CHS_chr{chrom}"
   ]
  },
  {
   "cell_type": "markdown",
   "metadata": {},
   "source": [
    "4. Создаем список и сливем всё в один бинарник "
   ]
  },
  {
   "cell_type": "code",
   "execution_count": null,
   "metadata": {
    "scrolled": true
   },
   "outputs": [],
   "source": [
    "!echo {path}{pop_dir_chs}genotypes_CHS_chr1 > {path}{pop_dir_chs}merge_chs.txt\n",
    "for chrom in range(2, 23):\n",
    "    !echo {path}{pop_dir_chs}genotypes_CHS_chr{chrom} >> {path}{pop_dir_chs}merge_chs.txt\n",
    "!cat {path}{pop_dir_chs}merge_chs.txt"
   ]
  },
  {
   "cell_type": "code",
   "execution_count": null,
   "metadata": {
    "scrolled": true
   },
   "outputs": [],
   "source": [
    "#Пробуем объединить все файлы в один набор\n",
    "!plink/plink --threads 6 --bfile {path}{pop_dir_chs}genotypes_CHS_chr1 --merge-list {path}{pop_dir_chs}merge_chs.txt --make-bed --out {path}{pop_dir_chs}genotypes_CHS_merged"
   ]
  },
  {
   "cell_type": "markdown",
   "metadata": {},
   "source": [
    "- Сливаем три популяции в одну"
   ]
  },
  {
   "cell_type": "code",
   "execution_count": 30,
   "metadata": {},
   "outputs": [],
   "source": [
    "!cp -f {path}{pop_dir_ins}genotypes_INS_merged*.* {path}{pop_dir_chs}"
   ]
  },
  {
   "cell_type": "code",
   "execution_count": 32,
   "metadata": {},
   "outputs": [],
   "source": [
    "!cp -f {path}{pop_dir_mas}genotypes_MAS_merged*.* {path}{pop_dir_chs}"
   ]
  },
  {
   "cell_type": "code",
   "execution_count": 33,
   "metadata": {
    "scrolled": true
   },
   "outputs": [
    {
     "name": "stdout",
     "output_type": "stream",
     "text": [
      "/home/cappelchi/SingaporeGVP/QC/CHS/genotypes_CHS_merged\r\n",
      "/home/cappelchi/SingaporeGVP/QC/CHS/genotypes_INS_merged\r\n",
      "/home/cappelchi/SingaporeGVP/QC/CHS/genotypes_MAS_merged\r\n"
     ]
    }
   ],
   "source": [
    "!echo {path}{pop_dir_chs}genotypes_CHS_merged > {path}{pop_dir_chs}all_merged.txt\n",
    "!echo {path}{pop_dir_chs}genotypes_INS_merged >> {path}{pop_dir_chs}all_merged.txt\n",
    "!echo {path}{pop_dir_chs}genotypes_MAS_merged >> {path}{pop_dir_chs}all_merged.txt\n",
    "!cat {path}{pop_dir_chs}all_merged.txt"
   ]
  },
  {
   "cell_type": "code",
   "execution_count": null,
   "metadata": {},
   "outputs": [],
   "source": [
    "#Пробуем объединить все файлы в один набор\n",
    "!plink/plink --threads 6 --bfile {path}{pop_dir_chs}genotypes_CHS_merged --merge-list {path}{pop_dir_chs}all_merged.txt --make-bed --out {path}{pop_dir_chs}ALL_genotypes_merged"
   ]
  },
  {
   "cell_type": "markdown",
   "metadata": {},
   "source": [
    "- Оставляем только требуемые образцы"
   ]
  },
  {
   "cell_type": "code",
   "execution_count": 35,
   "metadata": {},
   "outputs": [],
   "source": [
    "df_fam = pd.read_csv(\n",
    "    path + pop_dir_chs + 'ALL_genotypes_merged.fam', \n",
    "    sep = '\\s+', \n",
    "    names = ['ID1', 'ID2', 'IDF', 'IDM', 'sex', 'pop'], \n",
    "    header = None, \n",
    "    index_col = False\n",
    "    )"
   ]
  },
  {
   "cell_type": "code",
   "execution_count": 36,
   "metadata": {},
   "outputs": [
    {
     "data": {
      "text/html": [
       "<div>\n",
       "<style scoped>\n",
       "    .dataframe tbody tr th:only-of-type {\n",
       "        vertical-align: middle;\n",
       "    }\n",
       "\n",
       "    .dataframe tbody tr th {\n",
       "        vertical-align: top;\n",
       "    }\n",
       "\n",
       "    .dataframe thead th {\n",
       "        text-align: right;\n",
       "    }\n",
       "</style>\n",
       "<table border=\"1\" class=\"dataframe\">\n",
       "  <thead>\n",
       "    <tr style=\"text-align: right;\">\n",
       "      <th></th>\n",
       "      <th>ID1</th>\n",
       "      <th>ID2</th>\n",
       "      <th>IDF</th>\n",
       "      <th>IDM</th>\n",
       "      <th>sex</th>\n",
       "      <th>pop</th>\n",
       "    </tr>\n",
       "  </thead>\n",
       "  <tbody>\n",
       "    <tr>\n",
       "      <th>0</th>\n",
       "      <td>SGVP00002</td>\n",
       "      <td>SGVP00002</td>\n",
       "      <td>0</td>\n",
       "      <td>0</td>\n",
       "      <td>0</td>\n",
       "      <td>-9</td>\n",
       "    </tr>\n",
       "    <tr>\n",
       "      <th>1</th>\n",
       "      <td>SGVP00010</td>\n",
       "      <td>SGVP00010</td>\n",
       "      <td>0</td>\n",
       "      <td>0</td>\n",
       "      <td>0</td>\n",
       "      <td>-9</td>\n",
       "    </tr>\n",
       "    <tr>\n",
       "      <th>2</th>\n",
       "      <td>SGVP00011</td>\n",
       "      <td>SGVP00011</td>\n",
       "      <td>0</td>\n",
       "      <td>0</td>\n",
       "      <td>0</td>\n",
       "      <td>-9</td>\n",
       "    </tr>\n",
       "    <tr>\n",
       "      <th>3</th>\n",
       "      <td>SGVP00014</td>\n",
       "      <td>SGVP00014</td>\n",
       "      <td>0</td>\n",
       "      <td>0</td>\n",
       "      <td>0</td>\n",
       "      <td>-9</td>\n",
       "    </tr>\n",
       "    <tr>\n",
       "      <th>4</th>\n",
       "      <td>SGVP00015</td>\n",
       "      <td>SGVP00015</td>\n",
       "      <td>0</td>\n",
       "      <td>0</td>\n",
       "      <td>0</td>\n",
       "      <td>-9</td>\n",
       "    </tr>\n",
       "    <tr>\n",
       "      <th>...</th>\n",
       "      <td>...</td>\n",
       "      <td>...</td>\n",
       "      <td>...</td>\n",
       "      <td>...</td>\n",
       "      <td>...</td>\n",
       "      <td>...</td>\n",
       "    </tr>\n",
       "    <tr>\n",
       "      <th>263</th>\n",
       "      <td>SGVP00582</td>\n",
       "      <td>SGVP00582</td>\n",
       "      <td>0</td>\n",
       "      <td>0</td>\n",
       "      <td>0</td>\n",
       "      <td>-9</td>\n",
       "    </tr>\n",
       "    <tr>\n",
       "      <th>264</th>\n",
       "      <td>SGVP00589</td>\n",
       "      <td>SGVP00589</td>\n",
       "      <td>0</td>\n",
       "      <td>0</td>\n",
       "      <td>0</td>\n",
       "      <td>-9</td>\n",
       "    </tr>\n",
       "    <tr>\n",
       "      <th>265</th>\n",
       "      <td>SGVP00592</td>\n",
       "      <td>SGVP00592</td>\n",
       "      <td>0</td>\n",
       "      <td>0</td>\n",
       "      <td>0</td>\n",
       "      <td>-9</td>\n",
       "    </tr>\n",
       "    <tr>\n",
       "      <th>266</th>\n",
       "      <td>SGVP00596</td>\n",
       "      <td>SGVP00596</td>\n",
       "      <td>0</td>\n",
       "      <td>0</td>\n",
       "      <td>0</td>\n",
       "      <td>-9</td>\n",
       "    </tr>\n",
       "    <tr>\n",
       "      <th>267</th>\n",
       "      <td>SGVP00598</td>\n",
       "      <td>SGVP00598</td>\n",
       "      <td>0</td>\n",
       "      <td>0</td>\n",
       "      <td>0</td>\n",
       "      <td>-9</td>\n",
       "    </tr>\n",
       "  </tbody>\n",
       "</table>\n",
       "<p>268 rows × 6 columns</p>\n",
       "</div>"
      ],
      "text/plain": [
       "           ID1        ID2  IDF  IDM  sex  pop\n",
       "0    SGVP00002  SGVP00002    0    0    0   -9\n",
       "1    SGVP00010  SGVP00010    0    0    0   -9\n",
       "2    SGVP00011  SGVP00011    0    0    0   -9\n",
       "3    SGVP00014  SGVP00014    0    0    0   -9\n",
       "4    SGVP00015  SGVP00015    0    0    0   -9\n",
       "..         ...        ...  ...  ...  ...  ...\n",
       "263  SGVP00582  SGVP00582    0    0    0   -9\n",
       "264  SGVP00589  SGVP00589    0    0    0   -9\n",
       "265  SGVP00592  SGVP00592    0    0    0   -9\n",
       "266  SGVP00596  SGVP00596    0    0    0   -9\n",
       "267  SGVP00598  SGVP00598    0    0    0   -9\n",
       "\n",
       "[268 rows x 6 columns]"
      ]
     },
     "execution_count": 36,
     "metadata": {},
     "output_type": "execute_result"
    }
   ],
   "source": [
    "df_fam"
   ]
  },
  {
   "cell_type": "code",
   "execution_count": 37,
   "metadata": {},
   "outputs": [],
   "source": [
    "SingaporeGVP = [key for key in unique_dict if unique_dict[key] == 'SingaporeGVP/2009-0-30/']"
   ]
  },
  {
   "cell_type": "code",
   "execution_count": 39,
   "metadata": {},
   "outputs": [
    {
     "data": {
      "text/plain": [
       "179"
      ]
     },
     "execution_count": 39,
     "metadata": {},
     "output_type": "execute_result"
    }
   ],
   "source": [
    "len(SingaporeGVP)"
   ]
  },
  {
   "cell_type": "code",
   "execution_count": 40,
   "metadata": {},
   "outputs": [],
   "source": [
    "df_fam_selected = df_fam[df_fam.ID1.isin(SingaporeGVP)]"
   ]
  },
  {
   "cell_type": "code",
   "execution_count": 43,
   "metadata": {},
   "outputs": [],
   "source": [
    "df_fam_selected.to_csv (path + pop_dir_chs + 'all_keep.fam',\n",
    "                      sep = ' ',\n",
    "                       header = False,\n",
    "                       index = False                       \n",
    "                      )"
   ]
  },
  {
   "cell_type": "code",
   "execution_count": null,
   "metadata": {},
   "outputs": [],
   "source": [
    "!plink/plink --bfile {path}{pop_dir_chs}ALL_genotypes_merged --keep-fam {path}{pop_dir_chs}all_keep.fam --make-bed --out {path}{pop_dir_chs}SingaporeGVP_merged_selected_updated"
   ]
  },
  {
   "cell_type": "markdown",
   "metadata": {},
   "source": [
    "## Dataset n.4"
   ]
  }
 ],
 "metadata": {
  "kernelspec": {
   "display_name": "Python 3",
   "language": "python",
   "name": "python3"
  },
  "language_info": {
   "codemirror_mode": {
    "name": "ipython",
    "version": 3
   },
   "file_extension": ".py",
   "mimetype": "text/x-python",
   "name": "python",
   "nbconvert_exporter": "python",
   "pygments_lexer": "ipython3",
   "version": "3.7.2"
  }
 },
 "nbformat": 4,
 "nbformat_minor": 2
}
