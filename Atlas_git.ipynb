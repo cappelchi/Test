{
 "cells": [
  {
   "cell_type": "markdown",
   "metadata": {},
   "source": [
    "Общий план задания\n",
    "1. Скачать [http://ftp.1000genomes.ebi.ac.uk/vol1/ftp/release/20130502/](http://ftp.1000genomes.ebi.ac.uk/vol1/ftp/release/20130502/) файлы соответствующие хромосомам 1-22.\n",
    "2. Перевести с помощью plink https://www.cog-genomics.org/plink/1.9/ из vcf в bed\\bim\\fam\n",
    "3. Оставить в данных только SNP с помощью plink.\n",
    "4. Слить полученные файлы в один набор bed\\bim\\fam\n",
    "5. Изменить fam файл, чтобы в нем была информация о популяциях. Соответствие образец-популяция можно найти на сайт 1000 геномов.\n",
    "6. Сделать новый набор данных, чтобы в нем были только европейские популяции.\n",
    "7. http://software.genetics.ucla.edu/admixture/ - с помощью этой программы сделать анализ по 5 компонентам (базовый запуск можно найти в документации).\n",
    "\n",
    "Как результат ожидается следующее:\n",
    "\n",
    "а. Текстовый файл, какие команды использовались для каждого шага (чтобы можно было воспроизвести).\n",
    "\n",
    "б.Q файл по итогам 7 шага\n",
    "\n",
    "в. Графики разложения отельных индивидов на компоненты"
   ]
  },
  {
   "cell_type": "markdown",
   "metadata": {},
   "source": [
    "#### 1. Скачать http://ftp.1000genomes.ebi.ac.uk/vol1/ftp/release/20130502/ файлы соответствующие хромосомам 1-22.\n",
    "в google colaboratory скачал:\n",
    "\n",
    "!echo http://ftp.1000genomes.ebi.ac.uk/vol1/ftp/release/20130502/ALL.chr{1..22}.phase3_shapeit2_mvncall_integrated_v5a.20130502.genotypes.vcf.gz.tbi | xargs -P22 -n1 wget -nv"
   ]
  },
  {
   "cell_type": "code",
   "execution_count": null,
   "metadata": {},
   "outputs": [],
   "source": [
    "for i in range(1, 23):\n",
    "    !wget http://ftp.1000genomes.ebi.ac.uk/vol1/ftp/release/20130502/ALL.chr{str(i)}.phase3_shapeit2_mvncall_integrated_v5a.20130502.genotypes.vcf.gz"
   ]
  },
  {
   "cell_type": "markdown",
   "metadata": {},
   "source": [
    "#### 2. Перевести с помощью plink https://www.cog-genomics.org/plink/1.9/ из vcf в bed\\bim\\fam\n",
    "#### 3. Оставить в данных только SNP с помощью plink."
   ]
  },
  {
   "cell_type": "code",
   "execution_count": 17,
   "metadata": {
    "scrolled": true
   },
   "outputs": [
    {
     "name": "stdout",
     "output_type": "stream",
     "text": [
      "--2020-02-06 00:17:52--  http://s3.amazonaws.com/plink2-assets/alpha2/plink2_linux_x86_64.zip\n",
      "Resolving s3.amazonaws.com (s3.amazonaws.com)... 52.216.137.222\n",
      "Connecting to s3.amazonaws.com (s3.amazonaws.com)|52.216.137.222|:80... connected.\n",
      "HTTP request sent, awaiting response... 200 OK\n",
      "Length: 8879151 (8.5M) [application/zip]\n",
      "Saving to: ‘plink2_linux_x86_64.zip’\n",
      "\n",
      "plink2_linux_x86_64 100%[===================>]   8.47M  7.59MB/s    in 1.1s    \n",
      "\n",
      "2020-02-06 00:17:59 (7.59 MB/s) - ‘plink2_linux_x86_64.zip’ saved [8879151/8879151]\n",
      "\n",
      "Archive:  plink_linux_x86_64_20200121.zip\n",
      "  inflating: plink/plink             \n",
      "  inflating: plink/LICENSE           \n",
      "  inflating: plink/toy.ped           \n",
      "  inflating: plink/toy.map           \n",
      "  inflating: plink/prettify          \n"
     ]
    }
   ],
   "source": [
    "# Устанавливаем PLINK\n",
    "!wget http://s3.amazonaws.com/plink2-assets/alpha2/plink2_linux_x86_64.zip\n",
    "!unzip plink_linux_x86_64_20200121.zip -d plink/"
   ]
  },
  {
   "cell_type": "code",
   "execution_count": 18,
   "metadata": {
    "scrolled": false
   },
   "outputs": [
    {
     "name": "stdout",
     "output_type": "stream",
     "text": [
      "PLINK v1.90b6.15 64-bit (21 Jan 2020)          www.cog-genomics.org/plink/1.9/\n",
      "(C) 2005-2020 Shaun Purcell, Christopher Chang   GNU General Public License v3\n",
      "Logging to ALL.chr1.log.\n",
      "Options in effect:\n",
      "  --make-bed\n",
      "  --out ALL.chr1\n",
      "  --vcf ALL.chr1.phase3_shapeit2_mvncall_integrated_v5a.20130502.genotypes.vcf.gz\n",
      "\n",
      "32167 MB RAM detected; reserving 16083 MB for main workspace.\n",
      "--vcf: ALL.chr1-temporary.bed + ALL.chr1-temporary.bim + ALL.chr1-temporary.fam\n",
      "written.\n",
      "6468094 variants loaded from .bim file.\n",
      "2504 people (0 males, 0 females, 2504 ambiguous) loaded from .fam.\n",
      "Ambiguous sex IDs written to ALL.chr1.nosex .\n",
      "Using 1 thread (no multithreaded calculations invoked).\n",
      "Before main variant filters, 2504 founders and 0 nonfounders present.\n",
      "Calculating allele frequencies... 10111213141516171819202122232425262728293031323334353637383940414243444546474849505152535455565758596061626364656667686970717273747576777879808182838485868788899091929394959697989 done.\n",
      "Total genotyping rate is 0.999841.\n",
      "6468094 variants and 2504 people pass filters and QC.\n",
      "Note: No phenotypes present.\n",
      "--make-bed to ALL.chr1.bed + ALL.chr1.bim + ALL.chr1.fam ... 101112131415161718192021222324252627282930313233343536373839404142434445464748495051525354555657585960616263646566676869707172737475767778798081828384858687888990919293949596979899done.\n",
      "PLINK v1.90b6.15 64-bit (21 Jan 2020)          www.cog-genomics.org/plink/1.9/\n",
      "(C) 2005-2020 Shaun Purcell, Christopher Chang   GNU General Public License v3\n",
      "Logging to ALL.chr1.log.\n",
      "Options in effect:\n",
      "  --bfile ALL.chr1\n",
      "  --make-bed\n",
      "  --out ALL.chr1\n",
      "  --snps-only\n",
      "\n",
      "32167 MB RAM detected; reserving 16083 MB for main workspace.\n",
      "Warning: --make-bed input and output filenames match.  Appending '~' to input\n",
      "filenames.\n",
      "6216035 out of 6468094 variants loaded from .bim file.\n",
      "2504 people (0 males, 0 females, 2504 ambiguous) loaded from .fam.\n",
      "Ambiguous sex IDs written to ALL.chr1.nosex .\n",
      "Using 1 thread (no multithreaded calculations invoked).\n",
      "Before main variant filters, 2504 founders and 0 nonfounders present.\n",
      "Calculating allele frequencies... 10111213141516171819202122232425262728293031323334353637383940414243444546474849505152535455565758596061626364656667686970717273747576777879808182838485868788899091929394959697989 done.\n",
      "Total genotyping rate is 0.999953.\n",
      "6216035 variants and 2504 people pass filters and QC.\n",
      "Note: No phenotypes present.\n",
      "--make-bed to ALL.chr1.bed + ALL.chr1.bim + ALL.chr1.fam ... 101112131415161718192021222324252627282930313233343536373839404142434445464748495051525354555657585960616263646566676869707172737475767778798081828384858687888990919293949596979899done.\n",
      "найдено дупликатов в chr1 хромосоме:\n",
      "26 dup1.snps\n",
      " - удаляю...\n",
      "PLINK v1.90b6.15 64-bit (21 Jan 2020)          www.cog-genomics.org/plink/1.9/\n",
      "(C) 2005-2020 Shaun Purcell, Christopher Chang   GNU General Public License v3\n",
      "Logging to ALL.chr1.log.\n",
      "Options in effect:\n",
      "  --bfile ALL.chr1\n",
      "  --exclude dup1.snps\n",
      "  --make-bed\n",
      "  --out ALL.chr1\n",
      "\n",
      "32167 MB RAM detected; reserving 16083 MB for main workspace.\n",
      "Warning: --make-bed input and output filenames match.  Appending '~' to input\n",
      "filenames.\n",
      "6216035 variants loaded from .bim file.\n",
      "2504 people (0 males, 0 females, 2504 ambiguous) loaded from .fam.\n",
      "Ambiguous sex IDs written to ALL.chr1.nosex .\n",
      "--exclude: 6215983 variants remaining.\n",
      "Using 1 thread (no multithreaded calculations invoked).\n",
      "Before main variant filters, 2504 founders and 0 nonfounders present.\n",
      "Calculating allele frequencies... 10111213141516171819202122232425262728293031323334353637383940414243444546474849505152535455565758596061626364656667686970717273747576777879808182838485868788899091929394959697989 done.\n",
      "Total genotyping rate is 0.999953.\n",
      "6215983 variants and 2504 people pass filters and QC.\n",
      "Note: No phenotypes present.\n",
      "--make-bed to ALL.chr1.bed + ALL.chr1.bim + ALL.chr1.fam ... 101112131415161718192021222324252627282930313233343536373839404142434445464748495051525354555657585960616263646566676869707172737475767778798081828384858687888990919293949596979899done.\n",
      "PLINK v1.90b6.15 64-bit (21 Jan 2020)          www.cog-genomics.org/plink/1.9/\n",
      "(C) 2005-2020 Shaun Purcell, Christopher Chang   GNU General Public License v3\n",
      "Logging to ALL.chr2.log.\n",
      "Options in effect:\n",
      "  --make-bed\n",
      "  --out ALL.chr2\n",
      "  --vcf ALL.chr2.phase3_shapeit2_mvncall_integrated_v5a.20130502.genotypes.vcf.gz\n",
      "\n",
      "32167 MB RAM detected; reserving 16083 MB for main workspace.\n",
      "--vcf: ALL.chr2-temporary.bed + ALL.chr2-temporary.bim + ALL.chr2-temporary.fam\n",
      "written.\n",
      "7081600 variants loaded from .bim file.\n",
      "2504 people (0 males, 0 females, 2504 ambiguous) loaded from .fam.\n",
      "Ambiguous sex IDs written to ALL.chr2.nosex .\n",
      "Using 1 thread (no multithreaded calculations invoked).\n",
      "Before main variant filters, 2504 founders and 0 nonfounders present.\n",
      "Calculating allele frequencies... 10111213141516171819202122232425262728293031323334353637383940414243444546474849505152535455565758596061626364656667686970717273747576777879808182838485868788899091929394959697989 done.\n",
      "Total genotyping rate is 0.999843.\n",
      "7081600 variants and 2504 people pass filters and QC.\n",
      "Note: No phenotypes present.\n",
      "--make-bed to ALL.chr2.bed + ALL.chr2.bim + ALL.chr2.fam ... 101112131415161718192021222324252627282930313233343536373839404142434445464748495051525354555657585960616263646566676869707172737475767778798081828384858687888990919293949596979899done.\n",
      "PLINK v1.90b6.15 64-bit (21 Jan 2020)          www.cog-genomics.org/plink/1.9/\n",
      "(C) 2005-2020 Shaun Purcell, Christopher Chang   GNU General Public License v3\n",
      "Logging to ALL.chr2.log.\n",
      "Options in effect:\n",
      "  --bfile ALL.chr2\n",
      "  --make-bed\n",
      "  --out ALL.chr2\n",
      "  --snps-only\n",
      "\n",
      "32167 MB RAM detected; reserving 16083 MB for main workspace.\n",
      "Warning: --make-bed input and output filenames match.  Appending '~' to input\n",
      "filenames.\n",
      "6808742 out of 7081600 variants loaded from .bim file.\n",
      "2504 people (0 males, 0 females, 2504 ambiguous) loaded from .fam.\n",
      "Ambiguous sex IDs written to ALL.chr2.nosex .\n",
      "Using 1 thread (no multithreaded calculations invoked).\n",
      "Before main variant filters, 2504 founders and 0 nonfounders present.\n",
      "Calculating allele frequencies... 10111213141516171819202122232425262728293031323334353637383940414243444546474849505152535455565758596061626364656667686970717273747576777879808182838485868788899091929394959697989 done.\n",
      "Total genotyping rate is 0.999954.\n",
      "6808742 variants and 2504 people pass filters and QC.\n",
      "Note: No phenotypes present.\n",
      "--make-bed to ALL.chr2.bed + ALL.chr2.bim + ALL.chr2.fam ... 101112131415161718192021222324252627282930313233343536373839404142434445464748495051525354555657585960616263646566676869707172737475767778798081828384858687888990919293949596979899done.\n",
      "найдено дупликатов в chr2 хромосоме:\n",
      "40 dup2.snps\n",
      " - удаляю...\n",
      "PLINK v1.90b6.15 64-bit (21 Jan 2020)          www.cog-genomics.org/plink/1.9/\n",
      "(C) 2005-2020 Shaun Purcell, Christopher Chang   GNU General Public License v3\n",
      "Logging to ALL.chr2.log.\n",
      "Options in effect:\n",
      "  --bfile ALL.chr2\n",
      "  --exclude dup2.snps\n",
      "  --make-bed\n",
      "  --out ALL.chr2\n",
      "\n",
      "32167 MB RAM detected; reserving 16083 MB for main workspace.\n",
      "Warning: --make-bed input and output filenames match.  Appending '~' to input\n",
      "filenames.\n",
      "6808742 variants loaded from .bim file.\n",
      "2504 people (0 males, 0 females, 2504 ambiguous) loaded from .fam.\n",
      "Ambiguous sex IDs written to ALL.chr2.nosex .\n",
      "--exclude: 6808662 variants remaining.\n",
      "Using 1 thread (no multithreaded calculations invoked).\n",
      "Before main variant filters, 2504 founders and 0 nonfounders present.\n",
      "Calculating allele frequencies... 10111213141516171819202122232425262728293031323334353637383940414243444546474849505152535455565758596061626364656667686970717273747576777879808182838485868788899091929394959697989 done.\n",
      "Total genotyping rate is 0.999954.\n",
      "6808662 variants and 2504 people pass filters and QC.\n",
      "Note: No phenotypes present.\n",
      "--make-bed to ALL.chr2.bed + ALL.chr2.bim + ALL.chr2.fam ... 101112131415161718192021222324252627282930313233343536373839404142434445464748495051525354555657585960616263646566676869707172737475767778798081828384858687888990919293949596979899done.\n",
      "PLINK v1.90b6.15 64-bit (21 Jan 2020)          www.cog-genomics.org/plink/1.9/\n",
      "(C) 2005-2020 Shaun Purcell, Christopher Chang   GNU General Public License v3\n",
      "Logging to ALL.chr3.log.\n",
      "Options in effect:\n",
      "  --make-bed\n",
      "  --out ALL.chr3\n",
      "  --vcf ALL.chr3.phase3_shapeit2_mvncall_integrated_v5a.20130502.genotypes.vcf.gz\n",
      "\n",
      "32167 MB RAM detected; reserving 16083 MB for main workspace.\n"
     ]
    },
    {
     "name": "stdout",
     "output_type": "stream",
     "text": [
      "--vcf: ALL.chr3-temporary.bed + ALL.chr3-temporary.bim + ALL.chr3-temporary.fam\n",
      "written.\n",
      "5832276 variants loaded from .bim file.\n",
      "2504 people (0 males, 0 females, 2504 ambiguous) loaded from .fam.\n",
      "Ambiguous sex IDs written to ALL.chr3.nosex .\n",
      "Using 1 thread (no multithreaded calculations invoked).\n",
      "Before main variant filters, 2504 founders and 0 nonfounders present.\n",
      "Calculating allele frequencies... 10111213141516171819202122232425262728293031323334353637383940414243444546474849505152535455565758596061626364656667686970717273747576777879808182838485868788899091929394959697989 done.\n",
      "Total genotyping rate is 0.999832.\n",
      "5832276 variants and 2504 people pass filters and QC.\n",
      "Note: No phenotypes present.\n",
      "--make-bed to ALL.chr3.bed + ALL.chr3.bim + ALL.chr3.fam ... 101112131415161718192021222324252627282930313233343536373839404142434445464748495051525354555657585960616263646566676869707172737475767778798081828384858687888990919293949596979899done.\n",
      "PLINK v1.90b6.15 64-bit (21 Jan 2020)          www.cog-genomics.org/plink/1.9/\n",
      "(C) 2005-2020 Shaun Purcell, Christopher Chang   GNU General Public License v3\n",
      "Logging to ALL.chr3.log.\n",
      "Options in effect:\n",
      "  --bfile ALL.chr3\n",
      "  --make-bed\n",
      "  --out ALL.chr3\n",
      "  --snps-only\n",
      "\n",
      "32167 MB RAM detected; reserving 16083 MB for main workspace.\n",
      "Warning: --make-bed input and output filenames match.  Appending '~' to input\n",
      "filenames.\n",
      "5603261 out of 5832276 variants loaded from .bim file.\n",
      "2504 people (0 males, 0 females, 2504 ambiguous) loaded from .fam.\n",
      "Ambiguous sex IDs written to ALL.chr3.nosex .\n",
      "Using 1 thread (no multithreaded calculations invoked).\n",
      "Before main variant filters, 2504 founders and 0 nonfounders present.\n",
      "Calculating allele frequencies... 10111213141516171819202122232425262728293031323334353637383940414243444546474849505152535455565758596061626364656667686970717273747576777879808182838485868788899091929394959697989 done.\n",
      "Total genotyping rate is 0.999949.\n",
      "5603261 variants and 2504 people pass filters and QC.\n",
      "Note: No phenotypes present.\n",
      "--make-bed to ALL.chr3.bed + ALL.chr3.bim + ALL.chr3.fam ... 101112131415161718192021222324252627282930313233343536373839404142434445464748495051525354555657585960616263646566676869707172737475767778798081828384858687888990919293949596979899done.\n",
      "найдено дупликатов в chr3 хромосоме:\n",
      "4 dup3.snps\n",
      " - удаляю...\n",
      "PLINK v1.90b6.15 64-bit (21 Jan 2020)          www.cog-genomics.org/plink/1.9/\n",
      "(C) 2005-2020 Shaun Purcell, Christopher Chang   GNU General Public License v3\n",
      "Logging to ALL.chr3.log.\n",
      "Options in effect:\n",
      "  --bfile ALL.chr3\n",
      "  --exclude dup3.snps\n",
      "  --make-bed\n",
      "  --out ALL.chr3\n",
      "\n",
      "32167 MB RAM detected; reserving 16083 MB for main workspace.\n",
      "Warning: --make-bed input and output filenames match.  Appending '~' to input\n",
      "filenames.\n",
      "5603261 variants loaded from .bim file.\n",
      "2504 people (0 males, 0 females, 2504 ambiguous) loaded from .fam.\n",
      "Ambiguous sex IDs written to ALL.chr3.nosex .\n",
      "--exclude: 5603253 variants remaining.\n",
      "Using 1 thread (no multithreaded calculations invoked).\n",
      "Before main variant filters, 2504 founders and 0 nonfounders present.\n",
      "Calculating allele frequencies... 10111213141516171819202122232425262728293031323334353637383940414243444546474849505152535455565758596061626364656667686970717273747576777879808182838485868788899091929394959697989 done.\n",
      "Total genotyping rate is 0.999949.\n",
      "5603253 variants and 2504 people pass filters and QC.\n",
      "Note: No phenotypes present.\n",
      "--make-bed to ALL.chr3.bed + ALL.chr3.bim + ALL.chr3.fam ... 101112131415161718192021222324252627282930313233343536373839404142434445464748495051525354555657585960616263646566676869707172737475767778798081828384858687888990919293949596979899done.\n",
      "PLINK v1.90b6.15 64-bit (21 Jan 2020)          www.cog-genomics.org/plink/1.9/\n",
      "(C) 2005-2020 Shaun Purcell, Christopher Chang   GNU General Public License v3\n",
      "Logging to ALL.chr4.log.\n",
      "Options in effect:\n",
      "  --make-bed\n",
      "  --out ALL.chr4\n",
      "  --vcf ALL.chr4.phase3_shapeit2_mvncall_integrated_v5a.20130502.genotypes.vcf.gz\n",
      "\n",
      "32167 MB RAM detected; reserving 16083 MB for main workspace.\n",
      "--vcf: ALL.chr4-temporary.bed + ALL.chr4-temporary.bim + ALL.chr4-temporary.fam\n",
      "written.\n",
      "5732585 variants loaded from .bim file.\n",
      "2504 people (0 males, 0 females, 2504 ambiguous) loaded from .fam.\n",
      "Ambiguous sex IDs written to ALL.chr4.nosex .\n",
      "Using 1 thread (no multithreaded calculations invoked).\n",
      "Before main variant filters, 2504 founders and 0 nonfounders present.\n",
      "Calculating allele frequencies... 10111213141516171819202122232425262728293031323334353637383940414243444546474849505152535455565758596061626364656667686970717273747576777879808182838485868788899091929394959697989 done.\n",
      "Total genotyping rate is 0.999819.\n",
      "5732585 variants and 2504 people pass filters and QC.\n",
      "Note: No phenotypes present.\n",
      "--make-bed to ALL.chr4.bed + ALL.chr4.bim + ALL.chr4.fam ... 101112131415161718192021222324252627282930313233343536373839404142434445464748495051525354555657585960616263646566676869707172737475767778798081828384858687888990919293949596979899done.\n",
      "PLINK v1.90b6.15 64-bit (21 Jan 2020)          www.cog-genomics.org/plink/1.9/\n",
      "(C) 2005-2020 Shaun Purcell, Christopher Chang   GNU General Public License v3\n",
      "Logging to ALL.chr4.log.\n",
      "Options in effect:\n",
      "  --bfile ALL.chr4\n",
      "  --make-bed\n",
      "  --out ALL.chr4\n",
      "  --snps-only\n",
      "\n",
      "32167 MB RAM detected; reserving 16083 MB for main workspace.\n",
      "Warning: --make-bed input and output filenames match.  Appending '~' to input\n",
      "filenames.\n",
      "5500093 out of 5732585 variants loaded from .bim file.\n",
      "2504 people (0 males, 0 females, 2504 ambiguous) loaded from .fam.\n",
      "Ambiguous sex IDs written to ALL.chr4.nosex .\n",
      "Using 1 thread (no multithreaded calculations invoked).\n",
      "Before main variant filters, 2504 founders and 0 nonfounders present.\n",
      "Calculating allele frequencies... 10111213141516171819202122232425262728293031323334353637383940414243444546474849505152535455565758596061626364656667686970717273747576777879808182838485868788899091929394959697989 done.\n",
      "Total genotyping rate is 0.999948.\n",
      "5500093 variants and 2504 people pass filters and QC.\n",
      "Note: No phenotypes present.\n",
      "--make-bed to ALL.chr4.bed + ALL.chr4.bim + ALL.chr4.fam ... 101112131415161718192021222324252627282930313233343536373839404142434445464748495051525354555657585960616263646566676869707172737475767778798081828384858687888990919293949596979899done.\n",
      "найдено дупликатов в chr4 хромосоме:\n",
      "9 dup4.snps\n",
      " - удаляю...\n",
      "PLINK v1.90b6.15 64-bit (21 Jan 2020)          www.cog-genomics.org/plink/1.9/\n",
      "(C) 2005-2020 Shaun Purcell, Christopher Chang   GNU General Public License v3\n",
      "Logging to ALL.chr4.log.\n",
      "Options in effect:\n",
      "  --bfile ALL.chr4\n",
      "  --exclude dup4.snps\n",
      "  --make-bed\n",
      "  --out ALL.chr4\n",
      "\n",
      "32167 MB RAM detected; reserving 16083 MB for main workspace.\n",
      "Warning: --make-bed input and output filenames match.  Appending '~' to input\n",
      "filenames.\n",
      "5500093 variants loaded from .bim file.\n",
      "2504 people (0 males, 0 females, 2504 ambiguous) loaded from .fam.\n",
      "Ambiguous sex IDs written to ALL.chr4.nosex .\n",
      "--exclude: 5500075 variants remaining.\n",
      "Using 1 thread (no multithreaded calculations invoked).\n",
      "Before main variant filters, 2504 founders and 0 nonfounders present.\n",
      "Calculating allele frequencies... 10111213141516171819202122232425262728293031323334353637383940414243444546474849505152535455565758596061626364656667686970717273747576777879808182838485868788899091929394959697989 done.\n",
      "Total genotyping rate is 0.999948.\n",
      "5500075 variants and 2504 people pass filters and QC.\n",
      "Note: No phenotypes present.\n",
      "--make-bed to ALL.chr4.bed + ALL.chr4.bim + ALL.chr4.fam ... 101112131415161718192021222324252627282930313233343536373839404142434445464748495051525354555657585960616263646566676869707172737475767778798081828384858687888990919293949596979899done.\n",
      "PLINK v1.90b6.15 64-bit (21 Jan 2020)          www.cog-genomics.org/plink/1.9/\n",
      "(C) 2005-2020 Shaun Purcell, Christopher Chang   GNU General Public License v3\n",
      "Logging to ALL.chr5.log.\n",
      "Options in effect:\n",
      "  --make-bed\n",
      "  --out ALL.chr5\n",
      "  --vcf ALL.chr5.phase3_shapeit2_mvncall_integrated_v5a.20130502.genotypes.vcf.gz\n",
      "\n",
      "32167 MB RAM detected; reserving 16083 MB for main workspace.\n",
      "--vcf: ALL.chr5-temporary.bed + ALL.chr5-temporary.bim + ALL.chr5-temporary.fam\n",
      "written.\n",
      "5265763 variants loaded from .bim file.\n",
      "2504 people (0 males, 0 females, 2504 ambiguous) loaded from .fam.\n",
      "Ambiguous sex IDs written to ALL.chr5.nosex .\n",
      "Using 1 thread (no multithreaded calculations invoked).\n",
      "Before main variant filters, 2504 founders and 0 nonfounders present.\n"
     ]
    },
    {
     "name": "stdout",
     "output_type": "stream",
     "text": [
      "Calculating allele frequencies... 10111213141516171819202122232425262728293031323334353637383940414243444546474849505152535455565758596061626364656667686970717273747576777879808182838485868788899091929394959697989 done.\n",
      "Total genotyping rate is 0.999838.\n",
      "5265763 variants and 2504 people pass filters and QC.\n",
      "Note: No phenotypes present.\n",
      "--make-bed to ALL.chr5.bed + ALL.chr5.bim + ALL.chr5.fam ... 101112131415161718192021222324252627282930313233343536373839404142434445464748495051525354555657585960616263646566676869707172737475767778798081828384858687888990919293949596979899done.\n",
      "PLINK v1.90b6.15 64-bit (21 Jan 2020)          www.cog-genomics.org/plink/1.9/\n",
      "(C) 2005-2020 Shaun Purcell, Christopher Chang   GNU General Public License v3\n",
      "Logging to ALL.chr5.log.\n",
      "Options in effect:\n",
      "  --bfile ALL.chr5\n",
      "  --make-bed\n",
      "  --out ALL.chr5\n",
      "  --snps-only\n",
      "\n",
      "32167 MB RAM detected; reserving 16083 MB for main workspace.\n",
      "Warning: --make-bed input and output filenames match.  Appending '~' to input\n",
      "filenames.\n",
      "5055536 out of 5265763 variants loaded from .bim file.\n",
      "2504 people (0 males, 0 females, 2504 ambiguous) loaded from .fam.\n",
      "Ambiguous sex IDs written to ALL.chr5.nosex .\n",
      "Using 1 thread (no multithreaded calculations invoked).\n",
      "Before main variant filters, 2504 founders and 0 nonfounders present.\n",
      "Calculating allele frequencies... 10111213141516171819202122232425262728293031323334353637383940414243444546474849505152535455565758596061626364656667686970717273747576777879808182838485868788899091929394959697989 done.\n",
      "Total genotyping rate is 0.999953.\n",
      "5055536 variants and 2504 people pass filters and QC.\n",
      "Note: No phenotypes present.\n",
      "--make-bed to ALL.chr5.bed + ALL.chr5.bim + ALL.chr5.fam ... 101112131415161718192021222324252627282930313233343536373839404142434445464748495051525354555657585960616263646566676869707172737475767778798081828384858687888990919293949596979899done.\n",
      "найдено дупликатов в chr5 хромосоме:\n",
      "3 dup5.snps\n",
      " - удаляю...\n",
      "PLINK v1.90b6.15 64-bit (21 Jan 2020)          www.cog-genomics.org/plink/1.9/\n",
      "(C) 2005-2020 Shaun Purcell, Christopher Chang   GNU General Public License v3\n",
      "Logging to ALL.chr5.log.\n",
      "Options in effect:\n",
      "  --bfile ALL.chr5\n",
      "  --exclude dup5.snps\n",
      "  --make-bed\n",
      "  --out ALL.chr5\n",
      "\n",
      "32167 MB RAM detected; reserving 16083 MB for main workspace.\n",
      "Warning: --make-bed input and output filenames match.  Appending '~' to input\n",
      "filenames.\n",
      "5055536 variants loaded from .bim file.\n",
      "2504 people (0 males, 0 females, 2504 ambiguous) loaded from .fam.\n",
      "Ambiguous sex IDs written to ALL.chr5.nosex .\n",
      "--exclude: 5055530 variants remaining.\n",
      "Using 1 thread (no multithreaded calculations invoked).\n",
      "Before main variant filters, 2504 founders and 0 nonfounders present.\n",
      "Calculating allele frequencies... 10111213141516171819202122232425262728293031323334353637383940414243444546474849505152535455565758596061626364656667686970717273747576777879808182838485868788899091929394959697989 done.\n",
      "Total genotyping rate is 0.999953.\n",
      "5055530 variants and 2504 people pass filters and QC.\n",
      "Note: No phenotypes present.\n",
      "--make-bed to ALL.chr5.bed + ALL.chr5.bim + ALL.chr5.fam ... 101112131415161718192021222324252627282930313233343536373839404142434445464748495051525354555657585960616263646566676869707172737475767778798081828384858687888990919293949596979899done.\n",
      "PLINK v1.90b6.15 64-bit (21 Jan 2020)          www.cog-genomics.org/plink/1.9/\n",
      "(C) 2005-2020 Shaun Purcell, Christopher Chang   GNU General Public License v3\n",
      "Logging to ALL.chr6.log.\n",
      "Options in effect:\n",
      "  --make-bed\n",
      "  --out ALL.chr6\n",
      "  --vcf ALL.chr6.phase3_shapeit2_mvncall_integrated_v5a.20130502.genotypes.vcf.gz\n",
      "\n",
      "32167 MB RAM detected; reserving 16083 MB for main workspace.\n",
      "--vcf: ALL.chr6-temporary.bed + ALL.chr6-temporary.bim + ALL.chr6-temporary.fam\n",
      "written.\n",
      "5024119 variants loaded from .bim file.\n",
      "2504 people (0 males, 0 females, 2504 ambiguous) loaded from .fam.\n",
      "Ambiguous sex IDs written to ALL.chr6.nosex .\n",
      "Using 1 thread (no multithreaded calculations invoked).\n",
      "Before main variant filters, 2504 founders and 0 nonfounders present.\n",
      "Calculating allele frequencies... 10111213141516171819202122232425262728293031323334353637383940414243444546474849505152535455565758596061626364656667686970717273747576777879808182838485868788899091929394959697989 done.\n",
      "Total genotyping rate is 0.999802.\n",
      "5024119 variants and 2504 people pass filters and QC.\n",
      "Note: No phenotypes present.\n",
      "--make-bed to ALL.chr6.bed + ALL.chr6.bim + ALL.chr6.fam ... 101112131415161718192021222324252627282930313233343536373839404142434445464748495051525354555657585960616263646566676869707172737475767778798081828384858687888990919293949596979899done.\n",
      "PLINK v1.90b6.15 64-bit (21 Jan 2020)          www.cog-genomics.org/plink/1.9/\n",
      "(C) 2005-2020 Shaun Purcell, Christopher Chang   GNU General Public License v3\n",
      "Logging to ALL.chr6.log.\n",
      "Options in effect:\n",
      "  --bfile ALL.chr6\n",
      "  --make-bed\n",
      "  --out ALL.chr6\n",
      "  --snps-only\n",
      "\n",
      "32167 MB RAM detected; reserving 16083 MB for main workspace.\n",
      "Warning: --make-bed input and output filenames match.  Appending '~' to input\n",
      "filenames.\n",
      "4816881 out of 5024119 variants loaded from .bim file.\n",
      "2504 people (0 males, 0 females, 2504 ambiguous) loaded from .fam.\n",
      "Ambiguous sex IDs written to ALL.chr6.nosex .\n",
      "Using 1 thread (no multithreaded calculations invoked).\n",
      "Before main variant filters, 2504 founders and 0 nonfounders present.\n",
      "Calculating allele frequencies... 10111213141516171819202122232425262728293031323334353637383940414243444546474849505152535455565758596061626364656667686970717273747576777879808182838485868788899091929394959697989 done.\n",
      "Total genotyping rate is 0.999935.\n",
      "4816881 variants and 2504 people pass filters and QC.\n",
      "Note: No phenotypes present.\n",
      "--make-bed to ALL.chr6.bed + ALL.chr6.bim + ALL.chr6.fam ... 101112131415161718192021222324252627282930313233343536373839404142434445464748495051525354555657585960616263646566676869707172737475767778798081828384858687888990919293949596979899done.\n",
      "найдено дупликатов в chr6 хромосоме:\n",
      "8 dup6.snps\n",
      " - удаляю...\n",
      "PLINK v1.90b6.15 64-bit (21 Jan 2020)          www.cog-genomics.org/plink/1.9/\n",
      "(C) 2005-2020 Shaun Purcell, Christopher Chang   GNU General Public License v3\n",
      "Logging to ALL.chr6.log.\n",
      "Options in effect:\n",
      "  --bfile ALL.chr6\n",
      "  --exclude dup6.snps\n",
      "  --make-bed\n",
      "  --out ALL.chr6\n",
      "\n",
      "32167 MB RAM detected; reserving 16083 MB for main workspace.\n",
      "Warning: --make-bed input and output filenames match.  Appending '~' to input\n",
      "filenames.\n",
      "4816881 variants loaded from .bim file.\n",
      "2504 people (0 males, 0 females, 2504 ambiguous) loaded from .fam.\n",
      "Ambiguous sex IDs written to ALL.chr6.nosex .\n",
      "--exclude: 4816865 variants remaining.\n",
      "Using 1 thread (no multithreaded calculations invoked).\n",
      "Before main variant filters, 2504 founders and 0 nonfounders present.\n",
      "Calculating allele frequencies... 10111213141516171819202122232425262728293031323334353637383940414243444546474849505152535455565758596061626364656667686970717273747576777879808182838485868788899091929394959697989 done.\n",
      "Total genotyping rate is 0.999935.\n",
      "4816865 variants and 2504 people pass filters and QC.\n",
      "Note: No phenotypes present.\n",
      "--make-bed to ALL.chr6.bed + ALL.chr6.bim + ALL.chr6.fam ... 101112131415161718192021222324252627282930313233343536373839404142434445464748495051525354555657585960616263646566676869707172737475767778798081828384858687888990919293949596979899done.\n",
      "PLINK v1.90b6.15 64-bit (21 Jan 2020)          www.cog-genomics.org/plink/1.9/\n",
      "(C) 2005-2020 Shaun Purcell, Christopher Chang   GNU General Public License v3\n",
      "Logging to ALL.chr7.log.\n",
      "Options in effect:\n",
      "  --make-bed\n",
      "  --out ALL.chr7\n",
      "  --vcf ALL.chr7.phase3_shapeit2_mvncall_integrated_v5a.20130502.genotypes.vcf.gz\n",
      "\n",
      "32167 MB RAM detected; reserving 16083 MB for main workspace.\n",
      "--vcf: ALL.chr7-temporary.bed + ALL.chr7-temporary.bim + ALL.chr7-temporary.fam\n",
      "written.\n",
      "4716715 variants loaded from .bim file.\n",
      "2504 people (0 males, 0 females, 2504 ambiguous) loaded from .fam.\n",
      "Ambiguous sex IDs written to ALL.chr7.nosex .\n",
      "Using 1 thread (no multithreaded calculations invoked).\n",
      "Before main variant filters, 2504 founders and 0 nonfounders present.\n"
     ]
    },
    {
     "name": "stdout",
     "output_type": "stream",
     "text": [
      "Calculating allele frequencies... 10111213141516171819202122232425262728293031323334353637383940414243444546474849505152535455565758596061626364656667686970717273747576777879808182838485868788899091929394959697989 done.\n",
      "Total genotyping rate is 0.999834.\n",
      "4716715 variants and 2504 people pass filters and QC.\n",
      "Note: No phenotypes present.\n",
      "--make-bed to ALL.chr7.bed + ALL.chr7.bim + ALL.chr7.fam ... 101112131415161718192021222324252627282930313233343536373839404142434445464748495051525354555657585960616263646566676869707172737475767778798081828384858687888990919293949596979899done.\n",
      "PLINK v1.90b6.15 64-bit (21 Jan 2020)          www.cog-genomics.org/plink/1.9/\n",
      "(C) 2005-2020 Shaun Purcell, Christopher Chang   GNU General Public License v3\n",
      "Logging to ALL.chr7.log.\n",
      "Options in effect:\n",
      "  --bfile ALL.chr7\n",
      "  --make-bed\n",
      "  --out ALL.chr7\n",
      "  --snps-only\n",
      "\n",
      "32167 MB RAM detected; reserving 16083 MB for main workspace.\n",
      "Warning: --make-bed input and output filenames match.  Appending '~' to input\n",
      "filenames.\n",
      "4533180 out of 4716715 variants loaded from .bim file.\n",
      "2504 people (0 males, 0 females, 2504 ambiguous) loaded from .fam.\n",
      "Ambiguous sex IDs written to ALL.chr7.nosex .\n",
      "Using 1 thread (no multithreaded calculations invoked).\n",
      "Before main variant filters, 2504 founders and 0 nonfounders present.\n",
      "Calculating allele frequencies... 10111213141516171819202122232425262728293031323334353637383940414243444546474849505152535455565758596061626364656667686970717273747576777879808182838485868788899091929394959697989 done.\n",
      "Total genotyping rate is 0.99995.\n",
      "4533180 variants and 2504 people pass filters and QC.\n",
      "Note: No phenotypes present.\n",
      "--make-bed to ALL.chr7.bed + ALL.chr7.bim + ALL.chr7.fam ... 101112131415161718192021222324252627282930313233343536373839404142434445464748495051525354555657585960616263646566676869707172737475767778798081828384858687888990919293949596979899done.\n",
      "найдено дупликатов в chr7 хромосоме:\n",
      "0 dup7.snps\n",
      " - удаляю...\n",
      "PLINK v1.90b6.15 64-bit (21 Jan 2020)          www.cog-genomics.org/plink/1.9/\n",
      "(C) 2005-2020 Shaun Purcell, Christopher Chang   GNU General Public License v3\n",
      "Logging to ALL.chr7.log.\n",
      "Options in effect:\n",
      "  --bfile ALL.chr7\n",
      "  --exclude dup7.snps\n",
      "  --make-bed\n",
      "  --out ALL.chr7\n",
      "\n",
      "32167 MB RAM detected; reserving 16083 MB for main workspace.\n",
      "Warning: --make-bed input and output filenames match.  Appending '~' to input\n",
      "filenames.\n",
      "4533180 variants loaded from .bim file.\n",
      "2504 people (0 males, 0 females, 2504 ambiguous) loaded from .fam.\n",
      "Ambiguous sex IDs written to ALL.chr7.nosex .\n",
      "--exclude: 4533180 variants remaining.\n",
      "Using 1 thread (no multithreaded calculations invoked).\n",
      "Before main variant filters, 2504 founders and 0 nonfounders present.\n",
      "Calculating allele frequencies... 10111213141516171819202122232425262728293031323334353637383940414243444546474849505152535455565758596061626364656667686970717273747576777879808182838485868788899091929394959697989 done.\n",
      "Total genotyping rate is 0.99995.\n",
      "4533180 variants and 2504 people pass filters and QC.\n",
      "Note: No phenotypes present.\n",
      "--make-bed to ALL.chr7.bed + ALL.chr7.bim + ALL.chr7.fam ... 101112131415161718192021222324252627282930313233343536373839404142434445464748495051525354555657585960616263646566676869707172737475767778798081828384858687888990919293949596979899done.\n",
      "PLINK v1.90b6.15 64-bit (21 Jan 2020)          www.cog-genomics.org/plink/1.9/\n",
      "(C) 2005-2020 Shaun Purcell, Christopher Chang   GNU General Public License v3\n",
      "Logging to ALL.chr8.log.\n",
      "Options in effect:\n",
      "  --make-bed\n",
      "  --out ALL.chr8\n",
      "  --vcf ALL.chr8.phase3_shapeit2_mvncall_integrated_v5a.20130502.genotypes.vcf.gz\n",
      "\n",
      "32167 MB RAM detected; reserving 16083 MB for main workspace.\n",
      "--vcf: ALL.chr8-temporary.bed + ALL.chr8-temporary.bim + ALL.chr8-temporary.fam\n",
      "written.\n",
      "4597105 variants loaded from .bim file.\n",
      "2504 people (0 males, 0 females, 2504 ambiguous) loaded from .fam.\n",
      "Ambiguous sex IDs written to ALL.chr8.nosex .\n",
      "Using 1 thread (no multithreaded calculations invoked).\n",
      "Before main variant filters, 2504 founders and 0 nonfounders present.\n",
      "Calculating allele frequencies... 10111213141516171819202122232425262728293031323334353637383940414243444546474849505152535455565758596061626364656667686970717273747576777879808182838485868788899091929394959697989 done.\n",
      "Total genotyping rate is 0.999837.\n",
      "4597105 variants and 2504 people pass filters and QC.\n",
      "Note: No phenotypes present.\n",
      "--make-bed to ALL.chr8.bed + ALL.chr8.bim + ALL.chr8.fam ... 101112131415161718192021222324252627282930313233343536373839404142434445464748495051525354555657585960616263646566676869707172737475767778798081828384858687888990919293949596979899done.\n",
      "PLINK v1.90b6.15 64-bit (21 Jan 2020)          www.cog-genomics.org/plink/1.9/\n",
      "(C) 2005-2020 Shaun Purcell, Christopher Chang   GNU General Public License v3\n",
      "Logging to ALL.chr8.log.\n",
      "Options in effect:\n",
      "  --bfile ALL.chr8\n",
      "  --make-bed\n",
      "  --out ALL.chr8\n",
      "  --snps-only\n",
      "\n",
      "32167 MB RAM detected; reserving 16083 MB for main workspace.\n",
      "Warning: --make-bed input and output filenames match.  Appending '~' to input\n",
      "filenames.\n",
      "4434371 out of 4597105 variants loaded from .bim file.\n",
      "2504 people (0 males, 0 females, 2504 ambiguous) loaded from .fam.\n",
      "Ambiguous sex IDs written to ALL.chr8.nosex .\n",
      "Using 1 thread (no multithreaded calculations invoked).\n",
      "Before main variant filters, 2504 founders and 0 nonfounders present.\n",
      "Calculating allele frequencies... 10111213141516171819202122232425262728293031323334353637383940414243444546474849505152535455565758596061626364656667686970717273747576777879808182838485868788899091929394959697989 done.\n",
      "Total genotyping rate is 0.999944.\n",
      "4434371 variants and 2504 people pass filters and QC.\n",
      "Note: No phenotypes present.\n",
      "--make-bed to ALL.chr8.bed + ALL.chr8.bim + ALL.chr8.fam ... 101112131415161718192021222324252627282930313233343536373839404142434445464748495051525354555657585960616263646566676869707172737475767778798081828384858687888990919293949596979899done.\n",
      "найдено дупликатов в chr8 хромосоме:\n",
      "30 dup8.snps\n",
      " - удаляю...\n",
      "PLINK v1.90b6.15 64-bit (21 Jan 2020)          www.cog-genomics.org/plink/1.9/\n",
      "(C) 2005-2020 Shaun Purcell, Christopher Chang   GNU General Public License v3\n",
      "Logging to ALL.chr8.log.\n",
      "Options in effect:\n",
      "  --bfile ALL.chr8\n",
      "  --exclude dup8.snps\n",
      "  --make-bed\n",
      "  --out ALL.chr8\n",
      "\n",
      "32167 MB RAM detected; reserving 16083 MB for main workspace.\n",
      "Warning: --make-bed input and output filenames match.  Appending '~' to input\n",
      "filenames.\n",
      "4434371 variants loaded from .bim file.\n",
      "2504 people (0 males, 0 females, 2504 ambiguous) loaded from .fam.\n",
      "Ambiguous sex IDs written to ALL.chr8.nosex .\n",
      "--exclude: 4434311 variants remaining.\n",
      "Using 1 thread (no multithreaded calculations invoked).\n",
      "Before main variant filters, 2504 founders and 0 nonfounders present.\n",
      "Calculating allele frequencies... 10111213141516171819202122232425262728293031323334353637383940414243444546474849505152535455565758596061626364656667686970717273747576777879808182838485868788899091929394959697989 done.\n",
      "Total genotyping rate is 0.999944.\n",
      "4434311 variants and 2504 people pass filters and QC.\n",
      "Note: No phenotypes present.\n",
      "--make-bed to ALL.chr8.bed + ALL.chr8.bim + ALL.chr8.fam ... 101112131415161718192021222324252627282930313233343536373839404142434445464748495051525354555657585960616263646566676869707172737475767778798081828384858687888990919293949596979899done.\n",
      "PLINK v1.90b6.15 64-bit (21 Jan 2020)          www.cog-genomics.org/plink/1.9/\n",
      "(C) 2005-2020 Shaun Purcell, Christopher Chang   GNU General Public License v3\n",
      "Logging to ALL.chr9.log.\n",
      "Options in effect:\n",
      "  --make-bed\n",
      "  --out ALL.chr9\n",
      "  --vcf ALL.chr9.phase3_shapeit2_mvncall_integrated_v5a.20130502.genotypes.vcf.gz\n",
      "\n",
      "32167 MB RAM detected; reserving 16083 MB for main workspace.\n",
      "--vcf: ALL.chr9-temporary.bed + ALL.chr9-temporary.bim + ALL.chr9-temporary.fam\n",
      "written.\n",
      "3560687 variants loaded from .bim file.\n",
      "2504 people (0 males, 0 females, 2504 ambiguous) loaded from .fam.\n",
      "Ambiguous sex IDs written to ALL.chr9.nosex .\n",
      "Using 1 thread (no multithreaded calculations invoked).\n",
      "Before main variant filters, 2504 founders and 0 nonfounders present.\n"
     ]
    },
    {
     "name": "stdout",
     "output_type": "stream",
     "text": [
      "Calculating allele frequencies... 10111213141516171819202122232425262728293031323334353637383940414243444546474849505152535455565758596061626364656667686970717273747576777879808182838485868788899091929394959697989 done.\n",
      "Total genotyping rate is 0.999838.\n",
      "3560687 variants and 2504 people pass filters and QC.\n",
      "Note: No phenotypes present.\n",
      "--make-bed to ALL.chr9.bed + ALL.chr9.bim + ALL.chr9.fam ... 101112131415161718192021222324252627282930313233343536373839404142434445464748495051525354555657585960616263646566676869707172737475767778798081828384858687888990919293949596979899done.\n",
      "PLINK v1.90b6.15 64-bit (21 Jan 2020)          www.cog-genomics.org/plink/1.9/\n",
      "(C) 2005-2020 Shaun Purcell, Christopher Chang   GNU General Public License v3\n",
      "Logging to ALL.chr9.log.\n",
      "Options in effect:\n",
      "  --bfile ALL.chr9\n",
      "  --make-bed\n",
      "  --out ALL.chr9\n",
      "  --snps-only\n",
      "\n",
      "32167 MB RAM detected; reserving 16083 MB for main workspace.\n",
      "Warning: --make-bed input and output filenames match.  Appending '~' to input\n",
      "filenames.\n",
      "3427241 out of 3560687 variants loaded from .bim file.\n",
      "2504 people (0 males, 0 females, 2504 ambiguous) loaded from .fam.\n",
      "Ambiguous sex IDs written to ALL.chr9.nosex .\n",
      "Using 1 thread (no multithreaded calculations invoked).\n",
      "Before main variant filters, 2504 founders and 0 nonfounders present.\n",
      "Calculating allele frequencies... 10111213141516171819202122232425262728293031323334353637383940414243444546474849505152535455565758596061626364656667686970717273747576777879808182838485868788899091929394959697989 done.\n",
      "Total genotyping rate is 0.999948.\n",
      "3427241 variants and 2504 people pass filters and QC.\n",
      "Note: No phenotypes present.\n",
      "--make-bed to ALL.chr9.bed + ALL.chr9.bim + ALL.chr9.fam ... 101112131415161718192021222324252627282930313233343536373839404142434445464748495051525354555657585960616263646566676869707172737475767778798081828384858687888990919293949596979899done.\n",
      "найдено дупликатов в chr9 хромосоме:\n",
      "10 dup9.snps\n",
      " - удаляю...\n",
      "PLINK v1.90b6.15 64-bit (21 Jan 2020)          www.cog-genomics.org/plink/1.9/\n",
      "(C) 2005-2020 Shaun Purcell, Christopher Chang   GNU General Public License v3\n",
      "Logging to ALL.chr9.log.\n",
      "Options in effect:\n",
      "  --bfile ALL.chr9\n",
      "  --exclude dup9.snps\n",
      "  --make-bed\n",
      "  --out ALL.chr9\n",
      "\n",
      "32167 MB RAM detected; reserving 16083 MB for main workspace.\n",
      "Warning: --make-bed input and output filenames match.  Appending '~' to input\n",
      "filenames.\n",
      "3427241 variants loaded from .bim file.\n",
      "2504 people (0 males, 0 females, 2504 ambiguous) loaded from .fam.\n",
      "Ambiguous sex IDs written to ALL.chr9.nosex .\n",
      "--exclude: 3427221 variants remaining.\n",
      "Using 1 thread (no multithreaded calculations invoked).\n",
      "Before main variant filters, 2504 founders and 0 nonfounders present.\n",
      "Calculating allele frequencies... 10111213141516171819202122232425262728293031323334353637383940414243444546474849505152535455565758596061626364656667686970717273747576777879808182838485868788899091929394959697989 done.\n",
      "Total genotyping rate is 0.999948.\n",
      "3427221 variants and 2504 people pass filters and QC.\n",
      "Note: No phenotypes present.\n",
      "--make-bed to ALL.chr9.bed + ALL.chr9.bim + ALL.chr9.fam ... 101112131415161718192021222324252627282930313233343536373839404142434445464748495051525354555657585960616263646566676869707172737475767778798081828384858687888990919293949596979899done.\n",
      "PLINK v1.90b6.15 64-bit (21 Jan 2020)          www.cog-genomics.org/plink/1.9/\n",
      "(C) 2005-2020 Shaun Purcell, Christopher Chang   GNU General Public License v3\n",
      "Logging to ALL.chr10.log.\n",
      "Options in effect:\n",
      "  --make-bed\n",
      "  --out ALL.chr10\n",
      "  --vcf ALL.chr10.phase3_shapeit2_mvncall_integrated_v5a.20130502.genotypes.vcf.gz\n",
      "\n",
      "32167 MB RAM detected; reserving 16083 MB for main workspace.\n",
      "--vcf: ALL.chr10-temporary.bed + ALL.chr10-temporary.bim +\n",
      "ALL.chr10-temporary.fam written.\n",
      "3992219 variants loaded from .bim file.\n",
      "2504 people (0 males, 0 females, 2504 ambiguous) loaded from .fam.\n",
      "Ambiguous sex IDs written to ALL.chr10.nosex .\n",
      "Using 1 thread (no multithreaded calculations invoked).\n",
      "Before main variant filters, 2504 founders and 0 nonfounders present.\n",
      "Calculating allele frequencies... 10111213141516171819202122232425262728293031323334353637383940414243444546474849505152535455565758596061626364656667686970717273747576777879808182838485868788899091929394959697989 done.\n",
      "Total genotyping rate is 0.99983.\n",
      "3992219 variants and 2504 people pass filters and QC.\n",
      "Note: No phenotypes present.\n",
      "--make-bed to ALL.chr10.bed + ALL.chr10.bim + ALL.chr10.fam ... 101112131415161718192021222324252627282930313233343536373839404142434445464748495051525354555657585960616263646566676869707172737475767778798081828384858687888990919293949596979899done.\n",
      "PLINK v1.90b6.15 64-bit (21 Jan 2020)          www.cog-genomics.org/plink/1.9/\n",
      "(C) 2005-2020 Shaun Purcell, Christopher Chang   GNU General Public License v3\n",
      "Logging to ALL.chr10.log.\n",
      "Options in effect:\n",
      "  --bfile ALL.chr10\n",
      "  --make-bed\n",
      "  --out ALL.chr10\n",
      "  --snps-only\n",
      "\n",
      "32167 MB RAM detected; reserving 16083 MB for main workspace.\n",
      "Warning: --make-bed input and output filenames match.  Appending '~' to input\n",
      "filenames.\n",
      "3837178 out of 3992219 variants loaded from .bim file.\n",
      "2504 people (0 males, 0 females, 2504 ambiguous) loaded from .fam.\n",
      "Ambiguous sex IDs written to ALL.chr10.nosex .\n",
      "Using 1 thread (no multithreaded calculations invoked).\n",
      "Before main variant filters, 2504 founders and 0 nonfounders present.\n",
      "Calculating allele frequencies... 10111213141516171819202122232425262728293031323334353637383940414243444546474849505152535455565758596061626364656667686970717273747576777879808182838485868788899091929394959697989 done.\n",
      "Total genotyping rate is 0.999945.\n",
      "3837178 variants and 2504 people pass filters and QC.\n",
      "Note: No phenotypes present.\n",
      "--make-bed to ALL.chr10.bed + ALL.chr10.bim + ALL.chr10.fam ... 101112131415161718192021222324252627282930313233343536373839404142434445464748495051525354555657585960616263646566676869707172737475767778798081828384858687888990919293949596979899done.\n",
      "найдено дупликатов в chr10 хромосоме:\n",
      "4 dup10.snps\n",
      " - удаляю...\n",
      "PLINK v1.90b6.15 64-bit (21 Jan 2020)          www.cog-genomics.org/plink/1.9/\n",
      "(C) 2005-2020 Shaun Purcell, Christopher Chang   GNU General Public License v3\n",
      "Logging to ALL.chr10.log.\n",
      "Options in effect:\n",
      "  --bfile ALL.chr10\n",
      "  --exclude dup10.snps\n",
      "  --make-bed\n",
      "  --out ALL.chr10\n",
      "\n",
      "32167 MB RAM detected; reserving 16083 MB for main workspace.\n",
      "Warning: --make-bed input and output filenames match.  Appending '~' to input\n",
      "filenames.\n",
      "3837178 variants loaded from .bim file.\n",
      "2504 people (0 males, 0 females, 2504 ambiguous) loaded from .fam.\n",
      "Ambiguous sex IDs written to ALL.chr10.nosex .\n",
      "--exclude: 3837170 variants remaining.\n",
      "Using 1 thread (no multithreaded calculations invoked).\n",
      "Before main variant filters, 2504 founders and 0 nonfounders present.\n",
      "Calculating allele frequencies... 10111213141516171819202122232425262728293031323334353637383940414243444546474849505152535455565758596061626364656667686970717273747576777879808182838485868788899091929394959697989 done.\n",
      "Total genotyping rate is 0.999945.\n",
      "3837170 variants and 2504 people pass filters and QC.\n",
      "Note: No phenotypes present.\n",
      "--make-bed to ALL.chr10.bed + ALL.chr10.bim + ALL.chr10.fam ... 101112131415161718192021222324252627282930313233343536373839404142434445464748495051525354555657585960616263646566676869707172737475767778798081828384858687888990919293949596979899done.\n",
      "PLINK v1.90b6.15 64-bit (21 Jan 2020)          www.cog-genomics.org/plink/1.9/\n",
      "(C) 2005-2020 Shaun Purcell, Christopher Chang   GNU General Public License v3\n",
      "Logging to ALL.chr11.log.\n",
      "Options in effect:\n",
      "  --make-bed\n",
      "  --out ALL.chr11\n",
      "  --vcf ALL.chr11.phase3_shapeit2_mvncall_integrated_v5a.20130502.genotypes.vcf.gz\n",
      "\n",
      "32167 MB RAM detected; reserving 16083 MB for main workspace.\n",
      "--vcf: ALL.chr11-temporary.bed + ALL.chr11-temporary.bim +\n",
      "ALL.chr11-temporary.fam written.\n",
      "4045628 variants loaded from .bim file.\n",
      "2504 people (0 males, 0 females, 2504 ambiguous) loaded from .fam.\n",
      "Ambiguous sex IDs written to ALL.chr11.nosex .\n",
      "Using 1 thread (no multithreaded calculations invoked).\n",
      "Before main variant filters, 2504 founders and 0 nonfounders present.\n"
     ]
    },
    {
     "name": "stdout",
     "output_type": "stream",
     "text": [
      "Calculating allele frequencies... 10111213141516171819202122232425262728293031323334353637383940414243444546474849505152535455565758596061626364656667686970717273747576777879808182838485868788899091929394959697989 done.\n",
      "Total genotyping rate is 0.999834.\n",
      "4045628 variants and 2504 people pass filters and QC.\n",
      "Note: No phenotypes present.\n",
      "--make-bed to ALL.chr11.bed + ALL.chr11.bim + ALL.chr11.fam ... 101112131415161718192021222324252627282930313233343536373839404142434445464748495051525354555657585960616263646566676869707172737475767778798081828384858687888990919293949596979899done.\n",
      "PLINK v1.90b6.15 64-bit (21 Jan 2020)          www.cog-genomics.org/plink/1.9/\n",
      "(C) 2005-2020 Shaun Purcell, Christopher Chang   GNU General Public License v3\n",
      "Logging to ALL.chr11.log.\n",
      "Options in effect:\n",
      "  --bfile ALL.chr11\n",
      "  --make-bed\n",
      "  --out ALL.chr11\n",
      "  --snps-only\n",
      "\n",
      "32167 MB RAM detected; reserving 16083 MB for main workspace.\n",
      "Warning: --make-bed input and output filenames match.  Appending '~' to input\n",
      "filenames.\n",
      "3891530 out of 4045628 variants loaded from .bim file.\n",
      "2504 people (0 males, 0 females, 2504 ambiguous) loaded from .fam.\n",
      "Ambiguous sex IDs written to ALL.chr11.nosex .\n",
      "Using 1 thread (no multithreaded calculations invoked).\n",
      "Before main variant filters, 2504 founders and 0 nonfounders present.\n",
      "Calculating allele frequencies... 10111213141516171819202122232425262728293031323334353637383940414243444546474849505152535455565758596061626364656667686970717273747576777879808182838485868788899091929394959697989 done.\n",
      "Total genotyping rate is 0.999947.\n",
      "3891530 variants and 2504 people pass filters and QC.\n",
      "Note: No phenotypes present.\n",
      "--make-bed to ALL.chr11.bed + ALL.chr11.bim + ALL.chr11.fam ... 101112131415161718192021222324252627282930313233343536373839404142434445464748495051525354555657585960616263646566676869707172737475767778798081828384858687888990919293949596979899done.\n",
      "найдено дупликатов в chr11 хромосоме:\n",
      "2 dup11.snps\n",
      " - удаляю...\n",
      "PLINK v1.90b6.15 64-bit (21 Jan 2020)          www.cog-genomics.org/plink/1.9/\n",
      "(C) 2005-2020 Shaun Purcell, Christopher Chang   GNU General Public License v3\n",
      "Logging to ALL.chr11.log.\n",
      "Options in effect:\n",
      "  --bfile ALL.chr11\n",
      "  --exclude dup11.snps\n",
      "  --make-bed\n",
      "  --out ALL.chr11\n",
      "\n",
      "32167 MB RAM detected; reserving 16083 MB for main workspace.\n",
      "Warning: --make-bed input and output filenames match.  Appending '~' to input\n",
      "filenames.\n",
      "3891530 variants loaded from .bim file.\n",
      "2504 people (0 males, 0 females, 2504 ambiguous) loaded from .fam.\n",
      "Ambiguous sex IDs written to ALL.chr11.nosex .\n",
      "--exclude: 3891526 variants remaining.\n",
      "Using 1 thread (no multithreaded calculations invoked).\n",
      "Before main variant filters, 2504 founders and 0 nonfounders present.\n",
      "Calculating allele frequencies... 10111213141516171819202122232425262728293031323334353637383940414243444546474849505152535455565758596061626364656667686970717273747576777879808182838485868788899091929394959697989 done.\n",
      "Total genotyping rate is 0.999947.\n",
      "3891526 variants and 2504 people pass filters and QC.\n",
      "Note: No phenotypes present.\n",
      "--make-bed to ALL.chr11.bed + ALL.chr11.bim + ALL.chr11.fam ... 101112131415161718192021222324252627282930313233343536373839404142434445464748495051525354555657585960616263646566676869707172737475767778798081828384858687888990919293949596979899done.\n",
      "PLINK v1.90b6.15 64-bit (21 Jan 2020)          www.cog-genomics.org/plink/1.9/\n",
      "(C) 2005-2020 Shaun Purcell, Christopher Chang   GNU General Public License v3\n",
      "Logging to ALL.chr12.log.\n",
      "Options in effect:\n",
      "  --make-bed\n",
      "  --out ALL.chr12\n",
      "  --vcf ALL.chr12.phase3_shapeit2_mvncall_integrated_v5a.20130502.genotypes.vcf.gz\n",
      "\n",
      "32167 MB RAM detected; reserving 16083 MB for main workspace.\n",
      "--vcf: ALL.chr12-temporary.bed + ALL.chr12-temporary.bim +\n",
      "ALL.chr12-temporary.fam written.\n",
      "3868428 variants loaded from .bim file.\n",
      "2504 people (0 males, 0 females, 2504 ambiguous) loaded from .fam.\n",
      "Ambiguous sex IDs written to ALL.chr12.nosex .\n",
      "Using 1 thread (no multithreaded calculations invoked).\n",
      "Before main variant filters, 2504 founders and 0 nonfounders present.\n",
      "Calculating allele frequencies... 10111213141516171819202122232425262728293031323334353637383940414243444546474849505152535455565758596061626364656667686970717273747576777879808182838485868788899091929394959697989 done.\n",
      "Total genotyping rate is 0.999822.\n",
      "3868428 variants and 2504 people pass filters and QC.\n",
      "Note: No phenotypes present.\n",
      "--make-bed to ALL.chr12.bed + ALL.chr12.bim + ALL.chr12.fam ... 101112131415161718192021222324252627282930313233343536373839404142434445464748495051525354555657585960616263646566676869707172737475767778798081828384858687888990919293949596979899done.\n",
      "PLINK v1.90b6.15 64-bit (21 Jan 2020)          www.cog-genomics.org/plink/1.9/\n",
      "(C) 2005-2020 Shaun Purcell, Christopher Chang   GNU General Public License v3\n",
      "Logging to ALL.chr12.log.\n",
      "Options in effect:\n",
      "  --bfile ALL.chr12\n",
      "  --make-bed\n",
      "  --out ALL.chr12\n",
      "  --snps-only\n",
      "\n",
      "32167 MB RAM detected; reserving 16083 MB for main workspace.\n",
      "Warning: --make-bed input and output filenames match.  Appending '~' to input\n",
      "filenames.\n",
      "3710299 out of 3868428 variants loaded from .bim file.\n",
      "2504 people (0 males, 0 females, 2504 ambiguous) loaded from .fam.\n",
      "Ambiguous sex IDs written to ALL.chr12.nosex .\n",
      "Using 1 thread (no multithreaded calculations invoked).\n",
      "Before main variant filters, 2504 founders and 0 nonfounders present.\n",
      "Calculating allele frequencies... 10111213141516171819202122232425262728293031323334353637383940414243444546474849505152535455565758596061626364656667686970717273747576777879808182838485868788899091929394959697989 done.\n",
      "Total genotyping rate is 0.999954.\n",
      "3710299 variants and 2504 people pass filters and QC.\n",
      "Note: No phenotypes present.\n",
      "--make-bed to ALL.chr12.bed + ALL.chr12.bim + ALL.chr12.fam ... 101112131415161718192021222324252627282930313233343536373839404142434445464748495051525354555657585960616263646566676869707172737475767778798081828384858687888990919293949596979899done.\n",
      "найдено дупликатов в chr12 хромосоме:\n",
      "6 dup12.snps\n",
      " - удаляю...\n",
      "PLINK v1.90b6.15 64-bit (21 Jan 2020)          www.cog-genomics.org/plink/1.9/\n",
      "(C) 2005-2020 Shaun Purcell, Christopher Chang   GNU General Public License v3\n",
      "Logging to ALL.chr12.log.\n",
      "Options in effect:\n",
      "  --bfile ALL.chr12\n",
      "  --exclude dup12.snps\n",
      "  --make-bed\n",
      "  --out ALL.chr12\n",
      "\n",
      "32167 MB RAM detected; reserving 16083 MB for main workspace.\n",
      "Warning: --make-bed input and output filenames match.  Appending '~' to input\n",
      "filenames.\n",
      "3710299 variants loaded from .bim file.\n",
      "2504 people (0 males, 0 females, 2504 ambiguous) loaded from .fam.\n",
      "Ambiguous sex IDs written to ALL.chr12.nosex .\n",
      "--exclude: 3710046 variants remaining.\n",
      "Using 1 thread (no multithreaded calculations invoked).\n",
      "Before main variant filters, 2504 founders and 0 nonfounders present.\n",
      "Calculating allele frequencies... 10111213141516171819202122232425262728293031323334353637383940414243444546474849505152535455565758596061626364656667686970717273747576777879808182838485868788899091929394959697989 done.\n",
      "Total genotyping rate is 0.999954.\n",
      "3710046 variants and 2504 people pass filters and QC.\n",
      "Note: No phenotypes present.\n",
      "--make-bed to ALL.chr12.bed + ALL.chr12.bim + ALL.chr12.fam ... 101112131415161718192021222324252627282930313233343536373839404142434445464748495051525354555657585960616263646566676869707172737475767778798081828384858687888990919293949596979899done.\n",
      "PLINK v1.90b6.15 64-bit (21 Jan 2020)          www.cog-genomics.org/plink/1.9/\n",
      "(C) 2005-2020 Shaun Purcell, Christopher Chang   GNU General Public License v3\n",
      "Logging to ALL.chr13.log.\n",
      "Options in effect:\n",
      "  --make-bed\n",
      "  --out ALL.chr13\n",
      "  --vcf ALL.chr13.phase3_shapeit2_mvncall_integrated_v5a.20130502.genotypes.vcf.gz\n",
      "\n",
      "32167 MB RAM detected; reserving 16083 MB for main workspace.\n",
      "--vcf: ALL.chr13-temporary.bed + ALL.chr13-temporary.bim +\n",
      "ALL.chr13-temporary.fam written.\n",
      "2857916 variants loaded from .bim file.\n",
      "2504 people (0 males, 0 females, 2504 ambiguous) loaded from .fam.\n",
      "Ambiguous sex IDs written to ALL.chr13.nosex .\n",
      "Using 1 thread (no multithreaded calculations invoked).\n",
      "Before main variant filters, 2504 founders and 0 nonfounders present.\n"
     ]
    },
    {
     "name": "stdout",
     "output_type": "stream",
     "text": [
      "Calculating allele frequencies... 10111213141516171819202122232425262728293031323334353637383940414243444546474849505152535455565758596061626364656667686970717273747576777879808182838485868788899091929394959697989 done.\n",
      "Total genotyping rate is 0.999814.\n",
      "2857916 variants and 2504 people pass filters and QC.\n",
      "Note: No phenotypes present.\n",
      "--make-bed to ALL.chr13.bed + ALL.chr13.bim + ALL.chr13.fam ... 101112131415161718192021222324252627282930313233343536373839404142434445464748495051525354555657585960616263646566676869707172737475767778798081828384858687888990919293949596979899done.\n",
      "PLINK v1.90b6.15 64-bit (21 Jan 2020)          www.cog-genomics.org/plink/1.9/\n",
      "(C) 2005-2020 Shaun Purcell, Christopher Chang   GNU General Public License v3\n",
      "Logging to ALL.chr13.log.\n",
      "Options in effect:\n",
      "  --bfile ALL.chr13\n",
      "  --make-bed\n",
      "  --out ALL.chr13\n",
      "  --snps-only\n",
      "\n",
      "32167 MB RAM detected; reserving 16083 MB for main workspace.\n",
      "Warning: --make-bed input and output filenames match.  Appending '~' to input\n",
      "filenames.\n",
      "2737034 out of 2857916 variants loaded from .bim file.\n",
      "2504 people (0 males, 0 females, 2504 ambiguous) loaded from .fam.\n",
      "Ambiguous sex IDs written to ALL.chr13.nosex .\n",
      "Using 1 thread (no multithreaded calculations invoked).\n",
      "Before main variant filters, 2504 founders and 0 nonfounders present.\n",
      "Calculating allele frequencies... 10111213141516171819202122232425262728293031323334353637383940414243444546474849505152535455565758596061626364656667686970717273747576777879808182838485868788899091929394959697989 done.\n",
      "Total genotyping rate is 0.999951.\n",
      "2737034 variants and 2504 people pass filters and QC.\n",
      "Note: No phenotypes present.\n",
      "--make-bed to ALL.chr13.bed + ALL.chr13.bim + ALL.chr13.fam ... 101112131415161718192021222324252627282930313233343536373839404142434445464748495051525354555657585960616263646566676869707172737475767778798081828384858687888990919293949596979899done.\n",
      "найдено дупликатов в chr13 хромосоме:\n",
      "1 dup13.snps\n",
      " - удаляю...\n",
      "PLINK v1.90b6.15 64-bit (21 Jan 2020)          www.cog-genomics.org/plink/1.9/\n",
      "(C) 2005-2020 Shaun Purcell, Christopher Chang   GNU General Public License v3\n",
      "Logging to ALL.chr13.log.\n",
      "Options in effect:\n",
      "  --bfile ALL.chr13\n",
      "  --exclude dup13.snps\n",
      "  --make-bed\n",
      "  --out ALL.chr13\n",
      "\n",
      "32167 MB RAM detected; reserving 16083 MB for main workspace.\n",
      "Warning: --make-bed input and output filenames match.  Appending '~' to input\n",
      "filenames.\n",
      "2737034 variants loaded from .bim file.\n",
      "2504 people (0 males, 0 females, 2504 ambiguous) loaded from .fam.\n",
      "Ambiguous sex IDs written to ALL.chr13.nosex .\n",
      "--exclude: 2737032 variants remaining.\n",
      "Using 1 thread (no multithreaded calculations invoked).\n",
      "Before main variant filters, 2504 founders and 0 nonfounders present.\n",
      "Calculating allele frequencies... 10111213141516171819202122232425262728293031323334353637383940414243444546474849505152535455565758596061626364656667686970717273747576777879808182838485868788899091929394959697989 done.\n",
      "Total genotyping rate is 0.999951.\n",
      "2737032 variants and 2504 people pass filters and QC.\n",
      "Note: No phenotypes present.\n",
      "--make-bed to ALL.chr13.bed + ALL.chr13.bim + ALL.chr13.fam ... 101112131415161718192021222324252627282930313233343536373839404142434445464748495051525354555657585960616263646566676869707172737475767778798081828384858687888990919293949596979899done.\n",
      "PLINK v1.90b6.15 64-bit (21 Jan 2020)          www.cog-genomics.org/plink/1.9/\n",
      "(C) 2005-2020 Shaun Purcell, Christopher Chang   GNU General Public License v3\n",
      "Logging to ALL.chr14.log.\n",
      "Options in effect:\n",
      "  --make-bed\n",
      "  --out ALL.chr14\n",
      "  --vcf ALL.chr14.phase3_shapeit2_mvncall_integrated_v5a.20130502.genotypes.vcf.gz\n",
      "\n",
      "32167 MB RAM detected; reserving 16083 MB for main workspace.\n",
      "--vcf: ALL.chr14-temporary.bed + ALL.chr14-temporary.bim +\n",
      "ALL.chr14-temporary.fam written.\n",
      "2655067 variants loaded from .bim file.\n",
      "2504 people (0 males, 0 females, 2504 ambiguous) loaded from .fam.\n",
      "Ambiguous sex IDs written to ALL.chr14.nosex .\n",
      "Using 1 thread (no multithreaded calculations invoked).\n",
      "Before main variant filters, 2504 founders and 0 nonfounders present.\n",
      "Calculating allele frequencies... 10111213141516171819202122232425262728293031323334353637383940414243444546474849505152535455565758596061626364656667686970717273747576777879808182838485868788899091929394959697989 done.\n",
      "Total genotyping rate is 0.999836.\n",
      "2655067 variants and 2504 people pass filters and QC.\n",
      "Note: No phenotypes present.\n",
      "--make-bed to ALL.chr14.bed + ALL.chr14.bim + ALL.chr14.fam ... 101112131415161718192021222324252627282930313233343536373839404142434445464748495051525354555657585960616263646566676869707172737475767778798081828384858687888990919293949596979899done.\n",
      "PLINK v1.90b6.15 64-bit (21 Jan 2020)          www.cog-genomics.org/plink/1.9/\n",
      "(C) 2005-2020 Shaun Purcell, Christopher Chang   GNU General Public License v3\n",
      "Logging to ALL.chr14.log.\n",
      "Options in effect:\n",
      "  --bfile ALL.chr14\n",
      "  --make-bed\n",
      "  --out ALL.chr14\n",
      "  --snps-only\n",
      "\n",
      "32167 MB RAM detected; reserving 16083 MB for main workspace.\n",
      "Warning: --make-bed input and output filenames match.  Appending '~' to input\n",
      "filenames.\n",
      "2548064 out of 2655067 variants loaded from .bim file.\n",
      "2504 people (0 males, 0 females, 2504 ambiguous) loaded from .fam.\n",
      "Ambiguous sex IDs written to ALL.chr14.nosex .\n",
      "Using 1 thread (no multithreaded calculations invoked).\n",
      "Before main variant filters, 2504 founders and 0 nonfounders present.\n",
      "Calculating allele frequencies... 10111213141516171819202122232425262728293031323334353637383940414243444546474849505152535455565758596061626364656667686970717273747576777879808182838485868788899091929394959697989 done.\n",
      "Total genotyping rate is 0.999952.\n",
      "2548064 variants and 2504 people pass filters and QC.\n",
      "Note: No phenotypes present.\n",
      "--make-bed to ALL.chr14.bed + ALL.chr14.bim + ALL.chr14.fam ... 101112131415161718192021222324252627282930313233343536373839404142434445464748495051525354555657585960616263646566676869707172737475767778798081828384858687888990919293949596979899done.\n",
      "найдено дупликатов в chr14 хромосоме:\n",
      "2 dup14.snps\n",
      " - удаляю...\n",
      "PLINK v1.90b6.15 64-bit (21 Jan 2020)          www.cog-genomics.org/plink/1.9/\n",
      "(C) 2005-2020 Shaun Purcell, Christopher Chang   GNU General Public License v3\n",
      "Logging to ALL.chr14.log.\n",
      "Options in effect:\n",
      "  --bfile ALL.chr14\n",
      "  --exclude dup14.snps\n",
      "  --make-bed\n",
      "  --out ALL.chr14\n",
      "\n",
      "32167 MB RAM detected; reserving 16083 MB for main workspace.\n",
      "Warning: --make-bed input and output filenames match.  Appending '~' to input\n",
      "filenames.\n",
      "2548064 variants loaded from .bim file.\n",
      "2504 people (0 males, 0 females, 2504 ambiguous) loaded from .fam.\n",
      "Ambiguous sex IDs written to ALL.chr14.nosex .\n",
      "--exclude: 2548060 variants remaining.\n",
      "Using 1 thread (no multithreaded calculations invoked).\n",
      "Before main variant filters, 2504 founders and 0 nonfounders present.\n",
      "Calculating allele frequencies... 10111213141516171819202122232425262728293031323334353637383940414243444546474849505152535455565758596061626364656667686970717273747576777879808182838485868788899091929394959697989 done.\n",
      "Total genotyping rate is 0.999952.\n",
      "2548060 variants and 2504 people pass filters and QC.\n",
      "Note: No phenotypes present.\n",
      "--make-bed to ALL.chr14.bed + ALL.chr14.bim + ALL.chr14.fam ... 101112131415161718192021222324252627282930313233343536373839404142434445464748495051525354555657585960616263646566676869707172737475767778798081828384858687888990919293949596979899done.\n",
      "PLINK v1.90b6.15 64-bit (21 Jan 2020)          www.cog-genomics.org/plink/1.9/\n",
      "(C) 2005-2020 Shaun Purcell, Christopher Chang   GNU General Public License v3\n",
      "Logging to ALL.chr15.log.\n",
      "Options in effect:\n",
      "  --make-bed\n",
      "  --out ALL.chr15\n",
      "  --vcf ALL.chr15.phase3_shapeit2_mvncall_integrated_v5a.20130502.genotypes.vcf.gz\n",
      "\n",
      "32167 MB RAM detected; reserving 16083 MB for main workspace.\n",
      "--vcf: ALL.chr15-temporary.bed + ALL.chr15-temporary.bim +\n",
      "ALL.chr15-temporary.fam written.\n",
      "2424689 variants loaded from .bim file.\n",
      "2504 people (0 males, 0 females, 2504 ambiguous) loaded from .fam.\n",
      "Ambiguous sex IDs written to ALL.chr15.nosex .\n",
      "Using 1 thread (no multithreaded calculations invoked).\n",
      "Before main variant filters, 2504 founders and 0 nonfounders present.\n"
     ]
    },
    {
     "name": "stdout",
     "output_type": "stream",
     "text": [
      "Calculating allele frequencies... 10111213141516171819202122232425262728293031323334353637383940414243444546474849505152535455565758596061626364656667686970717273747576777879808182838485868788899091929394959697989 done.\n",
      "Total genotyping rate is 0.999833.\n",
      "2424689 variants and 2504 people pass filters and QC.\n",
      "Note: No phenotypes present.\n",
      "--make-bed to ALL.chr15.bed + ALL.chr15.bim + ALL.chr15.fam ... 101112131415161718192021222324252627282930313233343536373839404142434445464748495051525354555657585960616263646566676869707172737475767778798081828384858687888990919293949596979899done.\n",
      "PLINK v1.90b6.15 64-bit (21 Jan 2020)          www.cog-genomics.org/plink/1.9/\n",
      "(C) 2005-2020 Shaun Purcell, Christopher Chang   GNU General Public License v3\n",
      "Logging to ALL.chr15.log.\n",
      "Options in effect:\n",
      "  --bfile ALL.chr15\n",
      "  --make-bed\n",
      "  --out ALL.chr15\n",
      "  --snps-only\n",
      "\n",
      "32167 MB RAM detected; reserving 16083 MB for main workspace.\n",
      "Warning: --make-bed input and output filenames match.  Appending '~' to input\n",
      "filenames.\n",
      "2328557 out of 2424689 variants loaded from .bim file.\n",
      "2504 people (0 males, 0 females, 2504 ambiguous) loaded from .fam.\n",
      "Ambiguous sex IDs written to ALL.chr15.nosex .\n",
      "Using 1 thread (no multithreaded calculations invoked).\n",
      "Before main variant filters, 2504 founders and 0 nonfounders present.\n",
      "Calculating allele frequencies... 10111213141516171819202122232425262728293031323334353637383940414243444546474849505152535455565758596061626364656667686970717273747576777879808182838485868788899091929394959697989 done.\n",
      "Total genotyping rate is 0.999948.\n",
      "2328557 variants and 2504 people pass filters and QC.\n",
      "Note: No phenotypes present.\n",
      "--make-bed to ALL.chr15.bed + ALL.chr15.bim + ALL.chr15.fam ... 101112131415161718192021222324252627282930313233343536373839404142434445464748495051525354555657585960616263646566676869707172737475767778798081828384858687888990919293949596979899done.\n",
      "найдено дупликатов в chr15 хромосоме:\n",
      "26 dup15.snps\n",
      " - удаляю...\n",
      "PLINK v1.90b6.15 64-bit (21 Jan 2020)          www.cog-genomics.org/plink/1.9/\n",
      "(C) 2005-2020 Shaun Purcell, Christopher Chang   GNU General Public License v3\n",
      "Logging to ALL.chr15.log.\n",
      "Options in effect:\n",
      "  --bfile ALL.chr15\n",
      "  --exclude dup15.snps\n",
      "  --make-bed\n",
      "  --out ALL.chr15\n",
      "\n",
      "32167 MB RAM detected; reserving 16083 MB for main workspace.\n",
      "Warning: --make-bed input and output filenames match.  Appending '~' to input\n",
      "filenames.\n",
      "2328557 variants loaded from .bim file.\n",
      "2504 people (0 males, 0 females, 2504 ambiguous) loaded from .fam.\n",
      "Ambiguous sex IDs written to ALL.chr15.nosex .\n",
      "--exclude: 2328505 variants remaining.\n",
      "Using 1 thread (no multithreaded calculations invoked).\n",
      "Before main variant filters, 2504 founders and 0 nonfounders present.\n",
      "Calculating allele frequencies... 10111213141516171819202122232425262728293031323334353637383940414243444546474849505152535455565758596061626364656667686970717273747576777879808182838485868788899091929394959697989 done.\n",
      "Total genotyping rate is 0.999948.\n",
      "2328505 variants and 2504 people pass filters and QC.\n",
      "Note: No phenotypes present.\n",
      "--make-bed to ALL.chr15.bed + ALL.chr15.bim + ALL.chr15.fam ... 101112131415161718192021222324252627282930313233343536373839404142434445464748495051525354555657585960616263646566676869707172737475767778798081828384858687888990919293949596979899done.\n",
      "PLINK v1.90b6.15 64-bit (21 Jan 2020)          www.cog-genomics.org/plink/1.9/\n",
      "(C) 2005-2020 Shaun Purcell, Christopher Chang   GNU General Public License v3\n",
      "Logging to ALL.chr16.log.\n",
      "Options in effect:\n",
      "  --make-bed\n",
      "  --out ALL.chr16\n",
      "  --vcf ALL.chr16.phase3_shapeit2_mvncall_integrated_v5a.20130502.genotypes.vcf.gz\n",
      "\n",
      "32167 MB RAM detected; reserving 16083 MB for main workspace.\n",
      "--vcf: ALL.chr16-temporary.bed + ALL.chr16-temporary.bim +\n",
      "ALL.chr16-temporary.fam written.\n",
      "2697949 variants loaded from .bim file.\n",
      "2504 people (0 males, 0 females, 2504 ambiguous) loaded from .fam.\n",
      "Ambiguous sex IDs written to ALL.chr16.nosex .\n",
      "Using 1 thread (no multithreaded calculations invoked).\n",
      "Before main variant filters, 2504 founders and 0 nonfounders present.\n",
      "Calculating allele frequencies... 10111213141516171819202122232425262728293031323334353637383940414243444546474849505152535455565758596061626364656667686970717273747576777879808182838485868788899091929394959697989 done.\n",
      "Total genotyping rate is 0.999847.\n",
      "2697949 variants and 2504 people pass filters and QC.\n",
      "Note: No phenotypes present.\n",
      "--make-bed to ALL.chr16.bed + ALL.chr16.bim + ALL.chr16.fam ... 101112131415161718192021222324252627282930313233343536373839404142434445464748495051525354555657585960616263646566676869707172737475767778798081828384858687888990919293949596979899done.\n",
      "PLINK v1.90b6.15 64-bit (21 Jan 2020)          www.cog-genomics.org/plink/1.9/\n",
      "(C) 2005-2020 Shaun Purcell, Christopher Chang   GNU General Public License v3\n",
      "Logging to ALL.chr16.log.\n",
      "Options in effect:\n",
      "  --bfile ALL.chr16\n",
      "  --make-bed\n",
      "  --out ALL.chr16\n",
      "  --snps-only\n",
      "\n",
      "32167 MB RAM detected; reserving 16083 MB for main workspace.\n",
      "Warning: --make-bed input and output filenames match.  Appending '~' to input\n",
      "filenames.\n",
      "2607034 out of 2697949 variants loaded from .bim file.\n",
      "2504 people (0 males, 0 females, 2504 ambiguous) loaded from .fam.\n",
      "Ambiguous sex IDs written to ALL.chr16.nosex .\n",
      "Using 1 thread (no multithreaded calculations invoked).\n",
      "Before main variant filters, 2504 founders and 0 nonfounders present.\n",
      "Calculating allele frequencies... 10111213141516171819202122232425262728293031323334353637383940414243444546474849505152535455565758596061626364656667686970717273747576777879808182838485868788899091929394959697989 done.\n",
      "Total genotyping rate is 0.999947.\n",
      "2607034 variants and 2504 people pass filters and QC.\n",
      "Note: No phenotypes present.\n",
      "--make-bed to ALL.chr16.bed + ALL.chr16.bim + ALL.chr16.fam ... 101112131415161718192021222324252627282930313233343536373839404142434445464748495051525354555657585960616263646566676869707172737475767778798081828384858687888990919293949596979899done.\n",
      "найдено дупликатов в chr16 хромосоме:\n",
      "7 dup16.snps\n",
      " - удаляю...\n",
      "PLINK v1.90b6.15 64-bit (21 Jan 2020)          www.cog-genomics.org/plink/1.9/\n",
      "(C) 2005-2020 Shaun Purcell, Christopher Chang   GNU General Public License v3\n",
      "Logging to ALL.chr16.log.\n",
      "Options in effect:\n",
      "  --bfile ALL.chr16\n",
      "  --exclude dup16.snps\n",
      "  --make-bed\n",
      "  --out ALL.chr16\n",
      "\n",
      "32167 MB RAM detected; reserving 16083 MB for main workspace.\n",
      "Warning: --make-bed input and output filenames match.  Appending '~' to input\n",
      "filenames.\n",
      "2607034 variants loaded from .bim file.\n",
      "2504 people (0 males, 0 females, 2504 ambiguous) loaded from .fam.\n",
      "Ambiguous sex IDs written to ALL.chr16.nosex .\n",
      "--exclude: 2607020 variants remaining.\n",
      "Using 1 thread (no multithreaded calculations invoked).\n",
      "Before main variant filters, 2504 founders and 0 nonfounders present.\n",
      "Calculating allele frequencies... 10111213141516171819202122232425262728293031323334353637383940414243444546474849505152535455565758596061626364656667686970717273747576777879808182838485868788899091929394959697989 done.\n",
      "Total genotyping rate is 0.999947.\n",
      "2607020 variants and 2504 people pass filters and QC.\n",
      "Note: No phenotypes present.\n",
      "--make-bed to ALL.chr16.bed + ALL.chr16.bim + ALL.chr16.fam ... 101112131415161718192021222324252627282930313233343536373839404142434445464748495051525354555657585960616263646566676869707172737475767778798081828384858687888990919293949596979899done.\n",
      "PLINK v1.90b6.15 64-bit (21 Jan 2020)          www.cog-genomics.org/plink/1.9/\n",
      "(C) 2005-2020 Shaun Purcell, Christopher Chang   GNU General Public License v3\n",
      "Logging to ALL.chr17.log.\n",
      "Options in effect:\n",
      "  --make-bed\n",
      "  --out ALL.chr17\n",
      "  --vcf ALL.chr17.phase3_shapeit2_mvncall_integrated_v5a.20130502.genotypes.vcf.gz\n",
      "\n",
      "32167 MB RAM detected; reserving 16083 MB for main workspace.\n",
      "--vcf: ALL.chr17-temporary.bed + ALL.chr17-temporary.bim +\n",
      "ALL.chr17-temporary.fam written.\n",
      "2329288 variants loaded from .bim file.\n",
      "2504 people (0 males, 0 females, 2504 ambiguous) loaded from .fam.\n",
      "Ambiguous sex IDs written to ALL.chr17.nosex .\n",
      "Using 1 thread (no multithreaded calculations invoked).\n",
      "Before main variant filters, 2504 founders and 0 nonfounders present.\n"
     ]
    },
    {
     "name": "stdout",
     "output_type": "stream",
     "text": [
      "Calculating allele frequencies... 10111213141516171819202122232425262728293031323334353637383940414243444546474849505152535455565758596061626364656667686970717273747576777879808182838485868788899091929394959697989 done.\n",
      "Total genotyping rate is 0.999842.\n",
      "2329288 variants and 2504 people pass filters and QC.\n",
      "Note: No phenotypes present.\n",
      "--make-bed to ALL.chr17.bed + ALL.chr17.bim + ALL.chr17.fam ... 101112131415161718192021222324252627282930313233343536373839404142434445464748495051525354555657585960616263646566676869707172737475767778798081828384858687888990919293949596979899done.\n",
      "PLINK v1.90b6.15 64-bit (21 Jan 2020)          www.cog-genomics.org/plink/1.9/\n",
      "(C) 2005-2020 Shaun Purcell, Christopher Chang   GNU General Public License v3\n",
      "Logging to ALL.chr17.log.\n",
      "Options in effect:\n",
      "  --bfile ALL.chr17\n",
      "  --make-bed\n",
      "  --out ALL.chr17\n",
      "  --snps-only\n",
      "\n",
      "32167 MB RAM detected; reserving 16083 MB for main workspace.\n",
      "Warning: --make-bed input and output filenames match.  Appending '~' to input\n",
      "filenames.\n",
      "2234710 out of 2329288 variants loaded from .bim file.\n",
      "2504 people (0 males, 0 females, 2504 ambiguous) loaded from .fam.\n",
      "Ambiguous sex IDs written to ALL.chr17.nosex .\n",
      "Using 1 thread (no multithreaded calculations invoked).\n",
      "Before main variant filters, 2504 founders and 0 nonfounders present.\n",
      "Calculating allele frequencies... 10111213141516171819202122232425262728293031323334353637383940414243444546474849505152535455565758596061626364656667686970717273747576777879808182838485868788899091929394959697989 done.\n",
      "Total genotyping rate is 0.999951.\n",
      "2234710 variants and 2504 people pass filters and QC.\n",
      "Note: No phenotypes present.\n",
      "--make-bed to ALL.chr17.bed + ALL.chr17.bim + ALL.chr17.fam ... 101112131415161718192021222324252627282930313233343536373839404142434445464748495051525354555657585960616263646566676869707172737475767778798081828384858687888990919293949596979899done.\n",
      "найдено дупликатов в chr17 хромосоме:\n",
      "5 dup17.snps\n",
      " - удаляю...\n",
      "PLINK v1.90b6.15 64-bit (21 Jan 2020)          www.cog-genomics.org/plink/1.9/\n",
      "(C) 2005-2020 Shaun Purcell, Christopher Chang   GNU General Public License v3\n",
      "Logging to ALL.chr17.log.\n",
      "Options in effect:\n",
      "  --bfile ALL.chr17\n",
      "  --exclude dup17.snps\n",
      "  --make-bed\n",
      "  --out ALL.chr17\n",
      "\n",
      "32167 MB RAM detected; reserving 16083 MB for main workspace.\n",
      "Warning: --make-bed input and output filenames match.  Appending '~' to input\n",
      "filenames.\n",
      "2234710 variants loaded from .bim file.\n",
      "2504 people (0 males, 0 females, 2504 ambiguous) loaded from .fam.\n",
      "Ambiguous sex IDs written to ALL.chr17.nosex .\n",
      "--exclude: 2234700 variants remaining.\n",
      "Using 1 thread (no multithreaded calculations invoked).\n",
      "Before main variant filters, 2504 founders and 0 nonfounders present.\n",
      "Calculating allele frequencies... 10111213141516171819202122232425262728293031323334353637383940414243444546474849505152535455565758596061626364656667686970717273747576777879808182838485868788899091929394959697989 done.\n",
      "Total genotyping rate is 0.999951.\n",
      "2234700 variants and 2504 people pass filters and QC.\n",
      "Note: No phenotypes present.\n",
      "--make-bed to ALL.chr17.bed + ALL.chr17.bim + ALL.chr17.fam ... 101112131415161718192021222324252627282930313233343536373839404142434445464748495051525354555657585960616263646566676869707172737475767778798081828384858687888990919293949596979899done.\n",
      "PLINK v1.90b6.15 64-bit (21 Jan 2020)          www.cog-genomics.org/plink/1.9/\n",
      "(C) 2005-2020 Shaun Purcell, Christopher Chang   GNU General Public License v3\n",
      "Logging to ALL.chr18.log.\n",
      "Options in effect:\n",
      "  --make-bed\n",
      "  --out ALL.chr18\n",
      "  --vcf ALL.chr18.phase3_shapeit2_mvncall_integrated_v5a.20130502.genotypes.vcf.gz\n",
      "\n",
      "32167 MB RAM detected; reserving 16083 MB for main workspace.\n",
      "--vcf: ALL.chr18-temporary.bed + ALL.chr18-temporary.bim +\n",
      "ALL.chr18-temporary.fam written.\n",
      "2267185 variants loaded from .bim file.\n",
      "2504 people (0 males, 0 females, 2504 ambiguous) loaded from .fam.\n",
      "Ambiguous sex IDs written to ALL.chr18.nosex .\n",
      "Using 1 thread (no multithreaded calculations invoked).\n",
      "Before main variant filters, 2504 founders and 0 nonfounders present.\n",
      "Calculating allele frequencies... 10111213141516171819202122232425262728293031323334353637383940414243444546474849505152535455565758596061626364656667686970717273747576777879808182838485868788899091929394959697989 done.\n",
      "Total genotyping rate is 0.999823.\n",
      "2267185 variants and 2504 people pass filters and QC.\n",
      "Note: No phenotypes present.\n",
      "--make-bed to ALL.chr18.bed + ALL.chr18.bim + ALL.chr18.fam ... 101112131415161718192021222324252627282930313233343536373839404142434445464748495051525354555657585960616263646566676869707172737475767778798081828384858687888990919293949596979899done.\n",
      "PLINK v1.90b6.15 64-bit (21 Jan 2020)          www.cog-genomics.org/plink/1.9/\n",
      "(C) 2005-2020 Shaun Purcell, Christopher Chang   GNU General Public License v3\n",
      "Logging to ALL.chr18.log.\n",
      "Options in effect:\n",
      "  --bfile ALL.chr18\n",
      "  --make-bed\n",
      "  --out ALL.chr18\n",
      "  --snps-only\n",
      "\n",
      "32167 MB RAM detected; reserving 16083 MB for main workspace.\n",
      "Warning: --make-bed input and output filenames match.  Appending '~' to input\n",
      "filenames.\n",
      "2178759 out of 2267185 variants loaded from .bim file.\n",
      "2504 people (0 males, 0 females, 2504 ambiguous) loaded from .fam.\n",
      "Ambiguous sex IDs written to ALL.chr18.nosex .\n",
      "Using 1 thread (no multithreaded calculations invoked).\n",
      "Before main variant filters, 2504 founders and 0 nonfounders present.\n",
      "Calculating allele frequencies... 10111213141516171819202122232425262728293031323334353637383940414243444546474849505152535455565758596061626364656667686970717273747576777879808182838485868788899091929394959697989 done.\n",
      "Total genotyping rate is 0.999949.\n",
      "2178759 variants and 2504 people pass filters and QC.\n",
      "Note: No phenotypes present.\n",
      "--make-bed to ALL.chr18.bed + ALL.chr18.bim + ALL.chr18.fam ... 101112131415161718192021222324252627282930313233343536373839404142434445464748495051525354555657585960616263646566676869707172737475767778798081828384858687888990919293949596979899done.\n",
      "найдено дупликатов в chr18 хромосоме:\n",
      "2 dup18.snps\n",
      " - удаляю...\n",
      "PLINK v1.90b6.15 64-bit (21 Jan 2020)          www.cog-genomics.org/plink/1.9/\n",
      "(C) 2005-2020 Shaun Purcell, Christopher Chang   GNU General Public License v3\n",
      "Logging to ALL.chr18.log.\n",
      "Options in effect:\n",
      "  --bfile ALL.chr18\n",
      "  --exclude dup18.snps\n",
      "  --make-bed\n",
      "  --out ALL.chr18\n",
      "\n",
      "32167 MB RAM detected; reserving 16083 MB for main workspace.\n",
      "Warning: --make-bed input and output filenames match.  Appending '~' to input\n",
      "filenames.\n",
      "2178759 variants loaded from .bim file.\n",
      "2504 people (0 males, 0 females, 2504 ambiguous) loaded from .fam.\n",
      "Ambiguous sex IDs written to ALL.chr18.nosex .\n",
      "--exclude: 2178755 variants remaining.\n",
      "Using 1 thread (no multithreaded calculations invoked).\n",
      "Before main variant filters, 2504 founders and 0 nonfounders present.\n",
      "Calculating allele frequencies... 10111213141516171819202122232425262728293031323334353637383940414243444546474849505152535455565758596061626364656667686970717273747576777879808182838485868788899091929394959697989 done.\n",
      "Total genotyping rate is 0.999949.\n",
      "2178755 variants and 2504 people pass filters and QC.\n",
      "Note: No phenotypes present.\n",
      "--make-bed to ALL.chr18.bed + ALL.chr18.bim + ALL.chr18.fam ... 101112131415161718192021222324252627282930313233343536373839404142434445464748495051525354555657585960616263646566676869707172737475767778798081828384858687888990919293949596979899done.\n",
      "PLINK v1.90b6.15 64-bit (21 Jan 2020)          www.cog-genomics.org/plink/1.9/\n",
      "(C) 2005-2020 Shaun Purcell, Christopher Chang   GNU General Public License v3\n",
      "Logging to ALL.chr19.log.\n",
      "Options in effect:\n",
      "  --make-bed\n",
      "  --out ALL.chr19\n",
      "  --vcf ALL.chr19.phase3_shapeit2_mvncall_integrated_v5a.20130502.genotypes.vcf.gz\n",
      "\n",
      "32167 MB RAM detected; reserving 16083 MB for main workspace.\n",
      "--vcf: ALL.chr19-temporary.bed + ALL.chr19-temporary.bim +\n",
      "ALL.chr19-temporary.fam written.\n",
      "1832506 variants loaded from .bim file.\n",
      "2504 people (0 males, 0 females, 2504 ambiguous) loaded from .fam.\n",
      "Ambiguous sex IDs written to ALL.chr19.nosex .\n",
      "Using 1 thread (no multithreaded calculations invoked).\n",
      "Before main variant filters, 2504 founders and 0 nonfounders present.\n"
     ]
    },
    {
     "name": "stdout",
     "output_type": "stream",
     "text": [
      "Calculating allele frequencies... 10111213141516171819202122232425262728293031323334353637383940414243444546474849505152535455565758596061626364656667686970717273747576777879808182838485868788899091929394959697989 done.\n",
      "Total genotyping rate is 0.999827.\n",
      "1832506 variants and 2504 people pass filters and QC.\n",
      "Note: No phenotypes present.\n",
      "--make-bed to ALL.chr19.bed + ALL.chr19.bim + ALL.chr19.fam ... 101112131415161718192021222324252627282930313233343536373839404142434445464748495051525354555657585960616263646566676869707172737475767778798081828384858687888990919293949596979899done.\n",
      "PLINK v1.90b6.15 64-bit (21 Jan 2020)          www.cog-genomics.org/plink/1.9/\n",
      "(C) 2005-2020 Shaun Purcell, Christopher Chang   GNU General Public License v3\n",
      "Logging to ALL.chr19.log.\n",
      "Options in effect:\n",
      "  --bfile ALL.chr19\n",
      "  --make-bed\n",
      "  --out ALL.chr19\n",
      "  --snps-only\n",
      "\n",
      "32167 MB RAM detected; reserving 16083 MB for main workspace.\n",
      "Warning: --make-bed input and output filenames match.  Appending '~' to input\n",
      "filenames.\n",
      "1758443 out of 1832506 variants loaded from .bim file.\n",
      "2504 people (0 males, 0 females, 2504 ambiguous) loaded from .fam.\n",
      "Ambiguous sex IDs written to ALL.chr19.nosex .\n",
      "Using 1 thread (no multithreaded calculations invoked).\n",
      "Before main variant filters, 2504 founders and 0 nonfounders present.\n",
      "Calculating allele frequencies... 10111213141516171819202122232425262728293031323334353637383940414243444546474849505152535455565758596061626364656667686970717273747576777879808182838485868788899091929394959697989 done.\n",
      "Total genotyping rate is 0.999942.\n",
      "1758443 variants and 2504 people pass filters and QC.\n",
      "Note: No phenotypes present.\n",
      "--make-bed to ALL.chr19.bed + ALL.chr19.bim + ALL.chr19.fam ... 101112131415161718192021222324252627282930313233343536373839404142434445464748495051525354555657585960616263646566676869707172737475767778798081828384858687888990919293949596979899done.\n",
      "найдено дупликатов в chr19 хромосоме:\n",
      "2 dup19.snps\n",
      " - удаляю...\n",
      "PLINK v1.90b6.15 64-bit (21 Jan 2020)          www.cog-genomics.org/plink/1.9/\n",
      "(C) 2005-2020 Shaun Purcell, Christopher Chang   GNU General Public License v3\n",
      "Logging to ALL.chr19.log.\n",
      "Options in effect:\n",
      "  --bfile ALL.chr19\n",
      "  --exclude dup19.snps\n",
      "  --make-bed\n",
      "  --out ALL.chr19\n",
      "\n",
      "32167 MB RAM detected; reserving 16083 MB for main workspace.\n",
      "Warning: --make-bed input and output filenames match.  Appending '~' to input\n",
      "filenames.\n",
      "1758443 variants loaded from .bim file.\n",
      "2504 people (0 males, 0 females, 2504 ambiguous) loaded from .fam.\n",
      "Ambiguous sex IDs written to ALL.chr19.nosex .\n",
      "--exclude: 1758439 variants remaining.\n",
      "Using 1 thread (no multithreaded calculations invoked).\n",
      "Before main variant filters, 2504 founders and 0 nonfounders present.\n",
      "Calculating allele frequencies... 10111213141516171819202122232425262728293031323334353637383940414243444546474849505152535455565758596061626364656667686970717273747576777879808182838485868788899091929394959697989 done.\n",
      "Total genotyping rate is 0.999942.\n",
      "1758439 variants and 2504 people pass filters and QC.\n",
      "Note: No phenotypes present.\n",
      "--make-bed to ALL.chr19.bed + ALL.chr19.bim + ALL.chr19.fam ... 101112131415161718192021222324252627282930313233343536373839404142434445464748495051525354555657585960616263646566676869707172737475767778798081828384858687888990919293949596979899done.\n",
      "PLINK v1.90b6.15 64-bit (21 Jan 2020)          www.cog-genomics.org/plink/1.9/\n",
      "(C) 2005-2020 Shaun Purcell, Christopher Chang   GNU General Public License v3\n",
      "Logging to ALL.chr20.log.\n",
      "Options in effect:\n",
      "  --make-bed\n",
      "  --out ALL.chr20\n",
      "  --vcf ALL.chr20.phase3_shapeit2_mvncall_integrated_v5a.20130502.genotypes.vcf.gz\n",
      "\n",
      "32167 MB RAM detected; reserving 16083 MB for main workspace.\n",
      "--vcf: ALL.chr20-temporary.bed + ALL.chr20-temporary.bim +\n",
      "ALL.chr20-temporary.fam written.\n",
      "1812841 variants loaded from .bim file.\n",
      "2504 people (0 males, 0 females, 2504 ambiguous) loaded from .fam.\n",
      "Ambiguous sex IDs written to ALL.chr20.nosex .\n",
      "Using 1 thread (no multithreaded calculations invoked).\n",
      "Before main variant filters, 2504 founders and 0 nonfounders present.\n",
      "Calculating allele frequencies... 10111213141516171819202122232425262728293031323334353637383940414243444546474849505152535455565758596061626364656667686970717273747576777879808182838485868788899091929394959697989 done.\n",
      "Total genotyping rate is 0.999849.\n",
      "1812841 variants and 2504 people pass filters and QC.\n",
      "Note: No phenotypes present.\n",
      "--make-bed to ALL.chr20.bed + ALL.chr20.bim + ALL.chr20.fam ... 101112131415161718192021222324252627282930313233343536373839404142434445464748495051525354555657585960616263646566676869707172737475767778798081828384858687888990919293949596979899done.\n",
      "PLINK v1.90b6.15 64-bit (21 Jan 2020)          www.cog-genomics.org/plink/1.9/\n",
      "(C) 2005-2020 Shaun Purcell, Christopher Chang   GNU General Public License v3\n",
      "Logging to ALL.chr20.log.\n",
      "Options in effect:\n",
      "  --bfile ALL.chr20\n",
      "  --make-bed\n",
      "  --out ALL.chr20\n",
      "  --snps-only\n",
      "\n",
      "32167 MB RAM detected; reserving 16083 MB for main workspace.\n",
      "Warning: --make-bed input and output filenames match.  Appending '~' to input\n",
      "filenames.\n",
      "1745171 out of 1812841 variants loaded from .bim file.\n",
      "2504 people (0 males, 0 females, 2504 ambiguous) loaded from .fam.\n",
      "Ambiguous sex IDs written to ALL.chr20.nosex .\n",
      "Using 1 thread (no multithreaded calculations invoked).\n",
      "Before main variant filters, 2504 founders and 0 nonfounders present.\n",
      "Calculating allele frequencies... 10111213141516171819202122232425262728293031323334353637383940414243444546474849505152535455565758596061626364656667686970717273747576777879808182838485868788899091929394959697989 done.\n",
      "Total genotyping rate is 0.999959.\n",
      "1745171 variants and 2504 people pass filters and QC.\n",
      "Note: No phenotypes present.\n",
      "--make-bed to ALL.chr20.bed + ALL.chr20.bim + ALL.chr20.fam ... 101112131415161718192021222324252627282930313233343536373839404142434445464748495051525354555657585960616263646566676869707172737475767778798081828384858687888990919293949596979899done.\n",
      "найдено дупликатов в chr20 хромосоме:\n",
      "1 dup20.snps\n",
      " - удаляю...\n",
      "PLINK v1.90b6.15 64-bit (21 Jan 2020)          www.cog-genomics.org/plink/1.9/\n",
      "(C) 2005-2020 Shaun Purcell, Christopher Chang   GNU General Public License v3\n",
      "Logging to ALL.chr20.log.\n",
      "Options in effect:\n",
      "  --bfile ALL.chr20\n",
      "  --exclude dup20.snps\n",
      "  --make-bed\n",
      "  --out ALL.chr20\n",
      "\n",
      "32167 MB RAM detected; reserving 16083 MB for main workspace.\n",
      "Warning: --make-bed input and output filenames match.  Appending '~' to input\n",
      "filenames.\n",
      "1745171 variants loaded from .bim file.\n",
      "2504 people (0 males, 0 females, 2504 ambiguous) loaded from .fam.\n",
      "Ambiguous sex IDs written to ALL.chr20.nosex .\n",
      "--exclude: 1745169 variants remaining.\n",
      "Using 1 thread (no multithreaded calculations invoked).\n",
      "Before main variant filters, 2504 founders and 0 nonfounders present.\n",
      "Calculating allele frequencies... 10111213141516171819202122232425262728293031323334353637383940414243444546474849505152535455565758596061626364656667686970717273747576777879808182838485868788899091929394959697989 done.\n",
      "Total genotyping rate is 0.999959.\n",
      "1745169 variants and 2504 people pass filters and QC.\n",
      "Note: No phenotypes present.\n",
      "--make-bed to ALL.chr20.bed + ALL.chr20.bim + ALL.chr20.fam ... 101112131415161718192021222324252627282930313233343536373839404142434445464748495051525354555657585960616263646566676869707172737475767778798081828384858687888990919293949596979899done.\n",
      "PLINK v1.90b6.15 64-bit (21 Jan 2020)          www.cog-genomics.org/plink/1.9/\n",
      "(C) 2005-2020 Shaun Purcell, Christopher Chang   GNU General Public License v3\n",
      "Logging to ALL.chr21.log.\n",
      "Options in effect:\n",
      "  --make-bed\n",
      "  --out ALL.chr21\n",
      "  --vcf ALL.chr21.phase3_shapeit2_mvncall_integrated_v5a.20130502.genotypes.vcf.gz\n",
      "\n",
      "32167 MB RAM detected; reserving 16083 MB for main workspace.\n",
      "--vcf: ALL.chr21-temporary.bed + ALL.chr21-temporary.bim +\n",
      "ALL.chr21-temporary.fam written.\n",
      "1105538 variants loaded from .bim file.\n",
      "2504 people (0 males, 0 females, 2504 ambiguous) loaded from .fam.\n",
      "Ambiguous sex IDs written to ALL.chr21.nosex .\n",
      "Using 1 thread (no multithreaded calculations invoked).\n",
      "Before main variant filters, 2504 founders and 0 nonfounders present.\n"
     ]
    },
    {
     "name": "stdout",
     "output_type": "stream",
     "text": [
      "Calculating allele frequencies... 10111213141516171819202122232425262728293031323334353637383940414243444546474849505152535455565758596061626364656667686970717273747576777879808182838485868788899091929394959697989 done.\n",
      "Total genotyping rate is 0.999787.\n",
      "1105538 variants and 2504 people pass filters and QC.\n",
      "Note: No phenotypes present.\n",
      "--make-bed to ALL.chr21.bed + ALL.chr21.bim + ALL.chr21.fam ... 101112131415161718192021222324252627282930313233343536373839404142434445464748495051525354555657585960616263646566676869707172737475767778798081828384858687888990919293949596979899done.\n",
      "PLINK v1.90b6.15 64-bit (21 Jan 2020)          www.cog-genomics.org/plink/1.9/\n",
      "(C) 2005-2020 Shaun Purcell, Christopher Chang   GNU General Public License v3\n",
      "Logging to ALL.chr21.log.\n",
      "Options in effect:\n",
      "  --bfile ALL.chr21\n",
      "  --make-bed\n",
      "  --out ALL.chr21\n",
      "  --snps-only\n",
      "\n",
      "32167 MB RAM detected; reserving 16083 MB for main workspace.\n",
      "Warning: --make-bed input and output filenames match.  Appending '~' to input\n",
      "filenames.\n",
      "1058549 out of 1105538 variants loaded from .bim file.\n",
      "2504 people (0 males, 0 females, 2504 ambiguous) loaded from .fam.\n",
      "Ambiguous sex IDs written to ALL.chr21.nosex .\n",
      "Using 1 thread (no multithreaded calculations invoked).\n",
      "Before main variant filters, 2504 founders and 0 nonfounders present.\n",
      "Calculating allele frequencies... 10111213141516171819202122232425262728293031323334353637383940414243444546474849505152535455565758596061626364656667686970717273747576777879808182838485868788899091929394959697989 done.\n",
      "Total genotyping rate is 0.999928.\n",
      "1058549 variants and 2504 people pass filters and QC.\n",
      "Note: No phenotypes present.\n",
      "--make-bed to ALL.chr21.bed + ALL.chr21.bim + ALL.chr21.fam ... 101112131415161718192021222324252627282930313233343536373839404142434445464748495051525354555657585960616263646566676869707172737475767778798081828384858687888990919293949596979899done.\n",
      "найдено дупликатов в chr21 хромосоме:\n",
      "1 dup21.snps\n",
      " - удаляю...\n",
      "PLINK v1.90b6.15 64-bit (21 Jan 2020)          www.cog-genomics.org/plink/1.9/\n",
      "(C) 2005-2020 Shaun Purcell, Christopher Chang   GNU General Public License v3\n",
      "Logging to ALL.chr21.log.\n",
      "Options in effect:\n",
      "  --bfile ALL.chr21\n",
      "  --exclude dup21.snps\n",
      "  --make-bed\n",
      "  --out ALL.chr21\n",
      "\n",
      "32167 MB RAM detected; reserving 16083 MB for main workspace.\n",
      "Warning: --make-bed input and output filenames match.  Appending '~' to input\n",
      "filenames.\n",
      "1058549 variants loaded from .bim file.\n",
      "2504 people (0 males, 0 females, 2504 ambiguous) loaded from .fam.\n",
      "Ambiguous sex IDs written to ALL.chr21.nosex .\n",
      "--exclude: 1058547 variants remaining.\n",
      "Using 1 thread (no multithreaded calculations invoked).\n",
      "Before main variant filters, 2504 founders and 0 nonfounders present.\n",
      "Calculating allele frequencies... 10111213141516171819202122232425262728293031323334353637383940414243444546474849505152535455565758596061626364656667686970717273747576777879808182838485868788899091929394959697989 done.\n",
      "Total genotyping rate is 0.999928.\n",
      "1058547 variants and 2504 people pass filters and QC.\n",
      "Note: No phenotypes present.\n",
      "--make-bed to ALL.chr21.bed + ALL.chr21.bim + ALL.chr21.fam ... 101112131415161718192021222324252627282930313233343536373839404142434445464748495051525354555657585960616263646566676869707172737475767778798081828384858687888990919293949596979899done.\n",
      "PLINK v1.90b6.15 64-bit (21 Jan 2020)          www.cog-genomics.org/plink/1.9/\n",
      "(C) 2005-2020 Shaun Purcell, Christopher Chang   GNU General Public License v3\n",
      "Logging to ALL.chr22.log.\n",
      "Options in effect:\n",
      "  --make-bed\n",
      "  --out ALL.chr22\n",
      "  --vcf ALL.chr22.phase3_shapeit2_mvncall_integrated_v5a.20130502.genotypes.vcf.gz\n",
      "\n",
      "32167 MB RAM detected; reserving 16083 MB for main workspace.\n",
      "--vcf: ALL.chr22-temporary.bed + ALL.chr22-temporary.bim +\n",
      "ALL.chr22-temporary.fam written.\n",
      "1103547 variants loaded from .bim file.\n",
      "2504 people (0 males, 0 females, 2504 ambiguous) loaded from .fam.\n",
      "Ambiguous sex IDs written to ALL.chr22.nosex .\n",
      "Using 1 thread (no multithreaded calculations invoked).\n",
      "Before main variant filters, 2504 founders and 0 nonfounders present.\n",
      "Calculating allele frequencies... 10111213141516171819202122232425262728293031323334353637383940414243444546474849505152535455565758596061626364656667686970717273747576777879808182838485868788899091929394959697989 done.\n",
      "Total genotyping rate is 0.99984.\n",
      "1103547 variants and 2504 people pass filters and QC.\n",
      "Note: No phenotypes present.\n",
      "--make-bed to ALL.chr22.bed + ALL.chr22.bim + ALL.chr22.fam ... 101112131415161718192021222324252627282930313233343536373839404142434445464748495051525354555657585960616263646566676869707172737475767778798081828384858687888990919293949596979899done.\n",
      "PLINK v1.90b6.15 64-bit (21 Jan 2020)          www.cog-genomics.org/plink/1.9/\n",
      "(C) 2005-2020 Shaun Purcell, Christopher Chang   GNU General Public License v3\n",
      "Logging to ALL.chr22.log.\n",
      "Options in effect:\n",
      "  --bfile ALL.chr22\n",
      "  --make-bed\n",
      "  --out ALL.chr22\n",
      "  --snps-only\n",
      "\n",
      "32167 MB RAM detected; reserving 16083 MB for main workspace.\n",
      "Warning: --make-bed input and output filenames match.  Appending '~' to input\n",
      "filenames.\n",
      "1059735 out of 1103547 variants loaded from .bim file.\n",
      "2504 people (0 males, 0 females, 2504 ambiguous) loaded from .fam.\n",
      "Ambiguous sex IDs written to ALL.chr22.nosex .\n",
      "Using 1 thread (no multithreaded calculations invoked).\n",
      "Before main variant filters, 2504 founders and 0 nonfounders present.\n",
      "Calculating allele frequencies... 10111213141516171819202122232425262728293031323334353637383940414243444546474849505152535455565758596061626364656667686970717273747576777879808182838485868788899091929394959697989 done.\n",
      "Total genotyping rate is 0.999946.\n",
      "1059735 variants and 2504 people pass filters and QC.\n",
      "Note: No phenotypes present.\n",
      "--make-bed to ALL.chr22.bed + ALL.chr22.bim + ALL.chr22.fam ... 101112131415161718192021222324252627282930313233343536373839404142434445464748495051525354555657585960616263646566676869707172737475767778798081828384858687888990919293949596979899done.\n",
      "найдено дупликатов в chr22 хромосоме:\n",
      "2 dup22.snps\n",
      " - удаляю...\n",
      "PLINK v1.90b6.15 64-bit (21 Jan 2020)          www.cog-genomics.org/plink/1.9/\n",
      "(C) 2005-2020 Shaun Purcell, Christopher Chang   GNU General Public License v3\n",
      "Logging to ALL.chr22.log.\n",
      "Options in effect:\n",
      "  --bfile ALL.chr22\n",
      "  --exclude dup22.snps\n",
      "  --make-bed\n",
      "  --out ALL.chr22\n",
      "\n",
      "32167 MB RAM detected; reserving 16083 MB for main workspace.\n",
      "Warning: --make-bed input and output filenames match.  Appending '~' to input\n",
      "filenames.\n",
      "1059735 variants loaded from .bim file.\n",
      "2504 people (0 males, 0 females, 2504 ambiguous) loaded from .fam.\n",
      "Ambiguous sex IDs written to ALL.chr22.nosex .\n",
      "--exclude: 1059731 variants remaining.\n",
      "Using 1 thread (no multithreaded calculations invoked).\n",
      "Before main variant filters, 2504 founders and 0 nonfounders present.\n",
      "Calculating allele frequencies... 10111213141516171819202122232425262728293031323334353637383940414243444546474849505152535455565758596061626364656667686970717273747576777879808182838485868788899091929394959697989 done.\n",
      "Total genotyping rate is 0.999946.\n",
      "1059731 variants and 2504 people pass filters and QC.\n",
      "Note: No phenotypes present.\n",
      "--make-bed to ALL.chr22.bed + ALL.chr22.bim + ALL.chr22.fam ... 101112131415161718192021222324252627282930313233343536373839404142434445464748495051525354555657585960616263646566676869707172737475767778798081828384858687888990919293949596979899done.\n"
     ]
    }
   ],
   "source": [
    "#clear_output()\n",
    "for chr_num in range(1, 23):\n",
    "    #Распаковываем хромосому в bed-bim-fam файлы\n",
    "    !plink/plink --vcf ALL.chr{str(chr_num)}.phase3_shapeit2_mvncall_integrated_v5a.20130502.genotypes.vcf.gz --make-bed --out ALL.chr{str(chr_num)}\n",
    "    #Оставляем только SNP\n",
    "    !plink/plink --bfile ALL.chr{str(chr_num)} --snps-only --make-bed --out ALL.chr{str(chr_num)}\n",
    "    #Удаляем дубликаты одинаковых SNPs\n",
    "    !cut -f2 ALL.chr{str(chr_num)}.bim | sort | uniq -d > dup{str(chr_num)}.snps\n",
    "    !echo найдено дупликатов в chr{str(chr_num)} хромосоме: \n",
    "    !wc -l dup{str(chr_num)}.snps\n",
    "    !echo ' - удаляю...'\n",
    "    !plink/plink --bfile ALL.chr{str(chr_num)} --exclude dup{str(chr_num)}.snps --make-bed --out ALL.chr{str(chr_num)}                        "
   ]
  },
  {
   "cell_type": "markdown",
   "metadata": {},
   "source": [
    "#### 4. Слить полученные файлы в один набор bed\\bim\\fam"
   ]
  },
  {
   "cell_type": "code",
   "execution_count": 46,
   "metadata": {},
   "outputs": [],
   "source": [
    "#Создаем список всех файлов для объединения в один набор\n",
    "#!rm merge_list.txt\n",
    "for i in range(2, 23):\n",
    "    with open('merge_list.txt', 'a') as mlist:\n",
    "        mlist.write(f'ALL.chr{str(i)}.bed ALL.chr{str(i)}.bim ALL.chr{str(i)}.fam \\n')"
   ]
  },
  {
   "cell_type": "code",
   "execution_count": 47,
   "metadata": {},
   "outputs": [
    {
     "name": "stdout",
     "output_type": "stream",
     "text": [
      "ALL.chr2.bed ALL.chr2.bim ALL.chr2.fam \r\n",
      "ALL.chr3.bed ALL.chr3.bim ALL.chr3.fam \r\n",
      "ALL.chr4.bed ALL.chr4.bim ALL.chr4.fam \r\n",
      "ALL.chr5.bed ALL.chr5.bim ALL.chr5.fam \r\n",
      "ALL.chr6.bed ALL.chr6.bim ALL.chr6.fam \r\n",
      "ALL.chr7.bed ALL.chr7.bim ALL.chr7.fam \r\n",
      "ALL.chr8.bed ALL.chr8.bim ALL.chr8.fam \r\n",
      "ALL.chr9.bed ALL.chr9.bim ALL.chr9.fam \r\n",
      "ALL.chr10.bed ALL.chr10.bim ALL.chr10.fam \r\n",
      "ALL.chr11.bed ALL.chr11.bim ALL.chr11.fam \r\n",
      "ALL.chr12.bed ALL.chr12.bim ALL.chr12.fam \r\n",
      "ALL.chr13.bed ALL.chr13.bim ALL.chr13.fam \r\n",
      "ALL.chr14.bed ALL.chr14.bim ALL.chr14.fam \r\n",
      "ALL.chr15.bed ALL.chr15.bim ALL.chr15.fam \r\n",
      "ALL.chr16.bed ALL.chr16.bim ALL.chr16.fam \r\n",
      "ALL.chr17.bed ALL.chr17.bim ALL.chr17.fam \r\n",
      "ALL.chr18.bed ALL.chr18.bim ALL.chr18.fam \r\n",
      "ALL.chr19.bed ALL.chr19.bim ALL.chr19.fam \r\n",
      "ALL.chr20.bed ALL.chr20.bim ALL.chr20.fam \r\n",
      "ALL.chr21.bed ALL.chr21.bim ALL.chr21.fam \r\n",
      "ALL.chr22.bed ALL.chr22.bim ALL.chr22.fam \r\n"
     ]
    }
   ],
   "source": [
    "!cat merge_list.txt"
   ]
  },
  {
   "cell_type": "code",
   "execution_count": 19,
   "metadata": {},
   "outputs": [
    {
     "name": "stdout",
     "output_type": "stream",
     "text": [
      "PLINK v1.90b6.15 64-bit (21 Jan 2020)          www.cog-genomics.org/plink/1.9/\n",
      "(C) 2005-2020 Shaun Purcell, Christopher Chang   GNU General Public License v3\n",
      "Logging to ALL.merged.log.\n",
      "Options in effect:\n",
      "  --bfile ALL.chr1\n",
      "  --make-bed\n",
      "  --merge-list merge_list.txt\n",
      "  --out ALL.merged\n",
      "  --threads 6\n",
      "\n",
      "32167 MB RAM detected; reserving 16083 MB for main workspace.\n",
      "Warning: Multiple chromosomes seen for variant 'rs2789253'.\n",
      "Warning: Multiple chromosomes seen for variant 'rs554199249'.\n",
      "Warning: Multiple chromosomes seen for variant '.'.\n",
      "Warning: Multiple chromosomes seen for variant 'rs2843235'.\n",
      "Warning: Unusually long variant ID(s) present.  PLINK 1.9 does not scale well\n",
      "to length-80+ variant IDs; consider using a different naming scheme for long\n",
      "indels and the like.\n",
      "Error: 3 variants with 3+ alleles present.\n",
      "* If you believe this is due to strand inconsistency, try --flip with\n",
      "  ALL.merged-merge.missnp.\n",
      "  (Warning: if this seems to work, strand errors involving SNPs with A/T or C/G\n",
      "  alleles probably remain in your data.  If LD between nearby SNPs is high,\n",
      "  --flip-scan should detect them.)\n",
      "* If you are dealing with genuine multiallelic variants, we recommend exporting\n",
      "  that subset of the data to VCF (via e.g. '--recode vcf'), merging with\n",
      "  another tool/script, and then importing the result; PLINK is not yet suited\n",
      "  to handling them.\n"
     ]
    }
   ],
   "source": [
    "#Пробуем объединить все файлы в один набор\n",
    "!plink/plink --threads 6 --bfile ALL.chr1 --merge-list merge_list.txt --make-bed --out ALL.merged"
   ]
  },
  {
   "cell_type": "markdown",
   "metadata": {},
   "source": [
    "Найдены трёхаллельные варианты\n",
    "Нужно их удалить из файлов\n",
    "немного подредактируем файл ALL.merged-merge.missnp"
   ]
  },
  {
   "cell_type": "code",
   "execution_count": 21,
   "metadata": {
    "scrolled": false
   },
   "outputs": [
    {
     "name": "stdout",
     "output_type": "stream",
     "text": [
      "PLINK v1.90b6.15 64-bit (21 Jan 2020)          www.cog-genomics.org/plink/1.9/\n",
      "(C) 2005-2020 Shaun Purcell, Christopher Chang   GNU General Public License v3\n",
      "Logging to ALL.chr1.log.\n",
      "Options in effect:\n",
      "  --bfile ALL.chr1\n",
      "  --exclude ALL.merged-merge.missnp\n",
      "  --make-bed\n",
      "  --out ALL.chr1\n",
      "\n",
      "32167 MB RAM detected; reserving 16083 MB for main workspace.\n",
      "Warning: --make-bed input and output filenames match.  Appending '~' to input\n",
      "filenames.\n",
      "6215983 variants loaded from .bim file.\n",
      "2504 people (0 males, 0 females, 2504 ambiguous) loaded from .fam.\n",
      "Ambiguous sex IDs written to ALL.chr1.nosex .\n",
      "--exclude: 6215981 variants remaining.\n",
      "Using 1 thread (no multithreaded calculations invoked).\n",
      "Before main variant filters, 2504 founders and 0 nonfounders present.\n",
      "Calculating allele frequencies... 10111213141516171819202122232425262728293031323334353637383940414243444546474849505152535455565758596061626364656667686970717273747576777879808182838485868788899091929394959697989 done.\n",
      "Total genotyping rate is 0.999953.\n",
      "6215981 variants and 2504 people pass filters and QC.\n",
      "Note: No phenotypes present.\n",
      "--make-bed to ALL.chr1.bed + ALL.chr1.bim + ALL.chr1.fam ... 101112131415161718192021222324252627282930313233343536373839404142434445464748495051525354555657585960616263646566676869707172737475767778798081828384858687888990919293949596979899done.\n",
      "PLINK v1.90b6.15 64-bit (21 Jan 2020)          www.cog-genomics.org/plink/1.9/\n",
      "(C) 2005-2020 Shaun Purcell, Christopher Chang   GNU General Public License v3\n",
      "Logging to ALL.chr2.log.\n",
      "Options in effect:\n",
      "  --bfile ALL.chr2\n",
      "  --exclude ALL.merged-merge.missnp\n",
      "  --make-bed\n",
      "  --out ALL.chr2\n",
      "\n",
      "32167 MB RAM detected; reserving 16083 MB for main workspace.\n",
      "Warning: --make-bed input and output filenames match.  Appending '~' to input\n",
      "filenames.\n",
      "6808662 variants loaded from .bim file.\n",
      "2504 people (0 males, 0 females, 2504 ambiguous) loaded from .fam.\n",
      "Ambiguous sex IDs written to ALL.chr2.nosex .\n",
      "--exclude: 6808662 variants remaining.\n",
      "Using 1 thread (no multithreaded calculations invoked).\n",
      "Before main variant filters, 2504 founders and 0 nonfounders present.\n",
      "Calculating allele frequencies... 10111213141516171819202122232425262728293031323334353637383940414243444546474849505152535455565758596061626364656667686970717273747576777879808182838485868788899091929394959697989 done.\n",
      "Total genotyping rate is 0.999954.\n",
      "6808662 variants and 2504 people pass filters and QC.\n",
      "Note: No phenotypes present.\n",
      "--make-bed to ALL.chr2.bed + ALL.chr2.bim + ALL.chr2.fam ... 101112131415161718192021222324252627282930313233343536373839404142434445464748495051525354555657585960616263646566676869707172737475767778798081828384858687888990919293949596979899done.\n",
      "PLINK v1.90b6.15 64-bit (21 Jan 2020)          www.cog-genomics.org/plink/1.9/\n",
      "(C) 2005-2020 Shaun Purcell, Christopher Chang   GNU General Public License v3\n",
      "Logging to ALL.chr3.log.\n",
      "Options in effect:\n",
      "  --bfile ALL.chr3\n",
      "  --exclude ALL.merged-merge.missnp\n",
      "  --make-bed\n",
      "  --out ALL.chr3\n",
      "\n",
      "32167 MB RAM detected; reserving 16083 MB for main workspace.\n",
      "Warning: --make-bed input and output filenames match.  Appending '~' to input\n",
      "filenames.\n",
      "5603253 variants loaded from .bim file.\n",
      "2504 people (0 males, 0 females, 2504 ambiguous) loaded from .fam.\n",
      "Ambiguous sex IDs written to ALL.chr3.nosex .\n",
      "--exclude: 5603253 variants remaining.\n",
      "Using 1 thread (no multithreaded calculations invoked).\n",
      "Before main variant filters, 2504 founders and 0 nonfounders present.\n",
      "Calculating allele frequencies... 10111213141516171819202122232425262728293031323334353637383940414243444546474849505152535455565758596061626364656667686970717273747576777879808182838485868788899091929394959697989 done.\n",
      "Total genotyping rate is 0.999949.\n",
      "5603253 variants and 2504 people pass filters and QC.\n",
      "Note: No phenotypes present.\n",
      "--make-bed to ALL.chr3.bed + ALL.chr3.bim + ALL.chr3.fam ... 101112131415161718192021222324252627282930313233343536373839404142434445464748495051525354555657585960616263646566676869707172737475767778798081828384858687888990919293949596979899done.\n",
      "PLINK v1.90b6.15 64-bit (21 Jan 2020)          www.cog-genomics.org/plink/1.9/\n",
      "(C) 2005-2020 Shaun Purcell, Christopher Chang   GNU General Public License v3\n",
      "Logging to ALL.chr4.log.\n",
      "Options in effect:\n",
      "  --bfile ALL.chr4\n",
      "  --exclude ALL.merged-merge.missnp\n",
      "  --make-bed\n",
      "  --out ALL.chr4\n",
      "\n",
      "32167 MB RAM detected; reserving 16083 MB for main workspace.\n",
      "Warning: --make-bed input and output filenames match.  Appending '~' to input\n",
      "filenames.\n",
      "5500075 variants loaded from .bim file.\n",
      "2504 people (0 males, 0 females, 2504 ambiguous) loaded from .fam.\n",
      "Ambiguous sex IDs written to ALL.chr4.nosex .\n",
      "--exclude: 5500073 variants remaining.\n",
      "Using 1 thread (no multithreaded calculations invoked).\n",
      "Before main variant filters, 2504 founders and 0 nonfounders present.\n",
      "Calculating allele frequencies... 10111213141516171819202122232425262728293031323334353637383940414243444546474849505152535455565758596061626364656667686970717273747576777879808182838485868788899091929394959697989 done.\n",
      "Total genotyping rate is 0.999948.\n",
      "5500073 variants and 2504 people pass filters and QC.\n",
      "Note: No phenotypes present.\n",
      "--make-bed to ALL.chr4.bed + ALL.chr4.bim + ALL.chr4.fam ... 101112131415161718192021222324252627282930313233343536373839404142434445464748495051525354555657585960616263646566676869707172737475767778798081828384858687888990919293949596979899done.\n",
      "PLINK v1.90b6.15 64-bit (21 Jan 2020)          www.cog-genomics.org/plink/1.9/\n",
      "(C) 2005-2020 Shaun Purcell, Christopher Chang   GNU General Public License v3\n",
      "Logging to ALL.chr5.log.\n",
      "Options in effect:\n",
      "  --bfile ALL.chr5\n",
      "  --exclude ALL.merged-merge.missnp\n",
      "  --make-bed\n",
      "  --out ALL.chr5\n",
      "\n",
      "32167 MB RAM detected; reserving 16083 MB for main workspace.\n",
      "Warning: --make-bed input and output filenames match.  Appending '~' to input\n",
      "filenames.\n",
      "5055530 variants loaded from .bim file.\n",
      "2504 people (0 males, 0 females, 2504 ambiguous) loaded from .fam.\n",
      "Ambiguous sex IDs written to ALL.chr5.nosex .\n",
      "--exclude: 5055530 variants remaining.\n",
      "Using 1 thread (no multithreaded calculations invoked).\n",
      "Before main variant filters, 2504 founders and 0 nonfounders present.\n",
      "Calculating allele frequencies... 10111213141516171819202122232425262728293031323334353637383940414243444546474849505152535455565758596061626364656667686970717273747576777879808182838485868788899091929394959697989 done.\n",
      "Total genotyping rate is 0.999953.\n",
      "5055530 variants and 2504 people pass filters and QC.\n",
      "Note: No phenotypes present.\n",
      "--make-bed to ALL.chr5.bed + ALL.chr5.bim + ALL.chr5.fam ... 101112131415161718192021222324252627282930313233343536373839404142434445464748495051525354555657585960616263646566676869707172737475767778798081828384858687888990919293949596979899done.\n",
      "PLINK v1.90b6.15 64-bit (21 Jan 2020)          www.cog-genomics.org/plink/1.9/\n",
      "(C) 2005-2020 Shaun Purcell, Christopher Chang   GNU General Public License v3\n",
      "Logging to ALL.chr6.log.\n",
      "Options in effect:\n",
      "  --bfile ALL.chr6\n",
      "  --exclude ALL.merged-merge.missnp\n",
      "  --make-bed\n",
      "  --out ALL.chr6\n",
      "\n",
      "32167 MB RAM detected; reserving 16083 MB for main workspace.\n",
      "Warning: --make-bed input and output filenames match.  Appending '~' to input\n",
      "filenames.\n",
      "4816865 variants loaded from .bim file.\n",
      "2504 people (0 males, 0 females, 2504 ambiguous) loaded from .fam.\n",
      "Ambiguous sex IDs written to ALL.chr6.nosex .\n",
      "--exclude: 4816865 variants remaining.\n",
      "Using 1 thread (no multithreaded calculations invoked).\n",
      "Before main variant filters, 2504 founders and 0 nonfounders present.\n",
      "Calculating allele frequencies... 10111213141516171819202122232425262728293031323334353637383940414243444546474849505152535455565758596061626364656667686970717273747576777879808182838485868788899091929394959697989 done.\n",
      "Total genotyping rate is 0.999935.\n",
      "4816865 variants and 2504 people pass filters and QC.\n",
      "Note: No phenotypes present.\n",
      "--make-bed to ALL.chr6.bed + ALL.chr6.bim + ALL.chr6.fam ... 101112131415161718192021222324252627282930313233343536373839404142434445464748495051525354555657585960616263646566676869707172737475767778798081828384858687888990919293949596979899done.\n",
      "PLINK v1.90b6.15 64-bit (21 Jan 2020)          www.cog-genomics.org/plink/1.9/\n",
      "(C) 2005-2020 Shaun Purcell, Christopher Chang   GNU General Public License v3\n",
      "Logging to ALL.chr7.log.\n",
      "Options in effect:\n",
      "  --bfile ALL.chr7\n",
      "  --exclude ALL.merged-merge.missnp\n",
      "  --make-bed\n",
      "  --out ALL.chr7\n",
      "\n",
      "32167 MB RAM detected; reserving 16083 MB for main workspace.\n",
      "Warning: --make-bed input and output filenames match.  Appending '~' to input\n",
      "filenames.\n"
     ]
    },
    {
     "name": "stdout",
     "output_type": "stream",
     "text": [
      "4533180 variants loaded from .bim file.\n",
      "2504 people (0 males, 0 females, 2504 ambiguous) loaded from .fam.\n",
      "Ambiguous sex IDs written to ALL.chr7.nosex .\n",
      "--exclude: 4533180 variants remaining.\n",
      "Using 1 thread (no multithreaded calculations invoked).\n",
      "Before main variant filters, 2504 founders and 0 nonfounders present.\n",
      "Calculating allele frequencies... 10111213141516171819202122232425262728293031323334353637383940414243444546474849505152535455565758596061626364656667686970717273747576777879808182838485868788899091929394959697989 done.\n",
      "Total genotyping rate is 0.99995.\n",
      "4533180 variants and 2504 people pass filters and QC.\n",
      "Note: No phenotypes present.\n",
      "--make-bed to ALL.chr7.bed + ALL.chr7.bim + ALL.chr7.fam ... 101112131415161718192021222324252627282930313233343536373839404142434445464748495051525354555657585960616263646566676869707172737475767778798081828384858687888990919293949596979899done.\n",
      "PLINK v1.90b6.15 64-bit (21 Jan 2020)          www.cog-genomics.org/plink/1.9/\n",
      "(C) 2005-2020 Shaun Purcell, Christopher Chang   GNU General Public License v3\n",
      "Logging to ALL.chr8.log.\n",
      "Options in effect:\n",
      "  --bfile ALL.chr8\n",
      "  --exclude ALL.merged-merge.missnp\n",
      "  --make-bed\n",
      "  --out ALL.chr8\n",
      "\n",
      "32167 MB RAM detected; reserving 16083 MB for main workspace.\n",
      "Warning: --make-bed input and output filenames match.  Appending '~' to input\n",
      "filenames.\n",
      "4434311 variants loaded from .bim file.\n",
      "2504 people (0 males, 0 females, 2504 ambiguous) loaded from .fam.\n",
      "Ambiguous sex IDs written to ALL.chr8.nosex .\n",
      "--exclude: 4434310 variants remaining.\n",
      "Using 1 thread (no multithreaded calculations invoked).\n",
      "Before main variant filters, 2504 founders and 0 nonfounders present.\n",
      "Calculating allele frequencies... 10111213141516171819202122232425262728293031323334353637383940414243444546474849505152535455565758596061626364656667686970717273747576777879808182838485868788899091929394959697989 done.\n",
      "Total genotyping rate is 0.999944.\n",
      "4434310 variants and 2504 people pass filters and QC.\n",
      "Note: No phenotypes present.\n",
      "--make-bed to ALL.chr8.bed + ALL.chr8.bim + ALL.chr8.fam ... 101112131415161718192021222324252627282930313233343536373839404142434445464748495051525354555657585960616263646566676869707172737475767778798081828384858687888990919293949596979899done.\n",
      "PLINK v1.90b6.15 64-bit (21 Jan 2020)          www.cog-genomics.org/plink/1.9/\n",
      "(C) 2005-2020 Shaun Purcell, Christopher Chang   GNU General Public License v3\n",
      "Logging to ALL.chr9.log.\n",
      "Options in effect:\n",
      "  --bfile ALL.chr9\n",
      "  --exclude ALL.merged-merge.missnp\n",
      "  --make-bed\n",
      "  --out ALL.chr9\n",
      "\n",
      "32167 MB RAM detected; reserving 16083 MB for main workspace.\n",
      "Warning: --make-bed input and output filenames match.  Appending '~' to input\n",
      "filenames.\n",
      "3427221 variants loaded from .bim file.\n",
      "2504 people (0 males, 0 females, 2504 ambiguous) loaded from .fam.\n",
      "Ambiguous sex IDs written to ALL.chr9.nosex .\n",
      "--exclude: 3427221 variants remaining.\n",
      "Using 1 thread (no multithreaded calculations invoked).\n",
      "Before main variant filters, 2504 founders and 0 nonfounders present.\n",
      "Calculating allele frequencies... 10111213141516171819202122232425262728293031323334353637383940414243444546474849505152535455565758596061626364656667686970717273747576777879808182838485868788899091929394959697989 done.\n",
      "Total genotyping rate is 0.999948.\n",
      "3427221 variants and 2504 people pass filters and QC.\n",
      "Note: No phenotypes present.\n",
      "--make-bed to ALL.chr9.bed + ALL.chr9.bim + ALL.chr9.fam ... 101112131415161718192021222324252627282930313233343536373839404142434445464748495051525354555657585960616263646566676869707172737475767778798081828384858687888990919293949596979899done.\n",
      "PLINK v1.90b6.15 64-bit (21 Jan 2020)          www.cog-genomics.org/plink/1.9/\n",
      "(C) 2005-2020 Shaun Purcell, Christopher Chang   GNU General Public License v3\n",
      "Logging to ALL.chr10.log.\n",
      "Options in effect:\n",
      "  --bfile ALL.chr10\n",
      "  --exclude ALL.merged-merge.missnp\n",
      "  --make-bed\n",
      "  --out ALL.chr10\n",
      "\n",
      "32167 MB RAM detected; reserving 16083 MB for main workspace.\n",
      "Warning: --make-bed input and output filenames match.  Appending '~' to input\n",
      "filenames.\n",
      "3837170 variants loaded from .bim file.\n",
      "2504 people (0 males, 0 females, 2504 ambiguous) loaded from .fam.\n",
      "Ambiguous sex IDs written to ALL.chr10.nosex .\n",
      "--exclude: 3837170 variants remaining.\n",
      "Using 1 thread (no multithreaded calculations invoked).\n",
      "Before main variant filters, 2504 founders and 0 nonfounders present.\n",
      "Calculating allele frequencies... 10111213141516171819202122232425262728293031323334353637383940414243444546474849505152535455565758596061626364656667686970717273747576777879808182838485868788899091929394959697989 done.\n",
      "Total genotyping rate is 0.999945.\n",
      "3837170 variants and 2504 people pass filters and QC.\n",
      "Note: No phenotypes present.\n",
      "--make-bed to ALL.chr10.bed + ALL.chr10.bim + ALL.chr10.fam ... 101112131415161718192021222324252627282930313233343536373839404142434445464748495051525354555657585960616263646566676869707172737475767778798081828384858687888990919293949596979899done.\n",
      "PLINK v1.90b6.15 64-bit (21 Jan 2020)          www.cog-genomics.org/plink/1.9/\n",
      "(C) 2005-2020 Shaun Purcell, Christopher Chang   GNU General Public License v3\n",
      "Logging to ALL.chr11.log.\n",
      "Options in effect:\n",
      "  --bfile ALL.chr11\n",
      "  --exclude ALL.merged-merge.missnp\n",
      "  --make-bed\n",
      "  --out ALL.chr11\n",
      "\n",
      "32167 MB RAM detected; reserving 16083 MB for main workspace.\n",
      "Warning: --make-bed input and output filenames match.  Appending '~' to input\n",
      "filenames.\n",
      "3891526 variants loaded from .bim file.\n",
      "2504 people (0 males, 0 females, 2504 ambiguous) loaded from .fam.\n",
      "Ambiguous sex IDs written to ALL.chr11.nosex .\n",
      "--exclude: 3891526 variants remaining.\n",
      "Using 1 thread (no multithreaded calculations invoked).\n",
      "Before main variant filters, 2504 founders and 0 nonfounders present.\n",
      "Calculating allele frequencies... 10111213141516171819202122232425262728293031323334353637383940414243444546474849505152535455565758596061626364656667686970717273747576777879808182838485868788899091929394959697989 done.\n",
      "Total genotyping rate is 0.999947.\n",
      "3891526 variants and 2504 people pass filters and QC.\n",
      "Note: No phenotypes present.\n",
      "--make-bed to ALL.chr11.bed + ALL.chr11.bim + ALL.chr11.fam ... 101112131415161718192021222324252627282930313233343536373839404142434445464748495051525354555657585960616263646566676869707172737475767778798081828384858687888990919293949596979899done.\n",
      "PLINK v1.90b6.15 64-bit (21 Jan 2020)          www.cog-genomics.org/plink/1.9/\n",
      "(C) 2005-2020 Shaun Purcell, Christopher Chang   GNU General Public License v3\n",
      "Logging to ALL.chr12.log.\n",
      "Options in effect:\n",
      "  --bfile ALL.chr12\n",
      "  --exclude ALL.merged-merge.missnp\n",
      "  --make-bed\n",
      "  --out ALL.chr12\n",
      "\n",
      "32167 MB RAM detected; reserving 16083 MB for main workspace.\n",
      "Warning: --make-bed input and output filenames match.  Appending '~' to input\n",
      "filenames.\n",
      "3710046 variants loaded from .bim file.\n",
      "2504 people (0 males, 0 females, 2504 ambiguous) loaded from .fam.\n",
      "Ambiguous sex IDs written to ALL.chr12.nosex .\n",
      "--exclude: 3710046 variants remaining.\n",
      "Using 1 thread (no multithreaded calculations invoked).\n",
      "Before main variant filters, 2504 founders and 0 nonfounders present.\n",
      "Calculating allele frequencies... 10111213141516171819202122232425262728293031323334353637383940414243444546474849505152535455565758596061626364656667686970717273747576777879808182838485868788899091929394959697989 done.\n",
      "Total genotyping rate is 0.999954.\n",
      "3710046 variants and 2504 people pass filters and QC.\n",
      "Note: No phenotypes present.\n",
      "--make-bed to ALL.chr12.bed + ALL.chr12.bim + ALL.chr12.fam ... 101112131415161718192021222324252627282930313233343536373839404142434445464748495051525354555657585960616263646566676869707172737475767778798081828384858687888990919293949596979899done.\n",
      "PLINK v1.90b6.15 64-bit (21 Jan 2020)          www.cog-genomics.org/plink/1.9/\n",
      "(C) 2005-2020 Shaun Purcell, Christopher Chang   GNU General Public License v3\n",
      "Logging to ALL.chr13.log.\n",
      "Options in effect:\n",
      "  --bfile ALL.chr13\n",
      "  --exclude ALL.merged-merge.missnp\n",
      "  --make-bed\n",
      "  --out ALL.chr13\n",
      "\n",
      "32167 MB RAM detected; reserving 16083 MB for main workspace.\n",
      "Warning: --make-bed input and output filenames match.  Appending '~' to input\n",
      "filenames.\n",
      "2737032 variants loaded from .bim file.\n",
      "2504 people (0 males, 0 females, 2504 ambiguous) loaded from .fam.\n",
      "Ambiguous sex IDs written to ALL.chr13.nosex .\n"
     ]
    },
    {
     "name": "stdout",
     "output_type": "stream",
     "text": [
      "--exclude: 2737032 variants remaining.\n",
      "Using 1 thread (no multithreaded calculations invoked).\n",
      "Before main variant filters, 2504 founders and 0 nonfounders present.\n",
      "Calculating allele frequencies... 10111213141516171819202122232425262728293031323334353637383940414243444546474849505152535455565758596061626364656667686970717273747576777879808182838485868788899091929394959697989 done.\n",
      "Total genotyping rate is 0.999951.\n",
      "2737032 variants and 2504 people pass filters and QC.\n",
      "Note: No phenotypes present.\n",
      "--make-bed to ALL.chr13.bed + ALL.chr13.bim + ALL.chr13.fam ... 101112131415161718192021222324252627282930313233343536373839404142434445464748495051525354555657585960616263646566676869707172737475767778798081828384858687888990919293949596979899done.\n",
      "PLINK v1.90b6.15 64-bit (21 Jan 2020)          www.cog-genomics.org/plink/1.9/\n",
      "(C) 2005-2020 Shaun Purcell, Christopher Chang   GNU General Public License v3\n",
      "Logging to ALL.chr14.log.\n",
      "Options in effect:\n",
      "  --bfile ALL.chr14\n",
      "  --exclude ALL.merged-merge.missnp\n",
      "  --make-bed\n",
      "  --out ALL.chr14\n",
      "\n",
      "32167 MB RAM detected; reserving 16083 MB for main workspace.\n",
      "Warning: --make-bed input and output filenames match.  Appending '~' to input\n",
      "filenames.\n",
      "2548060 variants loaded from .bim file.\n",
      "2504 people (0 males, 0 females, 2504 ambiguous) loaded from .fam.\n",
      "Ambiguous sex IDs written to ALL.chr14.nosex .\n",
      "--exclude: 2548060 variants remaining.\n",
      "Using 1 thread (no multithreaded calculations invoked).\n",
      "Before main variant filters, 2504 founders and 0 nonfounders present.\n",
      "Calculating allele frequencies... 10111213141516171819202122232425262728293031323334353637383940414243444546474849505152535455565758596061626364656667686970717273747576777879808182838485868788899091929394959697989 done.\n",
      "Total genotyping rate is 0.999952.\n",
      "2548060 variants and 2504 people pass filters and QC.\n",
      "Note: No phenotypes present.\n",
      "--make-bed to ALL.chr14.bed + ALL.chr14.bim + ALL.chr14.fam ... 101112131415161718192021222324252627282930313233343536373839404142434445464748495051525354555657585960616263646566676869707172737475767778798081828384858687888990919293949596979899done.\n",
      "PLINK v1.90b6.15 64-bit (21 Jan 2020)          www.cog-genomics.org/plink/1.9/\n",
      "(C) 2005-2020 Shaun Purcell, Christopher Chang   GNU General Public License v3\n",
      "Logging to ALL.chr15.log.\n",
      "Options in effect:\n",
      "  --bfile ALL.chr15\n",
      "  --exclude ALL.merged-merge.missnp\n",
      "  --make-bed\n",
      "  --out ALL.chr15\n",
      "\n",
      "32167 MB RAM detected; reserving 16083 MB for main workspace.\n",
      "Warning: --make-bed input and output filenames match.  Appending '~' to input\n",
      "filenames.\n",
      "2328505 variants loaded from .bim file.\n",
      "2504 people (0 males, 0 females, 2504 ambiguous) loaded from .fam.\n",
      "Ambiguous sex IDs written to ALL.chr15.nosex .\n",
      "--exclude: 2328505 variants remaining.\n",
      "Using 1 thread (no multithreaded calculations invoked).\n",
      "Before main variant filters, 2504 founders and 0 nonfounders present.\n",
      "Calculating allele frequencies... 10111213141516171819202122232425262728293031323334353637383940414243444546474849505152535455565758596061626364656667686970717273747576777879808182838485868788899091929394959697989 done.\n",
      "Total genotyping rate is 0.999948.\n",
      "2328505 variants and 2504 people pass filters and QC.\n",
      "Note: No phenotypes present.\n",
      "--make-bed to ALL.chr15.bed + ALL.chr15.bim + ALL.chr15.fam ... 101112131415161718192021222324252627282930313233343536373839404142434445464748495051525354555657585960616263646566676869707172737475767778798081828384858687888990919293949596979899done.\n",
      "PLINK v1.90b6.15 64-bit (21 Jan 2020)          www.cog-genomics.org/plink/1.9/\n",
      "(C) 2005-2020 Shaun Purcell, Christopher Chang   GNU General Public License v3\n",
      "Logging to ALL.chr16.log.\n",
      "Options in effect:\n",
      "  --bfile ALL.chr16\n",
      "  --exclude ALL.merged-merge.missnp\n",
      "  --make-bed\n",
      "  --out ALL.chr16\n",
      "\n",
      "32167 MB RAM detected; reserving 16083 MB for main workspace.\n",
      "Warning: --make-bed input and output filenames match.  Appending '~' to input\n",
      "filenames.\n",
      "2607020 variants loaded from .bim file.\n",
      "2504 people (0 males, 0 females, 2504 ambiguous) loaded from .fam.\n",
      "Ambiguous sex IDs written to ALL.chr16.nosex .\n",
      "--exclude: 2607020 variants remaining.\n",
      "Using 1 thread (no multithreaded calculations invoked).\n",
      "Before main variant filters, 2504 founders and 0 nonfounders present.\n",
      "Calculating allele frequencies... 10111213141516171819202122232425262728293031323334353637383940414243444546474849505152535455565758596061626364656667686970717273747576777879808182838485868788899091929394959697989 done.\n",
      "Total genotyping rate is 0.999947.\n",
      "2607020 variants and 2504 people pass filters and QC.\n",
      "Note: No phenotypes present.\n",
      "--make-bed to ALL.chr16.bed + ALL.chr16.bim + ALL.chr16.fam ... 101112131415161718192021222324252627282930313233343536373839404142434445464748495051525354555657585960616263646566676869707172737475767778798081828384858687888990919293949596979899done.\n",
      "PLINK v1.90b6.15 64-bit (21 Jan 2020)          www.cog-genomics.org/plink/1.9/\n",
      "(C) 2005-2020 Shaun Purcell, Christopher Chang   GNU General Public License v3\n",
      "Logging to ALL.chr17.log.\n",
      "Options in effect:\n",
      "  --bfile ALL.chr17\n",
      "  --exclude ALL.merged-merge.missnp\n",
      "  --make-bed\n",
      "  --out ALL.chr17\n",
      "\n",
      "32167 MB RAM detected; reserving 16083 MB for main workspace.\n",
      "Warning: --make-bed input and output filenames match.  Appending '~' to input\n",
      "filenames.\n",
      "2234700 variants loaded from .bim file.\n",
      "2504 people (0 males, 0 females, 2504 ambiguous) loaded from .fam.\n",
      "Ambiguous sex IDs written to ALL.chr17.nosex .\n",
      "--exclude: 2234699 variants remaining.\n",
      "Using 1 thread (no multithreaded calculations invoked).\n",
      "Before main variant filters, 2504 founders and 0 nonfounders present.\n",
      "Calculating allele frequencies... 10111213141516171819202122232425262728293031323334353637383940414243444546474849505152535455565758596061626364656667686970717273747576777879808182838485868788899091929394959697989 done.\n",
      "Total genotyping rate is 0.999951.\n",
      "2234699 variants and 2504 people pass filters and QC.\n",
      "Note: No phenotypes present.\n",
      "--make-bed to ALL.chr17.bed + ALL.chr17.bim + ALL.chr17.fam ... 101112131415161718192021222324252627282930313233343536373839404142434445464748495051525354555657585960616263646566676869707172737475767778798081828384858687888990919293949596979899done.\n",
      "PLINK v1.90b6.15 64-bit (21 Jan 2020)          www.cog-genomics.org/plink/1.9/\n",
      "(C) 2005-2020 Shaun Purcell, Christopher Chang   GNU General Public License v3\n",
      "Logging to ALL.chr18.log.\n",
      "Options in effect:\n",
      "  --bfile ALL.chr18\n",
      "  --exclude ALL.merged-merge.missnp\n",
      "  --make-bed\n",
      "  --out ALL.chr18\n",
      "\n",
      "32167 MB RAM detected; reserving 16083 MB for main workspace.\n",
      "Warning: --make-bed input and output filenames match.  Appending '~' to input\n",
      "filenames.\n",
      "2178755 variants loaded from .bim file.\n",
      "2504 people (0 males, 0 females, 2504 ambiguous) loaded from .fam.\n",
      "Ambiguous sex IDs written to ALL.chr18.nosex .\n",
      "--exclude: 2178755 variants remaining.\n",
      "Using 1 thread (no multithreaded calculations invoked).\n",
      "Before main variant filters, 2504 founders and 0 nonfounders present.\n",
      "Calculating allele frequencies... 10111213141516171819202122232425262728293031323334353637383940414243444546474849505152535455565758596061626364656667686970717273747576777879808182838485868788899091929394959697989 done.\n",
      "Total genotyping rate is 0.999949.\n",
      "2178755 variants and 2504 people pass filters and QC.\n",
      "Note: No phenotypes present.\n",
      "--make-bed to ALL.chr18.bed + ALL.chr18.bim + ALL.chr18.fam ... 101112131415161718192021222324252627282930313233343536373839404142434445464748495051525354555657585960616263646566676869707172737475767778798081828384858687888990919293949596979899done.\n",
      "PLINK v1.90b6.15 64-bit (21 Jan 2020)          www.cog-genomics.org/plink/1.9/\n",
      "(C) 2005-2020 Shaun Purcell, Christopher Chang   GNU General Public License v3\n",
      "Logging to ALL.chr19.log.\n",
      "Options in effect:\n",
      "  --bfile ALL.chr19\n",
      "  --exclude ALL.merged-merge.missnp\n",
      "  --make-bed\n",
      "  --out ALL.chr19\n",
      "\n",
      "32167 MB RAM detected; reserving 16083 MB for main workspace.\n",
      "Warning: --make-bed input and output filenames match.  Appending '~' to input\n",
      "filenames.\n",
      "1758439 variants loaded from .bim file.\n",
      "2504 people (0 males, 0 females, 2504 ambiguous) loaded from .fam.\n",
      "Ambiguous sex IDs written to ALL.chr19.nosex .\n",
      "--exclude: 1758439 variants remaining.\n",
      "Using 1 thread (no multithreaded calculations invoked).\n",
      "Before main variant filters, 2504 founders and 0 nonfounders present.\n"
     ]
    },
    {
     "name": "stdout",
     "output_type": "stream",
     "text": [
      "Calculating allele frequencies... 10111213141516171819202122232425262728293031323334353637383940414243444546474849505152535455565758596061626364656667686970717273747576777879808182838485868788899091929394959697989 done.\n",
      "Total genotyping rate is 0.999942.\n",
      "1758439 variants and 2504 people pass filters and QC.\n",
      "Note: No phenotypes present.\n",
      "--make-bed to ALL.chr19.bed + ALL.chr19.bim + ALL.chr19.fam ... 101112131415161718192021222324252627282930313233343536373839404142434445464748495051525354555657585960616263646566676869707172737475767778798081828384858687888990919293949596979899done.\n",
      "PLINK v1.90b6.15 64-bit (21 Jan 2020)          www.cog-genomics.org/plink/1.9/\n",
      "(C) 2005-2020 Shaun Purcell, Christopher Chang   GNU General Public License v3\n",
      "Logging to ALL.chr20.log.\n",
      "Options in effect:\n",
      "  --bfile ALL.chr20\n",
      "  --exclude ALL.merged-merge.missnp\n",
      "  --make-bed\n",
      "  --out ALL.chr20\n",
      "\n",
      "32167 MB RAM detected; reserving 16083 MB for main workspace.\n",
      "Warning: --make-bed input and output filenames match.  Appending '~' to input\n",
      "filenames.\n",
      "1745169 variants loaded from .bim file.\n",
      "2504 people (0 males, 0 females, 2504 ambiguous) loaded from .fam.\n",
      "Ambiguous sex IDs written to ALL.chr20.nosex .\n",
      "--exclude: 1745169 variants remaining.\n",
      "Using 1 thread (no multithreaded calculations invoked).\n",
      "Before main variant filters, 2504 founders and 0 nonfounders present.\n",
      "Calculating allele frequencies... 10111213141516171819202122232425262728293031323334353637383940414243444546474849505152535455565758596061626364656667686970717273747576777879808182838485868788899091929394959697989 done.\n",
      "Total genotyping rate is 0.999959.\n",
      "1745169 variants and 2504 people pass filters and QC.\n",
      "Note: No phenotypes present.\n",
      "--make-bed to ALL.chr20.bed + ALL.chr20.bim + ALL.chr20.fam ... 101112131415161718192021222324252627282930313233343536373839404142434445464748495051525354555657585960616263646566676869707172737475767778798081828384858687888990919293949596979899done.\n",
      "PLINK v1.90b6.15 64-bit (21 Jan 2020)          www.cog-genomics.org/plink/1.9/\n",
      "(C) 2005-2020 Shaun Purcell, Christopher Chang   GNU General Public License v3\n",
      "Logging to ALL.chr21.log.\n",
      "Options in effect:\n",
      "  --bfile ALL.chr21\n",
      "  --exclude ALL.merged-merge.missnp\n",
      "  --make-bed\n",
      "  --out ALL.chr21\n",
      "\n",
      "32167 MB RAM detected; reserving 16083 MB for main workspace.\n",
      "Warning: --make-bed input and output filenames match.  Appending '~' to input\n",
      "filenames.\n",
      "1058547 variants loaded from .bim file.\n",
      "2504 people (0 males, 0 females, 2504 ambiguous) loaded from .fam.\n",
      "Ambiguous sex IDs written to ALL.chr21.nosex .\n",
      "--exclude: 1058547 variants remaining.\n",
      "Using 1 thread (no multithreaded calculations invoked).\n",
      "Before main variant filters, 2504 founders and 0 nonfounders present.\n",
      "Calculating allele frequencies... 10111213141516171819202122232425262728293031323334353637383940414243444546474849505152535455565758596061626364656667686970717273747576777879808182838485868788899091929394959697989 done.\n",
      "Total genotyping rate is 0.999928.\n",
      "1058547 variants and 2504 people pass filters and QC.\n",
      "Note: No phenotypes present.\n",
      "--make-bed to ALL.chr21.bed + ALL.chr21.bim + ALL.chr21.fam ... 101112131415161718192021222324252627282930313233343536373839404142434445464748495051525354555657585960616263646566676869707172737475767778798081828384858687888990919293949596979899done.\n",
      "PLINK v1.90b6.15 64-bit (21 Jan 2020)          www.cog-genomics.org/plink/1.9/\n",
      "(C) 2005-2020 Shaun Purcell, Christopher Chang   GNU General Public License v3\n",
      "Logging to ALL.chr22.log.\n",
      "Options in effect:\n",
      "  --bfile ALL.chr22\n",
      "  --exclude ALL.merged-merge.missnp\n",
      "  --make-bed\n",
      "  --out ALL.chr22\n",
      "\n",
      "32167 MB RAM detected; reserving 16083 MB for main workspace.\n",
      "Warning: --make-bed input and output filenames match.  Appending '~' to input\n",
      "filenames.\n",
      "1059731 variants loaded from .bim file.\n",
      "2504 people (0 males, 0 females, 2504 ambiguous) loaded from .fam.\n",
      "Ambiguous sex IDs written to ALL.chr22.nosex .\n",
      "--exclude: 1059731 variants remaining.\n",
      "Using 1 thread (no multithreaded calculations invoked).\n",
      "Before main variant filters, 2504 founders and 0 nonfounders present.\n",
      "Calculating allele frequencies... 10111213141516171819202122232425262728293031323334353637383940414243444546474849505152535455565758596061626364656667686970717273747576777879808182838485868788899091929394959697989 done.\n",
      "Total genotyping rate is 0.999946.\n",
      "1059731 variants and 2504 people pass filters and QC.\n",
      "Note: No phenotypes present.\n",
      "--make-bed to ALL.chr22.bed + ALL.chr22.bim + ALL.chr22.fam ... 101112131415161718192021222324252627282930313233343536373839404142434445464748495051525354555657585960616263646566676869707172737475767778798081828384858687888990919293949596979899done.\n"
     ]
    }
   ],
   "source": [
    "#Удаляем трёхаллельные варианты\n",
    "for chr_num in range(1, 23):\n",
    "    !plink/plink --bfile ALL.chr{str(chr_num)} --exclude ALL.merged-merge.missnp --make-bed --out ALL.chr{str(chr_num)}    "
   ]
  },
  {
   "cell_type": "code",
   "execution_count": 27,
   "metadata": {},
   "outputs": [
    {
     "name": "stdout",
     "output_type": "stream",
     "text": [
      "PLINK v1.90b6.15 64-bit (21 Jan 2020)          www.cog-genomics.org/plink/1.9/\n",
      "(C) 2005-2020 Shaun Purcell, Christopher Chang   GNU General Public License v3\n",
      "Logging to ALL.merged.log.\n",
      "Options in effect:\n",
      "  --bfile ALL.chr1\n",
      "  --make-bed\n",
      "  --memory 24576\n",
      "  --merge-list merge_list.txt\n",
      "  --out ALL.merged\n",
      "  --threads 6\n",
      "\n",
      "32167 MB RAM detected; reserving 24576 MB for main workspace.\n",
      "Performing single-pass merge (2504 people, 18627896 variants).\n",
      "Merged fileset written to ALL.merged-merge.bed + ALL.merged-merge.bim +\n",
      "ALL.merged-merge.fam .\n",
      "18627896 variants loaded from .bim file.\n",
      "2504 people (0 males, 0 females, 2504 ambiguous) loaded from .fam.\n",
      "Ambiguous sex IDs written to ALL.merged.nosex .\n",
      "Using 1 thread (no multithreaded calculations invoked).\n",
      "Before main variant filters, 2504 founders and 0 nonfounders present.\n",
      "Calculating allele frequencies... 10111213141516171819202122232425262728293031323334353637383940414243444546474849505152535455565758596061626364656667686970717273747576777879808182838485868788899091929394959697989 done.\n",
      "Total genotyping rate is 0.999952.\n",
      "18627896 variants and 2504 people pass filters and QC.\n",
      "Note: No phenotypes present.\n",
      "--make-bed to ALL.merged.bed + ALL.merged.bim + ALL.merged.fam ... 101112131415161718192021222324252627282930313233343536373839404142434445464748495051525354555657585960616263646566676869707172737475767778798081828384858687888990919293949596979899done.\n"
     ]
    }
   ],
   "source": [
    "#Заново сливаем все файлы в один набор\n",
    "!plink/plink --threads 6 --memory 24576 --bfile ALL.chr1 --merge-list merge_list.txt --make-bed --out ALL.merged"
   ]
  },
  {
   "cell_type": "markdown",
   "metadata": {},
   "source": [
    "#### 5. Изменить fam файл, чтобы в нем была информация о популяциях. Соответствие образец-популяция можно найти на сайт 1000 геномов."
   ]
  },
  {
   "cell_type": "code",
   "execution_count": null,
   "metadata": {},
   "outputs": [],
   "source": [
    "#Скачиваем таблицу, где можно найти соответствие образец-популяция.\n",
    "!wget 'http://ftp.1000genomes.ebi.ac.uk/vol1/ftp/technical/working/20130606_sample_info/20130606_sample_info.xlsx'"
   ]
  },
  {
   "cell_type": "code",
   "execution_count": 28,
   "metadata": {},
   "outputs": [],
   "source": [
    "#Устанавливаем и импортируем необходимые библиотеки для работы с таблицей\n",
    "#!pip install pandas\n",
    "#!pip install xlrd\n",
    "import pandas as pd"
   ]
  },
  {
   "cell_type": "code",
   "execution_count": 29,
   "metadata": {},
   "outputs": [],
   "source": [
    "#Читаем лист \"Sample info\"\n",
    "df = pd.read_excel('20130606_sample_info.xlsx', sheet_name = 'Sample Info', header = 0, usecols = ['Sample', 'Population', 'Population Description'])"
   ]
  },
  {
   "cell_type": "code",
   "execution_count": 30,
   "metadata": {},
   "outputs": [
    {
     "name": "stdout",
     "output_type": "stream",
     "text": [
      "GBR - British in England and Scotland\n",
      "FIN - Finnish in Finland\n",
      "CHS - Southern Han Chinese, China\n",
      "PUR - Puerto Rican in Puerto Rico\n",
      "CDX - Chinese Dai in Xishuangbanna, China\n",
      "CLM - Colombian in Medellin, Colombia\n",
      "IBS - Iberian populations in Spain\n",
      "PEL - Peruvian in Lima, Peru\n",
      "PJL - Punjabi in Lahore,Pakistan\n",
      "KHV - Kinh in Ho Chi Minh City, Vietnam\n",
      "ACB - African Caribbean in Barbados\n",
      "GWD - Gambian in Western Division, The Gambia\n",
      "ESN - Esan in Nigeria\n",
      "BEB - Bengali in Bangladesh\n",
      "MSL - Mende in Sierra Leone\n",
      "STU - Sri Lankan Tamil in the UK\n",
      "ITU - Indian Telugu in the UK\n",
      "CEU - Utah residents with Northern and Western European ancestry\n",
      "YRI - Yoruba in Ibadan, Nigeria\n",
      "CHB - Han Chinese in Bejing, China\n",
      "JPT - Japanese in Tokyo, Japan\n",
      "LWK - Luhya in Webuye, Kenya\n",
      "ASW - African Ancestry in Southwest US\n",
      "MXL - Mexican Ancestry in Los Angeles, California\n",
      "TSI - Toscani in Italy\n",
      "GIH - Gujarati Indian in Houston,TX\n"
     ]
    }
   ],
   "source": [
    "#Таблица соответствий\n",
    "for pop, desc in zip(df['Population'].unique(), df['Population Description'].unique()):\n",
    "    print (f'{pop} - {desc}')"
   ]
  },
  {
   "cell_type": "code",
   "execution_count": 31,
   "metadata": {},
   "outputs": [],
   "source": [
    "#Создаем словарь с числовой кодировкой популяций\n",
    "#Европейские кодируем числом больше > 100\n",
    "pop_cod = {}\n",
    "for cnt, samp in enumerate(df.Population.unique()):\n",
    "    if samp in ['GBR', 'FIN', 'IBS', 'TSI']:\n",
    "        pop_cod[samp] = cnt + 3 + 100\n",
    "    else:\n",
    "        pop_cod[samp] = cnt + 3"
   ]
  },
  {
   "cell_type": "code",
   "execution_count": 32,
   "metadata": {},
   "outputs": [],
   "source": [
    "#Кодирую популяцию каждого образца в число по ID\n",
    "df['Popnum'] = 0\n",
    "ind_cod = {}\n",
    "for cnt in range(len(df)):\n",
    "    df.iloc[cnt, 3] = pop_cod[df.Population[cnt]]\n",
    "    ind_cod[df.iloc[cnt,0]] = pop_cod[df.Population[cnt]]"
   ]
  },
  {
   "cell_type": "code",
   "execution_count": 33,
   "metadata": {},
   "outputs": [],
   "source": [
    "#Считываем fam - файл\n",
    "df_fam = pd.read_csv('ALL.merged.fam', sep = ' ', header = None, index_col = False)"
   ]
  },
  {
   "cell_type": "code",
   "execution_count": 34,
   "metadata": {},
   "outputs": [],
   "source": [
    "#Меняем обозначение популяции на число из словаря\n",
    "for cnt in range(len(df_fam)):\n",
    "    df_fam.iloc[cnt, 5] = ind_cod[df_fam.iloc[cnt,0]]"
   ]
  },
  {
   "cell_type": "code",
   "execution_count": 35,
   "metadata": {},
   "outputs": [],
   "source": [
    "#Перезаписываем fam - файл\n",
    "df_fam.to_csv('ALL.merged.fam', sep = ' ', header = False, index = False, )"
   ]
  },
  {
   "cell_type": "markdown",
   "metadata": {},
   "source": [
    "#### 6. Сделать новый набор данных, чтобы в нем были только европейские популяции."
   ]
  },
  {
   "cell_type": "markdown",
   "metadata": {},
   "source": [
    "Создаём список европейских популяций"
   ]
  },
  {
   "cell_type": "code",
   "execution_count": 36,
   "metadata": {},
   "outputs": [],
   "source": [
    "df_keep = df_fam.loc[df_fam[5] > 100][1]"
   ]
  },
  {
   "cell_type": "code",
   "execution_count": 37,
   "metadata": {},
   "outputs": [
    {
     "name": "stdout",
     "output_type": "stream",
     "text": [
      "Количество европейских образцов =  404\n"
     ]
    }
   ],
   "source": [
    "print ('Количество европейских образцов = ', len(df_keep))"
   ]
  },
  {
   "cell_type": "code",
   "execution_count": 38,
   "metadata": {},
   "outputs": [],
   "source": [
    "df_keep.to_csv('keep.fam', sep = ' ', header = False, index = False, )"
   ]
  },
  {
   "cell_type": "markdown",
   "metadata": {},
   "source": [
    "Делаем набор из европейских популяций"
   ]
  },
  {
   "cell_type": "code",
   "execution_count": 39,
   "metadata": {
    "scrolled": true
   },
   "outputs": [
    {
     "name": "stdout",
     "output_type": "stream",
     "text": [
      "PLINK v1.90b6.15 64-bit (21 Jan 2020)          www.cog-genomics.org/plink/1.9/\n",
      "(C) 2005-2020 Shaun Purcell, Christopher Chang   GNU General Public License v3\n",
      "Logging to ALL.merged.eu.log.\n",
      "Options in effect:\n",
      "  --bfile ALL.merged\n",
      "  --keep-fam keep.fam\n",
      "  --make-bed\n",
      "  --out ALL.merged.eu\n",
      "\n",
      "32167 MB RAM detected; reserving 16083 MB for main workspace.\n",
      "18627896 variants loaded from .bim file.\n",
      "2504 people (0 males, 0 females, 2504 ambiguous) loaded from .fam.\n",
      "Ambiguous sex IDs written to ALL.merged.eu.nosex .\n",
      "2504 phenotype values loaded from .fam.\n",
      "--keep-fam: 404 people remaining.\n",
      "Warning: Ignoring phenotypes of missing-sex samples.  If you don't want those\n",
      "phenotypes to be ignored, use the --allow-no-sex flag.\n",
      "Using 1 thread (no multithreaded calculations invoked).\n",
      "Before main variant filters, 404 founders and 0 nonfounders present.\n",
      "Calculating allele frequencies... 10111213141516171819202122232425262728293031323334353637383940414243444546474849505152535455565758596061626364656667686970717273747576777879808182838485868788899091929394959697989 done.\n",
      "Total genotyping rate in remaining samples is 0.999963.\n",
      "18627896 variants and 404 people pass filters and QC.\n",
      "Phenotype data is quantitative.\n",
      "--make-bed to ALL.merged.eu.bed + ALL.merged.eu.bim + ALL.merged.eu.fam ...\n",
      "101112131415161718192021222324252627282930313233343536373839404142434445464748495051525354555657585960616263646566676869707172737475767778798081828384858687888990919293949596979899done.\n"
     ]
    }
   ],
   "source": [
    "!plink/plink --bfile ALL.merged --keep-fam keep.fam --make-bed --out ALL.merged.eu"
   ]
  },
  {
   "cell_type": "markdown",
   "metadata": {},
   "source": [
    "#### 7. http://software.genetics.ucla.edu/admixture/ - с помощью этой программы сделать анализ по 5 компонентам (базовый запуск можно найти в документации)."
   ]
  },
  {
   "cell_type": "code",
   "execution_count": null,
   "metadata": {},
   "outputs": [],
   "source": [
    "!wget http://software.genetics.ucla.edu/admixture/binaries/admixture_linux-1.3.0.tar.gz"
   ]
  },
  {
   "cell_type": "code",
   "execution_count": null,
   "metadata": {},
   "outputs": [],
   "source": [
    "!tar -xvf admixture_linux-1.3.0.tar.gz"
   ]
  },
  {
   "cell_type": "markdown",
   "metadata": {},
   "source": [
    "Запускаем на 4 итерации."
   ]
  },
  {
   "cell_type": "code",
   "execution_count": 40,
   "metadata": {
    "scrolled": true
   },
   "outputs": [
    {
     "name": "stdout",
     "output_type": "stream",
     "text": [
      "****                   ADMIXTURE Version 1.3.0                  ****\n",
      "****                    Copyright 2008-2015                     ****\n",
      "****           David Alexander, Suyash Shringarpure,            ****\n",
      "****                John  Novembre, Ken Lange                   ****\n",
      "****                                                            ****\n",
      "****                 Please cite our paper!                     ****\n",
      "****   Information at www.genetics.ucla.edu/software/admixture  ****\n",
      "\n",
      "Parallel execution requested.  Will use 6 threads.\n",
      "Random seed: 43\n",
      "Point estimation method: Block relaxation algorithm\n",
      "Convergence acceleration algorithm: QuasiNewton, 3 secant conditions\n",
      "Point estimation will terminate at 4 iterations\n",
      "Estimation of standard errors disabled; will compute point estimates only.\n",
      "Size of G: 404x18627896\n",
      "Performing five EM steps to prime main algorithm\n",
      "1 (EM) \tElapsed: 284.002\tLoglikelihood: -7.00867e+08\t(delta): 1.07426e+10\n",
      "2 (EM) \tElapsed: 291.45\tLoglikelihood: -6.68232e+08\t(delta): 3.2635e+07\n",
      "3 (EM) \tElapsed: 293.953\tLoglikelihood: -6.62132e+08\t(delta): 6.10022e+06\n",
      "4 (EM) \tElapsed: 298.484\tLoglikelihood: -6.58433e+08\t(delta): 3.69871e+06\n",
      "5 (EM) \tElapsed: 291.369\tLoglikelihood: -6.55756e+08\t(delta): 2.67738e+06\n",
      "Initial loglikelihood: -6.55756e+08\n",
      "Starting main algorithm\n",
      "1 (QN/Block) \tElapsed: 1021.33\tLoglikelihood: -6.46392e+08\t(delta): 9.36385e+06\n",
      "2 (QN/Block) \tElapsed: 1027.08\tLoglikelihood: -6.44241e+08\t(delta): 2.15114e+06\n",
      "3 (QN/Block) \tElapsed: 1079.56\tLoglikelihood: -6.43229e+08\t(delta): 1.01242e+06\n",
      "4 (QN/Block) \tElapsed: 1108.22\tLoglikelihood: -6.42688e+08\t(delta): 540157\n",
      "Summary: \n",
      "Converged in 4 iterations (5859.12 sec)\n",
      "Loglikelihood: -642688347.042579\n",
      "Fst divergences between estimated populations: \n",
      "\tPop0\tPop1\tPop2\tPop3\t\n",
      "Pop0\t\n",
      "Pop1\t0.019\t\n",
      "Pop2\t0.020\t0.023\t\n",
      "Pop3\t0.033\t0.015\t0.038\t\n",
      "Pop4\t0.018\t0.013\t0.022\t0.022\t\n",
      "Writing output files.\n"
     ]
    }
   ],
   "source": [
    "!adm/admixture -C 4 ALL.merged.eu.bed 5 -j6"
   ]
  },
  {
   "cell_type": "markdown",
   "metadata": {},
   "source": [
    "##### Q файл по итогам 7 шага"
   ]
  },
  {
   "cell_type": "code",
   "execution_count": 41,
   "metadata": {},
   "outputs": [
    {
     "name": "stdout",
     "output_type": "stream",
     "text": [
      "0.171859 0.799915 0.016705 0.000010 0.011512\r\n",
      "0.449836 0.321868 0.000547 0.024397 0.203353\r\n",
      "0.002067 0.834965 0.162063 0.000010 0.000894\r\n",
      "0.000010 0.229830 0.352719 0.163078 0.254363\r\n",
      "0.000980 0.327470 0.087150 0.036509 0.547892\r\n",
      "0.034665 0.693854 0.000010 0.000010 0.271461\r\n",
      "0.000010 0.985035 0.014007 0.000010 0.000938\r\n",
      "0.628153 0.351371 0.003244 0.017223 0.000010\r\n",
      "0.153980 0.824602 0.015864 0.005544 0.000010\r\n",
      "0.000765 0.193234 0.005483 0.001074 0.799443\r\n"
     ]
    }
   ],
   "source": [
    "!head ALL.merged.eu.5.Q"
   ]
  },
  {
   "cell_type": "markdown",
   "metadata": {},
   "source": [
    "###### Графики разложения отельных индивидов на компоненты"
   ]
  },
  {
   "cell_type": "code",
   "execution_count": 42,
   "metadata": {},
   "outputs": [
    {
     "data": {
      "text/html": [
       "<div>\n",
       "<style scoped>\n",
       "    .dataframe tbody tr th:only-of-type {\n",
       "        vertical-align: middle;\n",
       "    }\n",
       "\n",
       "    .dataframe tbody tr th {\n",
       "        vertical-align: top;\n",
       "    }\n",
       "\n",
       "    .dataframe thead th {\n",
       "        text-align: right;\n",
       "    }\n",
       "</style>\n",
       "<table border=\"1\" class=\"dataframe\">\n",
       "  <thead>\n",
       "    <tr style=\"text-align: right;\">\n",
       "      <th></th>\n",
       "      <th>comp1</th>\n",
       "      <th>comp2</th>\n",
       "      <th>comp3</th>\n",
       "      <th>comp4</th>\n",
       "      <th>comp5</th>\n",
       "    </tr>\n",
       "    <tr>\n",
       "      <th>0</th>\n",
       "      <th></th>\n",
       "      <th></th>\n",
       "      <th></th>\n",
       "      <th></th>\n",
       "      <th></th>\n",
       "    </tr>\n",
       "  </thead>\n",
       "  <tbody>\n",
       "    <tr>\n",
       "      <th>HG00096</th>\n",
       "      <td>0.171859</td>\n",
       "      <td>0.799915</td>\n",
       "      <td>0.016705</td>\n",
       "      <td>0.000010</td>\n",
       "      <td>0.011512</td>\n",
       "    </tr>\n",
       "    <tr>\n",
       "      <th>HG00097</th>\n",
       "      <td>0.449836</td>\n",
       "      <td>0.321868</td>\n",
       "      <td>0.000547</td>\n",
       "      <td>0.024397</td>\n",
       "      <td>0.203353</td>\n",
       "    </tr>\n",
       "    <tr>\n",
       "      <th>HG00099</th>\n",
       "      <td>0.002067</td>\n",
       "      <td>0.834965</td>\n",
       "      <td>0.162063</td>\n",
       "      <td>0.000010</td>\n",
       "      <td>0.000894</td>\n",
       "    </tr>\n",
       "    <tr>\n",
       "      <th>HG00100</th>\n",
       "      <td>0.000010</td>\n",
       "      <td>0.229830</td>\n",
       "      <td>0.352719</td>\n",
       "      <td>0.163078</td>\n",
       "      <td>0.254363</td>\n",
       "    </tr>\n",
       "    <tr>\n",
       "      <th>HG00101</th>\n",
       "      <td>0.000980</td>\n",
       "      <td>0.327470</td>\n",
       "      <td>0.087150</td>\n",
       "      <td>0.036509</td>\n",
       "      <td>0.547892</td>\n",
       "    </tr>\n",
       "    <tr>\n",
       "      <th>...</th>\n",
       "      <td>...</td>\n",
       "      <td>...</td>\n",
       "      <td>...</td>\n",
       "      <td>...</td>\n",
       "      <td>...</td>\n",
       "    </tr>\n",
       "    <tr>\n",
       "      <th>NA20822</th>\n",
       "      <td>0.000010</td>\n",
       "      <td>0.000010</td>\n",
       "      <td>0.000010</td>\n",
       "      <td>0.332391</td>\n",
       "      <td>0.667579</td>\n",
       "    </tr>\n",
       "    <tr>\n",
       "      <th>NA20826</th>\n",
       "      <td>0.002142</td>\n",
       "      <td>0.000957</td>\n",
       "      <td>0.190126</td>\n",
       "      <td>0.806765</td>\n",
       "      <td>0.000010</td>\n",
       "    </tr>\n",
       "    <tr>\n",
       "      <th>NA20827</th>\n",
       "      <td>0.437640</td>\n",
       "      <td>0.000595</td>\n",
       "      <td>0.000010</td>\n",
       "      <td>0.559146</td>\n",
       "      <td>0.002609</td>\n",
       "    </tr>\n",
       "    <tr>\n",
       "      <th>NA20828</th>\n",
       "      <td>0.404389</td>\n",
       "      <td>0.000010</td>\n",
       "      <td>0.000010</td>\n",
       "      <td>0.595581</td>\n",
       "      <td>0.000010</td>\n",
       "    </tr>\n",
       "    <tr>\n",
       "      <th>NA20832</th>\n",
       "      <td>0.013820</td>\n",
       "      <td>0.000010</td>\n",
       "      <td>0.200121</td>\n",
       "      <td>0.786039</td>\n",
       "      <td>0.000010</td>\n",
       "    </tr>\n",
       "  </tbody>\n",
       "</table>\n",
       "<p>404 rows × 5 columns</p>\n",
       "</div>"
      ],
      "text/plain": [
       "            comp1     comp2     comp3     comp4     comp5\n",
       "0                                                        \n",
       "HG00096  0.171859  0.799915  0.016705  0.000010  0.011512\n",
       "HG00097  0.449836  0.321868  0.000547  0.024397  0.203353\n",
       "HG00099  0.002067  0.834965  0.162063  0.000010  0.000894\n",
       "HG00100  0.000010  0.229830  0.352719  0.163078  0.254363\n",
       "HG00101  0.000980  0.327470  0.087150  0.036509  0.547892\n",
       "...           ...       ...       ...       ...       ...\n",
       "NA20822  0.000010  0.000010  0.000010  0.332391  0.667579\n",
       "NA20826  0.002142  0.000957  0.190126  0.806765  0.000010\n",
       "NA20827  0.437640  0.000595  0.000010  0.559146  0.002609\n",
       "NA20828  0.404389  0.000010  0.000010  0.595581  0.000010\n",
       "NA20832  0.013820  0.000010  0.200121  0.786039  0.000010\n",
       "\n",
       "[404 rows x 5 columns]"
      ]
     },
     "execution_count": 42,
     "metadata": {},
     "output_type": "execute_result"
    }
   ],
   "source": [
    "df_Q = pd.read_csv('ALL.merged.eu.5.Q', names = ['comp1', 'comp2', 'comp3', 'comp4', 'comp5'], sep = ' ', header = None, index_col = False)\n",
    "df_efam = df_fam = pd.read_csv('ALL.merged.europ.fam', sep = ' ', header = None, index_col = False)\n",
    "df_Q.set_index(df_efam[0])"
   ]
  },
  {
   "cell_type": "code",
   "execution_count": null,
   "metadata": {},
   "outputs": [],
   "source": [
    "!pip install plotly.express"
   ]
  },
  {
   "cell_type": "code",
   "execution_count": 46,
   "metadata": {},
   "outputs": [],
   "source": [
    "import plotly.express as px\n",
    "import plotly.graph_objects as go\n",
    "from plotly.subplots import make_subplots"
   ]
  },
  {
   "cell_type": "code",
   "execution_count": 43,
   "metadata": {},
   "outputs": [],
   "source": [
    "cod_pop = dict(zip(pop_cod.values(), pop_cod.keys()))"
   ]
  },
  {
   "cell_type": "code",
   "execution_count": 44,
   "metadata": {},
   "outputs": [],
   "source": [
    "sub_names = []\n",
    "for cnt in range(len(df_efam)):\n",
    "    sub_names.append(f'{df_efam.iloc[cnt,0]} - {cod_pop[df_efam.iloc[cnt, 5]]}')"
   ]
  },
  {
   "cell_type": "code",
   "execution_count": 56,
   "metadata": {},
   "outputs": [
    {
     "data": {
      "application/vnd.plotly.v1+json": {
       "config": {
        "plotlyServerURL": "https://plot.ly"
       },
       "data": [
        {
         "hovertext": [
          0.17185899999999998,
          0.7999149999999999,
          0.016705,
          1e-05,
          0.011512
         ],
         "type": "bar",
         "xaxis": "x",
         "y": [
          0.17185899999999998,
          0.7999149999999999,
          0.016705,
          1e-05,
          0.011512
         ],
         "yaxis": "y"
        },
        {
         "hovertext": [
          0.44983599999999996,
          0.321868,
          0.000547,
          0.024397,
          0.203353
         ],
         "type": "bar",
         "xaxis": "x2",
         "y": [
          0.44983599999999996,
          0.321868,
          0.000547,
          0.024397,
          0.203353
         ],
         "yaxis": "y2"
        },
        {
         "hovertext": [
          0.0020670000000000003,
          0.834965,
          0.162063,
          1e-05,
          0.0008939999999999999
         ],
         "type": "bar",
         "xaxis": "x3",
         "y": [
          0.0020670000000000003,
          0.834965,
          0.162063,
          1e-05,
          0.0008939999999999999
         ],
         "yaxis": "y3"
        },
        {
         "hovertext": [
          1e-05,
          0.22983,
          0.352719,
          0.163078,
          0.254363
         ],
         "type": "bar",
         "xaxis": "x4",
         "y": [
          1e-05,
          0.22983,
          0.352719,
          0.163078,
          0.254363
         ],
         "yaxis": "y4"
        },
        {
         "hovertext": [
          0.00098,
          0.32747,
          0.08715,
          0.036509,
          0.547892
         ],
         "type": "bar",
         "xaxis": "x5",
         "y": [
          0.00098,
          0.32747,
          0.08715,
          0.036509,
          0.547892
         ],
         "yaxis": "y5"
        },
        {
         "hovertext": [
          0.034664999999999994,
          0.693854,
          1e-05,
          1e-05,
          0.271461
         ],
         "type": "bar",
         "xaxis": "x6",
         "y": [
          0.034664999999999994,
          0.693854,
          1e-05,
          1e-05,
          0.271461
         ],
         "yaxis": "y6"
        },
        {
         "hovertext": [
          1e-05,
          0.985035,
          0.014006999999999999,
          1e-05,
          0.000938
         ],
         "type": "bar",
         "xaxis": "x7",
         "y": [
          1e-05,
          0.985035,
          0.014006999999999999,
          1e-05,
          0.000938
         ],
         "yaxis": "y7"
        },
        {
         "hovertext": [
          0.628153,
          0.351371,
          0.003244,
          0.017223,
          1e-05
         ],
         "type": "bar",
         "xaxis": "x8",
         "y": [
          0.628153,
          0.351371,
          0.003244,
          0.017223,
          1e-05
         ],
         "yaxis": "y8"
        },
        {
         "hovertext": [
          0.15398,
          0.8246020000000001,
          0.015864,
          0.0055439999999999994,
          1e-05
         ],
         "type": "bar",
         "xaxis": "x9",
         "y": [
          0.15398,
          0.8246020000000001,
          0.015864,
          0.0055439999999999994,
          1e-05
         ],
         "yaxis": "y9"
        },
        {
         "hovertext": [
          0.0007650000000000001,
          0.193234,
          0.005483,
          0.001074,
          0.799443
         ],
         "type": "bar",
         "xaxis": "x10",
         "y": [
          0.0007650000000000001,
          0.193234,
          0.005483,
          0.001074,
          0.799443
         ],
         "yaxis": "y10"
        },
        {
         "hovertext": [
          0.103934,
          0.674946,
          0.071757,
          1e-05,
          0.14935299999999999
         ],
         "type": "bar",
         "xaxis": "x11",
         "y": [
          0.103934,
          0.674946,
          0.071757,
          1e-05,
          0.14935299999999999
         ],
         "yaxis": "y11"
        },
        {
         "hovertext": [
          0.751739,
          0.086618,
          1e-05,
          0.16131099999999998,
          0.000322
         ],
         "type": "bar",
         "xaxis": "x12",
         "y": [
          0.751739,
          0.086618,
          1e-05,
          0.16131099999999998,
          0.000322
         ],
         "yaxis": "y12"
        },
        {
         "hovertext": [
          0.061538,
          1e-05,
          1e-05,
          0.000151,
          0.938292
         ],
         "type": "bar",
         "xaxis": "x13",
         "y": [
          0.061538,
          1e-05,
          1e-05,
          0.000151,
          0.938292
         ],
         "yaxis": "y13"
        },
        {
         "hovertext": [
          0.543543,
          0.451825,
          0.000696,
          0.003926,
          1e-05
         ],
         "type": "bar",
         "xaxis": "x14",
         "y": [
          0.543543,
          0.451825,
          0.000696,
          0.003926,
          1e-05
         ],
         "yaxis": "y14"
        },
        {
         "hovertext": [
          0.508288,
          0.333075,
          0.001954,
          0.156673,
          1e-05
         ],
         "type": "bar",
         "xaxis": "x15",
         "y": [
          0.508288,
          0.333075,
          0.001954,
          0.156673,
          1e-05
         ],
         "yaxis": "y15"
        },
        {
         "hovertext": [
          0.06285299999999999,
          0.766232,
          0.012008,
          0.001888,
          0.157019
         ],
         "type": "bar",
         "xaxis": "x16",
         "y": [
          0.06285299999999999,
          0.766232,
          0.012008,
          0.001888,
          0.157019
         ],
         "yaxis": "y16"
        },
        {
         "hovertext": [
          0.558817,
          0.44115299999999996,
          1e-05,
          1e-05,
          1e-05
         ],
         "type": "bar",
         "xaxis": "x17",
         "y": [
          0.558817,
          0.44115299999999996,
          1e-05,
          1e-05,
          1e-05
         ],
         "yaxis": "y17"
        },
        {
         "hovertext": [
          1e-05,
          0.732159,
          0.080752,
          1e-05,
          0.187069
         ],
         "type": "bar",
         "xaxis": "x18",
         "y": [
          1e-05,
          0.732159,
          0.080752,
          1e-05,
          0.187069
         ],
         "yaxis": "y18"
        },
        {
         "hovertext": [
          0.0016309999999999999,
          0.18851400000000001,
          1e-05,
          1e-05,
          0.8098350000000001
         ],
         "type": "bar",
         "xaxis": "x19",
         "y": [
          0.0016309999999999999,
          0.18851400000000001,
          1e-05,
          1e-05,
          0.8098350000000001
         ],
         "yaxis": "y19"
        },
        {
         "hovertext": [
          0.498687,
          0.0052049999999999996,
          0.000276,
          0.202497,
          0.293335
         ],
         "type": "bar",
         "xaxis": "x20",
         "y": [
          0.498687,
          0.0052049999999999996,
          0.000276,
          0.202497,
          0.293335
         ],
         "yaxis": "y20"
        },
        {
         "hovertext": [
          2.8000000000000003e-05,
          0.7619020000000001,
          0.137036,
          0.0053100000000000005,
          0.095724
         ],
         "type": "bar",
         "xaxis": "x21",
         "y": [
          2.8000000000000003e-05,
          0.7619020000000001,
          0.137036,
          0.0053100000000000005,
          0.095724
         ],
         "yaxis": "y21"
        },
        {
         "hovertext": [
          1e-05,
          0.87935,
          0.116703,
          0.003754,
          0.000182
         ],
         "type": "bar",
         "xaxis": "x22",
         "y": [
          1e-05,
          0.87935,
          0.116703,
          0.003754,
          0.000182
         ],
         "yaxis": "y22"
        },
        {
         "hovertext": [
          0.055425,
          0.284242,
          1e-05,
          0.001916,
          0.658408
         ],
         "type": "bar",
         "xaxis": "x23",
         "y": [
          0.055425,
          0.284242,
          1e-05,
          0.001916,
          0.658408
         ],
         "yaxis": "y23"
        },
        {
         "hovertext": [
          1e-05,
          0.8205950000000001,
          0.177715,
          1e-05,
          0.0016699999999999998
         ],
         "type": "bar",
         "xaxis": "x24",
         "y": [
          1e-05,
          0.8205950000000001,
          0.177715,
          1e-05,
          0.0016699999999999998
         ],
         "yaxis": "y24"
        },
        {
         "hovertext": [
          0.307172,
          0.691229,
          0.0015789999999999999,
          1e-05,
          1e-05
         ],
         "type": "bar",
         "xaxis": "x25",
         "y": [
          0.307172,
          0.691229,
          0.0015789999999999999,
          1e-05,
          1e-05
         ],
         "yaxis": "y25"
        },
        {
         "hovertext": [
          0.8376790000000001,
          0.001201,
          1e-05,
          0.1611,
          1e-05
         ],
         "type": "bar",
         "xaxis": "x26",
         "y": [
          0.8376790000000001,
          0.001201,
          1e-05,
          0.1611,
          1e-05
         ],
         "yaxis": "y26"
        },
        {
         "hovertext": [
          0.164722,
          1e-05,
          0.0016879999999999998,
          0.00013000000000000002,
          0.83345
         ],
         "type": "bar",
         "xaxis": "x27",
         "y": [
          0.164722,
          1e-05,
          0.0016879999999999998,
          0.00013000000000000002,
          0.83345
         ],
         "yaxis": "y27"
        },
        {
         "hovertext": [
          1e-05,
          0.122401,
          1e-05,
          0.0016079999999999998,
          0.87597
         ],
         "type": "bar",
         "xaxis": "x28",
         "y": [
          1e-05,
          0.122401,
          1e-05,
          0.0016079999999999998,
          0.87597
         ],
         "yaxis": "y28"
        },
        {
         "hovertext": [
          1e-05,
          0.829167,
          0.13126300000000002,
          0.002309,
          0.037251
         ],
         "type": "bar",
         "xaxis": "x29",
         "y": [
          1e-05,
          0.829167,
          0.13126300000000002,
          0.002309,
          0.037251
         ],
         "yaxis": "y29"
        },
        {
         "hovertext": [
          0.001142,
          0.370487,
          0.001819,
          0.00022799999999999999,
          0.626325
         ],
         "type": "bar",
         "xaxis": "x30",
         "y": [
          0.001142,
          0.370487,
          0.001819,
          0.00022799999999999999,
          0.626325
         ],
         "yaxis": "y30"
        },
        {
         "hovertext": [
          0.034695,
          0.689542,
          0.002226,
          1e-05,
          0.273528
         ],
         "type": "bar",
         "xaxis": "x31",
         "y": [
          0.034695,
          0.689542,
          0.002226,
          1e-05,
          0.273528
         ],
         "yaxis": "y31"
        },
        {
         "hovertext": [
          0.648838,
          1e-05,
          0.002211,
          0.348931,
          1e-05
         ],
         "type": "bar",
         "xaxis": "x32",
         "y": [
          0.648838,
          1e-05,
          0.002211,
          0.348931,
          1e-05
         ],
         "yaxis": "y32"
        },
        {
         "hovertext": [
          0.654985,
          0.215915,
          8.8e-05,
          0.129002,
          1e-05
         ],
         "type": "bar",
         "xaxis": "x33",
         "y": [
          0.654985,
          0.215915,
          8.8e-05,
          0.129002,
          1e-05
         ],
         "yaxis": "y33"
        },
        {
         "hovertext": [
          1e-05,
          0.176446,
          1e-05,
          1e-05,
          0.8235239999999999
         ],
         "type": "bar",
         "xaxis": "x34",
         "y": [
          1e-05,
          0.176446,
          1e-05,
          1e-05,
          0.8235239999999999
         ],
         "yaxis": "y34"
        },
        {
         "hovertext": [
          0.03589,
          0.947693,
          0.014878,
          1e-05,
          0.0015300000000000001
         ],
         "type": "bar",
         "xaxis": "x35",
         "y": [
          0.03589,
          0.947693,
          0.014878,
          1e-05,
          0.0015300000000000001
         ],
         "yaxis": "y35"
        },
        {
         "hovertext": [
          1e-05,
          0.8805639999999999,
          0.11780299999999999,
          0.0016129999999999999,
          1e-05
         ],
         "type": "bar",
         "xaxis": "x36",
         "y": [
          1e-05,
          0.8805639999999999,
          0.11780299999999999,
          0.0016129999999999999,
          1e-05
         ],
         "yaxis": "y36"
        },
        {
         "hovertext": [
          0.471649,
          0.35695,
          1e-05,
          0.048345,
          0.123047
         ],
         "type": "bar",
         "xaxis": "x37",
         "y": [
          0.471649,
          0.35695,
          1e-05,
          0.048345,
          0.123047
         ],
         "yaxis": "y37"
        },
        {
         "hovertext": [
          1e-05,
          0.455271,
          0.375348,
          0.168303,
          0.001068
         ],
         "type": "bar",
         "xaxis": "x38",
         "y": [
          1e-05,
          0.455271,
          0.375348,
          0.168303,
          0.001068
         ],
         "yaxis": "y38"
        },
        {
         "hovertext": [
          0.285193,
          0.714777,
          1e-05,
          1e-05,
          1e-05
         ],
         "type": "bar",
         "xaxis": "x39",
         "y": [
          0.285193,
          0.714777,
          1e-05,
          1e-05,
          1e-05
         ],
         "yaxis": "y39"
        },
        {
         "hovertext": [
          1e-05,
          1e-05,
          0.031372000000000004,
          0.05334,
          0.9152680000000001
         ],
         "type": "bar",
         "xaxis": "x40",
         "y": [
          1e-05,
          1e-05,
          0.031372000000000004,
          0.05334,
          0.9152680000000001
         ],
         "yaxis": "y40"
        }
       ],
       "layout": {
        "annotations": [
         {
          "font": {
           "size": 16
          },
          "showarrow": false,
          "text": "HG00096 - GBR",
          "x": 0.10625,
          "xanchor": "center",
          "xref": "paper",
          "y": 1,
          "yanchor": "bottom",
          "yref": "paper"
         },
         {
          "font": {
           "size": 16
          },
          "showarrow": false,
          "text": "HG00097 - GBR",
          "x": 0.36875,
          "xanchor": "center",
          "xref": "paper",
          "y": 1,
          "yanchor": "bottom",
          "yref": "paper"
         },
         {
          "font": {
           "size": 16
          },
          "showarrow": false,
          "text": "HG00099 - GBR",
          "x": 0.6312500000000001,
          "xanchor": "center",
          "xref": "paper",
          "y": 1,
          "yanchor": "bottom",
          "yref": "paper"
         },
         {
          "font": {
           "size": 16
          },
          "showarrow": false,
          "text": "HG00100 - GBR",
          "x": 0.89375,
          "xanchor": "center",
          "xref": "paper",
          "y": 1,
          "yanchor": "bottom",
          "yref": "paper"
         },
         {
          "font": {
           "size": 16
          },
          "showarrow": false,
          "text": "HG00101 - GBR",
          "x": 0.10625,
          "xanchor": "center",
          "xref": "paper",
          "y": 0.8950000000000001,
          "yanchor": "bottom",
          "yref": "paper"
         },
         {
          "font": {
           "size": 16
          },
          "showarrow": false,
          "text": "HG00102 - GBR",
          "x": 0.36875,
          "xanchor": "center",
          "xref": "paper",
          "y": 0.8950000000000001,
          "yanchor": "bottom",
          "yref": "paper"
         },
         {
          "font": {
           "size": 16
          },
          "showarrow": false,
          "text": "HG00103 - GBR",
          "x": 0.6312500000000001,
          "xanchor": "center",
          "xref": "paper",
          "y": 0.8950000000000001,
          "yanchor": "bottom",
          "yref": "paper"
         },
         {
          "font": {
           "size": 16
          },
          "showarrow": false,
          "text": "HG00105 - GBR",
          "x": 0.89375,
          "xanchor": "center",
          "xref": "paper",
          "y": 0.8950000000000001,
          "yanchor": "bottom",
          "yref": "paper"
         },
         {
          "font": {
           "size": 16
          },
          "showarrow": false,
          "text": "HG00106 - GBR",
          "x": 0.10625,
          "xanchor": "center",
          "xref": "paper",
          "y": 0.7900000000000001,
          "yanchor": "bottom",
          "yref": "paper"
         },
         {
          "font": {
           "size": 16
          },
          "showarrow": false,
          "text": "HG00107 - GBR",
          "x": 0.36875,
          "xanchor": "center",
          "xref": "paper",
          "y": 0.7900000000000001,
          "yanchor": "bottom",
          "yref": "paper"
         },
         {
          "font": {
           "size": 16
          },
          "showarrow": false,
          "text": "HG00108 - GBR",
          "x": 0.6312500000000001,
          "xanchor": "center",
          "xref": "paper",
          "y": 0.7900000000000001,
          "yanchor": "bottom",
          "yref": "paper"
         },
         {
          "font": {
           "size": 16
          },
          "showarrow": false,
          "text": "HG00109 - GBR",
          "x": 0.89375,
          "xanchor": "center",
          "xref": "paper",
          "y": 0.7900000000000001,
          "yanchor": "bottom",
          "yref": "paper"
         },
         {
          "font": {
           "size": 16
          },
          "showarrow": false,
          "text": "HG00110 - GBR",
          "x": 0.10625,
          "xanchor": "center",
          "xref": "paper",
          "y": 0.6850000000000002,
          "yanchor": "bottom",
          "yref": "paper"
         },
         {
          "font": {
           "size": 16
          },
          "showarrow": false,
          "text": "HG00111 - GBR",
          "x": 0.36875,
          "xanchor": "center",
          "xref": "paper",
          "y": 0.6850000000000002,
          "yanchor": "bottom",
          "yref": "paper"
         },
         {
          "font": {
           "size": 16
          },
          "showarrow": false,
          "text": "HG00112 - GBR",
          "x": 0.6312500000000001,
          "xanchor": "center",
          "xref": "paper",
          "y": 0.6850000000000002,
          "yanchor": "bottom",
          "yref": "paper"
         },
         {
          "font": {
           "size": 16
          },
          "showarrow": false,
          "text": "HG00113 - GBR",
          "x": 0.89375,
          "xanchor": "center",
          "xref": "paper",
          "y": 0.6850000000000002,
          "yanchor": "bottom",
          "yref": "paper"
         },
         {
          "font": {
           "size": 16
          },
          "showarrow": false,
          "text": "HG00114 - GBR",
          "x": 0.10625,
          "xanchor": "center",
          "xref": "paper",
          "y": 0.5800000000000001,
          "yanchor": "bottom",
          "yref": "paper"
         },
         {
          "font": {
           "size": 16
          },
          "showarrow": false,
          "text": "HG00115 - GBR",
          "x": 0.36875,
          "xanchor": "center",
          "xref": "paper",
          "y": 0.5800000000000001,
          "yanchor": "bottom",
          "yref": "paper"
         },
         {
          "font": {
           "size": 16
          },
          "showarrow": false,
          "text": "HG00116 - GBR",
          "x": 0.6312500000000001,
          "xanchor": "center",
          "xref": "paper",
          "y": 0.5800000000000001,
          "yanchor": "bottom",
          "yref": "paper"
         },
         {
          "font": {
           "size": 16
          },
          "showarrow": false,
          "text": "HG00117 - GBR",
          "x": 0.89375,
          "xanchor": "center",
          "xref": "paper",
          "y": 0.5800000000000001,
          "yanchor": "bottom",
          "yref": "paper"
         },
         {
          "font": {
           "size": 16
          },
          "showarrow": false,
          "text": "HG00118 - GBR",
          "x": 0.10625,
          "xanchor": "center",
          "xref": "paper",
          "y": 0.47500000000000003,
          "yanchor": "bottom",
          "yref": "paper"
         },
         {
          "font": {
           "size": 16
          },
          "showarrow": false,
          "text": "HG00119 - GBR",
          "x": 0.36875,
          "xanchor": "center",
          "xref": "paper",
          "y": 0.47500000000000003,
          "yanchor": "bottom",
          "yref": "paper"
         },
         {
          "font": {
           "size": 16
          },
          "showarrow": false,
          "text": "HG00120 - GBR",
          "x": 0.6312500000000001,
          "xanchor": "center",
          "xref": "paper",
          "y": 0.47500000000000003,
          "yanchor": "bottom",
          "yref": "paper"
         },
         {
          "font": {
           "size": 16
          },
          "showarrow": false,
          "text": "HG00121 - GBR",
          "x": 0.89375,
          "xanchor": "center",
          "xref": "paper",
          "y": 0.47500000000000003,
          "yanchor": "bottom",
          "yref": "paper"
         },
         {
          "font": {
           "size": 16
          },
          "showarrow": false,
          "text": "HG00122 - GBR",
          "x": 0.10625,
          "xanchor": "center",
          "xref": "paper",
          "y": 0.37000000000000005,
          "yanchor": "bottom",
          "yref": "paper"
         },
         {
          "font": {
           "size": 16
          },
          "showarrow": false,
          "text": "HG00123 - GBR",
          "x": 0.36875,
          "xanchor": "center",
          "xref": "paper",
          "y": 0.37000000000000005,
          "yanchor": "bottom",
          "yref": "paper"
         },
         {
          "font": {
           "size": 16
          },
          "showarrow": false,
          "text": "HG00125 - GBR",
          "x": 0.6312500000000001,
          "xanchor": "center",
          "xref": "paper",
          "y": 0.37000000000000005,
          "yanchor": "bottom",
          "yref": "paper"
         },
         {
          "font": {
           "size": 16
          },
          "showarrow": false,
          "text": "HG00126 - GBR",
          "x": 0.89375,
          "xanchor": "center",
          "xref": "paper",
          "y": 0.37000000000000005,
          "yanchor": "bottom",
          "yref": "paper"
         },
         {
          "font": {
           "size": 16
          },
          "showarrow": false,
          "text": "HG00127 - GBR",
          "x": 0.10625,
          "xanchor": "center",
          "xref": "paper",
          "y": 0.265,
          "yanchor": "bottom",
          "yref": "paper"
         },
         {
          "font": {
           "size": 16
          },
          "showarrow": false,
          "text": "HG00128 - GBR",
          "x": 0.36875,
          "xanchor": "center",
          "xref": "paper",
          "y": 0.265,
          "yanchor": "bottom",
          "yref": "paper"
         },
         {
          "font": {
           "size": 16
          },
          "showarrow": false,
          "text": "HG00129 - GBR",
          "x": 0.6312500000000001,
          "xanchor": "center",
          "xref": "paper",
          "y": 0.265,
          "yanchor": "bottom",
          "yref": "paper"
         },
         {
          "font": {
           "size": 16
          },
          "showarrow": false,
          "text": "HG00130 - GBR",
          "x": 0.89375,
          "xanchor": "center",
          "xref": "paper",
          "y": 0.265,
          "yanchor": "bottom",
          "yref": "paper"
         },
         {
          "font": {
           "size": 16
          },
          "showarrow": false,
          "text": "HG00131 - GBR",
          "x": 0.10625,
          "xanchor": "center",
          "xref": "paper",
          "y": 0.16000000000000003,
          "yanchor": "bottom",
          "yref": "paper"
         },
         {
          "font": {
           "size": 16
          },
          "showarrow": false,
          "text": "HG00132 - GBR",
          "x": 0.36875,
          "xanchor": "center",
          "xref": "paper",
          "y": 0.16000000000000003,
          "yanchor": "bottom",
          "yref": "paper"
         },
         {
          "font": {
           "size": 16
          },
          "showarrow": false,
          "text": "HG00133 - GBR",
          "x": 0.6312500000000001,
          "xanchor": "center",
          "xref": "paper",
          "y": 0.16000000000000003,
          "yanchor": "bottom",
          "yref": "paper"
         },
         {
          "font": {
           "size": 16
          },
          "showarrow": false,
          "text": "HG00136 - GBR",
          "x": 0.89375,
          "xanchor": "center",
          "xref": "paper",
          "y": 0.16000000000000003,
          "yanchor": "bottom",
          "yref": "paper"
         },
         {
          "font": {
           "size": 16
          },
          "showarrow": false,
          "text": "HG00137 - GBR",
          "x": 0.10625,
          "xanchor": "center",
          "xref": "paper",
          "y": 0.05500000000000001,
          "yanchor": "bottom",
          "yref": "paper"
         },
         {
          "font": {
           "size": 16
          },
          "showarrow": false,
          "text": "HG00138 - GBR",
          "x": 0.36875,
          "xanchor": "center",
          "xref": "paper",
          "y": 0.05500000000000001,
          "yanchor": "bottom",
          "yref": "paper"
         },
         {
          "font": {
           "size": 16
          },
          "showarrow": false,
          "text": "HG00139 - GBR",
          "x": 0.6312500000000001,
          "xanchor": "center",
          "xref": "paper",
          "y": 0.05500000000000001,
          "yanchor": "bottom",
          "yref": "paper"
         },
         {
          "font": {
           "size": 16
          },
          "showarrow": false,
          "text": "HG00140 - GBR",
          "x": 0.89375,
          "xanchor": "center",
          "xref": "paper",
          "y": 0.05500000000000001,
          "yanchor": "bottom",
          "yref": "paper"
         }
        ],
        "height": 1000,
        "showlegend": false,
        "template": {
         "data": {
          "bar": [
           {
            "error_x": {
             "color": "#2a3f5f"
            },
            "error_y": {
             "color": "#2a3f5f"
            },
            "marker": {
             "line": {
              "color": "#E5ECF6",
              "width": 0.5
             }
            },
            "type": "bar"
           }
          ],
          "barpolar": [
           {
            "marker": {
             "line": {
              "color": "#E5ECF6",
              "width": 0.5
             }
            },
            "type": "barpolar"
           }
          ],
          "carpet": [
           {
            "aaxis": {
             "endlinecolor": "#2a3f5f",
             "gridcolor": "white",
             "linecolor": "white",
             "minorgridcolor": "white",
             "startlinecolor": "#2a3f5f"
            },
            "baxis": {
             "endlinecolor": "#2a3f5f",
             "gridcolor": "white",
             "linecolor": "white",
             "minorgridcolor": "white",
             "startlinecolor": "#2a3f5f"
            },
            "type": "carpet"
           }
          ],
          "choropleth": [
           {
            "colorbar": {
             "outlinewidth": 0,
             "ticks": ""
            },
            "type": "choropleth"
           }
          ],
          "contour": [
           {
            "colorbar": {
             "outlinewidth": 0,
             "ticks": ""
            },
            "colorscale": [
             [
              0,
              "#0d0887"
             ],
             [
              0.1111111111111111,
              "#46039f"
             ],
             [
              0.2222222222222222,
              "#7201a8"
             ],
             [
              0.3333333333333333,
              "#9c179e"
             ],
             [
              0.4444444444444444,
              "#bd3786"
             ],
             [
              0.5555555555555556,
              "#d8576b"
             ],
             [
              0.6666666666666666,
              "#ed7953"
             ],
             [
              0.7777777777777778,
              "#fb9f3a"
             ],
             [
              0.8888888888888888,
              "#fdca26"
             ],
             [
              1,
              "#f0f921"
             ]
            ],
            "type": "contour"
           }
          ],
          "contourcarpet": [
           {
            "colorbar": {
             "outlinewidth": 0,
             "ticks": ""
            },
            "type": "contourcarpet"
           }
          ],
          "heatmap": [
           {
            "colorbar": {
             "outlinewidth": 0,
             "ticks": ""
            },
            "colorscale": [
             [
              0,
              "#0d0887"
             ],
             [
              0.1111111111111111,
              "#46039f"
             ],
             [
              0.2222222222222222,
              "#7201a8"
             ],
             [
              0.3333333333333333,
              "#9c179e"
             ],
             [
              0.4444444444444444,
              "#bd3786"
             ],
             [
              0.5555555555555556,
              "#d8576b"
             ],
             [
              0.6666666666666666,
              "#ed7953"
             ],
             [
              0.7777777777777778,
              "#fb9f3a"
             ],
             [
              0.8888888888888888,
              "#fdca26"
             ],
             [
              1,
              "#f0f921"
             ]
            ],
            "type": "heatmap"
           }
          ],
          "heatmapgl": [
           {
            "colorbar": {
             "outlinewidth": 0,
             "ticks": ""
            },
            "colorscale": [
             [
              0,
              "#0d0887"
             ],
             [
              0.1111111111111111,
              "#46039f"
             ],
             [
              0.2222222222222222,
              "#7201a8"
             ],
             [
              0.3333333333333333,
              "#9c179e"
             ],
             [
              0.4444444444444444,
              "#bd3786"
             ],
             [
              0.5555555555555556,
              "#d8576b"
             ],
             [
              0.6666666666666666,
              "#ed7953"
             ],
             [
              0.7777777777777778,
              "#fb9f3a"
             ],
             [
              0.8888888888888888,
              "#fdca26"
             ],
             [
              1,
              "#f0f921"
             ]
            ],
            "type": "heatmapgl"
           }
          ],
          "histogram": [
           {
            "marker": {
             "colorbar": {
              "outlinewidth": 0,
              "ticks": ""
             }
            },
            "type": "histogram"
           }
          ],
          "histogram2d": [
           {
            "colorbar": {
             "outlinewidth": 0,
             "ticks": ""
            },
            "colorscale": [
             [
              0,
              "#0d0887"
             ],
             [
              0.1111111111111111,
              "#46039f"
             ],
             [
              0.2222222222222222,
              "#7201a8"
             ],
             [
              0.3333333333333333,
              "#9c179e"
             ],
             [
              0.4444444444444444,
              "#bd3786"
             ],
             [
              0.5555555555555556,
              "#d8576b"
             ],
             [
              0.6666666666666666,
              "#ed7953"
             ],
             [
              0.7777777777777778,
              "#fb9f3a"
             ],
             [
              0.8888888888888888,
              "#fdca26"
             ],
             [
              1,
              "#f0f921"
             ]
            ],
            "type": "histogram2d"
           }
          ],
          "histogram2dcontour": [
           {
            "colorbar": {
             "outlinewidth": 0,
             "ticks": ""
            },
            "colorscale": [
             [
              0,
              "#0d0887"
             ],
             [
              0.1111111111111111,
              "#46039f"
             ],
             [
              0.2222222222222222,
              "#7201a8"
             ],
             [
              0.3333333333333333,
              "#9c179e"
             ],
             [
              0.4444444444444444,
              "#bd3786"
             ],
             [
              0.5555555555555556,
              "#d8576b"
             ],
             [
              0.6666666666666666,
              "#ed7953"
             ],
             [
              0.7777777777777778,
              "#fb9f3a"
             ],
             [
              0.8888888888888888,
              "#fdca26"
             ],
             [
              1,
              "#f0f921"
             ]
            ],
            "type": "histogram2dcontour"
           }
          ],
          "mesh3d": [
           {
            "colorbar": {
             "outlinewidth": 0,
             "ticks": ""
            },
            "type": "mesh3d"
           }
          ],
          "parcoords": [
           {
            "line": {
             "colorbar": {
              "outlinewidth": 0,
              "ticks": ""
             }
            },
            "type": "parcoords"
           }
          ],
          "pie": [
           {
            "automargin": true,
            "type": "pie"
           }
          ],
          "scatter": [
           {
            "marker": {
             "colorbar": {
              "outlinewidth": 0,
              "ticks": ""
             }
            },
            "type": "scatter"
           }
          ],
          "scatter3d": [
           {
            "line": {
             "colorbar": {
              "outlinewidth": 0,
              "ticks": ""
             }
            },
            "marker": {
             "colorbar": {
              "outlinewidth": 0,
              "ticks": ""
             }
            },
            "type": "scatter3d"
           }
          ],
          "scattercarpet": [
           {
            "marker": {
             "colorbar": {
              "outlinewidth": 0,
              "ticks": ""
             }
            },
            "type": "scattercarpet"
           }
          ],
          "scattergeo": [
           {
            "marker": {
             "colorbar": {
              "outlinewidth": 0,
              "ticks": ""
             }
            },
            "type": "scattergeo"
           }
          ],
          "scattergl": [
           {
            "marker": {
             "colorbar": {
              "outlinewidth": 0,
              "ticks": ""
             }
            },
            "type": "scattergl"
           }
          ],
          "scattermapbox": [
           {
            "marker": {
             "colorbar": {
              "outlinewidth": 0,
              "ticks": ""
             }
            },
            "type": "scattermapbox"
           }
          ],
          "scatterpolar": [
           {
            "marker": {
             "colorbar": {
              "outlinewidth": 0,
              "ticks": ""
             }
            },
            "type": "scatterpolar"
           }
          ],
          "scatterpolargl": [
           {
            "marker": {
             "colorbar": {
              "outlinewidth": 0,
              "ticks": ""
             }
            },
            "type": "scatterpolargl"
           }
          ],
          "scatterternary": [
           {
            "marker": {
             "colorbar": {
              "outlinewidth": 0,
              "ticks": ""
             }
            },
            "type": "scatterternary"
           }
          ],
          "surface": [
           {
            "colorbar": {
             "outlinewidth": 0,
             "ticks": ""
            },
            "colorscale": [
             [
              0,
              "#0d0887"
             ],
             [
              0.1111111111111111,
              "#46039f"
             ],
             [
              0.2222222222222222,
              "#7201a8"
             ],
             [
              0.3333333333333333,
              "#9c179e"
             ],
             [
              0.4444444444444444,
              "#bd3786"
             ],
             [
              0.5555555555555556,
              "#d8576b"
             ],
             [
              0.6666666666666666,
              "#ed7953"
             ],
             [
              0.7777777777777778,
              "#fb9f3a"
             ],
             [
              0.8888888888888888,
              "#fdca26"
             ],
             [
              1,
              "#f0f921"
             ]
            ],
            "type": "surface"
           }
          ],
          "table": [
           {
            "cells": {
             "fill": {
              "color": "#EBF0F8"
             },
             "line": {
              "color": "white"
             }
            },
            "header": {
             "fill": {
              "color": "#C8D4E3"
             },
             "line": {
              "color": "white"
             }
            },
            "type": "table"
           }
          ]
         },
         "layout": {
          "annotationdefaults": {
           "arrowcolor": "#2a3f5f",
           "arrowhead": 0,
           "arrowwidth": 1
          },
          "coloraxis": {
           "colorbar": {
            "outlinewidth": 0,
            "ticks": ""
           }
          },
          "colorscale": {
           "diverging": [
            [
             0,
             "#8e0152"
            ],
            [
             0.1,
             "#c51b7d"
            ],
            [
             0.2,
             "#de77ae"
            ],
            [
             0.3,
             "#f1b6da"
            ],
            [
             0.4,
             "#fde0ef"
            ],
            [
             0.5,
             "#f7f7f7"
            ],
            [
             0.6,
             "#e6f5d0"
            ],
            [
             0.7,
             "#b8e186"
            ],
            [
             0.8,
             "#7fbc41"
            ],
            [
             0.9,
             "#4d9221"
            ],
            [
             1,
             "#276419"
            ]
           ],
           "sequential": [
            [
             0,
             "#0d0887"
            ],
            [
             0.1111111111111111,
             "#46039f"
            ],
            [
             0.2222222222222222,
             "#7201a8"
            ],
            [
             0.3333333333333333,
             "#9c179e"
            ],
            [
             0.4444444444444444,
             "#bd3786"
            ],
            [
             0.5555555555555556,
             "#d8576b"
            ],
            [
             0.6666666666666666,
             "#ed7953"
            ],
            [
             0.7777777777777778,
             "#fb9f3a"
            ],
            [
             0.8888888888888888,
             "#fdca26"
            ],
            [
             1,
             "#f0f921"
            ]
           ],
           "sequentialminus": [
            [
             0,
             "#0d0887"
            ],
            [
             0.1111111111111111,
             "#46039f"
            ],
            [
             0.2222222222222222,
             "#7201a8"
            ],
            [
             0.3333333333333333,
             "#9c179e"
            ],
            [
             0.4444444444444444,
             "#bd3786"
            ],
            [
             0.5555555555555556,
             "#d8576b"
            ],
            [
             0.6666666666666666,
             "#ed7953"
            ],
            [
             0.7777777777777778,
             "#fb9f3a"
            ],
            [
             0.8888888888888888,
             "#fdca26"
            ],
            [
             1,
             "#f0f921"
            ]
           ]
          },
          "colorway": [
           "#636efa",
           "#EF553B",
           "#00cc96",
           "#ab63fa",
           "#FFA15A",
           "#19d3f3",
           "#FF6692",
           "#B6E880",
           "#FF97FF",
           "#FECB52"
          ],
          "font": {
           "color": "#2a3f5f"
          },
          "geo": {
           "bgcolor": "white",
           "lakecolor": "white",
           "landcolor": "#E5ECF6",
           "showlakes": true,
           "showland": true,
           "subunitcolor": "white"
          },
          "hoverlabel": {
           "align": "left"
          },
          "hovermode": "closest",
          "mapbox": {
           "style": "light"
          },
          "paper_bgcolor": "white",
          "plot_bgcolor": "#E5ECF6",
          "polar": {
           "angularaxis": {
            "gridcolor": "white",
            "linecolor": "white",
            "ticks": ""
           },
           "bgcolor": "#E5ECF6",
           "radialaxis": {
            "gridcolor": "white",
            "linecolor": "white",
            "ticks": ""
           }
          },
          "scene": {
           "xaxis": {
            "backgroundcolor": "#E5ECF6",
            "gridcolor": "white",
            "gridwidth": 2,
            "linecolor": "white",
            "showbackground": true,
            "ticks": "",
            "zerolinecolor": "white"
           },
           "yaxis": {
            "backgroundcolor": "#E5ECF6",
            "gridcolor": "white",
            "gridwidth": 2,
            "linecolor": "white",
            "showbackground": true,
            "ticks": "",
            "zerolinecolor": "white"
           },
           "zaxis": {
            "backgroundcolor": "#E5ECF6",
            "gridcolor": "white",
            "gridwidth": 2,
            "linecolor": "white",
            "showbackground": true,
            "ticks": "",
            "zerolinecolor": "white"
           }
          },
          "shapedefaults": {
           "line": {
            "color": "#2a3f5f"
           }
          },
          "ternary": {
           "aaxis": {
            "gridcolor": "white",
            "linecolor": "white",
            "ticks": ""
           },
           "baxis": {
            "gridcolor": "white",
            "linecolor": "white",
            "ticks": ""
           },
           "bgcolor": "#E5ECF6",
           "caxis": {
            "gridcolor": "white",
            "linecolor": "white",
            "ticks": ""
           }
          },
          "title": {
           "x": 0.05
          },
          "xaxis": {
           "automargin": true,
           "gridcolor": "white",
           "linecolor": "white",
           "ticks": "",
           "title": {
            "standoff": 15
           },
           "zerolinecolor": "white",
           "zerolinewidth": 2
          },
          "yaxis": {
           "automargin": true,
           "gridcolor": "white",
           "linecolor": "white",
           "ticks": "",
           "title": {
            "standoff": 15
           },
           "zerolinecolor": "white",
           "zerolinewidth": 2
          }
         }
        },
        "title": {
         "text": "Графики разложения отельных индивидов на компоненты"
        },
        "width": 800,
        "xaxis": {
         "anchor": "y",
         "domain": [
          0,
          0.2125
         ]
        },
        "xaxis10": {
         "anchor": "y10",
         "domain": [
          0.2625,
          0.475
         ]
        },
        "xaxis11": {
         "anchor": "y11",
         "domain": [
          0.525,
          0.7375
         ]
        },
        "xaxis12": {
         "anchor": "y12",
         "domain": [
          0.7875,
          1
         ]
        },
        "xaxis13": {
         "anchor": "y13",
         "domain": [
          0,
          0.2125
         ]
        },
        "xaxis14": {
         "anchor": "y14",
         "domain": [
          0.2625,
          0.475
         ]
        },
        "xaxis15": {
         "anchor": "y15",
         "domain": [
          0.525,
          0.7375
         ]
        },
        "xaxis16": {
         "anchor": "y16",
         "domain": [
          0.7875,
          1
         ]
        },
        "xaxis17": {
         "anchor": "y17",
         "domain": [
          0,
          0.2125
         ]
        },
        "xaxis18": {
         "anchor": "y18",
         "domain": [
          0.2625,
          0.475
         ]
        },
        "xaxis19": {
         "anchor": "y19",
         "domain": [
          0.525,
          0.7375
         ]
        },
        "xaxis2": {
         "anchor": "y2",
         "domain": [
          0.2625,
          0.475
         ]
        },
        "xaxis20": {
         "anchor": "y20",
         "domain": [
          0.7875,
          1
         ]
        },
        "xaxis21": {
         "anchor": "y21",
         "domain": [
          0,
          0.2125
         ]
        },
        "xaxis22": {
         "anchor": "y22",
         "domain": [
          0.2625,
          0.475
         ]
        },
        "xaxis23": {
         "anchor": "y23",
         "domain": [
          0.525,
          0.7375
         ]
        },
        "xaxis24": {
         "anchor": "y24",
         "domain": [
          0.7875,
          1
         ]
        },
        "xaxis25": {
         "anchor": "y25",
         "domain": [
          0,
          0.2125
         ]
        },
        "xaxis26": {
         "anchor": "y26",
         "domain": [
          0.2625,
          0.475
         ]
        },
        "xaxis27": {
         "anchor": "y27",
         "domain": [
          0.525,
          0.7375
         ]
        },
        "xaxis28": {
         "anchor": "y28",
         "domain": [
          0.7875,
          1
         ]
        },
        "xaxis29": {
         "anchor": "y29",
         "domain": [
          0,
          0.2125
         ]
        },
        "xaxis3": {
         "anchor": "y3",
         "domain": [
          0.525,
          0.7375
         ]
        },
        "xaxis30": {
         "anchor": "y30",
         "domain": [
          0.2625,
          0.475
         ]
        },
        "xaxis31": {
         "anchor": "y31",
         "domain": [
          0.525,
          0.7375
         ]
        },
        "xaxis32": {
         "anchor": "y32",
         "domain": [
          0.7875,
          1
         ]
        },
        "xaxis33": {
         "anchor": "y33",
         "domain": [
          0,
          0.2125
         ]
        },
        "xaxis34": {
         "anchor": "y34",
         "domain": [
          0.2625,
          0.475
         ]
        },
        "xaxis35": {
         "anchor": "y35",
         "domain": [
          0.525,
          0.7375
         ]
        },
        "xaxis36": {
         "anchor": "y36",
         "domain": [
          0.7875,
          1
         ]
        },
        "xaxis37": {
         "anchor": "y37",
         "domain": [
          0,
          0.2125
         ]
        },
        "xaxis38": {
         "anchor": "y38",
         "domain": [
          0.2625,
          0.475
         ]
        },
        "xaxis39": {
         "anchor": "y39",
         "domain": [
          0.525,
          0.7375
         ]
        },
        "xaxis4": {
         "anchor": "y4",
         "domain": [
          0.7875,
          1
         ]
        },
        "xaxis40": {
         "anchor": "y40",
         "domain": [
          0.7875,
          1
         ]
        },
        "xaxis5": {
         "anchor": "y5",
         "domain": [
          0,
          0.2125
         ]
        },
        "xaxis6": {
         "anchor": "y6",
         "domain": [
          0.2625,
          0.475
         ]
        },
        "xaxis7": {
         "anchor": "y7",
         "domain": [
          0.525,
          0.7375
         ]
        },
        "xaxis8": {
         "anchor": "y8",
         "domain": [
          0.7875,
          1
         ]
        },
        "xaxis9": {
         "anchor": "y9",
         "domain": [
          0,
          0.2125
         ]
        },
        "yaxis": {
         "anchor": "x",
         "domain": [
          0.9450000000000001,
          1
         ]
        },
        "yaxis10": {
         "anchor": "x10",
         "domain": [
          0.7350000000000001,
          0.7900000000000001
         ]
        },
        "yaxis11": {
         "anchor": "x11",
         "domain": [
          0.7350000000000001,
          0.7900000000000001
         ]
        },
        "yaxis12": {
         "anchor": "x12",
         "domain": [
          0.7350000000000001,
          0.7900000000000001
         ]
        },
        "yaxis13": {
         "anchor": "x13",
         "domain": [
          0.6300000000000001,
          0.6850000000000002
         ]
        },
        "yaxis14": {
         "anchor": "x14",
         "domain": [
          0.6300000000000001,
          0.6850000000000002
         ]
        },
        "yaxis15": {
         "anchor": "x15",
         "domain": [
          0.6300000000000001,
          0.6850000000000002
         ]
        },
        "yaxis16": {
         "anchor": "x16",
         "domain": [
          0.6300000000000001,
          0.6850000000000002
         ]
        },
        "yaxis17": {
         "anchor": "x17",
         "domain": [
          0.525,
          0.5800000000000001
         ]
        },
        "yaxis18": {
         "anchor": "x18",
         "domain": [
          0.525,
          0.5800000000000001
         ]
        },
        "yaxis19": {
         "anchor": "x19",
         "domain": [
          0.525,
          0.5800000000000001
         ]
        },
        "yaxis2": {
         "anchor": "x2",
         "domain": [
          0.9450000000000001,
          1
         ]
        },
        "yaxis20": {
         "anchor": "x20",
         "domain": [
          0.525,
          0.5800000000000001
         ]
        },
        "yaxis21": {
         "anchor": "x21",
         "domain": [
          0.42000000000000004,
          0.47500000000000003
         ]
        },
        "yaxis22": {
         "anchor": "x22",
         "domain": [
          0.42000000000000004,
          0.47500000000000003
         ]
        },
        "yaxis23": {
         "anchor": "x23",
         "domain": [
          0.42000000000000004,
          0.47500000000000003
         ]
        },
        "yaxis24": {
         "anchor": "x24",
         "domain": [
          0.42000000000000004,
          0.47500000000000003
         ]
        },
        "yaxis25": {
         "anchor": "x25",
         "domain": [
          0.31500000000000006,
          0.37000000000000005
         ]
        },
        "yaxis26": {
         "anchor": "x26",
         "domain": [
          0.31500000000000006,
          0.37000000000000005
         ]
        },
        "yaxis27": {
         "anchor": "x27",
         "domain": [
          0.31500000000000006,
          0.37000000000000005
         ]
        },
        "yaxis28": {
         "anchor": "x28",
         "domain": [
          0.31500000000000006,
          0.37000000000000005
         ]
        },
        "yaxis29": {
         "anchor": "x29",
         "domain": [
          0.21000000000000002,
          0.265
         ]
        },
        "yaxis3": {
         "anchor": "x3",
         "domain": [
          0.9450000000000001,
          1
         ]
        },
        "yaxis30": {
         "anchor": "x30",
         "domain": [
          0.21000000000000002,
          0.265
         ]
        },
        "yaxis31": {
         "anchor": "x31",
         "domain": [
          0.21000000000000002,
          0.265
         ]
        },
        "yaxis32": {
         "anchor": "x32",
         "domain": [
          0.21000000000000002,
          0.265
         ]
        },
        "yaxis33": {
         "anchor": "x33",
         "domain": [
          0.10500000000000001,
          0.16000000000000003
         ]
        },
        "yaxis34": {
         "anchor": "x34",
         "domain": [
          0.10500000000000001,
          0.16000000000000003
         ]
        },
        "yaxis35": {
         "anchor": "x35",
         "domain": [
          0.10500000000000001,
          0.16000000000000003
         ]
        },
        "yaxis36": {
         "anchor": "x36",
         "domain": [
          0.10500000000000001,
          0.16000000000000003
         ]
        },
        "yaxis37": {
         "anchor": "x37",
         "domain": [
          0,
          0.05500000000000001
         ]
        },
        "yaxis38": {
         "anchor": "x38",
         "domain": [
          0,
          0.05500000000000001
         ]
        },
        "yaxis39": {
         "anchor": "x39",
         "domain": [
          0,
          0.05500000000000001
         ]
        },
        "yaxis4": {
         "anchor": "x4",
         "domain": [
          0.9450000000000001,
          1
         ]
        },
        "yaxis40": {
         "anchor": "x40",
         "domain": [
          0,
          0.05500000000000001
         ]
        },
        "yaxis5": {
         "anchor": "x5",
         "domain": [
          0.8400000000000001,
          0.8950000000000001
         ]
        },
        "yaxis6": {
         "anchor": "x6",
         "domain": [
          0.8400000000000001,
          0.8950000000000001
         ]
        },
        "yaxis7": {
         "anchor": "x7",
         "domain": [
          0.8400000000000001,
          0.8950000000000001
         ]
        },
        "yaxis8": {
         "anchor": "x8",
         "domain": [
          0.8400000000000001,
          0.8950000000000001
         ]
        },
        "yaxis9": {
         "anchor": "x9",
         "domain": [
          0.7350000000000001,
          0.7900000000000001
         ]
        }
       }
      },
      "text/html": [
       "<div>\n",
       "        \n",
       "        \n",
       "            <div id=\"be171125-8c44-443d-a5ad-5aa06bafaf42\" class=\"plotly-graph-div\" style=\"height:1000px; width:800px;\"></div>\n",
       "            <script type=\"text/javascript\">\n",
       "                require([\"plotly\"], function(Plotly) {\n",
       "                    window.PLOTLYENV=window.PLOTLYENV || {};\n",
       "                    \n",
       "                if (document.getElementById(\"be171125-8c44-443d-a5ad-5aa06bafaf42\")) {\n",
       "                    Plotly.newPlot(\n",
       "                        'be171125-8c44-443d-a5ad-5aa06bafaf42',\n",
       "                        [{\"hovertext\": [0.17185899999999998, 0.7999149999999999, 0.016705, 1e-05, 0.011512], \"type\": \"bar\", \"xaxis\": \"x\", \"y\": [0.17185899999999998, 0.7999149999999999, 0.016705, 1e-05, 0.011512], \"yaxis\": \"y\"}, {\"hovertext\": [0.44983599999999996, 0.321868, 0.000547, 0.024397, 0.203353], \"type\": \"bar\", \"xaxis\": \"x2\", \"y\": [0.44983599999999996, 0.321868, 0.000547, 0.024397, 0.203353], \"yaxis\": \"y2\"}, {\"hovertext\": [0.0020670000000000003, 0.834965, 0.162063, 1e-05, 0.0008939999999999999], \"type\": \"bar\", \"xaxis\": \"x3\", \"y\": [0.0020670000000000003, 0.834965, 0.162063, 1e-05, 0.0008939999999999999], \"yaxis\": \"y3\"}, {\"hovertext\": [1e-05, 0.22983, 0.352719, 0.163078, 0.254363], \"type\": \"bar\", \"xaxis\": \"x4\", \"y\": [1e-05, 0.22983, 0.352719, 0.163078, 0.254363], \"yaxis\": \"y4\"}, {\"hovertext\": [0.00098, 0.32747, 0.08715, 0.036509, 0.547892], \"type\": \"bar\", \"xaxis\": \"x5\", \"y\": [0.00098, 0.32747, 0.08715, 0.036509, 0.547892], \"yaxis\": \"y5\"}, {\"hovertext\": [0.034664999999999994, 0.693854, 1e-05, 1e-05, 0.271461], \"type\": \"bar\", \"xaxis\": \"x6\", \"y\": [0.034664999999999994, 0.693854, 1e-05, 1e-05, 0.271461], \"yaxis\": \"y6\"}, {\"hovertext\": [1e-05, 0.985035, 0.014006999999999999, 1e-05, 0.000938], \"type\": \"bar\", \"xaxis\": \"x7\", \"y\": [1e-05, 0.985035, 0.014006999999999999, 1e-05, 0.000938], \"yaxis\": \"y7\"}, {\"hovertext\": [0.628153, 0.351371, 0.003244, 0.017223, 1e-05], \"type\": \"bar\", \"xaxis\": \"x8\", \"y\": [0.628153, 0.351371, 0.003244, 0.017223, 1e-05], \"yaxis\": \"y8\"}, {\"hovertext\": [0.15398, 0.8246020000000001, 0.015864, 0.0055439999999999994, 1e-05], \"type\": \"bar\", \"xaxis\": \"x9\", \"y\": [0.15398, 0.8246020000000001, 0.015864, 0.0055439999999999994, 1e-05], \"yaxis\": \"y9\"}, {\"hovertext\": [0.0007650000000000001, 0.193234, 0.005483, 0.001074, 0.799443], \"type\": \"bar\", \"xaxis\": \"x10\", \"y\": [0.0007650000000000001, 0.193234, 0.005483, 0.001074, 0.799443], \"yaxis\": \"y10\"}, {\"hovertext\": [0.103934, 0.674946, 0.071757, 1e-05, 0.14935299999999999], \"type\": \"bar\", \"xaxis\": \"x11\", \"y\": [0.103934, 0.674946, 0.071757, 1e-05, 0.14935299999999999], \"yaxis\": \"y11\"}, {\"hovertext\": [0.751739, 0.086618, 1e-05, 0.16131099999999998, 0.000322], \"type\": \"bar\", \"xaxis\": \"x12\", \"y\": [0.751739, 0.086618, 1e-05, 0.16131099999999998, 0.000322], \"yaxis\": \"y12\"}, {\"hovertext\": [0.061538, 1e-05, 1e-05, 0.000151, 0.938292], \"type\": \"bar\", \"xaxis\": \"x13\", \"y\": [0.061538, 1e-05, 1e-05, 0.000151, 0.938292], \"yaxis\": \"y13\"}, {\"hovertext\": [0.543543, 0.451825, 0.000696, 0.003926, 1e-05], \"type\": \"bar\", \"xaxis\": \"x14\", \"y\": [0.543543, 0.451825, 0.000696, 0.003926, 1e-05], \"yaxis\": \"y14\"}, {\"hovertext\": [0.508288, 0.333075, 0.001954, 0.156673, 1e-05], \"type\": \"bar\", \"xaxis\": \"x15\", \"y\": [0.508288, 0.333075, 0.001954, 0.156673, 1e-05], \"yaxis\": \"y15\"}, {\"hovertext\": [0.06285299999999999, 0.766232, 0.012008, 0.001888, 0.157019], \"type\": \"bar\", \"xaxis\": \"x16\", \"y\": [0.06285299999999999, 0.766232, 0.012008, 0.001888, 0.157019], \"yaxis\": \"y16\"}, {\"hovertext\": [0.558817, 0.44115299999999996, 1e-05, 1e-05, 1e-05], \"type\": \"bar\", \"xaxis\": \"x17\", \"y\": [0.558817, 0.44115299999999996, 1e-05, 1e-05, 1e-05], \"yaxis\": \"y17\"}, {\"hovertext\": [1e-05, 0.732159, 0.080752, 1e-05, 0.187069], \"type\": \"bar\", \"xaxis\": \"x18\", \"y\": [1e-05, 0.732159, 0.080752, 1e-05, 0.187069], \"yaxis\": \"y18\"}, {\"hovertext\": [0.0016309999999999999, 0.18851400000000001, 1e-05, 1e-05, 0.8098350000000001], \"type\": \"bar\", \"xaxis\": \"x19\", \"y\": [0.0016309999999999999, 0.18851400000000001, 1e-05, 1e-05, 0.8098350000000001], \"yaxis\": \"y19\"}, {\"hovertext\": [0.498687, 0.0052049999999999996, 0.000276, 0.202497, 0.293335], \"type\": \"bar\", \"xaxis\": \"x20\", \"y\": [0.498687, 0.0052049999999999996, 0.000276, 0.202497, 0.293335], \"yaxis\": \"y20\"}, {\"hovertext\": [2.8000000000000003e-05, 0.7619020000000001, 0.137036, 0.0053100000000000005, 0.095724], \"type\": \"bar\", \"xaxis\": \"x21\", \"y\": [2.8000000000000003e-05, 0.7619020000000001, 0.137036, 0.0053100000000000005, 0.095724], \"yaxis\": \"y21\"}, {\"hovertext\": [1e-05, 0.87935, 0.116703, 0.003754, 0.000182], \"type\": \"bar\", \"xaxis\": \"x22\", \"y\": [1e-05, 0.87935, 0.116703, 0.003754, 0.000182], \"yaxis\": \"y22\"}, {\"hovertext\": [0.055425, 0.284242, 1e-05, 0.001916, 0.658408], \"type\": \"bar\", \"xaxis\": \"x23\", \"y\": [0.055425, 0.284242, 1e-05, 0.001916, 0.658408], \"yaxis\": \"y23\"}, {\"hovertext\": [1e-05, 0.8205950000000001, 0.177715, 1e-05, 0.0016699999999999998], \"type\": \"bar\", \"xaxis\": \"x24\", \"y\": [1e-05, 0.8205950000000001, 0.177715, 1e-05, 0.0016699999999999998], \"yaxis\": \"y24\"}, {\"hovertext\": [0.307172, 0.691229, 0.0015789999999999999, 1e-05, 1e-05], \"type\": \"bar\", \"xaxis\": \"x25\", \"y\": [0.307172, 0.691229, 0.0015789999999999999, 1e-05, 1e-05], \"yaxis\": \"y25\"}, {\"hovertext\": [0.8376790000000001, 0.001201, 1e-05, 0.1611, 1e-05], \"type\": \"bar\", \"xaxis\": \"x26\", \"y\": [0.8376790000000001, 0.001201, 1e-05, 0.1611, 1e-05], \"yaxis\": \"y26\"}, {\"hovertext\": [0.164722, 1e-05, 0.0016879999999999998, 0.00013000000000000002, 0.83345], \"type\": \"bar\", \"xaxis\": \"x27\", \"y\": [0.164722, 1e-05, 0.0016879999999999998, 0.00013000000000000002, 0.83345], \"yaxis\": \"y27\"}, {\"hovertext\": [1e-05, 0.122401, 1e-05, 0.0016079999999999998, 0.87597], \"type\": \"bar\", \"xaxis\": \"x28\", \"y\": [1e-05, 0.122401, 1e-05, 0.0016079999999999998, 0.87597], \"yaxis\": \"y28\"}, {\"hovertext\": [1e-05, 0.829167, 0.13126300000000002, 0.002309, 0.037251], \"type\": \"bar\", \"xaxis\": \"x29\", \"y\": [1e-05, 0.829167, 0.13126300000000002, 0.002309, 0.037251], \"yaxis\": \"y29\"}, {\"hovertext\": [0.001142, 0.370487, 0.001819, 0.00022799999999999999, 0.626325], \"type\": \"bar\", \"xaxis\": \"x30\", \"y\": [0.001142, 0.370487, 0.001819, 0.00022799999999999999, 0.626325], \"yaxis\": \"y30\"}, {\"hovertext\": [0.034695, 0.689542, 0.002226, 1e-05, 0.273528], \"type\": \"bar\", \"xaxis\": \"x31\", \"y\": [0.034695, 0.689542, 0.002226, 1e-05, 0.273528], \"yaxis\": \"y31\"}, {\"hovertext\": [0.648838, 1e-05, 0.002211, 0.348931, 1e-05], \"type\": \"bar\", \"xaxis\": \"x32\", \"y\": [0.648838, 1e-05, 0.002211, 0.348931, 1e-05], \"yaxis\": \"y32\"}, {\"hovertext\": [0.654985, 0.215915, 8.8e-05, 0.129002, 1e-05], \"type\": \"bar\", \"xaxis\": \"x33\", \"y\": [0.654985, 0.215915, 8.8e-05, 0.129002, 1e-05], \"yaxis\": \"y33\"}, {\"hovertext\": [1e-05, 0.176446, 1e-05, 1e-05, 0.8235239999999999], \"type\": \"bar\", \"xaxis\": \"x34\", \"y\": [1e-05, 0.176446, 1e-05, 1e-05, 0.8235239999999999], \"yaxis\": \"y34\"}, {\"hovertext\": [0.03589, 0.947693, 0.014878, 1e-05, 0.0015300000000000001], \"type\": \"bar\", \"xaxis\": \"x35\", \"y\": [0.03589, 0.947693, 0.014878, 1e-05, 0.0015300000000000001], \"yaxis\": \"y35\"}, {\"hovertext\": [1e-05, 0.8805639999999999, 0.11780299999999999, 0.0016129999999999999, 1e-05], \"type\": \"bar\", \"xaxis\": \"x36\", \"y\": [1e-05, 0.8805639999999999, 0.11780299999999999, 0.0016129999999999999, 1e-05], \"yaxis\": \"y36\"}, {\"hovertext\": [0.471649, 0.35695, 1e-05, 0.048345, 0.123047], \"type\": \"bar\", \"xaxis\": \"x37\", \"y\": [0.471649, 0.35695, 1e-05, 0.048345, 0.123047], \"yaxis\": \"y37\"}, {\"hovertext\": [1e-05, 0.455271, 0.375348, 0.168303, 0.001068], \"type\": \"bar\", \"xaxis\": \"x38\", \"y\": [1e-05, 0.455271, 0.375348, 0.168303, 0.001068], \"yaxis\": \"y38\"}, {\"hovertext\": [0.285193, 0.714777, 1e-05, 1e-05, 1e-05], \"type\": \"bar\", \"xaxis\": \"x39\", \"y\": [0.285193, 0.714777, 1e-05, 1e-05, 1e-05], \"yaxis\": \"y39\"}, {\"hovertext\": [1e-05, 1e-05, 0.031372000000000004, 0.05334, 0.9152680000000001], \"type\": \"bar\", \"xaxis\": \"x40\", \"y\": [1e-05, 1e-05, 0.031372000000000004, 0.05334, 0.9152680000000001], \"yaxis\": \"y40\"}],\n",
       "                        {\"annotations\": [{\"font\": {\"size\": 16}, \"showarrow\": false, \"text\": \"HG00096 - GBR\", \"x\": 0.10625, \"xanchor\": \"center\", \"xref\": \"paper\", \"y\": 1.0, \"yanchor\": \"bottom\", \"yref\": \"paper\"}, {\"font\": {\"size\": 16}, \"showarrow\": false, \"text\": \"HG00097 - GBR\", \"x\": 0.36875, \"xanchor\": \"center\", \"xref\": \"paper\", \"y\": 1.0, \"yanchor\": \"bottom\", \"yref\": \"paper\"}, {\"font\": {\"size\": 16}, \"showarrow\": false, \"text\": \"HG00099 - GBR\", \"x\": 0.6312500000000001, \"xanchor\": \"center\", \"xref\": \"paper\", \"y\": 1.0, \"yanchor\": \"bottom\", \"yref\": \"paper\"}, {\"font\": {\"size\": 16}, \"showarrow\": false, \"text\": \"HG00100 - GBR\", \"x\": 0.89375, \"xanchor\": \"center\", \"xref\": \"paper\", \"y\": 1.0, \"yanchor\": \"bottom\", \"yref\": \"paper\"}, {\"font\": {\"size\": 16}, \"showarrow\": false, \"text\": \"HG00101 - GBR\", \"x\": 0.10625, \"xanchor\": \"center\", \"xref\": \"paper\", \"y\": 0.8950000000000001, \"yanchor\": \"bottom\", \"yref\": \"paper\"}, {\"font\": {\"size\": 16}, \"showarrow\": false, \"text\": \"HG00102 - GBR\", \"x\": 0.36875, \"xanchor\": \"center\", \"xref\": \"paper\", \"y\": 0.8950000000000001, \"yanchor\": \"bottom\", \"yref\": \"paper\"}, {\"font\": {\"size\": 16}, \"showarrow\": false, \"text\": \"HG00103 - GBR\", \"x\": 0.6312500000000001, \"xanchor\": \"center\", \"xref\": \"paper\", \"y\": 0.8950000000000001, \"yanchor\": \"bottom\", \"yref\": \"paper\"}, {\"font\": {\"size\": 16}, \"showarrow\": false, \"text\": \"HG00105 - GBR\", \"x\": 0.89375, \"xanchor\": \"center\", \"xref\": \"paper\", \"y\": 0.8950000000000001, \"yanchor\": \"bottom\", \"yref\": \"paper\"}, {\"font\": {\"size\": 16}, \"showarrow\": false, \"text\": \"HG00106 - GBR\", \"x\": 0.10625, \"xanchor\": \"center\", \"xref\": \"paper\", \"y\": 0.7900000000000001, \"yanchor\": \"bottom\", \"yref\": \"paper\"}, {\"font\": {\"size\": 16}, \"showarrow\": false, \"text\": \"HG00107 - GBR\", \"x\": 0.36875, \"xanchor\": \"center\", \"xref\": \"paper\", \"y\": 0.7900000000000001, \"yanchor\": \"bottom\", \"yref\": \"paper\"}, {\"font\": {\"size\": 16}, \"showarrow\": false, \"text\": \"HG00108 - GBR\", \"x\": 0.6312500000000001, \"xanchor\": \"center\", \"xref\": \"paper\", \"y\": 0.7900000000000001, \"yanchor\": \"bottom\", \"yref\": \"paper\"}, {\"font\": {\"size\": 16}, \"showarrow\": false, \"text\": \"HG00109 - GBR\", \"x\": 0.89375, \"xanchor\": \"center\", \"xref\": \"paper\", \"y\": 0.7900000000000001, \"yanchor\": \"bottom\", \"yref\": \"paper\"}, {\"font\": {\"size\": 16}, \"showarrow\": false, \"text\": \"HG00110 - GBR\", \"x\": 0.10625, \"xanchor\": \"center\", \"xref\": \"paper\", \"y\": 0.6850000000000002, \"yanchor\": \"bottom\", \"yref\": \"paper\"}, {\"font\": {\"size\": 16}, \"showarrow\": false, \"text\": \"HG00111 - GBR\", \"x\": 0.36875, \"xanchor\": \"center\", \"xref\": \"paper\", \"y\": 0.6850000000000002, \"yanchor\": \"bottom\", \"yref\": \"paper\"}, {\"font\": {\"size\": 16}, \"showarrow\": false, \"text\": \"HG00112 - GBR\", \"x\": 0.6312500000000001, \"xanchor\": \"center\", \"xref\": \"paper\", \"y\": 0.6850000000000002, \"yanchor\": \"bottom\", \"yref\": \"paper\"}, {\"font\": {\"size\": 16}, \"showarrow\": false, \"text\": \"HG00113 - GBR\", \"x\": 0.89375, \"xanchor\": \"center\", \"xref\": \"paper\", \"y\": 0.6850000000000002, \"yanchor\": \"bottom\", \"yref\": \"paper\"}, {\"font\": {\"size\": 16}, \"showarrow\": false, \"text\": \"HG00114 - GBR\", \"x\": 0.10625, \"xanchor\": \"center\", \"xref\": \"paper\", \"y\": 0.5800000000000001, \"yanchor\": \"bottom\", \"yref\": \"paper\"}, {\"font\": {\"size\": 16}, \"showarrow\": false, \"text\": \"HG00115 - GBR\", \"x\": 0.36875, \"xanchor\": \"center\", \"xref\": \"paper\", \"y\": 0.5800000000000001, \"yanchor\": \"bottom\", \"yref\": \"paper\"}, {\"font\": {\"size\": 16}, \"showarrow\": false, \"text\": \"HG00116 - GBR\", \"x\": 0.6312500000000001, \"xanchor\": \"center\", \"xref\": \"paper\", \"y\": 0.5800000000000001, \"yanchor\": \"bottom\", \"yref\": \"paper\"}, {\"font\": {\"size\": 16}, \"showarrow\": false, \"text\": \"HG00117 - GBR\", \"x\": 0.89375, \"xanchor\": \"center\", \"xref\": \"paper\", \"y\": 0.5800000000000001, \"yanchor\": \"bottom\", \"yref\": \"paper\"}, {\"font\": {\"size\": 16}, \"showarrow\": false, \"text\": \"HG00118 - GBR\", \"x\": 0.10625, \"xanchor\": \"center\", \"xref\": \"paper\", \"y\": 0.47500000000000003, \"yanchor\": \"bottom\", \"yref\": \"paper\"}, {\"font\": {\"size\": 16}, \"showarrow\": false, \"text\": \"HG00119 - GBR\", \"x\": 0.36875, \"xanchor\": \"center\", \"xref\": \"paper\", \"y\": 0.47500000000000003, \"yanchor\": \"bottom\", \"yref\": \"paper\"}, {\"font\": {\"size\": 16}, \"showarrow\": false, \"text\": \"HG00120 - GBR\", \"x\": 0.6312500000000001, \"xanchor\": \"center\", \"xref\": \"paper\", \"y\": 0.47500000000000003, \"yanchor\": \"bottom\", \"yref\": \"paper\"}, {\"font\": {\"size\": 16}, \"showarrow\": false, \"text\": \"HG00121 - GBR\", \"x\": 0.89375, \"xanchor\": \"center\", \"xref\": \"paper\", \"y\": 0.47500000000000003, \"yanchor\": \"bottom\", \"yref\": \"paper\"}, {\"font\": {\"size\": 16}, \"showarrow\": false, \"text\": \"HG00122 - GBR\", \"x\": 0.10625, \"xanchor\": \"center\", \"xref\": \"paper\", \"y\": 0.37000000000000005, \"yanchor\": \"bottom\", \"yref\": \"paper\"}, {\"font\": {\"size\": 16}, \"showarrow\": false, \"text\": \"HG00123 - GBR\", \"x\": 0.36875, \"xanchor\": \"center\", \"xref\": \"paper\", \"y\": 0.37000000000000005, \"yanchor\": \"bottom\", \"yref\": \"paper\"}, {\"font\": {\"size\": 16}, \"showarrow\": false, \"text\": \"HG00125 - GBR\", \"x\": 0.6312500000000001, \"xanchor\": \"center\", \"xref\": \"paper\", \"y\": 0.37000000000000005, \"yanchor\": \"bottom\", \"yref\": \"paper\"}, {\"font\": {\"size\": 16}, \"showarrow\": false, \"text\": \"HG00126 - GBR\", \"x\": 0.89375, \"xanchor\": \"center\", \"xref\": \"paper\", \"y\": 0.37000000000000005, \"yanchor\": \"bottom\", \"yref\": \"paper\"}, {\"font\": {\"size\": 16}, \"showarrow\": false, \"text\": \"HG00127 - GBR\", \"x\": 0.10625, \"xanchor\": \"center\", \"xref\": \"paper\", \"y\": 0.265, \"yanchor\": \"bottom\", \"yref\": \"paper\"}, {\"font\": {\"size\": 16}, \"showarrow\": false, \"text\": \"HG00128 - GBR\", \"x\": 0.36875, \"xanchor\": \"center\", \"xref\": \"paper\", \"y\": 0.265, \"yanchor\": \"bottom\", \"yref\": \"paper\"}, {\"font\": {\"size\": 16}, \"showarrow\": false, \"text\": \"HG00129 - GBR\", \"x\": 0.6312500000000001, \"xanchor\": \"center\", \"xref\": \"paper\", \"y\": 0.265, \"yanchor\": \"bottom\", \"yref\": \"paper\"}, {\"font\": {\"size\": 16}, \"showarrow\": false, \"text\": \"HG00130 - GBR\", \"x\": 0.89375, \"xanchor\": \"center\", \"xref\": \"paper\", \"y\": 0.265, \"yanchor\": \"bottom\", \"yref\": \"paper\"}, {\"font\": {\"size\": 16}, \"showarrow\": false, \"text\": \"HG00131 - GBR\", \"x\": 0.10625, \"xanchor\": \"center\", \"xref\": \"paper\", \"y\": 0.16000000000000003, \"yanchor\": \"bottom\", \"yref\": \"paper\"}, {\"font\": {\"size\": 16}, \"showarrow\": false, \"text\": \"HG00132 - GBR\", \"x\": 0.36875, \"xanchor\": \"center\", \"xref\": \"paper\", \"y\": 0.16000000000000003, \"yanchor\": \"bottom\", \"yref\": \"paper\"}, {\"font\": {\"size\": 16}, \"showarrow\": false, \"text\": \"HG00133 - GBR\", \"x\": 0.6312500000000001, \"xanchor\": \"center\", \"xref\": \"paper\", \"y\": 0.16000000000000003, \"yanchor\": \"bottom\", \"yref\": \"paper\"}, {\"font\": {\"size\": 16}, \"showarrow\": false, \"text\": \"HG00136 - GBR\", \"x\": 0.89375, \"xanchor\": \"center\", \"xref\": \"paper\", \"y\": 0.16000000000000003, \"yanchor\": \"bottom\", \"yref\": \"paper\"}, {\"font\": {\"size\": 16}, \"showarrow\": false, \"text\": \"HG00137 - GBR\", \"x\": 0.10625, \"xanchor\": \"center\", \"xref\": \"paper\", \"y\": 0.05500000000000001, \"yanchor\": \"bottom\", \"yref\": \"paper\"}, {\"font\": {\"size\": 16}, \"showarrow\": false, \"text\": \"HG00138 - GBR\", \"x\": 0.36875, \"xanchor\": \"center\", \"xref\": \"paper\", \"y\": 0.05500000000000001, \"yanchor\": \"bottom\", \"yref\": \"paper\"}, {\"font\": {\"size\": 16}, \"showarrow\": false, \"text\": \"HG00139 - GBR\", \"x\": 0.6312500000000001, \"xanchor\": \"center\", \"xref\": \"paper\", \"y\": 0.05500000000000001, \"yanchor\": \"bottom\", \"yref\": \"paper\"}, {\"font\": {\"size\": 16}, \"showarrow\": false, \"text\": \"HG00140 - GBR\", \"x\": 0.89375, \"xanchor\": \"center\", \"xref\": \"paper\", \"y\": 0.05500000000000001, \"yanchor\": \"bottom\", \"yref\": \"paper\"}], \"height\": 1000, \"showlegend\": false, \"template\": {\"data\": {\"bar\": [{\"error_x\": {\"color\": \"#2a3f5f\"}, \"error_y\": {\"color\": \"#2a3f5f\"}, \"marker\": {\"line\": {\"color\": \"#E5ECF6\", \"width\": 0.5}}, \"type\": \"bar\"}], \"barpolar\": [{\"marker\": {\"line\": {\"color\": \"#E5ECF6\", \"width\": 0.5}}, \"type\": \"barpolar\"}], \"carpet\": [{\"aaxis\": {\"endlinecolor\": \"#2a3f5f\", \"gridcolor\": \"white\", \"linecolor\": \"white\", \"minorgridcolor\": \"white\", \"startlinecolor\": \"#2a3f5f\"}, \"baxis\": {\"endlinecolor\": \"#2a3f5f\", \"gridcolor\": \"white\", \"linecolor\": \"white\", \"minorgridcolor\": \"white\", \"startlinecolor\": \"#2a3f5f\"}, \"type\": \"carpet\"}], \"choropleth\": [{\"colorbar\": {\"outlinewidth\": 0, \"ticks\": \"\"}, \"type\": \"choropleth\"}], \"contour\": [{\"colorbar\": {\"outlinewidth\": 0, \"ticks\": \"\"}, \"colorscale\": [[0.0, \"#0d0887\"], [0.1111111111111111, \"#46039f\"], [0.2222222222222222, \"#7201a8\"], [0.3333333333333333, \"#9c179e\"], [0.4444444444444444, \"#bd3786\"], [0.5555555555555556, \"#d8576b\"], [0.6666666666666666, \"#ed7953\"], [0.7777777777777778, \"#fb9f3a\"], [0.8888888888888888, \"#fdca26\"], [1.0, \"#f0f921\"]], \"type\": \"contour\"}], \"contourcarpet\": [{\"colorbar\": {\"outlinewidth\": 0, \"ticks\": \"\"}, \"type\": \"contourcarpet\"}], \"heatmap\": [{\"colorbar\": {\"outlinewidth\": 0, \"ticks\": \"\"}, \"colorscale\": [[0.0, \"#0d0887\"], [0.1111111111111111, \"#46039f\"], [0.2222222222222222, \"#7201a8\"], [0.3333333333333333, \"#9c179e\"], [0.4444444444444444, \"#bd3786\"], [0.5555555555555556, \"#d8576b\"], [0.6666666666666666, \"#ed7953\"], [0.7777777777777778, \"#fb9f3a\"], [0.8888888888888888, \"#fdca26\"], [1.0, \"#f0f921\"]], \"type\": \"heatmap\"}], \"heatmapgl\": [{\"colorbar\": {\"outlinewidth\": 0, \"ticks\": \"\"}, \"colorscale\": [[0.0, \"#0d0887\"], [0.1111111111111111, \"#46039f\"], [0.2222222222222222, \"#7201a8\"], [0.3333333333333333, \"#9c179e\"], [0.4444444444444444, \"#bd3786\"], [0.5555555555555556, \"#d8576b\"], [0.6666666666666666, \"#ed7953\"], [0.7777777777777778, \"#fb9f3a\"], [0.8888888888888888, \"#fdca26\"], [1.0, \"#f0f921\"]], \"type\": \"heatmapgl\"}], \"histogram\": [{\"marker\": {\"colorbar\": {\"outlinewidth\": 0, \"ticks\": \"\"}}, \"type\": \"histogram\"}], \"histogram2d\": [{\"colorbar\": {\"outlinewidth\": 0, \"ticks\": \"\"}, \"colorscale\": [[0.0, \"#0d0887\"], [0.1111111111111111, \"#46039f\"], [0.2222222222222222, \"#7201a8\"], [0.3333333333333333, \"#9c179e\"], [0.4444444444444444, \"#bd3786\"], [0.5555555555555556, \"#d8576b\"], [0.6666666666666666, \"#ed7953\"], [0.7777777777777778, \"#fb9f3a\"], [0.8888888888888888, \"#fdca26\"], [1.0, \"#f0f921\"]], \"type\": \"histogram2d\"}], \"histogram2dcontour\": [{\"colorbar\": {\"outlinewidth\": 0, \"ticks\": \"\"}, \"colorscale\": [[0.0, \"#0d0887\"], [0.1111111111111111, \"#46039f\"], [0.2222222222222222, \"#7201a8\"], [0.3333333333333333, \"#9c179e\"], [0.4444444444444444, \"#bd3786\"], [0.5555555555555556, \"#d8576b\"], [0.6666666666666666, \"#ed7953\"], [0.7777777777777778, \"#fb9f3a\"], [0.8888888888888888, \"#fdca26\"], [1.0, \"#f0f921\"]], \"type\": \"histogram2dcontour\"}], \"mesh3d\": [{\"colorbar\": {\"outlinewidth\": 0, \"ticks\": \"\"}, \"type\": \"mesh3d\"}], \"parcoords\": [{\"line\": {\"colorbar\": {\"outlinewidth\": 0, \"ticks\": \"\"}}, \"type\": \"parcoords\"}], \"pie\": [{\"automargin\": true, \"type\": \"pie\"}], \"scatter\": [{\"marker\": {\"colorbar\": {\"outlinewidth\": 0, \"ticks\": \"\"}}, \"type\": \"scatter\"}], \"scatter3d\": [{\"line\": {\"colorbar\": {\"outlinewidth\": 0, \"ticks\": \"\"}}, \"marker\": {\"colorbar\": {\"outlinewidth\": 0, \"ticks\": \"\"}}, \"type\": \"scatter3d\"}], \"scattercarpet\": [{\"marker\": {\"colorbar\": {\"outlinewidth\": 0, \"ticks\": \"\"}}, \"type\": \"scattercarpet\"}], \"scattergeo\": [{\"marker\": {\"colorbar\": {\"outlinewidth\": 0, \"ticks\": \"\"}}, \"type\": \"scattergeo\"}], \"scattergl\": [{\"marker\": {\"colorbar\": {\"outlinewidth\": 0, \"ticks\": \"\"}}, \"type\": \"scattergl\"}], \"scattermapbox\": [{\"marker\": {\"colorbar\": {\"outlinewidth\": 0, \"ticks\": \"\"}}, \"type\": \"scattermapbox\"}], \"scatterpolar\": [{\"marker\": {\"colorbar\": {\"outlinewidth\": 0, \"ticks\": \"\"}}, \"type\": \"scatterpolar\"}], \"scatterpolargl\": [{\"marker\": {\"colorbar\": {\"outlinewidth\": 0, \"ticks\": \"\"}}, \"type\": \"scatterpolargl\"}], \"scatterternary\": [{\"marker\": {\"colorbar\": {\"outlinewidth\": 0, \"ticks\": \"\"}}, \"type\": \"scatterternary\"}], \"surface\": [{\"colorbar\": {\"outlinewidth\": 0, \"ticks\": \"\"}, \"colorscale\": [[0.0, \"#0d0887\"], [0.1111111111111111, \"#46039f\"], [0.2222222222222222, \"#7201a8\"], [0.3333333333333333, \"#9c179e\"], [0.4444444444444444, \"#bd3786\"], [0.5555555555555556, \"#d8576b\"], [0.6666666666666666, \"#ed7953\"], [0.7777777777777778, \"#fb9f3a\"], [0.8888888888888888, \"#fdca26\"], [1.0, \"#f0f921\"]], \"type\": \"surface\"}], \"table\": [{\"cells\": {\"fill\": {\"color\": \"#EBF0F8\"}, \"line\": {\"color\": \"white\"}}, \"header\": {\"fill\": {\"color\": \"#C8D4E3\"}, \"line\": {\"color\": \"white\"}}, \"type\": \"table\"}]}, \"layout\": {\"annotationdefaults\": {\"arrowcolor\": \"#2a3f5f\", \"arrowhead\": 0, \"arrowwidth\": 1}, \"coloraxis\": {\"colorbar\": {\"outlinewidth\": 0, \"ticks\": \"\"}}, \"colorscale\": {\"diverging\": [[0, \"#8e0152\"], [0.1, \"#c51b7d\"], [0.2, \"#de77ae\"], [0.3, \"#f1b6da\"], [0.4, \"#fde0ef\"], [0.5, \"#f7f7f7\"], [0.6, \"#e6f5d0\"], [0.7, \"#b8e186\"], [0.8, \"#7fbc41\"], [0.9, \"#4d9221\"], [1, \"#276419\"]], \"sequential\": [[0.0, \"#0d0887\"], [0.1111111111111111, \"#46039f\"], [0.2222222222222222, \"#7201a8\"], [0.3333333333333333, \"#9c179e\"], [0.4444444444444444, \"#bd3786\"], [0.5555555555555556, \"#d8576b\"], [0.6666666666666666, \"#ed7953\"], [0.7777777777777778, \"#fb9f3a\"], [0.8888888888888888, \"#fdca26\"], [1.0, \"#f0f921\"]], \"sequentialminus\": [[0.0, \"#0d0887\"], [0.1111111111111111, \"#46039f\"], [0.2222222222222222, \"#7201a8\"], [0.3333333333333333, \"#9c179e\"], [0.4444444444444444, \"#bd3786\"], [0.5555555555555556, \"#d8576b\"], [0.6666666666666666, \"#ed7953\"], [0.7777777777777778, \"#fb9f3a\"], [0.8888888888888888, \"#fdca26\"], [1.0, \"#f0f921\"]]}, \"colorway\": [\"#636efa\", \"#EF553B\", \"#00cc96\", \"#ab63fa\", \"#FFA15A\", \"#19d3f3\", \"#FF6692\", \"#B6E880\", \"#FF97FF\", \"#FECB52\"], \"font\": {\"color\": \"#2a3f5f\"}, \"geo\": {\"bgcolor\": \"white\", \"lakecolor\": \"white\", \"landcolor\": \"#E5ECF6\", \"showlakes\": true, \"showland\": true, \"subunitcolor\": \"white\"}, \"hoverlabel\": {\"align\": \"left\"}, \"hovermode\": \"closest\", \"mapbox\": {\"style\": \"light\"}, \"paper_bgcolor\": \"white\", \"plot_bgcolor\": \"#E5ECF6\", \"polar\": {\"angularaxis\": {\"gridcolor\": \"white\", \"linecolor\": \"white\", \"ticks\": \"\"}, \"bgcolor\": \"#E5ECF6\", \"radialaxis\": {\"gridcolor\": \"white\", \"linecolor\": \"white\", \"ticks\": \"\"}}, \"scene\": {\"xaxis\": {\"backgroundcolor\": \"#E5ECF6\", \"gridcolor\": \"white\", \"gridwidth\": 2, \"linecolor\": \"white\", \"showbackground\": true, \"ticks\": \"\", \"zerolinecolor\": \"white\"}, \"yaxis\": {\"backgroundcolor\": \"#E5ECF6\", \"gridcolor\": \"white\", \"gridwidth\": 2, \"linecolor\": \"white\", \"showbackground\": true, \"ticks\": \"\", \"zerolinecolor\": \"white\"}, \"zaxis\": {\"backgroundcolor\": \"#E5ECF6\", \"gridcolor\": \"white\", \"gridwidth\": 2, \"linecolor\": \"white\", \"showbackground\": true, \"ticks\": \"\", \"zerolinecolor\": \"white\"}}, \"shapedefaults\": {\"line\": {\"color\": \"#2a3f5f\"}}, \"ternary\": {\"aaxis\": {\"gridcolor\": \"white\", \"linecolor\": \"white\", \"ticks\": \"\"}, \"baxis\": {\"gridcolor\": \"white\", \"linecolor\": \"white\", \"ticks\": \"\"}, \"bgcolor\": \"#E5ECF6\", \"caxis\": {\"gridcolor\": \"white\", \"linecolor\": \"white\", \"ticks\": \"\"}}, \"title\": {\"x\": 0.05}, \"xaxis\": {\"automargin\": true, \"gridcolor\": \"white\", \"linecolor\": \"white\", \"ticks\": \"\", \"title\": {\"standoff\": 15}, \"zerolinecolor\": \"white\", \"zerolinewidth\": 2}, \"yaxis\": {\"automargin\": true, \"gridcolor\": \"white\", \"linecolor\": \"white\", \"ticks\": \"\", \"title\": {\"standoff\": 15}, \"zerolinecolor\": \"white\", \"zerolinewidth\": 2}}}, \"title\": {\"text\": \"\\u0413\\u0440\\u0430\\u0444\\u0438\\u043a\\u0438 \\u0440\\u0430\\u0437\\u043b\\u043e\\u0436\\u0435\\u043d\\u0438\\u044f \\u043e\\u0442\\u0435\\u043b\\u044c\\u043d\\u044b\\u0445 \\u0438\\u043d\\u0434\\u0438\\u0432\\u0438\\u0434\\u043e\\u0432 \\u043d\\u0430 \\u043a\\u043e\\u043c\\u043f\\u043e\\u043d\\u0435\\u043d\\u0442\\u044b\"}, \"width\": 800, \"xaxis\": {\"anchor\": \"y\", \"domain\": [0.0, 0.2125]}, \"xaxis10\": {\"anchor\": \"y10\", \"domain\": [0.2625, 0.475]}, \"xaxis11\": {\"anchor\": \"y11\", \"domain\": [0.525, 0.7375]}, \"xaxis12\": {\"anchor\": \"y12\", \"domain\": [0.7875, 1.0]}, \"xaxis13\": {\"anchor\": \"y13\", \"domain\": [0.0, 0.2125]}, \"xaxis14\": {\"anchor\": \"y14\", \"domain\": [0.2625, 0.475]}, \"xaxis15\": {\"anchor\": \"y15\", \"domain\": [0.525, 0.7375]}, \"xaxis16\": {\"anchor\": \"y16\", \"domain\": [0.7875, 1.0]}, \"xaxis17\": {\"anchor\": \"y17\", \"domain\": [0.0, 0.2125]}, \"xaxis18\": {\"anchor\": \"y18\", \"domain\": [0.2625, 0.475]}, \"xaxis19\": {\"anchor\": \"y19\", \"domain\": [0.525, 0.7375]}, \"xaxis2\": {\"anchor\": \"y2\", \"domain\": [0.2625, 0.475]}, \"xaxis20\": {\"anchor\": \"y20\", \"domain\": [0.7875, 1.0]}, \"xaxis21\": {\"anchor\": \"y21\", \"domain\": [0.0, 0.2125]}, \"xaxis22\": {\"anchor\": \"y22\", \"domain\": [0.2625, 0.475]}, \"xaxis23\": {\"anchor\": \"y23\", \"domain\": [0.525, 0.7375]}, \"xaxis24\": {\"anchor\": \"y24\", \"domain\": [0.7875, 1.0]}, \"xaxis25\": {\"anchor\": \"y25\", \"domain\": [0.0, 0.2125]}, \"xaxis26\": {\"anchor\": \"y26\", \"domain\": [0.2625, 0.475]}, \"xaxis27\": {\"anchor\": \"y27\", \"domain\": [0.525, 0.7375]}, \"xaxis28\": {\"anchor\": \"y28\", \"domain\": [0.7875, 1.0]}, \"xaxis29\": {\"anchor\": \"y29\", \"domain\": [0.0, 0.2125]}, \"xaxis3\": {\"anchor\": \"y3\", \"domain\": [0.525, 0.7375]}, \"xaxis30\": {\"anchor\": \"y30\", \"domain\": [0.2625, 0.475]}, \"xaxis31\": {\"anchor\": \"y31\", \"domain\": [0.525, 0.7375]}, \"xaxis32\": {\"anchor\": \"y32\", \"domain\": [0.7875, 1.0]}, \"xaxis33\": {\"anchor\": \"y33\", \"domain\": [0.0, 0.2125]}, \"xaxis34\": {\"anchor\": \"y34\", \"domain\": [0.2625, 0.475]}, \"xaxis35\": {\"anchor\": \"y35\", \"domain\": [0.525, 0.7375]}, \"xaxis36\": {\"anchor\": \"y36\", \"domain\": [0.7875, 1.0]}, \"xaxis37\": {\"anchor\": \"y37\", \"domain\": [0.0, 0.2125]}, \"xaxis38\": {\"anchor\": \"y38\", \"domain\": [0.2625, 0.475]}, \"xaxis39\": {\"anchor\": \"y39\", \"domain\": [0.525, 0.7375]}, \"xaxis4\": {\"anchor\": \"y4\", \"domain\": [0.7875, 1.0]}, \"xaxis40\": {\"anchor\": \"y40\", \"domain\": [0.7875, 1.0]}, \"xaxis5\": {\"anchor\": \"y5\", \"domain\": [0.0, 0.2125]}, \"xaxis6\": {\"anchor\": \"y6\", \"domain\": [0.2625, 0.475]}, \"xaxis7\": {\"anchor\": \"y7\", \"domain\": [0.525, 0.7375]}, \"xaxis8\": {\"anchor\": \"y8\", \"domain\": [0.7875, 1.0]}, \"xaxis9\": {\"anchor\": \"y9\", \"domain\": [0.0, 0.2125]}, \"yaxis\": {\"anchor\": \"x\", \"domain\": [0.9450000000000001, 1.0]}, \"yaxis10\": {\"anchor\": \"x10\", \"domain\": [0.7350000000000001, 0.7900000000000001]}, \"yaxis11\": {\"anchor\": \"x11\", \"domain\": [0.7350000000000001, 0.7900000000000001]}, \"yaxis12\": {\"anchor\": \"x12\", \"domain\": [0.7350000000000001, 0.7900000000000001]}, \"yaxis13\": {\"anchor\": \"x13\", \"domain\": [0.6300000000000001, 0.6850000000000002]}, \"yaxis14\": {\"anchor\": \"x14\", \"domain\": [0.6300000000000001, 0.6850000000000002]}, \"yaxis15\": {\"anchor\": \"x15\", \"domain\": [0.6300000000000001, 0.6850000000000002]}, \"yaxis16\": {\"anchor\": \"x16\", \"domain\": [0.6300000000000001, 0.6850000000000002]}, \"yaxis17\": {\"anchor\": \"x17\", \"domain\": [0.525, 0.5800000000000001]}, \"yaxis18\": {\"anchor\": \"x18\", \"domain\": [0.525, 0.5800000000000001]}, \"yaxis19\": {\"anchor\": \"x19\", \"domain\": [0.525, 0.5800000000000001]}, \"yaxis2\": {\"anchor\": \"x2\", \"domain\": [0.9450000000000001, 1.0]}, \"yaxis20\": {\"anchor\": \"x20\", \"domain\": [0.525, 0.5800000000000001]}, \"yaxis21\": {\"anchor\": \"x21\", \"domain\": [0.42000000000000004, 0.47500000000000003]}, \"yaxis22\": {\"anchor\": \"x22\", \"domain\": [0.42000000000000004, 0.47500000000000003]}, \"yaxis23\": {\"anchor\": \"x23\", \"domain\": [0.42000000000000004, 0.47500000000000003]}, \"yaxis24\": {\"anchor\": \"x24\", \"domain\": [0.42000000000000004, 0.47500000000000003]}, \"yaxis25\": {\"anchor\": \"x25\", \"domain\": [0.31500000000000006, 0.37000000000000005]}, \"yaxis26\": {\"anchor\": \"x26\", \"domain\": [0.31500000000000006, 0.37000000000000005]}, \"yaxis27\": {\"anchor\": \"x27\", \"domain\": [0.31500000000000006, 0.37000000000000005]}, \"yaxis28\": {\"anchor\": \"x28\", \"domain\": [0.31500000000000006, 0.37000000000000005]}, \"yaxis29\": {\"anchor\": \"x29\", \"domain\": [0.21000000000000002, 0.265]}, \"yaxis3\": {\"anchor\": \"x3\", \"domain\": [0.9450000000000001, 1.0]}, \"yaxis30\": {\"anchor\": \"x30\", \"domain\": [0.21000000000000002, 0.265]}, \"yaxis31\": {\"anchor\": \"x31\", \"domain\": [0.21000000000000002, 0.265]}, \"yaxis32\": {\"anchor\": \"x32\", \"domain\": [0.21000000000000002, 0.265]}, \"yaxis33\": {\"anchor\": \"x33\", \"domain\": [0.10500000000000001, 0.16000000000000003]}, \"yaxis34\": {\"anchor\": \"x34\", \"domain\": [0.10500000000000001, 0.16000000000000003]}, \"yaxis35\": {\"anchor\": \"x35\", \"domain\": [0.10500000000000001, 0.16000000000000003]}, \"yaxis36\": {\"anchor\": \"x36\", \"domain\": [0.10500000000000001, 0.16000000000000003]}, \"yaxis37\": {\"anchor\": \"x37\", \"domain\": [0.0, 0.05500000000000001]}, \"yaxis38\": {\"anchor\": \"x38\", \"domain\": [0.0, 0.05500000000000001]}, \"yaxis39\": {\"anchor\": \"x39\", \"domain\": [0.0, 0.05500000000000001]}, \"yaxis4\": {\"anchor\": \"x4\", \"domain\": [0.9450000000000001, 1.0]}, \"yaxis40\": {\"anchor\": \"x40\", \"domain\": [0.0, 0.05500000000000001]}, \"yaxis5\": {\"anchor\": \"x5\", \"domain\": [0.8400000000000001, 0.8950000000000001]}, \"yaxis6\": {\"anchor\": \"x6\", \"domain\": [0.8400000000000001, 0.8950000000000001]}, \"yaxis7\": {\"anchor\": \"x7\", \"domain\": [0.8400000000000001, 0.8950000000000001]}, \"yaxis8\": {\"anchor\": \"x8\", \"domain\": [0.8400000000000001, 0.8950000000000001]}, \"yaxis9\": {\"anchor\": \"x9\", \"domain\": [0.7350000000000001, 0.7900000000000001]}},\n",
       "                        {\"responsive\": true}\n",
       "                    ).then(function(){\n",
       "                            \n",
       "var gd = document.getElementById('be171125-8c44-443d-a5ad-5aa06bafaf42');\n",
       "var x = new MutationObserver(function (mutations, observer) {{\n",
       "        var display = window.getComputedStyle(gd).display;\n",
       "        if (!display || display === 'none') {{\n",
       "            console.log([gd, 'removed!']);\n",
       "            Plotly.purge(gd);\n",
       "            observer.disconnect();\n",
       "        }}\n",
       "}});\n",
       "\n",
       "// Listen for the removal of the full notebook cells\n",
       "var notebookContainer = gd.closest('#notebook-container');\n",
       "if (notebookContainer) {{\n",
       "    x.observe(notebookContainer, {childList: true});\n",
       "}}\n",
       "\n",
       "// Listen for the clearing of the current output cell\n",
       "var outputEl = gd.closest('.output');\n",
       "if (outputEl) {{\n",
       "    x.observe(outputEl, {childList: true});\n",
       "}}\n",
       "\n",
       "                        })\n",
       "                };\n",
       "                });\n",
       "            </script>\n",
       "        </div>"
      ]
     },
     "metadata": {},
     "output_type": "display_data"
    }
   ],
   "source": [
    "start = 0\n",
    "end = 40\n",
    "cols = 4\n",
    "fig = make_subplots(rows = 10, \n",
    "                    cols = cols,\n",
    "                    subplot_titles = sub_names[start:end],                    \n",
    "                    #vertical_spacing = 0.08,\n",
    "                    #horizontal_spacing = None\n",
    "                   )\n",
    "for i in range(40):\n",
    "    fig.append_trace(go.Bar(\n",
    "        #x = ['comp1', 'comp2', 'comp3', 'comp4', 'comp5'],\n",
    "        y = df_Q.iloc[i, :],\n",
    "        hovertext = df_Q.iloc[i, :]\n",
    "    ), row = i // cols + 1, col = i % cols + 1)\n",
    "    #print(i // 4 + 1, i % 4 + 1, df_Q.iloc[i, :])\n",
    "#fig.update_layout(height = 300 + len(df_Q)//4 + 1, width=1000, title_text=\"Stacked subplots\")\n",
    "fig.update_layout(height = 100 * 10, \n",
    "                  width=200 * cols, \n",
    "                  title_text=\"Графики разложения отельных индивидов на компоненты\",\n",
    "                  showlegend = False\n",
    "                 )\n",
    "fig.show()"
   ]
  },
  {
   "cell_type": "code",
   "execution_count": 57,
   "metadata": {},
   "outputs": [
    {
     "data": {
      "application/vnd.plotly.v1+json": {
       "config": {
        "plotlyServerURL": "https://plot.ly"
       },
       "data": [
        {
         "hovertext": [
          0.17185899999999998,
          0.7999149999999999,
          0.016705,
          1e-05,
          0.011512
         ],
         "type": "bar",
         "xaxis": "x",
         "y": [
          0.17185899999999998,
          0.7999149999999999,
          0.016705,
          1e-05,
          0.011512
         ],
         "yaxis": "y"
        },
        {
         "hovertext": [
          0.44983599999999996,
          0.321868,
          0.000547,
          0.024397,
          0.203353
         ],
         "type": "bar",
         "xaxis": "x2",
         "y": [
          0.44983599999999996,
          0.321868,
          0.000547,
          0.024397,
          0.203353
         ],
         "yaxis": "y2"
        },
        {
         "hovertext": [
          0.0020670000000000003,
          0.834965,
          0.162063,
          1e-05,
          0.0008939999999999999
         ],
         "type": "bar",
         "xaxis": "x3",
         "y": [
          0.0020670000000000003,
          0.834965,
          0.162063,
          1e-05,
          0.0008939999999999999
         ],
         "yaxis": "y3"
        },
        {
         "hovertext": [
          1e-05,
          0.22983,
          0.352719,
          0.163078,
          0.254363
         ],
         "type": "bar",
         "xaxis": "x4",
         "y": [
          1e-05,
          0.22983,
          0.352719,
          0.163078,
          0.254363
         ],
         "yaxis": "y4"
        },
        {
         "hovertext": [
          0.00098,
          0.32747,
          0.08715,
          0.036509,
          0.547892
         ],
         "type": "bar",
         "xaxis": "x5",
         "y": [
          0.00098,
          0.32747,
          0.08715,
          0.036509,
          0.547892
         ],
         "yaxis": "y5"
        },
        {
         "hovertext": [
          0.034664999999999994,
          0.693854,
          1e-05,
          1e-05,
          0.271461
         ],
         "type": "bar",
         "xaxis": "x6",
         "y": [
          0.034664999999999994,
          0.693854,
          1e-05,
          1e-05,
          0.271461
         ],
         "yaxis": "y6"
        },
        {
         "hovertext": [
          1e-05,
          0.985035,
          0.014006999999999999,
          1e-05,
          0.000938
         ],
         "type": "bar",
         "xaxis": "x7",
         "y": [
          1e-05,
          0.985035,
          0.014006999999999999,
          1e-05,
          0.000938
         ],
         "yaxis": "y7"
        },
        {
         "hovertext": [
          0.628153,
          0.351371,
          0.003244,
          0.017223,
          1e-05
         ],
         "type": "bar",
         "xaxis": "x8",
         "y": [
          0.628153,
          0.351371,
          0.003244,
          0.017223,
          1e-05
         ],
         "yaxis": "y8"
        },
        {
         "hovertext": [
          0.15398,
          0.8246020000000001,
          0.015864,
          0.0055439999999999994,
          1e-05
         ],
         "type": "bar",
         "xaxis": "x9",
         "y": [
          0.15398,
          0.8246020000000001,
          0.015864,
          0.0055439999999999994,
          1e-05
         ],
         "yaxis": "y9"
        },
        {
         "hovertext": [
          0.0007650000000000001,
          0.193234,
          0.005483,
          0.001074,
          0.799443
         ],
         "type": "bar",
         "xaxis": "x10",
         "y": [
          0.0007650000000000001,
          0.193234,
          0.005483,
          0.001074,
          0.799443
         ],
         "yaxis": "y10"
        },
        {
         "hovertext": [
          0.103934,
          0.674946,
          0.071757,
          1e-05,
          0.14935299999999999
         ],
         "type": "bar",
         "xaxis": "x11",
         "y": [
          0.103934,
          0.674946,
          0.071757,
          1e-05,
          0.14935299999999999
         ],
         "yaxis": "y11"
        },
        {
         "hovertext": [
          0.751739,
          0.086618,
          1e-05,
          0.16131099999999998,
          0.000322
         ],
         "type": "bar",
         "xaxis": "x12",
         "y": [
          0.751739,
          0.086618,
          1e-05,
          0.16131099999999998,
          0.000322
         ],
         "yaxis": "y12"
        },
        {
         "hovertext": [
          0.061538,
          1e-05,
          1e-05,
          0.000151,
          0.938292
         ],
         "type": "bar",
         "xaxis": "x13",
         "y": [
          0.061538,
          1e-05,
          1e-05,
          0.000151,
          0.938292
         ],
         "yaxis": "y13"
        },
        {
         "hovertext": [
          0.543543,
          0.451825,
          0.000696,
          0.003926,
          1e-05
         ],
         "type": "bar",
         "xaxis": "x14",
         "y": [
          0.543543,
          0.451825,
          0.000696,
          0.003926,
          1e-05
         ],
         "yaxis": "y14"
        },
        {
         "hovertext": [
          0.508288,
          0.333075,
          0.001954,
          0.156673,
          1e-05
         ],
         "type": "bar",
         "xaxis": "x15",
         "y": [
          0.508288,
          0.333075,
          0.001954,
          0.156673,
          1e-05
         ],
         "yaxis": "y15"
        },
        {
         "hovertext": [
          0.06285299999999999,
          0.766232,
          0.012008,
          0.001888,
          0.157019
         ],
         "type": "bar",
         "xaxis": "x16",
         "y": [
          0.06285299999999999,
          0.766232,
          0.012008,
          0.001888,
          0.157019
         ],
         "yaxis": "y16"
        },
        {
         "hovertext": [
          0.558817,
          0.44115299999999996,
          1e-05,
          1e-05,
          1e-05
         ],
         "type": "bar",
         "xaxis": "x17",
         "y": [
          0.558817,
          0.44115299999999996,
          1e-05,
          1e-05,
          1e-05
         ],
         "yaxis": "y17"
        },
        {
         "hovertext": [
          1e-05,
          0.732159,
          0.080752,
          1e-05,
          0.187069
         ],
         "type": "bar",
         "xaxis": "x18",
         "y": [
          1e-05,
          0.732159,
          0.080752,
          1e-05,
          0.187069
         ],
         "yaxis": "y18"
        },
        {
         "hovertext": [
          0.0016309999999999999,
          0.18851400000000001,
          1e-05,
          1e-05,
          0.8098350000000001
         ],
         "type": "bar",
         "xaxis": "x19",
         "y": [
          0.0016309999999999999,
          0.18851400000000001,
          1e-05,
          1e-05,
          0.8098350000000001
         ],
         "yaxis": "y19"
        },
        {
         "hovertext": [
          0.498687,
          0.0052049999999999996,
          0.000276,
          0.202497,
          0.293335
         ],
         "type": "bar",
         "xaxis": "x20",
         "y": [
          0.498687,
          0.0052049999999999996,
          0.000276,
          0.202497,
          0.293335
         ],
         "yaxis": "y20"
        },
        {
         "hovertext": [
          2.8000000000000003e-05,
          0.7619020000000001,
          0.137036,
          0.0053100000000000005,
          0.095724
         ],
         "type": "bar",
         "xaxis": "x21",
         "y": [
          2.8000000000000003e-05,
          0.7619020000000001,
          0.137036,
          0.0053100000000000005,
          0.095724
         ],
         "yaxis": "y21"
        },
        {
         "hovertext": [
          1e-05,
          0.87935,
          0.116703,
          0.003754,
          0.000182
         ],
         "type": "bar",
         "xaxis": "x22",
         "y": [
          1e-05,
          0.87935,
          0.116703,
          0.003754,
          0.000182
         ],
         "yaxis": "y22"
        },
        {
         "hovertext": [
          0.055425,
          0.284242,
          1e-05,
          0.001916,
          0.658408
         ],
         "type": "bar",
         "xaxis": "x23",
         "y": [
          0.055425,
          0.284242,
          1e-05,
          0.001916,
          0.658408
         ],
         "yaxis": "y23"
        },
        {
         "hovertext": [
          1e-05,
          0.8205950000000001,
          0.177715,
          1e-05,
          0.0016699999999999998
         ],
         "type": "bar",
         "xaxis": "x24",
         "y": [
          1e-05,
          0.8205950000000001,
          0.177715,
          1e-05,
          0.0016699999999999998
         ],
         "yaxis": "y24"
        },
        {
         "hovertext": [
          0.307172,
          0.691229,
          0.0015789999999999999,
          1e-05,
          1e-05
         ],
         "type": "bar",
         "xaxis": "x25",
         "y": [
          0.307172,
          0.691229,
          0.0015789999999999999,
          1e-05,
          1e-05
         ],
         "yaxis": "y25"
        },
        {
         "hovertext": [
          0.8376790000000001,
          0.001201,
          1e-05,
          0.1611,
          1e-05
         ],
         "type": "bar",
         "xaxis": "x26",
         "y": [
          0.8376790000000001,
          0.001201,
          1e-05,
          0.1611,
          1e-05
         ],
         "yaxis": "y26"
        },
        {
         "hovertext": [
          0.164722,
          1e-05,
          0.0016879999999999998,
          0.00013000000000000002,
          0.83345
         ],
         "type": "bar",
         "xaxis": "x27",
         "y": [
          0.164722,
          1e-05,
          0.0016879999999999998,
          0.00013000000000000002,
          0.83345
         ],
         "yaxis": "y27"
        },
        {
         "hovertext": [
          1e-05,
          0.122401,
          1e-05,
          0.0016079999999999998,
          0.87597
         ],
         "type": "bar",
         "xaxis": "x28",
         "y": [
          1e-05,
          0.122401,
          1e-05,
          0.0016079999999999998,
          0.87597
         ],
         "yaxis": "y28"
        },
        {
         "hovertext": [
          1e-05,
          0.829167,
          0.13126300000000002,
          0.002309,
          0.037251
         ],
         "type": "bar",
         "xaxis": "x29",
         "y": [
          1e-05,
          0.829167,
          0.13126300000000002,
          0.002309,
          0.037251
         ],
         "yaxis": "y29"
        },
        {
         "hovertext": [
          0.001142,
          0.370487,
          0.001819,
          0.00022799999999999999,
          0.626325
         ],
         "type": "bar",
         "xaxis": "x30",
         "y": [
          0.001142,
          0.370487,
          0.001819,
          0.00022799999999999999,
          0.626325
         ],
         "yaxis": "y30"
        },
        {
         "hovertext": [
          0.034695,
          0.689542,
          0.002226,
          1e-05,
          0.273528
         ],
         "type": "bar",
         "xaxis": "x31",
         "y": [
          0.034695,
          0.689542,
          0.002226,
          1e-05,
          0.273528
         ],
         "yaxis": "y31"
        },
        {
         "hovertext": [
          0.648838,
          1e-05,
          0.002211,
          0.348931,
          1e-05
         ],
         "type": "bar",
         "xaxis": "x32",
         "y": [
          0.648838,
          1e-05,
          0.002211,
          0.348931,
          1e-05
         ],
         "yaxis": "y32"
        },
        {
         "hovertext": [
          0.654985,
          0.215915,
          8.8e-05,
          0.129002,
          1e-05
         ],
         "type": "bar",
         "xaxis": "x33",
         "y": [
          0.654985,
          0.215915,
          8.8e-05,
          0.129002,
          1e-05
         ],
         "yaxis": "y33"
        },
        {
         "hovertext": [
          1e-05,
          0.176446,
          1e-05,
          1e-05,
          0.8235239999999999
         ],
         "type": "bar",
         "xaxis": "x34",
         "y": [
          1e-05,
          0.176446,
          1e-05,
          1e-05,
          0.8235239999999999
         ],
         "yaxis": "y34"
        },
        {
         "hovertext": [
          0.03589,
          0.947693,
          0.014878,
          1e-05,
          0.0015300000000000001
         ],
         "type": "bar",
         "xaxis": "x35",
         "y": [
          0.03589,
          0.947693,
          0.014878,
          1e-05,
          0.0015300000000000001
         ],
         "yaxis": "y35"
        },
        {
         "hovertext": [
          1e-05,
          0.8805639999999999,
          0.11780299999999999,
          0.0016129999999999999,
          1e-05
         ],
         "type": "bar",
         "xaxis": "x36",
         "y": [
          1e-05,
          0.8805639999999999,
          0.11780299999999999,
          0.0016129999999999999,
          1e-05
         ],
         "yaxis": "y36"
        },
        {
         "hovertext": [
          0.471649,
          0.35695,
          1e-05,
          0.048345,
          0.123047
         ],
         "type": "bar",
         "xaxis": "x37",
         "y": [
          0.471649,
          0.35695,
          1e-05,
          0.048345,
          0.123047
         ],
         "yaxis": "y37"
        },
        {
         "hovertext": [
          1e-05,
          0.455271,
          0.375348,
          0.168303,
          0.001068
         ],
         "type": "bar",
         "xaxis": "x38",
         "y": [
          1e-05,
          0.455271,
          0.375348,
          0.168303,
          0.001068
         ],
         "yaxis": "y38"
        },
        {
         "hovertext": [
          0.285193,
          0.714777,
          1e-05,
          1e-05,
          1e-05
         ],
         "type": "bar",
         "xaxis": "x39",
         "y": [
          0.285193,
          0.714777,
          1e-05,
          1e-05,
          1e-05
         ],
         "yaxis": "y39"
        },
        {
         "hovertext": [
          1e-05,
          1e-05,
          0.031372000000000004,
          0.05334,
          0.9152680000000001
         ],
         "type": "bar",
         "xaxis": "x40",
         "y": [
          1e-05,
          1e-05,
          0.031372000000000004,
          0.05334,
          0.9152680000000001
         ],
         "yaxis": "y40"
        }
       ],
       "layout": {
        "annotations": [
         {
          "font": {
           "size": 16
          },
          "showarrow": false,
          "text": "HG00141 - GBR",
          "x": 0.10625,
          "xanchor": "center",
          "xref": "paper",
          "y": 1,
          "yanchor": "bottom",
          "yref": "paper"
         },
         {
          "font": {
           "size": 16
          },
          "showarrow": false,
          "text": "HG00142 - GBR",
          "x": 0.36875,
          "xanchor": "center",
          "xref": "paper",
          "y": 1,
          "yanchor": "bottom",
          "yref": "paper"
         },
         {
          "font": {
           "size": 16
          },
          "showarrow": false,
          "text": "HG00143 - GBR",
          "x": 0.6312500000000001,
          "xanchor": "center",
          "xref": "paper",
          "y": 1,
          "yanchor": "bottom",
          "yref": "paper"
         },
         {
          "font": {
           "size": 16
          },
          "showarrow": false,
          "text": "HG00145 - GBR",
          "x": 0.89375,
          "xanchor": "center",
          "xref": "paper",
          "y": 1,
          "yanchor": "bottom",
          "yref": "paper"
         },
         {
          "font": {
           "size": 16
          },
          "showarrow": false,
          "text": "HG00146 - GBR",
          "x": 0.10625,
          "xanchor": "center",
          "xref": "paper",
          "y": 0.8950000000000001,
          "yanchor": "bottom",
          "yref": "paper"
         },
         {
          "font": {
           "size": 16
          },
          "showarrow": false,
          "text": "HG00148 - GBR",
          "x": 0.36875,
          "xanchor": "center",
          "xref": "paper",
          "y": 0.8950000000000001,
          "yanchor": "bottom",
          "yref": "paper"
         },
         {
          "font": {
           "size": 16
          },
          "showarrow": false,
          "text": "HG00149 - GBR",
          "x": 0.6312500000000001,
          "xanchor": "center",
          "xref": "paper",
          "y": 0.8950000000000001,
          "yanchor": "bottom",
          "yref": "paper"
         },
         {
          "font": {
           "size": 16
          },
          "showarrow": false,
          "text": "HG00150 - GBR",
          "x": 0.89375,
          "xanchor": "center",
          "xref": "paper",
          "y": 0.8950000000000001,
          "yanchor": "bottom",
          "yref": "paper"
         },
         {
          "font": {
           "size": 16
          },
          "showarrow": false,
          "text": "HG00151 - GBR",
          "x": 0.10625,
          "xanchor": "center",
          "xref": "paper",
          "y": 0.7900000000000001,
          "yanchor": "bottom",
          "yref": "paper"
         },
         {
          "font": {
           "size": 16
          },
          "showarrow": false,
          "text": "HG00154 - GBR",
          "x": 0.36875,
          "xanchor": "center",
          "xref": "paper",
          "y": 0.7900000000000001,
          "yanchor": "bottom",
          "yref": "paper"
         },
         {
          "font": {
           "size": 16
          },
          "showarrow": false,
          "text": "HG00155 - GBR",
          "x": 0.6312500000000001,
          "xanchor": "center",
          "xref": "paper",
          "y": 0.7900000000000001,
          "yanchor": "bottom",
          "yref": "paper"
         },
         {
          "font": {
           "size": 16
          },
          "showarrow": false,
          "text": "HG00157 - GBR",
          "x": 0.89375,
          "xanchor": "center",
          "xref": "paper",
          "y": 0.7900000000000001,
          "yanchor": "bottom",
          "yref": "paper"
         },
         {
          "font": {
           "size": 16
          },
          "showarrow": false,
          "text": "HG00158 - GBR",
          "x": 0.10625,
          "xanchor": "center",
          "xref": "paper",
          "y": 0.6850000000000002,
          "yanchor": "bottom",
          "yref": "paper"
         },
         {
          "font": {
           "size": 16
          },
          "showarrow": false,
          "text": "HG00159 - GBR",
          "x": 0.36875,
          "xanchor": "center",
          "xref": "paper",
          "y": 0.6850000000000002,
          "yanchor": "bottom",
          "yref": "paper"
         },
         {
          "font": {
           "size": 16
          },
          "showarrow": false,
          "text": "HG00160 - GBR",
          "x": 0.6312500000000001,
          "xanchor": "center",
          "xref": "paper",
          "y": 0.6850000000000002,
          "yanchor": "bottom",
          "yref": "paper"
         },
         {
          "font": {
           "size": 16
          },
          "showarrow": false,
          "text": "HG00171 - FIN",
          "x": 0.89375,
          "xanchor": "center",
          "xref": "paper",
          "y": 0.6850000000000002,
          "yanchor": "bottom",
          "yref": "paper"
         },
         {
          "font": {
           "size": 16
          },
          "showarrow": false,
          "text": "HG00173 - FIN",
          "x": 0.10625,
          "xanchor": "center",
          "xref": "paper",
          "y": 0.5800000000000001,
          "yanchor": "bottom",
          "yref": "paper"
         },
         {
          "font": {
           "size": 16
          },
          "showarrow": false,
          "text": "HG00174 - FIN",
          "x": 0.36875,
          "xanchor": "center",
          "xref": "paper",
          "y": 0.5800000000000001,
          "yanchor": "bottom",
          "yref": "paper"
         },
         {
          "font": {
           "size": 16
          },
          "showarrow": false,
          "text": "HG00176 - FIN",
          "x": 0.6312500000000001,
          "xanchor": "center",
          "xref": "paper",
          "y": 0.5800000000000001,
          "yanchor": "bottom",
          "yref": "paper"
         },
         {
          "font": {
           "size": 16
          },
          "showarrow": false,
          "text": "HG00177 - FIN",
          "x": 0.89375,
          "xanchor": "center",
          "xref": "paper",
          "y": 0.5800000000000001,
          "yanchor": "bottom",
          "yref": "paper"
         },
         {
          "font": {
           "size": 16
          },
          "showarrow": false,
          "text": "HG00178 - FIN",
          "x": 0.10625,
          "xanchor": "center",
          "xref": "paper",
          "y": 0.47500000000000003,
          "yanchor": "bottom",
          "yref": "paper"
         },
         {
          "font": {
           "size": 16
          },
          "showarrow": false,
          "text": "HG00179 - FIN",
          "x": 0.36875,
          "xanchor": "center",
          "xref": "paper",
          "y": 0.47500000000000003,
          "yanchor": "bottom",
          "yref": "paper"
         },
         {
          "font": {
           "size": 16
          },
          "showarrow": false,
          "text": "HG00180 - FIN",
          "x": 0.6312500000000001,
          "xanchor": "center",
          "xref": "paper",
          "y": 0.47500000000000003,
          "yanchor": "bottom",
          "yref": "paper"
         },
         {
          "font": {
           "size": 16
          },
          "showarrow": false,
          "text": "HG00181 - FIN",
          "x": 0.89375,
          "xanchor": "center",
          "xref": "paper",
          "y": 0.47500000000000003,
          "yanchor": "bottom",
          "yref": "paper"
         },
         {
          "font": {
           "size": 16
          },
          "showarrow": false,
          "text": "HG00182 - FIN",
          "x": 0.10625,
          "xanchor": "center",
          "xref": "paper",
          "y": 0.37000000000000005,
          "yanchor": "bottom",
          "yref": "paper"
         },
         {
          "font": {
           "size": 16
          },
          "showarrow": false,
          "text": "HG00183 - FIN",
          "x": 0.36875,
          "xanchor": "center",
          "xref": "paper",
          "y": 0.37000000000000005,
          "yanchor": "bottom",
          "yref": "paper"
         },
         {
          "font": {
           "size": 16
          },
          "showarrow": false,
          "text": "HG00185 - FIN",
          "x": 0.6312500000000001,
          "xanchor": "center",
          "xref": "paper",
          "y": 0.37000000000000005,
          "yanchor": "bottom",
          "yref": "paper"
         },
         {
          "font": {
           "size": 16
          },
          "showarrow": false,
          "text": "HG00186 - FIN",
          "x": 0.89375,
          "xanchor": "center",
          "xref": "paper",
          "y": 0.37000000000000005,
          "yanchor": "bottom",
          "yref": "paper"
         },
         {
          "font": {
           "size": 16
          },
          "showarrow": false,
          "text": "HG00187 - FIN",
          "x": 0.10625,
          "xanchor": "center",
          "xref": "paper",
          "y": 0.265,
          "yanchor": "bottom",
          "yref": "paper"
         },
         {
          "font": {
           "size": 16
          },
          "showarrow": false,
          "text": "HG00188 - FIN",
          "x": 0.36875,
          "xanchor": "center",
          "xref": "paper",
          "y": 0.265,
          "yanchor": "bottom",
          "yref": "paper"
         },
         {
          "font": {
           "size": 16
          },
          "showarrow": false,
          "text": "HG00189 - FIN",
          "x": 0.6312500000000001,
          "xanchor": "center",
          "xref": "paper",
          "y": 0.265,
          "yanchor": "bottom",
          "yref": "paper"
         },
         {
          "font": {
           "size": 16
          },
          "showarrow": false,
          "text": "HG00190 - FIN",
          "x": 0.89375,
          "xanchor": "center",
          "xref": "paper",
          "y": 0.265,
          "yanchor": "bottom",
          "yref": "paper"
         },
         {
          "font": {
           "size": 16
          },
          "showarrow": false,
          "text": "HG00231 - GBR",
          "x": 0.10625,
          "xanchor": "center",
          "xref": "paper",
          "y": 0.16000000000000003,
          "yanchor": "bottom",
          "yref": "paper"
         },
         {
          "font": {
           "size": 16
          },
          "showarrow": false,
          "text": "HG00232 - GBR",
          "x": 0.36875,
          "xanchor": "center",
          "xref": "paper",
          "y": 0.16000000000000003,
          "yanchor": "bottom",
          "yref": "paper"
         },
         {
          "font": {
           "size": 16
          },
          "showarrow": false,
          "text": "HG00233 - GBR",
          "x": 0.6312500000000001,
          "xanchor": "center",
          "xref": "paper",
          "y": 0.16000000000000003,
          "yanchor": "bottom",
          "yref": "paper"
         },
         {
          "font": {
           "size": 16
          },
          "showarrow": false,
          "text": "HG00234 - GBR",
          "x": 0.89375,
          "xanchor": "center",
          "xref": "paper",
          "y": 0.16000000000000003,
          "yanchor": "bottom",
          "yref": "paper"
         },
         {
          "font": {
           "size": 16
          },
          "showarrow": false,
          "text": "HG00235 - GBR",
          "x": 0.10625,
          "xanchor": "center",
          "xref": "paper",
          "y": 0.05500000000000001,
          "yanchor": "bottom",
          "yref": "paper"
         },
         {
          "font": {
           "size": 16
          },
          "showarrow": false,
          "text": "HG00236 - GBR",
          "x": 0.36875,
          "xanchor": "center",
          "xref": "paper",
          "y": 0.05500000000000001,
          "yanchor": "bottom",
          "yref": "paper"
         },
         {
          "font": {
           "size": 16
          },
          "showarrow": false,
          "text": "HG00237 - GBR",
          "x": 0.6312500000000001,
          "xanchor": "center",
          "xref": "paper",
          "y": 0.05500000000000001,
          "yanchor": "bottom",
          "yref": "paper"
         },
         {
          "font": {
           "size": 16
          },
          "showarrow": false,
          "text": "HG00238 - GBR",
          "x": 0.89375,
          "xanchor": "center",
          "xref": "paper",
          "y": 0.05500000000000001,
          "yanchor": "bottom",
          "yref": "paper"
         }
        ],
        "height": 1000,
        "showlegend": false,
        "template": {
         "data": {
          "bar": [
           {
            "error_x": {
             "color": "#2a3f5f"
            },
            "error_y": {
             "color": "#2a3f5f"
            },
            "marker": {
             "line": {
              "color": "#E5ECF6",
              "width": 0.5
             }
            },
            "type": "bar"
           }
          ],
          "barpolar": [
           {
            "marker": {
             "line": {
              "color": "#E5ECF6",
              "width": 0.5
             }
            },
            "type": "barpolar"
           }
          ],
          "carpet": [
           {
            "aaxis": {
             "endlinecolor": "#2a3f5f",
             "gridcolor": "white",
             "linecolor": "white",
             "minorgridcolor": "white",
             "startlinecolor": "#2a3f5f"
            },
            "baxis": {
             "endlinecolor": "#2a3f5f",
             "gridcolor": "white",
             "linecolor": "white",
             "minorgridcolor": "white",
             "startlinecolor": "#2a3f5f"
            },
            "type": "carpet"
           }
          ],
          "choropleth": [
           {
            "colorbar": {
             "outlinewidth": 0,
             "ticks": ""
            },
            "type": "choropleth"
           }
          ],
          "contour": [
           {
            "colorbar": {
             "outlinewidth": 0,
             "ticks": ""
            },
            "colorscale": [
             [
              0,
              "#0d0887"
             ],
             [
              0.1111111111111111,
              "#46039f"
             ],
             [
              0.2222222222222222,
              "#7201a8"
             ],
             [
              0.3333333333333333,
              "#9c179e"
             ],
             [
              0.4444444444444444,
              "#bd3786"
             ],
             [
              0.5555555555555556,
              "#d8576b"
             ],
             [
              0.6666666666666666,
              "#ed7953"
             ],
             [
              0.7777777777777778,
              "#fb9f3a"
             ],
             [
              0.8888888888888888,
              "#fdca26"
             ],
             [
              1,
              "#f0f921"
             ]
            ],
            "type": "contour"
           }
          ],
          "contourcarpet": [
           {
            "colorbar": {
             "outlinewidth": 0,
             "ticks": ""
            },
            "type": "contourcarpet"
           }
          ],
          "heatmap": [
           {
            "colorbar": {
             "outlinewidth": 0,
             "ticks": ""
            },
            "colorscale": [
             [
              0,
              "#0d0887"
             ],
             [
              0.1111111111111111,
              "#46039f"
             ],
             [
              0.2222222222222222,
              "#7201a8"
             ],
             [
              0.3333333333333333,
              "#9c179e"
             ],
             [
              0.4444444444444444,
              "#bd3786"
             ],
             [
              0.5555555555555556,
              "#d8576b"
             ],
             [
              0.6666666666666666,
              "#ed7953"
             ],
             [
              0.7777777777777778,
              "#fb9f3a"
             ],
             [
              0.8888888888888888,
              "#fdca26"
             ],
             [
              1,
              "#f0f921"
             ]
            ],
            "type": "heatmap"
           }
          ],
          "heatmapgl": [
           {
            "colorbar": {
             "outlinewidth": 0,
             "ticks": ""
            },
            "colorscale": [
             [
              0,
              "#0d0887"
             ],
             [
              0.1111111111111111,
              "#46039f"
             ],
             [
              0.2222222222222222,
              "#7201a8"
             ],
             [
              0.3333333333333333,
              "#9c179e"
             ],
             [
              0.4444444444444444,
              "#bd3786"
             ],
             [
              0.5555555555555556,
              "#d8576b"
             ],
             [
              0.6666666666666666,
              "#ed7953"
             ],
             [
              0.7777777777777778,
              "#fb9f3a"
             ],
             [
              0.8888888888888888,
              "#fdca26"
             ],
             [
              1,
              "#f0f921"
             ]
            ],
            "type": "heatmapgl"
           }
          ],
          "histogram": [
           {
            "marker": {
             "colorbar": {
              "outlinewidth": 0,
              "ticks": ""
             }
            },
            "type": "histogram"
           }
          ],
          "histogram2d": [
           {
            "colorbar": {
             "outlinewidth": 0,
             "ticks": ""
            },
            "colorscale": [
             [
              0,
              "#0d0887"
             ],
             [
              0.1111111111111111,
              "#46039f"
             ],
             [
              0.2222222222222222,
              "#7201a8"
             ],
             [
              0.3333333333333333,
              "#9c179e"
             ],
             [
              0.4444444444444444,
              "#bd3786"
             ],
             [
              0.5555555555555556,
              "#d8576b"
             ],
             [
              0.6666666666666666,
              "#ed7953"
             ],
             [
              0.7777777777777778,
              "#fb9f3a"
             ],
             [
              0.8888888888888888,
              "#fdca26"
             ],
             [
              1,
              "#f0f921"
             ]
            ],
            "type": "histogram2d"
           }
          ],
          "histogram2dcontour": [
           {
            "colorbar": {
             "outlinewidth": 0,
             "ticks": ""
            },
            "colorscale": [
             [
              0,
              "#0d0887"
             ],
             [
              0.1111111111111111,
              "#46039f"
             ],
             [
              0.2222222222222222,
              "#7201a8"
             ],
             [
              0.3333333333333333,
              "#9c179e"
             ],
             [
              0.4444444444444444,
              "#bd3786"
             ],
             [
              0.5555555555555556,
              "#d8576b"
             ],
             [
              0.6666666666666666,
              "#ed7953"
             ],
             [
              0.7777777777777778,
              "#fb9f3a"
             ],
             [
              0.8888888888888888,
              "#fdca26"
             ],
             [
              1,
              "#f0f921"
             ]
            ],
            "type": "histogram2dcontour"
           }
          ],
          "mesh3d": [
           {
            "colorbar": {
             "outlinewidth": 0,
             "ticks": ""
            },
            "type": "mesh3d"
           }
          ],
          "parcoords": [
           {
            "line": {
             "colorbar": {
              "outlinewidth": 0,
              "ticks": ""
             }
            },
            "type": "parcoords"
           }
          ],
          "pie": [
           {
            "automargin": true,
            "type": "pie"
           }
          ],
          "scatter": [
           {
            "marker": {
             "colorbar": {
              "outlinewidth": 0,
              "ticks": ""
             }
            },
            "type": "scatter"
           }
          ],
          "scatter3d": [
           {
            "line": {
             "colorbar": {
              "outlinewidth": 0,
              "ticks": ""
             }
            },
            "marker": {
             "colorbar": {
              "outlinewidth": 0,
              "ticks": ""
             }
            },
            "type": "scatter3d"
           }
          ],
          "scattercarpet": [
           {
            "marker": {
             "colorbar": {
              "outlinewidth": 0,
              "ticks": ""
             }
            },
            "type": "scattercarpet"
           }
          ],
          "scattergeo": [
           {
            "marker": {
             "colorbar": {
              "outlinewidth": 0,
              "ticks": ""
             }
            },
            "type": "scattergeo"
           }
          ],
          "scattergl": [
           {
            "marker": {
             "colorbar": {
              "outlinewidth": 0,
              "ticks": ""
             }
            },
            "type": "scattergl"
           }
          ],
          "scattermapbox": [
           {
            "marker": {
             "colorbar": {
              "outlinewidth": 0,
              "ticks": ""
             }
            },
            "type": "scattermapbox"
           }
          ],
          "scatterpolar": [
           {
            "marker": {
             "colorbar": {
              "outlinewidth": 0,
              "ticks": ""
             }
            },
            "type": "scatterpolar"
           }
          ],
          "scatterpolargl": [
           {
            "marker": {
             "colorbar": {
              "outlinewidth": 0,
              "ticks": ""
             }
            },
            "type": "scatterpolargl"
           }
          ],
          "scatterternary": [
           {
            "marker": {
             "colorbar": {
              "outlinewidth": 0,
              "ticks": ""
             }
            },
            "type": "scatterternary"
           }
          ],
          "surface": [
           {
            "colorbar": {
             "outlinewidth": 0,
             "ticks": ""
            },
            "colorscale": [
             [
              0,
              "#0d0887"
             ],
             [
              0.1111111111111111,
              "#46039f"
             ],
             [
              0.2222222222222222,
              "#7201a8"
             ],
             [
              0.3333333333333333,
              "#9c179e"
             ],
             [
              0.4444444444444444,
              "#bd3786"
             ],
             [
              0.5555555555555556,
              "#d8576b"
             ],
             [
              0.6666666666666666,
              "#ed7953"
             ],
             [
              0.7777777777777778,
              "#fb9f3a"
             ],
             [
              0.8888888888888888,
              "#fdca26"
             ],
             [
              1,
              "#f0f921"
             ]
            ],
            "type": "surface"
           }
          ],
          "table": [
           {
            "cells": {
             "fill": {
              "color": "#EBF0F8"
             },
             "line": {
              "color": "white"
             }
            },
            "header": {
             "fill": {
              "color": "#C8D4E3"
             },
             "line": {
              "color": "white"
             }
            },
            "type": "table"
           }
          ]
         },
         "layout": {
          "annotationdefaults": {
           "arrowcolor": "#2a3f5f",
           "arrowhead": 0,
           "arrowwidth": 1
          },
          "coloraxis": {
           "colorbar": {
            "outlinewidth": 0,
            "ticks": ""
           }
          },
          "colorscale": {
           "diverging": [
            [
             0,
             "#8e0152"
            ],
            [
             0.1,
             "#c51b7d"
            ],
            [
             0.2,
             "#de77ae"
            ],
            [
             0.3,
             "#f1b6da"
            ],
            [
             0.4,
             "#fde0ef"
            ],
            [
             0.5,
             "#f7f7f7"
            ],
            [
             0.6,
             "#e6f5d0"
            ],
            [
             0.7,
             "#b8e186"
            ],
            [
             0.8,
             "#7fbc41"
            ],
            [
             0.9,
             "#4d9221"
            ],
            [
             1,
             "#276419"
            ]
           ],
           "sequential": [
            [
             0,
             "#0d0887"
            ],
            [
             0.1111111111111111,
             "#46039f"
            ],
            [
             0.2222222222222222,
             "#7201a8"
            ],
            [
             0.3333333333333333,
             "#9c179e"
            ],
            [
             0.4444444444444444,
             "#bd3786"
            ],
            [
             0.5555555555555556,
             "#d8576b"
            ],
            [
             0.6666666666666666,
             "#ed7953"
            ],
            [
             0.7777777777777778,
             "#fb9f3a"
            ],
            [
             0.8888888888888888,
             "#fdca26"
            ],
            [
             1,
             "#f0f921"
            ]
           ],
           "sequentialminus": [
            [
             0,
             "#0d0887"
            ],
            [
             0.1111111111111111,
             "#46039f"
            ],
            [
             0.2222222222222222,
             "#7201a8"
            ],
            [
             0.3333333333333333,
             "#9c179e"
            ],
            [
             0.4444444444444444,
             "#bd3786"
            ],
            [
             0.5555555555555556,
             "#d8576b"
            ],
            [
             0.6666666666666666,
             "#ed7953"
            ],
            [
             0.7777777777777778,
             "#fb9f3a"
            ],
            [
             0.8888888888888888,
             "#fdca26"
            ],
            [
             1,
             "#f0f921"
            ]
           ]
          },
          "colorway": [
           "#636efa",
           "#EF553B",
           "#00cc96",
           "#ab63fa",
           "#FFA15A",
           "#19d3f3",
           "#FF6692",
           "#B6E880",
           "#FF97FF",
           "#FECB52"
          ],
          "font": {
           "color": "#2a3f5f"
          },
          "geo": {
           "bgcolor": "white",
           "lakecolor": "white",
           "landcolor": "#E5ECF6",
           "showlakes": true,
           "showland": true,
           "subunitcolor": "white"
          },
          "hoverlabel": {
           "align": "left"
          },
          "hovermode": "closest",
          "mapbox": {
           "style": "light"
          },
          "paper_bgcolor": "white",
          "plot_bgcolor": "#E5ECF6",
          "polar": {
           "angularaxis": {
            "gridcolor": "white",
            "linecolor": "white",
            "ticks": ""
           },
           "bgcolor": "#E5ECF6",
           "radialaxis": {
            "gridcolor": "white",
            "linecolor": "white",
            "ticks": ""
           }
          },
          "scene": {
           "xaxis": {
            "backgroundcolor": "#E5ECF6",
            "gridcolor": "white",
            "gridwidth": 2,
            "linecolor": "white",
            "showbackground": true,
            "ticks": "",
            "zerolinecolor": "white"
           },
           "yaxis": {
            "backgroundcolor": "#E5ECF6",
            "gridcolor": "white",
            "gridwidth": 2,
            "linecolor": "white",
            "showbackground": true,
            "ticks": "",
            "zerolinecolor": "white"
           },
           "zaxis": {
            "backgroundcolor": "#E5ECF6",
            "gridcolor": "white",
            "gridwidth": 2,
            "linecolor": "white",
            "showbackground": true,
            "ticks": "",
            "zerolinecolor": "white"
           }
          },
          "shapedefaults": {
           "line": {
            "color": "#2a3f5f"
           }
          },
          "ternary": {
           "aaxis": {
            "gridcolor": "white",
            "linecolor": "white",
            "ticks": ""
           },
           "baxis": {
            "gridcolor": "white",
            "linecolor": "white",
            "ticks": ""
           },
           "bgcolor": "#E5ECF6",
           "caxis": {
            "gridcolor": "white",
            "linecolor": "white",
            "ticks": ""
           }
          },
          "title": {
           "x": 0.05
          },
          "xaxis": {
           "automargin": true,
           "gridcolor": "white",
           "linecolor": "white",
           "ticks": "",
           "title": {
            "standoff": 15
           },
           "zerolinecolor": "white",
           "zerolinewidth": 2
          },
          "yaxis": {
           "automargin": true,
           "gridcolor": "white",
           "linecolor": "white",
           "ticks": "",
           "title": {
            "standoff": 15
           },
           "zerolinecolor": "white",
           "zerolinewidth": 2
          }
         }
        },
        "title": {
         "text": "Графики разложения отельных индивидов на компоненты"
        },
        "width": 800,
        "xaxis": {
         "anchor": "y",
         "domain": [
          0,
          0.2125
         ]
        },
        "xaxis10": {
         "anchor": "y10",
         "domain": [
          0.2625,
          0.475
         ]
        },
        "xaxis11": {
         "anchor": "y11",
         "domain": [
          0.525,
          0.7375
         ]
        },
        "xaxis12": {
         "anchor": "y12",
         "domain": [
          0.7875,
          1
         ]
        },
        "xaxis13": {
         "anchor": "y13",
         "domain": [
          0,
          0.2125
         ]
        },
        "xaxis14": {
         "anchor": "y14",
         "domain": [
          0.2625,
          0.475
         ]
        },
        "xaxis15": {
         "anchor": "y15",
         "domain": [
          0.525,
          0.7375
         ]
        },
        "xaxis16": {
         "anchor": "y16",
         "domain": [
          0.7875,
          1
         ]
        },
        "xaxis17": {
         "anchor": "y17",
         "domain": [
          0,
          0.2125
         ]
        },
        "xaxis18": {
         "anchor": "y18",
         "domain": [
          0.2625,
          0.475
         ]
        },
        "xaxis19": {
         "anchor": "y19",
         "domain": [
          0.525,
          0.7375
         ]
        },
        "xaxis2": {
         "anchor": "y2",
         "domain": [
          0.2625,
          0.475
         ]
        },
        "xaxis20": {
         "anchor": "y20",
         "domain": [
          0.7875,
          1
         ]
        },
        "xaxis21": {
         "anchor": "y21",
         "domain": [
          0,
          0.2125
         ]
        },
        "xaxis22": {
         "anchor": "y22",
         "domain": [
          0.2625,
          0.475
         ]
        },
        "xaxis23": {
         "anchor": "y23",
         "domain": [
          0.525,
          0.7375
         ]
        },
        "xaxis24": {
         "anchor": "y24",
         "domain": [
          0.7875,
          1
         ]
        },
        "xaxis25": {
         "anchor": "y25",
         "domain": [
          0,
          0.2125
         ]
        },
        "xaxis26": {
         "anchor": "y26",
         "domain": [
          0.2625,
          0.475
         ]
        },
        "xaxis27": {
         "anchor": "y27",
         "domain": [
          0.525,
          0.7375
         ]
        },
        "xaxis28": {
         "anchor": "y28",
         "domain": [
          0.7875,
          1
         ]
        },
        "xaxis29": {
         "anchor": "y29",
         "domain": [
          0,
          0.2125
         ]
        },
        "xaxis3": {
         "anchor": "y3",
         "domain": [
          0.525,
          0.7375
         ]
        },
        "xaxis30": {
         "anchor": "y30",
         "domain": [
          0.2625,
          0.475
         ]
        },
        "xaxis31": {
         "anchor": "y31",
         "domain": [
          0.525,
          0.7375
         ]
        },
        "xaxis32": {
         "anchor": "y32",
         "domain": [
          0.7875,
          1
         ]
        },
        "xaxis33": {
         "anchor": "y33",
         "domain": [
          0,
          0.2125
         ]
        },
        "xaxis34": {
         "anchor": "y34",
         "domain": [
          0.2625,
          0.475
         ]
        },
        "xaxis35": {
         "anchor": "y35",
         "domain": [
          0.525,
          0.7375
         ]
        },
        "xaxis36": {
         "anchor": "y36",
         "domain": [
          0.7875,
          1
         ]
        },
        "xaxis37": {
         "anchor": "y37",
         "domain": [
          0,
          0.2125
         ]
        },
        "xaxis38": {
         "anchor": "y38",
         "domain": [
          0.2625,
          0.475
         ]
        },
        "xaxis39": {
         "anchor": "y39",
         "domain": [
          0.525,
          0.7375
         ]
        },
        "xaxis4": {
         "anchor": "y4",
         "domain": [
          0.7875,
          1
         ]
        },
        "xaxis40": {
         "anchor": "y40",
         "domain": [
          0.7875,
          1
         ]
        },
        "xaxis5": {
         "anchor": "y5",
         "domain": [
          0,
          0.2125
         ]
        },
        "xaxis6": {
         "anchor": "y6",
         "domain": [
          0.2625,
          0.475
         ]
        },
        "xaxis7": {
         "anchor": "y7",
         "domain": [
          0.525,
          0.7375
         ]
        },
        "xaxis8": {
         "anchor": "y8",
         "domain": [
          0.7875,
          1
         ]
        },
        "xaxis9": {
         "anchor": "y9",
         "domain": [
          0,
          0.2125
         ]
        },
        "yaxis": {
         "anchor": "x",
         "domain": [
          0.9450000000000001,
          1
         ]
        },
        "yaxis10": {
         "anchor": "x10",
         "domain": [
          0.7350000000000001,
          0.7900000000000001
         ]
        },
        "yaxis11": {
         "anchor": "x11",
         "domain": [
          0.7350000000000001,
          0.7900000000000001
         ]
        },
        "yaxis12": {
         "anchor": "x12",
         "domain": [
          0.7350000000000001,
          0.7900000000000001
         ]
        },
        "yaxis13": {
         "anchor": "x13",
         "domain": [
          0.6300000000000001,
          0.6850000000000002
         ]
        },
        "yaxis14": {
         "anchor": "x14",
         "domain": [
          0.6300000000000001,
          0.6850000000000002
         ]
        },
        "yaxis15": {
         "anchor": "x15",
         "domain": [
          0.6300000000000001,
          0.6850000000000002
         ]
        },
        "yaxis16": {
         "anchor": "x16",
         "domain": [
          0.6300000000000001,
          0.6850000000000002
         ]
        },
        "yaxis17": {
         "anchor": "x17",
         "domain": [
          0.525,
          0.5800000000000001
         ]
        },
        "yaxis18": {
         "anchor": "x18",
         "domain": [
          0.525,
          0.5800000000000001
         ]
        },
        "yaxis19": {
         "anchor": "x19",
         "domain": [
          0.525,
          0.5800000000000001
         ]
        },
        "yaxis2": {
         "anchor": "x2",
         "domain": [
          0.9450000000000001,
          1
         ]
        },
        "yaxis20": {
         "anchor": "x20",
         "domain": [
          0.525,
          0.5800000000000001
         ]
        },
        "yaxis21": {
         "anchor": "x21",
         "domain": [
          0.42000000000000004,
          0.47500000000000003
         ]
        },
        "yaxis22": {
         "anchor": "x22",
         "domain": [
          0.42000000000000004,
          0.47500000000000003
         ]
        },
        "yaxis23": {
         "anchor": "x23",
         "domain": [
          0.42000000000000004,
          0.47500000000000003
         ]
        },
        "yaxis24": {
         "anchor": "x24",
         "domain": [
          0.42000000000000004,
          0.47500000000000003
         ]
        },
        "yaxis25": {
         "anchor": "x25",
         "domain": [
          0.31500000000000006,
          0.37000000000000005
         ]
        },
        "yaxis26": {
         "anchor": "x26",
         "domain": [
          0.31500000000000006,
          0.37000000000000005
         ]
        },
        "yaxis27": {
         "anchor": "x27",
         "domain": [
          0.31500000000000006,
          0.37000000000000005
         ]
        },
        "yaxis28": {
         "anchor": "x28",
         "domain": [
          0.31500000000000006,
          0.37000000000000005
         ]
        },
        "yaxis29": {
         "anchor": "x29",
         "domain": [
          0.21000000000000002,
          0.265
         ]
        },
        "yaxis3": {
         "anchor": "x3",
         "domain": [
          0.9450000000000001,
          1
         ]
        },
        "yaxis30": {
         "anchor": "x30",
         "domain": [
          0.21000000000000002,
          0.265
         ]
        },
        "yaxis31": {
         "anchor": "x31",
         "domain": [
          0.21000000000000002,
          0.265
         ]
        },
        "yaxis32": {
         "anchor": "x32",
         "domain": [
          0.21000000000000002,
          0.265
         ]
        },
        "yaxis33": {
         "anchor": "x33",
         "domain": [
          0.10500000000000001,
          0.16000000000000003
         ]
        },
        "yaxis34": {
         "anchor": "x34",
         "domain": [
          0.10500000000000001,
          0.16000000000000003
         ]
        },
        "yaxis35": {
         "anchor": "x35",
         "domain": [
          0.10500000000000001,
          0.16000000000000003
         ]
        },
        "yaxis36": {
         "anchor": "x36",
         "domain": [
          0.10500000000000001,
          0.16000000000000003
         ]
        },
        "yaxis37": {
         "anchor": "x37",
         "domain": [
          0,
          0.05500000000000001
         ]
        },
        "yaxis38": {
         "anchor": "x38",
         "domain": [
          0,
          0.05500000000000001
         ]
        },
        "yaxis39": {
         "anchor": "x39",
         "domain": [
          0,
          0.05500000000000001
         ]
        },
        "yaxis4": {
         "anchor": "x4",
         "domain": [
          0.9450000000000001,
          1
         ]
        },
        "yaxis40": {
         "anchor": "x40",
         "domain": [
          0,
          0.05500000000000001
         ]
        },
        "yaxis5": {
         "anchor": "x5",
         "domain": [
          0.8400000000000001,
          0.8950000000000001
         ]
        },
        "yaxis6": {
         "anchor": "x6",
         "domain": [
          0.8400000000000001,
          0.8950000000000001
         ]
        },
        "yaxis7": {
         "anchor": "x7",
         "domain": [
          0.8400000000000001,
          0.8950000000000001
         ]
        },
        "yaxis8": {
         "anchor": "x8",
         "domain": [
          0.8400000000000001,
          0.8950000000000001
         ]
        },
        "yaxis9": {
         "anchor": "x9",
         "domain": [
          0.7350000000000001,
          0.7900000000000001
         ]
        }
       }
      },
      "text/html": [
       "<div>\n",
       "        \n",
       "        \n",
       "            <div id=\"b518a987-781b-4323-ae50-28b7358dab7b\" class=\"plotly-graph-div\" style=\"height:1000px; width:800px;\"></div>\n",
       "            <script type=\"text/javascript\">\n",
       "                require([\"plotly\"], function(Plotly) {\n",
       "                    window.PLOTLYENV=window.PLOTLYENV || {};\n",
       "                    \n",
       "                if (document.getElementById(\"b518a987-781b-4323-ae50-28b7358dab7b\")) {\n",
       "                    Plotly.newPlot(\n",
       "                        'b518a987-781b-4323-ae50-28b7358dab7b',\n",
       "                        [{\"hovertext\": [0.17185899999999998, 0.7999149999999999, 0.016705, 1e-05, 0.011512], \"type\": \"bar\", \"xaxis\": \"x\", \"y\": [0.17185899999999998, 0.7999149999999999, 0.016705, 1e-05, 0.011512], \"yaxis\": \"y\"}, {\"hovertext\": [0.44983599999999996, 0.321868, 0.000547, 0.024397, 0.203353], \"type\": \"bar\", \"xaxis\": \"x2\", \"y\": [0.44983599999999996, 0.321868, 0.000547, 0.024397, 0.203353], \"yaxis\": \"y2\"}, {\"hovertext\": [0.0020670000000000003, 0.834965, 0.162063, 1e-05, 0.0008939999999999999], \"type\": \"bar\", \"xaxis\": \"x3\", \"y\": [0.0020670000000000003, 0.834965, 0.162063, 1e-05, 0.0008939999999999999], \"yaxis\": \"y3\"}, {\"hovertext\": [1e-05, 0.22983, 0.352719, 0.163078, 0.254363], \"type\": \"bar\", \"xaxis\": \"x4\", \"y\": [1e-05, 0.22983, 0.352719, 0.163078, 0.254363], \"yaxis\": \"y4\"}, {\"hovertext\": [0.00098, 0.32747, 0.08715, 0.036509, 0.547892], \"type\": \"bar\", \"xaxis\": \"x5\", \"y\": [0.00098, 0.32747, 0.08715, 0.036509, 0.547892], \"yaxis\": \"y5\"}, {\"hovertext\": [0.034664999999999994, 0.693854, 1e-05, 1e-05, 0.271461], \"type\": \"bar\", \"xaxis\": \"x6\", \"y\": [0.034664999999999994, 0.693854, 1e-05, 1e-05, 0.271461], \"yaxis\": \"y6\"}, {\"hovertext\": [1e-05, 0.985035, 0.014006999999999999, 1e-05, 0.000938], \"type\": \"bar\", \"xaxis\": \"x7\", \"y\": [1e-05, 0.985035, 0.014006999999999999, 1e-05, 0.000938], \"yaxis\": \"y7\"}, {\"hovertext\": [0.628153, 0.351371, 0.003244, 0.017223, 1e-05], \"type\": \"bar\", \"xaxis\": \"x8\", \"y\": [0.628153, 0.351371, 0.003244, 0.017223, 1e-05], \"yaxis\": \"y8\"}, {\"hovertext\": [0.15398, 0.8246020000000001, 0.015864, 0.0055439999999999994, 1e-05], \"type\": \"bar\", \"xaxis\": \"x9\", \"y\": [0.15398, 0.8246020000000001, 0.015864, 0.0055439999999999994, 1e-05], \"yaxis\": \"y9\"}, {\"hovertext\": [0.0007650000000000001, 0.193234, 0.005483, 0.001074, 0.799443], \"type\": \"bar\", \"xaxis\": \"x10\", \"y\": [0.0007650000000000001, 0.193234, 0.005483, 0.001074, 0.799443], \"yaxis\": \"y10\"}, {\"hovertext\": [0.103934, 0.674946, 0.071757, 1e-05, 0.14935299999999999], \"type\": \"bar\", \"xaxis\": \"x11\", \"y\": [0.103934, 0.674946, 0.071757, 1e-05, 0.14935299999999999], \"yaxis\": \"y11\"}, {\"hovertext\": [0.751739, 0.086618, 1e-05, 0.16131099999999998, 0.000322], \"type\": \"bar\", \"xaxis\": \"x12\", \"y\": [0.751739, 0.086618, 1e-05, 0.16131099999999998, 0.000322], \"yaxis\": \"y12\"}, {\"hovertext\": [0.061538, 1e-05, 1e-05, 0.000151, 0.938292], \"type\": \"bar\", \"xaxis\": \"x13\", \"y\": [0.061538, 1e-05, 1e-05, 0.000151, 0.938292], \"yaxis\": \"y13\"}, {\"hovertext\": [0.543543, 0.451825, 0.000696, 0.003926, 1e-05], \"type\": \"bar\", \"xaxis\": \"x14\", \"y\": [0.543543, 0.451825, 0.000696, 0.003926, 1e-05], \"yaxis\": \"y14\"}, {\"hovertext\": [0.508288, 0.333075, 0.001954, 0.156673, 1e-05], \"type\": \"bar\", \"xaxis\": \"x15\", \"y\": [0.508288, 0.333075, 0.001954, 0.156673, 1e-05], \"yaxis\": \"y15\"}, {\"hovertext\": [0.06285299999999999, 0.766232, 0.012008, 0.001888, 0.157019], \"type\": \"bar\", \"xaxis\": \"x16\", \"y\": [0.06285299999999999, 0.766232, 0.012008, 0.001888, 0.157019], \"yaxis\": \"y16\"}, {\"hovertext\": [0.558817, 0.44115299999999996, 1e-05, 1e-05, 1e-05], \"type\": \"bar\", \"xaxis\": \"x17\", \"y\": [0.558817, 0.44115299999999996, 1e-05, 1e-05, 1e-05], \"yaxis\": \"y17\"}, {\"hovertext\": [1e-05, 0.732159, 0.080752, 1e-05, 0.187069], \"type\": \"bar\", \"xaxis\": \"x18\", \"y\": [1e-05, 0.732159, 0.080752, 1e-05, 0.187069], \"yaxis\": \"y18\"}, {\"hovertext\": [0.0016309999999999999, 0.18851400000000001, 1e-05, 1e-05, 0.8098350000000001], \"type\": \"bar\", \"xaxis\": \"x19\", \"y\": [0.0016309999999999999, 0.18851400000000001, 1e-05, 1e-05, 0.8098350000000001], \"yaxis\": \"y19\"}, {\"hovertext\": [0.498687, 0.0052049999999999996, 0.000276, 0.202497, 0.293335], \"type\": \"bar\", \"xaxis\": \"x20\", \"y\": [0.498687, 0.0052049999999999996, 0.000276, 0.202497, 0.293335], \"yaxis\": \"y20\"}, {\"hovertext\": [2.8000000000000003e-05, 0.7619020000000001, 0.137036, 0.0053100000000000005, 0.095724], \"type\": \"bar\", \"xaxis\": \"x21\", \"y\": [2.8000000000000003e-05, 0.7619020000000001, 0.137036, 0.0053100000000000005, 0.095724], \"yaxis\": \"y21\"}, {\"hovertext\": [1e-05, 0.87935, 0.116703, 0.003754, 0.000182], \"type\": \"bar\", \"xaxis\": \"x22\", \"y\": [1e-05, 0.87935, 0.116703, 0.003754, 0.000182], \"yaxis\": \"y22\"}, {\"hovertext\": [0.055425, 0.284242, 1e-05, 0.001916, 0.658408], \"type\": \"bar\", \"xaxis\": \"x23\", \"y\": [0.055425, 0.284242, 1e-05, 0.001916, 0.658408], \"yaxis\": \"y23\"}, {\"hovertext\": [1e-05, 0.8205950000000001, 0.177715, 1e-05, 0.0016699999999999998], \"type\": \"bar\", \"xaxis\": \"x24\", \"y\": [1e-05, 0.8205950000000001, 0.177715, 1e-05, 0.0016699999999999998], \"yaxis\": \"y24\"}, {\"hovertext\": [0.307172, 0.691229, 0.0015789999999999999, 1e-05, 1e-05], \"type\": \"bar\", \"xaxis\": \"x25\", \"y\": [0.307172, 0.691229, 0.0015789999999999999, 1e-05, 1e-05], \"yaxis\": \"y25\"}, {\"hovertext\": [0.8376790000000001, 0.001201, 1e-05, 0.1611, 1e-05], \"type\": \"bar\", \"xaxis\": \"x26\", \"y\": [0.8376790000000001, 0.001201, 1e-05, 0.1611, 1e-05], \"yaxis\": \"y26\"}, {\"hovertext\": [0.164722, 1e-05, 0.0016879999999999998, 0.00013000000000000002, 0.83345], \"type\": \"bar\", \"xaxis\": \"x27\", \"y\": [0.164722, 1e-05, 0.0016879999999999998, 0.00013000000000000002, 0.83345], \"yaxis\": \"y27\"}, {\"hovertext\": [1e-05, 0.122401, 1e-05, 0.0016079999999999998, 0.87597], \"type\": \"bar\", \"xaxis\": \"x28\", \"y\": [1e-05, 0.122401, 1e-05, 0.0016079999999999998, 0.87597], \"yaxis\": \"y28\"}, {\"hovertext\": [1e-05, 0.829167, 0.13126300000000002, 0.002309, 0.037251], \"type\": \"bar\", \"xaxis\": \"x29\", \"y\": [1e-05, 0.829167, 0.13126300000000002, 0.002309, 0.037251], \"yaxis\": \"y29\"}, {\"hovertext\": [0.001142, 0.370487, 0.001819, 0.00022799999999999999, 0.626325], \"type\": \"bar\", \"xaxis\": \"x30\", \"y\": [0.001142, 0.370487, 0.001819, 0.00022799999999999999, 0.626325], \"yaxis\": \"y30\"}, {\"hovertext\": [0.034695, 0.689542, 0.002226, 1e-05, 0.273528], \"type\": \"bar\", \"xaxis\": \"x31\", \"y\": [0.034695, 0.689542, 0.002226, 1e-05, 0.273528], \"yaxis\": \"y31\"}, {\"hovertext\": [0.648838, 1e-05, 0.002211, 0.348931, 1e-05], \"type\": \"bar\", \"xaxis\": \"x32\", \"y\": [0.648838, 1e-05, 0.002211, 0.348931, 1e-05], \"yaxis\": \"y32\"}, {\"hovertext\": [0.654985, 0.215915, 8.8e-05, 0.129002, 1e-05], \"type\": \"bar\", \"xaxis\": \"x33\", \"y\": [0.654985, 0.215915, 8.8e-05, 0.129002, 1e-05], \"yaxis\": \"y33\"}, {\"hovertext\": [1e-05, 0.176446, 1e-05, 1e-05, 0.8235239999999999], \"type\": \"bar\", \"xaxis\": \"x34\", \"y\": [1e-05, 0.176446, 1e-05, 1e-05, 0.8235239999999999], \"yaxis\": \"y34\"}, {\"hovertext\": [0.03589, 0.947693, 0.014878, 1e-05, 0.0015300000000000001], \"type\": \"bar\", \"xaxis\": \"x35\", \"y\": [0.03589, 0.947693, 0.014878, 1e-05, 0.0015300000000000001], \"yaxis\": \"y35\"}, {\"hovertext\": [1e-05, 0.8805639999999999, 0.11780299999999999, 0.0016129999999999999, 1e-05], \"type\": \"bar\", \"xaxis\": \"x36\", \"y\": [1e-05, 0.8805639999999999, 0.11780299999999999, 0.0016129999999999999, 1e-05], \"yaxis\": \"y36\"}, {\"hovertext\": [0.471649, 0.35695, 1e-05, 0.048345, 0.123047], \"type\": \"bar\", \"xaxis\": \"x37\", \"y\": [0.471649, 0.35695, 1e-05, 0.048345, 0.123047], \"yaxis\": \"y37\"}, {\"hovertext\": [1e-05, 0.455271, 0.375348, 0.168303, 0.001068], \"type\": \"bar\", \"xaxis\": \"x38\", \"y\": [1e-05, 0.455271, 0.375348, 0.168303, 0.001068], \"yaxis\": \"y38\"}, {\"hovertext\": [0.285193, 0.714777, 1e-05, 1e-05, 1e-05], \"type\": \"bar\", \"xaxis\": \"x39\", \"y\": [0.285193, 0.714777, 1e-05, 1e-05, 1e-05], \"yaxis\": \"y39\"}, {\"hovertext\": [1e-05, 1e-05, 0.031372000000000004, 0.05334, 0.9152680000000001], \"type\": \"bar\", \"xaxis\": \"x40\", \"y\": [1e-05, 1e-05, 0.031372000000000004, 0.05334, 0.9152680000000001], \"yaxis\": \"y40\"}],\n",
       "                        {\"annotations\": [{\"font\": {\"size\": 16}, \"showarrow\": false, \"text\": \"HG00141 - GBR\", \"x\": 0.10625, \"xanchor\": \"center\", \"xref\": \"paper\", \"y\": 1.0, \"yanchor\": \"bottom\", \"yref\": \"paper\"}, {\"font\": {\"size\": 16}, \"showarrow\": false, \"text\": \"HG00142 - GBR\", \"x\": 0.36875, \"xanchor\": \"center\", \"xref\": \"paper\", \"y\": 1.0, \"yanchor\": \"bottom\", \"yref\": \"paper\"}, {\"font\": {\"size\": 16}, \"showarrow\": false, \"text\": \"HG00143 - GBR\", \"x\": 0.6312500000000001, \"xanchor\": \"center\", \"xref\": \"paper\", \"y\": 1.0, \"yanchor\": \"bottom\", \"yref\": \"paper\"}, {\"font\": {\"size\": 16}, \"showarrow\": false, \"text\": \"HG00145 - GBR\", \"x\": 0.89375, \"xanchor\": \"center\", \"xref\": \"paper\", \"y\": 1.0, \"yanchor\": \"bottom\", \"yref\": \"paper\"}, {\"font\": {\"size\": 16}, \"showarrow\": false, \"text\": \"HG00146 - GBR\", \"x\": 0.10625, \"xanchor\": \"center\", \"xref\": \"paper\", \"y\": 0.8950000000000001, \"yanchor\": \"bottom\", \"yref\": \"paper\"}, {\"font\": {\"size\": 16}, \"showarrow\": false, \"text\": \"HG00148 - GBR\", \"x\": 0.36875, \"xanchor\": \"center\", \"xref\": \"paper\", \"y\": 0.8950000000000001, \"yanchor\": \"bottom\", \"yref\": \"paper\"}, {\"font\": {\"size\": 16}, \"showarrow\": false, \"text\": \"HG00149 - GBR\", \"x\": 0.6312500000000001, \"xanchor\": \"center\", \"xref\": \"paper\", \"y\": 0.8950000000000001, \"yanchor\": \"bottom\", \"yref\": \"paper\"}, {\"font\": {\"size\": 16}, \"showarrow\": false, \"text\": \"HG00150 - GBR\", \"x\": 0.89375, \"xanchor\": \"center\", \"xref\": \"paper\", \"y\": 0.8950000000000001, \"yanchor\": \"bottom\", \"yref\": \"paper\"}, {\"font\": {\"size\": 16}, \"showarrow\": false, \"text\": \"HG00151 - GBR\", \"x\": 0.10625, \"xanchor\": \"center\", \"xref\": \"paper\", \"y\": 0.7900000000000001, \"yanchor\": \"bottom\", \"yref\": \"paper\"}, {\"font\": {\"size\": 16}, \"showarrow\": false, \"text\": \"HG00154 - GBR\", \"x\": 0.36875, \"xanchor\": \"center\", \"xref\": \"paper\", \"y\": 0.7900000000000001, \"yanchor\": \"bottom\", \"yref\": \"paper\"}, {\"font\": {\"size\": 16}, \"showarrow\": false, \"text\": \"HG00155 - GBR\", \"x\": 0.6312500000000001, \"xanchor\": \"center\", \"xref\": \"paper\", \"y\": 0.7900000000000001, \"yanchor\": \"bottom\", \"yref\": \"paper\"}, {\"font\": {\"size\": 16}, \"showarrow\": false, \"text\": \"HG00157 - GBR\", \"x\": 0.89375, \"xanchor\": \"center\", \"xref\": \"paper\", \"y\": 0.7900000000000001, \"yanchor\": \"bottom\", \"yref\": \"paper\"}, {\"font\": {\"size\": 16}, \"showarrow\": false, \"text\": \"HG00158 - GBR\", \"x\": 0.10625, \"xanchor\": \"center\", \"xref\": \"paper\", \"y\": 0.6850000000000002, \"yanchor\": \"bottom\", \"yref\": \"paper\"}, {\"font\": {\"size\": 16}, \"showarrow\": false, \"text\": \"HG00159 - GBR\", \"x\": 0.36875, \"xanchor\": \"center\", \"xref\": \"paper\", \"y\": 0.6850000000000002, \"yanchor\": \"bottom\", \"yref\": \"paper\"}, {\"font\": {\"size\": 16}, \"showarrow\": false, \"text\": \"HG00160 - GBR\", \"x\": 0.6312500000000001, \"xanchor\": \"center\", \"xref\": \"paper\", \"y\": 0.6850000000000002, \"yanchor\": \"bottom\", \"yref\": \"paper\"}, {\"font\": {\"size\": 16}, \"showarrow\": false, \"text\": \"HG00171 - FIN\", \"x\": 0.89375, \"xanchor\": \"center\", \"xref\": \"paper\", \"y\": 0.6850000000000002, \"yanchor\": \"bottom\", \"yref\": \"paper\"}, {\"font\": {\"size\": 16}, \"showarrow\": false, \"text\": \"HG00173 - FIN\", \"x\": 0.10625, \"xanchor\": \"center\", \"xref\": \"paper\", \"y\": 0.5800000000000001, \"yanchor\": \"bottom\", \"yref\": \"paper\"}, {\"font\": {\"size\": 16}, \"showarrow\": false, \"text\": \"HG00174 - FIN\", \"x\": 0.36875, \"xanchor\": \"center\", \"xref\": \"paper\", \"y\": 0.5800000000000001, \"yanchor\": \"bottom\", \"yref\": \"paper\"}, {\"font\": {\"size\": 16}, \"showarrow\": false, \"text\": \"HG00176 - FIN\", \"x\": 0.6312500000000001, \"xanchor\": \"center\", \"xref\": \"paper\", \"y\": 0.5800000000000001, \"yanchor\": \"bottom\", \"yref\": \"paper\"}, {\"font\": {\"size\": 16}, \"showarrow\": false, \"text\": \"HG00177 - FIN\", \"x\": 0.89375, \"xanchor\": \"center\", \"xref\": \"paper\", \"y\": 0.5800000000000001, \"yanchor\": \"bottom\", \"yref\": \"paper\"}, {\"font\": {\"size\": 16}, \"showarrow\": false, \"text\": \"HG00178 - FIN\", \"x\": 0.10625, \"xanchor\": \"center\", \"xref\": \"paper\", \"y\": 0.47500000000000003, \"yanchor\": \"bottom\", \"yref\": \"paper\"}, {\"font\": {\"size\": 16}, \"showarrow\": false, \"text\": \"HG00179 - FIN\", \"x\": 0.36875, \"xanchor\": \"center\", \"xref\": \"paper\", \"y\": 0.47500000000000003, \"yanchor\": \"bottom\", \"yref\": \"paper\"}, {\"font\": {\"size\": 16}, \"showarrow\": false, \"text\": \"HG00180 - FIN\", \"x\": 0.6312500000000001, \"xanchor\": \"center\", \"xref\": \"paper\", \"y\": 0.47500000000000003, \"yanchor\": \"bottom\", \"yref\": \"paper\"}, {\"font\": {\"size\": 16}, \"showarrow\": false, \"text\": \"HG00181 - FIN\", \"x\": 0.89375, \"xanchor\": \"center\", \"xref\": \"paper\", \"y\": 0.47500000000000003, \"yanchor\": \"bottom\", \"yref\": \"paper\"}, {\"font\": {\"size\": 16}, \"showarrow\": false, \"text\": \"HG00182 - FIN\", \"x\": 0.10625, \"xanchor\": \"center\", \"xref\": \"paper\", \"y\": 0.37000000000000005, \"yanchor\": \"bottom\", \"yref\": \"paper\"}, {\"font\": {\"size\": 16}, \"showarrow\": false, \"text\": \"HG00183 - FIN\", \"x\": 0.36875, \"xanchor\": \"center\", \"xref\": \"paper\", \"y\": 0.37000000000000005, \"yanchor\": \"bottom\", \"yref\": \"paper\"}, {\"font\": {\"size\": 16}, \"showarrow\": false, \"text\": \"HG00185 - FIN\", \"x\": 0.6312500000000001, \"xanchor\": \"center\", \"xref\": \"paper\", \"y\": 0.37000000000000005, \"yanchor\": \"bottom\", \"yref\": \"paper\"}, {\"font\": {\"size\": 16}, \"showarrow\": false, \"text\": \"HG00186 - FIN\", \"x\": 0.89375, \"xanchor\": \"center\", \"xref\": \"paper\", \"y\": 0.37000000000000005, \"yanchor\": \"bottom\", \"yref\": \"paper\"}, {\"font\": {\"size\": 16}, \"showarrow\": false, \"text\": \"HG00187 - FIN\", \"x\": 0.10625, \"xanchor\": \"center\", \"xref\": \"paper\", \"y\": 0.265, \"yanchor\": \"bottom\", \"yref\": \"paper\"}, {\"font\": {\"size\": 16}, \"showarrow\": false, \"text\": \"HG00188 - FIN\", \"x\": 0.36875, \"xanchor\": \"center\", \"xref\": \"paper\", \"y\": 0.265, \"yanchor\": \"bottom\", \"yref\": \"paper\"}, {\"font\": {\"size\": 16}, \"showarrow\": false, \"text\": \"HG00189 - FIN\", \"x\": 0.6312500000000001, \"xanchor\": \"center\", \"xref\": \"paper\", \"y\": 0.265, \"yanchor\": \"bottom\", \"yref\": \"paper\"}, {\"font\": {\"size\": 16}, \"showarrow\": false, \"text\": \"HG00190 - FIN\", \"x\": 0.89375, \"xanchor\": \"center\", \"xref\": \"paper\", \"y\": 0.265, \"yanchor\": \"bottom\", \"yref\": \"paper\"}, {\"font\": {\"size\": 16}, \"showarrow\": false, \"text\": \"HG00231 - GBR\", \"x\": 0.10625, \"xanchor\": \"center\", \"xref\": \"paper\", \"y\": 0.16000000000000003, \"yanchor\": \"bottom\", \"yref\": \"paper\"}, {\"font\": {\"size\": 16}, \"showarrow\": false, \"text\": \"HG00232 - GBR\", \"x\": 0.36875, \"xanchor\": \"center\", \"xref\": \"paper\", \"y\": 0.16000000000000003, \"yanchor\": \"bottom\", \"yref\": \"paper\"}, {\"font\": {\"size\": 16}, \"showarrow\": false, \"text\": \"HG00233 - GBR\", \"x\": 0.6312500000000001, \"xanchor\": \"center\", \"xref\": \"paper\", \"y\": 0.16000000000000003, \"yanchor\": \"bottom\", \"yref\": \"paper\"}, {\"font\": {\"size\": 16}, \"showarrow\": false, \"text\": \"HG00234 - GBR\", \"x\": 0.89375, \"xanchor\": \"center\", \"xref\": \"paper\", \"y\": 0.16000000000000003, \"yanchor\": \"bottom\", \"yref\": \"paper\"}, {\"font\": {\"size\": 16}, \"showarrow\": false, \"text\": \"HG00235 - GBR\", \"x\": 0.10625, \"xanchor\": \"center\", \"xref\": \"paper\", \"y\": 0.05500000000000001, \"yanchor\": \"bottom\", \"yref\": \"paper\"}, {\"font\": {\"size\": 16}, \"showarrow\": false, \"text\": \"HG00236 - GBR\", \"x\": 0.36875, \"xanchor\": \"center\", \"xref\": \"paper\", \"y\": 0.05500000000000001, \"yanchor\": \"bottom\", \"yref\": \"paper\"}, {\"font\": {\"size\": 16}, \"showarrow\": false, \"text\": \"HG00237 - GBR\", \"x\": 0.6312500000000001, \"xanchor\": \"center\", \"xref\": \"paper\", \"y\": 0.05500000000000001, \"yanchor\": \"bottom\", \"yref\": \"paper\"}, {\"font\": {\"size\": 16}, \"showarrow\": false, \"text\": \"HG00238 - GBR\", \"x\": 0.89375, \"xanchor\": \"center\", \"xref\": \"paper\", \"y\": 0.05500000000000001, \"yanchor\": \"bottom\", \"yref\": \"paper\"}], \"height\": 1000, \"showlegend\": false, \"template\": {\"data\": {\"bar\": [{\"error_x\": {\"color\": \"#2a3f5f\"}, \"error_y\": {\"color\": \"#2a3f5f\"}, \"marker\": {\"line\": {\"color\": \"#E5ECF6\", \"width\": 0.5}}, \"type\": \"bar\"}], \"barpolar\": [{\"marker\": {\"line\": {\"color\": \"#E5ECF6\", \"width\": 0.5}}, \"type\": \"barpolar\"}], \"carpet\": [{\"aaxis\": {\"endlinecolor\": \"#2a3f5f\", \"gridcolor\": \"white\", \"linecolor\": \"white\", \"minorgridcolor\": \"white\", \"startlinecolor\": \"#2a3f5f\"}, \"baxis\": {\"endlinecolor\": \"#2a3f5f\", \"gridcolor\": \"white\", \"linecolor\": \"white\", \"minorgridcolor\": \"white\", \"startlinecolor\": \"#2a3f5f\"}, \"type\": \"carpet\"}], \"choropleth\": [{\"colorbar\": {\"outlinewidth\": 0, \"ticks\": \"\"}, \"type\": \"choropleth\"}], \"contour\": [{\"colorbar\": {\"outlinewidth\": 0, \"ticks\": \"\"}, \"colorscale\": [[0.0, \"#0d0887\"], [0.1111111111111111, \"#46039f\"], [0.2222222222222222, \"#7201a8\"], [0.3333333333333333, \"#9c179e\"], [0.4444444444444444, \"#bd3786\"], [0.5555555555555556, \"#d8576b\"], [0.6666666666666666, \"#ed7953\"], [0.7777777777777778, \"#fb9f3a\"], [0.8888888888888888, \"#fdca26\"], [1.0, \"#f0f921\"]], \"type\": \"contour\"}], \"contourcarpet\": [{\"colorbar\": {\"outlinewidth\": 0, \"ticks\": \"\"}, \"type\": \"contourcarpet\"}], \"heatmap\": [{\"colorbar\": {\"outlinewidth\": 0, \"ticks\": \"\"}, \"colorscale\": [[0.0, \"#0d0887\"], [0.1111111111111111, \"#46039f\"], [0.2222222222222222, \"#7201a8\"], [0.3333333333333333, \"#9c179e\"], [0.4444444444444444, \"#bd3786\"], [0.5555555555555556, \"#d8576b\"], [0.6666666666666666, \"#ed7953\"], [0.7777777777777778, \"#fb9f3a\"], [0.8888888888888888, \"#fdca26\"], [1.0, \"#f0f921\"]], \"type\": \"heatmap\"}], \"heatmapgl\": [{\"colorbar\": {\"outlinewidth\": 0, \"ticks\": \"\"}, \"colorscale\": [[0.0, \"#0d0887\"], [0.1111111111111111, \"#46039f\"], [0.2222222222222222, \"#7201a8\"], [0.3333333333333333, \"#9c179e\"], [0.4444444444444444, \"#bd3786\"], [0.5555555555555556, \"#d8576b\"], [0.6666666666666666, \"#ed7953\"], [0.7777777777777778, \"#fb9f3a\"], [0.8888888888888888, \"#fdca26\"], [1.0, \"#f0f921\"]], \"type\": \"heatmapgl\"}], \"histogram\": [{\"marker\": {\"colorbar\": {\"outlinewidth\": 0, \"ticks\": \"\"}}, \"type\": \"histogram\"}], \"histogram2d\": [{\"colorbar\": {\"outlinewidth\": 0, \"ticks\": \"\"}, \"colorscale\": [[0.0, \"#0d0887\"], [0.1111111111111111, \"#46039f\"], [0.2222222222222222, \"#7201a8\"], [0.3333333333333333, \"#9c179e\"], [0.4444444444444444, \"#bd3786\"], [0.5555555555555556, \"#d8576b\"], [0.6666666666666666, \"#ed7953\"], [0.7777777777777778, \"#fb9f3a\"], [0.8888888888888888, \"#fdca26\"], [1.0, \"#f0f921\"]], \"type\": \"histogram2d\"}], \"histogram2dcontour\": [{\"colorbar\": {\"outlinewidth\": 0, \"ticks\": \"\"}, \"colorscale\": [[0.0, \"#0d0887\"], [0.1111111111111111, \"#46039f\"], [0.2222222222222222, \"#7201a8\"], [0.3333333333333333, \"#9c179e\"], [0.4444444444444444, \"#bd3786\"], [0.5555555555555556, \"#d8576b\"], [0.6666666666666666, \"#ed7953\"], [0.7777777777777778, \"#fb9f3a\"], [0.8888888888888888, \"#fdca26\"], [1.0, \"#f0f921\"]], \"type\": \"histogram2dcontour\"}], \"mesh3d\": [{\"colorbar\": {\"outlinewidth\": 0, \"ticks\": \"\"}, \"type\": \"mesh3d\"}], \"parcoords\": [{\"line\": {\"colorbar\": {\"outlinewidth\": 0, \"ticks\": \"\"}}, \"type\": \"parcoords\"}], \"pie\": [{\"automargin\": true, \"type\": \"pie\"}], \"scatter\": [{\"marker\": {\"colorbar\": {\"outlinewidth\": 0, \"ticks\": \"\"}}, \"type\": \"scatter\"}], \"scatter3d\": [{\"line\": {\"colorbar\": {\"outlinewidth\": 0, \"ticks\": \"\"}}, \"marker\": {\"colorbar\": {\"outlinewidth\": 0, \"ticks\": \"\"}}, \"type\": \"scatter3d\"}], \"scattercarpet\": [{\"marker\": {\"colorbar\": {\"outlinewidth\": 0, \"ticks\": \"\"}}, \"type\": \"scattercarpet\"}], \"scattergeo\": [{\"marker\": {\"colorbar\": {\"outlinewidth\": 0, \"ticks\": \"\"}}, \"type\": \"scattergeo\"}], \"scattergl\": [{\"marker\": {\"colorbar\": {\"outlinewidth\": 0, \"ticks\": \"\"}}, \"type\": \"scattergl\"}], \"scattermapbox\": [{\"marker\": {\"colorbar\": {\"outlinewidth\": 0, \"ticks\": \"\"}}, \"type\": \"scattermapbox\"}], \"scatterpolar\": [{\"marker\": {\"colorbar\": {\"outlinewidth\": 0, \"ticks\": \"\"}}, \"type\": \"scatterpolar\"}], \"scatterpolargl\": [{\"marker\": {\"colorbar\": {\"outlinewidth\": 0, \"ticks\": \"\"}}, \"type\": \"scatterpolargl\"}], \"scatterternary\": [{\"marker\": {\"colorbar\": {\"outlinewidth\": 0, \"ticks\": \"\"}}, \"type\": \"scatterternary\"}], \"surface\": [{\"colorbar\": {\"outlinewidth\": 0, \"ticks\": \"\"}, \"colorscale\": [[0.0, \"#0d0887\"], [0.1111111111111111, \"#46039f\"], [0.2222222222222222, \"#7201a8\"], [0.3333333333333333, \"#9c179e\"], [0.4444444444444444, \"#bd3786\"], [0.5555555555555556, \"#d8576b\"], [0.6666666666666666, \"#ed7953\"], [0.7777777777777778, \"#fb9f3a\"], [0.8888888888888888, \"#fdca26\"], [1.0, \"#f0f921\"]], \"type\": \"surface\"}], \"table\": [{\"cells\": {\"fill\": {\"color\": \"#EBF0F8\"}, \"line\": {\"color\": \"white\"}}, \"header\": {\"fill\": {\"color\": \"#C8D4E3\"}, \"line\": {\"color\": \"white\"}}, \"type\": \"table\"}]}, \"layout\": {\"annotationdefaults\": {\"arrowcolor\": \"#2a3f5f\", \"arrowhead\": 0, \"arrowwidth\": 1}, \"coloraxis\": {\"colorbar\": {\"outlinewidth\": 0, \"ticks\": \"\"}}, \"colorscale\": {\"diverging\": [[0, \"#8e0152\"], [0.1, \"#c51b7d\"], [0.2, \"#de77ae\"], [0.3, \"#f1b6da\"], [0.4, \"#fde0ef\"], [0.5, \"#f7f7f7\"], [0.6, \"#e6f5d0\"], [0.7, \"#b8e186\"], [0.8, \"#7fbc41\"], [0.9, \"#4d9221\"], [1, \"#276419\"]], \"sequential\": [[0.0, \"#0d0887\"], [0.1111111111111111, \"#46039f\"], [0.2222222222222222, \"#7201a8\"], [0.3333333333333333, \"#9c179e\"], [0.4444444444444444, \"#bd3786\"], [0.5555555555555556, \"#d8576b\"], [0.6666666666666666, \"#ed7953\"], [0.7777777777777778, \"#fb9f3a\"], [0.8888888888888888, \"#fdca26\"], [1.0, \"#f0f921\"]], \"sequentialminus\": [[0.0, \"#0d0887\"], [0.1111111111111111, \"#46039f\"], [0.2222222222222222, \"#7201a8\"], [0.3333333333333333, \"#9c179e\"], [0.4444444444444444, \"#bd3786\"], [0.5555555555555556, \"#d8576b\"], [0.6666666666666666, \"#ed7953\"], [0.7777777777777778, \"#fb9f3a\"], [0.8888888888888888, \"#fdca26\"], [1.0, \"#f0f921\"]]}, \"colorway\": [\"#636efa\", \"#EF553B\", \"#00cc96\", \"#ab63fa\", \"#FFA15A\", \"#19d3f3\", \"#FF6692\", \"#B6E880\", \"#FF97FF\", \"#FECB52\"], \"font\": {\"color\": \"#2a3f5f\"}, \"geo\": {\"bgcolor\": \"white\", \"lakecolor\": \"white\", \"landcolor\": \"#E5ECF6\", \"showlakes\": true, \"showland\": true, \"subunitcolor\": \"white\"}, \"hoverlabel\": {\"align\": \"left\"}, \"hovermode\": \"closest\", \"mapbox\": {\"style\": \"light\"}, \"paper_bgcolor\": \"white\", \"plot_bgcolor\": \"#E5ECF6\", \"polar\": {\"angularaxis\": {\"gridcolor\": \"white\", \"linecolor\": \"white\", \"ticks\": \"\"}, \"bgcolor\": \"#E5ECF6\", \"radialaxis\": {\"gridcolor\": \"white\", \"linecolor\": \"white\", \"ticks\": \"\"}}, \"scene\": {\"xaxis\": {\"backgroundcolor\": \"#E5ECF6\", \"gridcolor\": \"white\", \"gridwidth\": 2, \"linecolor\": \"white\", \"showbackground\": true, \"ticks\": \"\", \"zerolinecolor\": \"white\"}, \"yaxis\": {\"backgroundcolor\": \"#E5ECF6\", \"gridcolor\": \"white\", \"gridwidth\": 2, \"linecolor\": \"white\", \"showbackground\": true, \"ticks\": \"\", \"zerolinecolor\": \"white\"}, \"zaxis\": {\"backgroundcolor\": \"#E5ECF6\", \"gridcolor\": \"white\", \"gridwidth\": 2, \"linecolor\": \"white\", \"showbackground\": true, \"ticks\": \"\", \"zerolinecolor\": \"white\"}}, \"shapedefaults\": {\"line\": {\"color\": \"#2a3f5f\"}}, \"ternary\": {\"aaxis\": {\"gridcolor\": \"white\", \"linecolor\": \"white\", \"ticks\": \"\"}, \"baxis\": {\"gridcolor\": \"white\", \"linecolor\": \"white\", \"ticks\": \"\"}, \"bgcolor\": \"#E5ECF6\", \"caxis\": {\"gridcolor\": \"white\", \"linecolor\": \"white\", \"ticks\": \"\"}}, \"title\": {\"x\": 0.05}, \"xaxis\": {\"automargin\": true, \"gridcolor\": \"white\", \"linecolor\": \"white\", \"ticks\": \"\", \"title\": {\"standoff\": 15}, \"zerolinecolor\": \"white\", \"zerolinewidth\": 2}, \"yaxis\": {\"automargin\": true, \"gridcolor\": \"white\", \"linecolor\": \"white\", \"ticks\": \"\", \"title\": {\"standoff\": 15}, \"zerolinecolor\": \"white\", \"zerolinewidth\": 2}}}, \"title\": {\"text\": \"\\u0413\\u0440\\u0430\\u0444\\u0438\\u043a\\u0438 \\u0440\\u0430\\u0437\\u043b\\u043e\\u0436\\u0435\\u043d\\u0438\\u044f \\u043e\\u0442\\u0435\\u043b\\u044c\\u043d\\u044b\\u0445 \\u0438\\u043d\\u0434\\u0438\\u0432\\u0438\\u0434\\u043e\\u0432 \\u043d\\u0430 \\u043a\\u043e\\u043c\\u043f\\u043e\\u043d\\u0435\\u043d\\u0442\\u044b\"}, \"width\": 800, \"xaxis\": {\"anchor\": \"y\", \"domain\": [0.0, 0.2125]}, \"xaxis10\": {\"anchor\": \"y10\", \"domain\": [0.2625, 0.475]}, \"xaxis11\": {\"anchor\": \"y11\", \"domain\": [0.525, 0.7375]}, \"xaxis12\": {\"anchor\": \"y12\", \"domain\": [0.7875, 1.0]}, \"xaxis13\": {\"anchor\": \"y13\", \"domain\": [0.0, 0.2125]}, \"xaxis14\": {\"anchor\": \"y14\", \"domain\": [0.2625, 0.475]}, \"xaxis15\": {\"anchor\": \"y15\", \"domain\": [0.525, 0.7375]}, \"xaxis16\": {\"anchor\": \"y16\", \"domain\": [0.7875, 1.0]}, \"xaxis17\": {\"anchor\": \"y17\", \"domain\": [0.0, 0.2125]}, \"xaxis18\": {\"anchor\": \"y18\", \"domain\": [0.2625, 0.475]}, \"xaxis19\": {\"anchor\": \"y19\", \"domain\": [0.525, 0.7375]}, \"xaxis2\": {\"anchor\": \"y2\", \"domain\": [0.2625, 0.475]}, \"xaxis20\": {\"anchor\": \"y20\", \"domain\": [0.7875, 1.0]}, \"xaxis21\": {\"anchor\": \"y21\", \"domain\": [0.0, 0.2125]}, \"xaxis22\": {\"anchor\": \"y22\", \"domain\": [0.2625, 0.475]}, \"xaxis23\": {\"anchor\": \"y23\", \"domain\": [0.525, 0.7375]}, \"xaxis24\": {\"anchor\": \"y24\", \"domain\": [0.7875, 1.0]}, \"xaxis25\": {\"anchor\": \"y25\", \"domain\": [0.0, 0.2125]}, \"xaxis26\": {\"anchor\": \"y26\", \"domain\": [0.2625, 0.475]}, \"xaxis27\": {\"anchor\": \"y27\", \"domain\": [0.525, 0.7375]}, \"xaxis28\": {\"anchor\": \"y28\", \"domain\": [0.7875, 1.0]}, \"xaxis29\": {\"anchor\": \"y29\", \"domain\": [0.0, 0.2125]}, \"xaxis3\": {\"anchor\": \"y3\", \"domain\": [0.525, 0.7375]}, \"xaxis30\": {\"anchor\": \"y30\", \"domain\": [0.2625, 0.475]}, \"xaxis31\": {\"anchor\": \"y31\", \"domain\": [0.525, 0.7375]}, \"xaxis32\": {\"anchor\": \"y32\", \"domain\": [0.7875, 1.0]}, \"xaxis33\": {\"anchor\": \"y33\", \"domain\": [0.0, 0.2125]}, \"xaxis34\": {\"anchor\": \"y34\", \"domain\": [0.2625, 0.475]}, \"xaxis35\": {\"anchor\": \"y35\", \"domain\": [0.525, 0.7375]}, \"xaxis36\": {\"anchor\": \"y36\", \"domain\": [0.7875, 1.0]}, \"xaxis37\": {\"anchor\": \"y37\", \"domain\": [0.0, 0.2125]}, \"xaxis38\": {\"anchor\": \"y38\", \"domain\": [0.2625, 0.475]}, \"xaxis39\": {\"anchor\": \"y39\", \"domain\": [0.525, 0.7375]}, \"xaxis4\": {\"anchor\": \"y4\", \"domain\": [0.7875, 1.0]}, \"xaxis40\": {\"anchor\": \"y40\", \"domain\": [0.7875, 1.0]}, \"xaxis5\": {\"anchor\": \"y5\", \"domain\": [0.0, 0.2125]}, \"xaxis6\": {\"anchor\": \"y6\", \"domain\": [0.2625, 0.475]}, \"xaxis7\": {\"anchor\": \"y7\", \"domain\": [0.525, 0.7375]}, \"xaxis8\": {\"anchor\": \"y8\", \"domain\": [0.7875, 1.0]}, \"xaxis9\": {\"anchor\": \"y9\", \"domain\": [0.0, 0.2125]}, \"yaxis\": {\"anchor\": \"x\", \"domain\": [0.9450000000000001, 1.0]}, \"yaxis10\": {\"anchor\": \"x10\", \"domain\": [0.7350000000000001, 0.7900000000000001]}, \"yaxis11\": {\"anchor\": \"x11\", \"domain\": [0.7350000000000001, 0.7900000000000001]}, \"yaxis12\": {\"anchor\": \"x12\", \"domain\": [0.7350000000000001, 0.7900000000000001]}, \"yaxis13\": {\"anchor\": \"x13\", \"domain\": [0.6300000000000001, 0.6850000000000002]}, \"yaxis14\": {\"anchor\": \"x14\", \"domain\": [0.6300000000000001, 0.6850000000000002]}, \"yaxis15\": {\"anchor\": \"x15\", \"domain\": [0.6300000000000001, 0.6850000000000002]}, \"yaxis16\": {\"anchor\": \"x16\", \"domain\": [0.6300000000000001, 0.6850000000000002]}, \"yaxis17\": {\"anchor\": \"x17\", \"domain\": [0.525, 0.5800000000000001]}, \"yaxis18\": {\"anchor\": \"x18\", \"domain\": [0.525, 0.5800000000000001]}, \"yaxis19\": {\"anchor\": \"x19\", \"domain\": [0.525, 0.5800000000000001]}, \"yaxis2\": {\"anchor\": \"x2\", \"domain\": [0.9450000000000001, 1.0]}, \"yaxis20\": {\"anchor\": \"x20\", \"domain\": [0.525, 0.5800000000000001]}, \"yaxis21\": {\"anchor\": \"x21\", \"domain\": [0.42000000000000004, 0.47500000000000003]}, \"yaxis22\": {\"anchor\": \"x22\", \"domain\": [0.42000000000000004, 0.47500000000000003]}, \"yaxis23\": {\"anchor\": \"x23\", \"domain\": [0.42000000000000004, 0.47500000000000003]}, \"yaxis24\": {\"anchor\": \"x24\", \"domain\": [0.42000000000000004, 0.47500000000000003]}, \"yaxis25\": {\"anchor\": \"x25\", \"domain\": [0.31500000000000006, 0.37000000000000005]}, \"yaxis26\": {\"anchor\": \"x26\", \"domain\": [0.31500000000000006, 0.37000000000000005]}, \"yaxis27\": {\"anchor\": \"x27\", \"domain\": [0.31500000000000006, 0.37000000000000005]}, \"yaxis28\": {\"anchor\": \"x28\", \"domain\": [0.31500000000000006, 0.37000000000000005]}, \"yaxis29\": {\"anchor\": \"x29\", \"domain\": [0.21000000000000002, 0.265]}, \"yaxis3\": {\"anchor\": \"x3\", \"domain\": [0.9450000000000001, 1.0]}, \"yaxis30\": {\"anchor\": \"x30\", \"domain\": [0.21000000000000002, 0.265]}, \"yaxis31\": {\"anchor\": \"x31\", \"domain\": [0.21000000000000002, 0.265]}, \"yaxis32\": {\"anchor\": \"x32\", \"domain\": [0.21000000000000002, 0.265]}, \"yaxis33\": {\"anchor\": \"x33\", \"domain\": [0.10500000000000001, 0.16000000000000003]}, \"yaxis34\": {\"anchor\": \"x34\", \"domain\": [0.10500000000000001, 0.16000000000000003]}, \"yaxis35\": {\"anchor\": \"x35\", \"domain\": [0.10500000000000001, 0.16000000000000003]}, \"yaxis36\": {\"anchor\": \"x36\", \"domain\": [0.10500000000000001, 0.16000000000000003]}, \"yaxis37\": {\"anchor\": \"x37\", \"domain\": [0.0, 0.05500000000000001]}, \"yaxis38\": {\"anchor\": \"x38\", \"domain\": [0.0, 0.05500000000000001]}, \"yaxis39\": {\"anchor\": \"x39\", \"domain\": [0.0, 0.05500000000000001]}, \"yaxis4\": {\"anchor\": \"x4\", \"domain\": [0.9450000000000001, 1.0]}, \"yaxis40\": {\"anchor\": \"x40\", \"domain\": [0.0, 0.05500000000000001]}, \"yaxis5\": {\"anchor\": \"x5\", \"domain\": [0.8400000000000001, 0.8950000000000001]}, \"yaxis6\": {\"anchor\": \"x6\", \"domain\": [0.8400000000000001, 0.8950000000000001]}, \"yaxis7\": {\"anchor\": \"x7\", \"domain\": [0.8400000000000001, 0.8950000000000001]}, \"yaxis8\": {\"anchor\": \"x8\", \"domain\": [0.8400000000000001, 0.8950000000000001]}, \"yaxis9\": {\"anchor\": \"x9\", \"domain\": [0.7350000000000001, 0.7900000000000001]}},\n",
       "                        {\"responsive\": true}\n",
       "                    ).then(function(){\n",
       "                            \n",
       "var gd = document.getElementById('b518a987-781b-4323-ae50-28b7358dab7b');\n",
       "var x = new MutationObserver(function (mutations, observer) {{\n",
       "        var display = window.getComputedStyle(gd).display;\n",
       "        if (!display || display === 'none') {{\n",
       "            console.log([gd, 'removed!']);\n",
       "            Plotly.purge(gd);\n",
       "            observer.disconnect();\n",
       "        }}\n",
       "}});\n",
       "\n",
       "// Listen for the removal of the full notebook cells\n",
       "var notebookContainer = gd.closest('#notebook-container');\n",
       "if (notebookContainer) {{\n",
       "    x.observe(notebookContainer, {childList: true});\n",
       "}}\n",
       "\n",
       "// Listen for the clearing of the current output cell\n",
       "var outputEl = gd.closest('.output');\n",
       "if (outputEl) {{\n",
       "    x.observe(outputEl, {childList: true});\n",
       "}}\n",
       "\n",
       "                        })\n",
       "                };\n",
       "                });\n",
       "            </script>\n",
       "        </div>"
      ]
     },
     "metadata": {},
     "output_type": "display_data"
    }
   ],
   "source": [
    "start = 40\n",
    "end = 80\n",
    "cols = 4\n",
    "fig = make_subplots(rows = 10, \n",
    "                    cols = cols,\n",
    "                    subplot_titles = sub_names[start:end],                    \n",
    "                    #vertical_spacing = 0.08,\n",
    "                    #horizontal_spacing = None\n",
    "                   )\n",
    "for i in range(40):\n",
    "    fig.append_trace(go.Bar(\n",
    "        #x = ['comp1', 'comp2', 'comp3', 'comp4', 'comp5'],\n",
    "        y = df_Q.iloc[i, :],\n",
    "        hovertext = df_Q.iloc[i, :]\n",
    "    ), row = i // cols + 1, col = i % cols + 1)\n",
    "    #print(i // 4 + 1, i % 4 + 1, df_Q.iloc[i, :])\n",
    "#fig.update_layout(height = 300 + len(df_Q)//4 + 1, width=1000, title_text=\"Stacked subplots\")\n",
    "fig.update_layout(height = 100 * 10, \n",
    "                  width=200 * cols, \n",
    "                  title_text=\"Графики разложения отельных индивидов на компоненты\",\n",
    "                  showlegend = False\n",
    "                 )\n",
    "fig.show()"
   ]
  },
  {
   "cell_type": "code",
   "execution_count": 58,
   "metadata": {},
   "outputs": [
    {
     "data": {
      "application/vnd.plotly.v1+json": {
       "config": {
        "plotlyServerURL": "https://plot.ly"
       },
       "data": [
        {
         "hovertext": [
          0.17185899999999998,
          0.7999149999999999,
          0.016705,
          1e-05,
          0.011512
         ],
         "type": "bar",
         "xaxis": "x",
         "y": [
          0.17185899999999998,
          0.7999149999999999,
          0.016705,
          1e-05,
          0.011512
         ],
         "yaxis": "y"
        },
        {
         "hovertext": [
          0.44983599999999996,
          0.321868,
          0.000547,
          0.024397,
          0.203353
         ],
         "type": "bar",
         "xaxis": "x2",
         "y": [
          0.44983599999999996,
          0.321868,
          0.000547,
          0.024397,
          0.203353
         ],
         "yaxis": "y2"
        },
        {
         "hovertext": [
          0.0020670000000000003,
          0.834965,
          0.162063,
          1e-05,
          0.0008939999999999999
         ],
         "type": "bar",
         "xaxis": "x3",
         "y": [
          0.0020670000000000003,
          0.834965,
          0.162063,
          1e-05,
          0.0008939999999999999
         ],
         "yaxis": "y3"
        },
        {
         "hovertext": [
          1e-05,
          0.22983,
          0.352719,
          0.163078,
          0.254363
         ],
         "type": "bar",
         "xaxis": "x4",
         "y": [
          1e-05,
          0.22983,
          0.352719,
          0.163078,
          0.254363
         ],
         "yaxis": "y4"
        },
        {
         "hovertext": [
          0.00098,
          0.32747,
          0.08715,
          0.036509,
          0.547892
         ],
         "type": "bar",
         "xaxis": "x5",
         "y": [
          0.00098,
          0.32747,
          0.08715,
          0.036509,
          0.547892
         ],
         "yaxis": "y5"
        },
        {
         "hovertext": [
          0.034664999999999994,
          0.693854,
          1e-05,
          1e-05,
          0.271461
         ],
         "type": "bar",
         "xaxis": "x6",
         "y": [
          0.034664999999999994,
          0.693854,
          1e-05,
          1e-05,
          0.271461
         ],
         "yaxis": "y6"
        },
        {
         "hovertext": [
          1e-05,
          0.985035,
          0.014006999999999999,
          1e-05,
          0.000938
         ],
         "type": "bar",
         "xaxis": "x7",
         "y": [
          1e-05,
          0.985035,
          0.014006999999999999,
          1e-05,
          0.000938
         ],
         "yaxis": "y7"
        },
        {
         "hovertext": [
          0.628153,
          0.351371,
          0.003244,
          0.017223,
          1e-05
         ],
         "type": "bar",
         "xaxis": "x8",
         "y": [
          0.628153,
          0.351371,
          0.003244,
          0.017223,
          1e-05
         ],
         "yaxis": "y8"
        },
        {
         "hovertext": [
          0.15398,
          0.8246020000000001,
          0.015864,
          0.0055439999999999994,
          1e-05
         ],
         "type": "bar",
         "xaxis": "x9",
         "y": [
          0.15398,
          0.8246020000000001,
          0.015864,
          0.0055439999999999994,
          1e-05
         ],
         "yaxis": "y9"
        },
        {
         "hovertext": [
          0.0007650000000000001,
          0.193234,
          0.005483,
          0.001074,
          0.799443
         ],
         "type": "bar",
         "xaxis": "x10",
         "y": [
          0.0007650000000000001,
          0.193234,
          0.005483,
          0.001074,
          0.799443
         ],
         "yaxis": "y10"
        },
        {
         "hovertext": [
          0.103934,
          0.674946,
          0.071757,
          1e-05,
          0.14935299999999999
         ],
         "type": "bar",
         "xaxis": "x11",
         "y": [
          0.103934,
          0.674946,
          0.071757,
          1e-05,
          0.14935299999999999
         ],
         "yaxis": "y11"
        },
        {
         "hovertext": [
          0.751739,
          0.086618,
          1e-05,
          0.16131099999999998,
          0.000322
         ],
         "type": "bar",
         "xaxis": "x12",
         "y": [
          0.751739,
          0.086618,
          1e-05,
          0.16131099999999998,
          0.000322
         ],
         "yaxis": "y12"
        },
        {
         "hovertext": [
          0.061538,
          1e-05,
          1e-05,
          0.000151,
          0.938292
         ],
         "type": "bar",
         "xaxis": "x13",
         "y": [
          0.061538,
          1e-05,
          1e-05,
          0.000151,
          0.938292
         ],
         "yaxis": "y13"
        },
        {
         "hovertext": [
          0.543543,
          0.451825,
          0.000696,
          0.003926,
          1e-05
         ],
         "type": "bar",
         "xaxis": "x14",
         "y": [
          0.543543,
          0.451825,
          0.000696,
          0.003926,
          1e-05
         ],
         "yaxis": "y14"
        },
        {
         "hovertext": [
          0.508288,
          0.333075,
          0.001954,
          0.156673,
          1e-05
         ],
         "type": "bar",
         "xaxis": "x15",
         "y": [
          0.508288,
          0.333075,
          0.001954,
          0.156673,
          1e-05
         ],
         "yaxis": "y15"
        },
        {
         "hovertext": [
          0.06285299999999999,
          0.766232,
          0.012008,
          0.001888,
          0.157019
         ],
         "type": "bar",
         "xaxis": "x16",
         "y": [
          0.06285299999999999,
          0.766232,
          0.012008,
          0.001888,
          0.157019
         ],
         "yaxis": "y16"
        },
        {
         "hovertext": [
          0.558817,
          0.44115299999999996,
          1e-05,
          1e-05,
          1e-05
         ],
         "type": "bar",
         "xaxis": "x17",
         "y": [
          0.558817,
          0.44115299999999996,
          1e-05,
          1e-05,
          1e-05
         ],
         "yaxis": "y17"
        },
        {
         "hovertext": [
          1e-05,
          0.732159,
          0.080752,
          1e-05,
          0.187069
         ],
         "type": "bar",
         "xaxis": "x18",
         "y": [
          1e-05,
          0.732159,
          0.080752,
          1e-05,
          0.187069
         ],
         "yaxis": "y18"
        },
        {
         "hovertext": [
          0.0016309999999999999,
          0.18851400000000001,
          1e-05,
          1e-05,
          0.8098350000000001
         ],
         "type": "bar",
         "xaxis": "x19",
         "y": [
          0.0016309999999999999,
          0.18851400000000001,
          1e-05,
          1e-05,
          0.8098350000000001
         ],
         "yaxis": "y19"
        },
        {
         "hovertext": [
          0.498687,
          0.0052049999999999996,
          0.000276,
          0.202497,
          0.293335
         ],
         "type": "bar",
         "xaxis": "x20",
         "y": [
          0.498687,
          0.0052049999999999996,
          0.000276,
          0.202497,
          0.293335
         ],
         "yaxis": "y20"
        },
        {
         "hovertext": [
          2.8000000000000003e-05,
          0.7619020000000001,
          0.137036,
          0.0053100000000000005,
          0.095724
         ],
         "type": "bar",
         "xaxis": "x21",
         "y": [
          2.8000000000000003e-05,
          0.7619020000000001,
          0.137036,
          0.0053100000000000005,
          0.095724
         ],
         "yaxis": "y21"
        },
        {
         "hovertext": [
          1e-05,
          0.87935,
          0.116703,
          0.003754,
          0.000182
         ],
         "type": "bar",
         "xaxis": "x22",
         "y": [
          1e-05,
          0.87935,
          0.116703,
          0.003754,
          0.000182
         ],
         "yaxis": "y22"
        },
        {
         "hovertext": [
          0.055425,
          0.284242,
          1e-05,
          0.001916,
          0.658408
         ],
         "type": "bar",
         "xaxis": "x23",
         "y": [
          0.055425,
          0.284242,
          1e-05,
          0.001916,
          0.658408
         ],
         "yaxis": "y23"
        },
        {
         "hovertext": [
          1e-05,
          0.8205950000000001,
          0.177715,
          1e-05,
          0.0016699999999999998
         ],
         "type": "bar",
         "xaxis": "x24",
         "y": [
          1e-05,
          0.8205950000000001,
          0.177715,
          1e-05,
          0.0016699999999999998
         ],
         "yaxis": "y24"
        },
        {
         "hovertext": [
          0.307172,
          0.691229,
          0.0015789999999999999,
          1e-05,
          1e-05
         ],
         "type": "bar",
         "xaxis": "x25",
         "y": [
          0.307172,
          0.691229,
          0.0015789999999999999,
          1e-05,
          1e-05
         ],
         "yaxis": "y25"
        },
        {
         "hovertext": [
          0.8376790000000001,
          0.001201,
          1e-05,
          0.1611,
          1e-05
         ],
         "type": "bar",
         "xaxis": "x26",
         "y": [
          0.8376790000000001,
          0.001201,
          1e-05,
          0.1611,
          1e-05
         ],
         "yaxis": "y26"
        },
        {
         "hovertext": [
          0.164722,
          1e-05,
          0.0016879999999999998,
          0.00013000000000000002,
          0.83345
         ],
         "type": "bar",
         "xaxis": "x27",
         "y": [
          0.164722,
          1e-05,
          0.0016879999999999998,
          0.00013000000000000002,
          0.83345
         ],
         "yaxis": "y27"
        },
        {
         "hovertext": [
          1e-05,
          0.122401,
          1e-05,
          0.0016079999999999998,
          0.87597
         ],
         "type": "bar",
         "xaxis": "x28",
         "y": [
          1e-05,
          0.122401,
          1e-05,
          0.0016079999999999998,
          0.87597
         ],
         "yaxis": "y28"
        },
        {
         "hovertext": [
          1e-05,
          0.829167,
          0.13126300000000002,
          0.002309,
          0.037251
         ],
         "type": "bar",
         "xaxis": "x29",
         "y": [
          1e-05,
          0.829167,
          0.13126300000000002,
          0.002309,
          0.037251
         ],
         "yaxis": "y29"
        },
        {
         "hovertext": [
          0.001142,
          0.370487,
          0.001819,
          0.00022799999999999999,
          0.626325
         ],
         "type": "bar",
         "xaxis": "x30",
         "y": [
          0.001142,
          0.370487,
          0.001819,
          0.00022799999999999999,
          0.626325
         ],
         "yaxis": "y30"
        },
        {
         "hovertext": [
          0.034695,
          0.689542,
          0.002226,
          1e-05,
          0.273528
         ],
         "type": "bar",
         "xaxis": "x31",
         "y": [
          0.034695,
          0.689542,
          0.002226,
          1e-05,
          0.273528
         ],
         "yaxis": "y31"
        },
        {
         "hovertext": [
          0.648838,
          1e-05,
          0.002211,
          0.348931,
          1e-05
         ],
         "type": "bar",
         "xaxis": "x32",
         "y": [
          0.648838,
          1e-05,
          0.002211,
          0.348931,
          1e-05
         ],
         "yaxis": "y32"
        },
        {
         "hovertext": [
          0.654985,
          0.215915,
          8.8e-05,
          0.129002,
          1e-05
         ],
         "type": "bar",
         "xaxis": "x33",
         "y": [
          0.654985,
          0.215915,
          8.8e-05,
          0.129002,
          1e-05
         ],
         "yaxis": "y33"
        },
        {
         "hovertext": [
          1e-05,
          0.176446,
          1e-05,
          1e-05,
          0.8235239999999999
         ],
         "type": "bar",
         "xaxis": "x34",
         "y": [
          1e-05,
          0.176446,
          1e-05,
          1e-05,
          0.8235239999999999
         ],
         "yaxis": "y34"
        },
        {
         "hovertext": [
          0.03589,
          0.947693,
          0.014878,
          1e-05,
          0.0015300000000000001
         ],
         "type": "bar",
         "xaxis": "x35",
         "y": [
          0.03589,
          0.947693,
          0.014878,
          1e-05,
          0.0015300000000000001
         ],
         "yaxis": "y35"
        },
        {
         "hovertext": [
          1e-05,
          0.8805639999999999,
          0.11780299999999999,
          0.0016129999999999999,
          1e-05
         ],
         "type": "bar",
         "xaxis": "x36",
         "y": [
          1e-05,
          0.8805639999999999,
          0.11780299999999999,
          0.0016129999999999999,
          1e-05
         ],
         "yaxis": "y36"
        },
        {
         "hovertext": [
          0.471649,
          0.35695,
          1e-05,
          0.048345,
          0.123047
         ],
         "type": "bar",
         "xaxis": "x37",
         "y": [
          0.471649,
          0.35695,
          1e-05,
          0.048345,
          0.123047
         ],
         "yaxis": "y37"
        },
        {
         "hovertext": [
          1e-05,
          0.455271,
          0.375348,
          0.168303,
          0.001068
         ],
         "type": "bar",
         "xaxis": "x38",
         "y": [
          1e-05,
          0.455271,
          0.375348,
          0.168303,
          0.001068
         ],
         "yaxis": "y38"
        },
        {
         "hovertext": [
          0.285193,
          0.714777,
          1e-05,
          1e-05,
          1e-05
         ],
         "type": "bar",
         "xaxis": "x39",
         "y": [
          0.285193,
          0.714777,
          1e-05,
          1e-05,
          1e-05
         ],
         "yaxis": "y39"
        },
        {
         "hovertext": [
          1e-05,
          1e-05,
          0.031372000000000004,
          0.05334,
          0.9152680000000001
         ],
         "type": "bar",
         "xaxis": "x40",
         "y": [
          1e-05,
          1e-05,
          0.031372000000000004,
          0.05334,
          0.9152680000000001
         ],
         "yaxis": "y40"
        }
       ],
       "layout": {
        "annotations": [
         {
          "font": {
           "size": 16
          },
          "showarrow": false,
          "text": "HG00239 - GBR",
          "x": 0.10625,
          "xanchor": "center",
          "xref": "paper",
          "y": 1,
          "yanchor": "bottom",
          "yref": "paper"
         },
         {
          "font": {
           "size": 16
          },
          "showarrow": false,
          "text": "HG00240 - GBR",
          "x": 0.36875,
          "xanchor": "center",
          "xref": "paper",
          "y": 1,
          "yanchor": "bottom",
          "yref": "paper"
         },
         {
          "font": {
           "size": 16
          },
          "showarrow": false,
          "text": "HG00242 - GBR",
          "x": 0.6312500000000001,
          "xanchor": "center",
          "xref": "paper",
          "y": 1,
          "yanchor": "bottom",
          "yref": "paper"
         },
         {
          "font": {
           "size": 16
          },
          "showarrow": false,
          "text": "HG00243 - GBR",
          "x": 0.89375,
          "xanchor": "center",
          "xref": "paper",
          "y": 1,
          "yanchor": "bottom",
          "yref": "paper"
         },
         {
          "font": {
           "size": 16
          },
          "showarrow": false,
          "text": "HG00244 - GBR",
          "x": 0.10625,
          "xanchor": "center",
          "xref": "paper",
          "y": 0.8950000000000001,
          "yanchor": "bottom",
          "yref": "paper"
         },
         {
          "font": {
           "size": 16
          },
          "showarrow": false,
          "text": "HG00245 - GBR",
          "x": 0.36875,
          "xanchor": "center",
          "xref": "paper",
          "y": 0.8950000000000001,
          "yanchor": "bottom",
          "yref": "paper"
         },
         {
          "font": {
           "size": 16
          },
          "showarrow": false,
          "text": "HG00246 - GBR",
          "x": 0.6312500000000001,
          "xanchor": "center",
          "xref": "paper",
          "y": 0.8950000000000001,
          "yanchor": "bottom",
          "yref": "paper"
         },
         {
          "font": {
           "size": 16
          },
          "showarrow": false,
          "text": "HG00250 - GBR",
          "x": 0.89375,
          "xanchor": "center",
          "xref": "paper",
          "y": 0.8950000000000001,
          "yanchor": "bottom",
          "yref": "paper"
         },
         {
          "font": {
           "size": 16
          },
          "showarrow": false,
          "text": "HG00251 - GBR",
          "x": 0.10625,
          "xanchor": "center",
          "xref": "paper",
          "y": 0.7900000000000001,
          "yanchor": "bottom",
          "yref": "paper"
         },
         {
          "font": {
           "size": 16
          },
          "showarrow": false,
          "text": "HG00252 - GBR",
          "x": 0.36875,
          "xanchor": "center",
          "xref": "paper",
          "y": 0.7900000000000001,
          "yanchor": "bottom",
          "yref": "paper"
         },
         {
          "font": {
           "size": 16
          },
          "showarrow": false,
          "text": "HG00253 - GBR",
          "x": 0.6312500000000001,
          "xanchor": "center",
          "xref": "paper",
          "y": 0.7900000000000001,
          "yanchor": "bottom",
          "yref": "paper"
         },
         {
          "font": {
           "size": 16
          },
          "showarrow": false,
          "text": "HG00254 - GBR",
          "x": 0.89375,
          "xanchor": "center",
          "xref": "paper",
          "y": 0.7900000000000001,
          "yanchor": "bottom",
          "yref": "paper"
         },
         {
          "font": {
           "size": 16
          },
          "showarrow": false,
          "text": "HG00255 - GBR",
          "x": 0.10625,
          "xanchor": "center",
          "xref": "paper",
          "y": 0.6850000000000002,
          "yanchor": "bottom",
          "yref": "paper"
         },
         {
          "font": {
           "size": 16
          },
          "showarrow": false,
          "text": "HG00256 - GBR",
          "x": 0.36875,
          "xanchor": "center",
          "xref": "paper",
          "y": 0.6850000000000002,
          "yanchor": "bottom",
          "yref": "paper"
         },
         {
          "font": {
           "size": 16
          },
          "showarrow": false,
          "text": "HG00257 - GBR",
          "x": 0.6312500000000001,
          "xanchor": "center",
          "xref": "paper",
          "y": 0.6850000000000002,
          "yanchor": "bottom",
          "yref": "paper"
         },
         {
          "font": {
           "size": 16
          },
          "showarrow": false,
          "text": "HG00258 - GBR",
          "x": 0.89375,
          "xanchor": "center",
          "xref": "paper",
          "y": 0.6850000000000002,
          "yanchor": "bottom",
          "yref": "paper"
         },
         {
          "font": {
           "size": 16
          },
          "showarrow": false,
          "text": "HG00259 - GBR",
          "x": 0.10625,
          "xanchor": "center",
          "xref": "paper",
          "y": 0.5800000000000001,
          "yanchor": "bottom",
          "yref": "paper"
         },
         {
          "font": {
           "size": 16
          },
          "showarrow": false,
          "text": "HG00260 - GBR",
          "x": 0.36875,
          "xanchor": "center",
          "xref": "paper",
          "y": 0.5800000000000001,
          "yanchor": "bottom",
          "yref": "paper"
         },
         {
          "font": {
           "size": 16
          },
          "showarrow": false,
          "text": "HG00261 - GBR",
          "x": 0.6312500000000001,
          "xanchor": "center",
          "xref": "paper",
          "y": 0.5800000000000001,
          "yanchor": "bottom",
          "yref": "paper"
         },
         {
          "font": {
           "size": 16
          },
          "showarrow": false,
          "text": "HG00262 - GBR",
          "x": 0.89375,
          "xanchor": "center",
          "xref": "paper",
          "y": 0.5800000000000001,
          "yanchor": "bottom",
          "yref": "paper"
         },
         {
          "font": {
           "size": 16
          },
          "showarrow": false,
          "text": "HG00263 - GBR",
          "x": 0.10625,
          "xanchor": "center",
          "xref": "paper",
          "y": 0.47500000000000003,
          "yanchor": "bottom",
          "yref": "paper"
         },
         {
          "font": {
           "size": 16
          },
          "showarrow": false,
          "text": "HG00264 - GBR",
          "x": 0.36875,
          "xanchor": "center",
          "xref": "paper",
          "y": 0.47500000000000003,
          "yanchor": "bottom",
          "yref": "paper"
         },
         {
          "font": {
           "size": 16
          },
          "showarrow": false,
          "text": "HG00265 - GBR",
          "x": 0.6312500000000001,
          "xanchor": "center",
          "xref": "paper",
          "y": 0.47500000000000003,
          "yanchor": "bottom",
          "yref": "paper"
         },
         {
          "font": {
           "size": 16
          },
          "showarrow": false,
          "text": "HG00266 - FIN",
          "x": 0.89375,
          "xanchor": "center",
          "xref": "paper",
          "y": 0.47500000000000003,
          "yanchor": "bottom",
          "yref": "paper"
         },
         {
          "font": {
           "size": 16
          },
          "showarrow": false,
          "text": "HG00267 - FIN",
          "x": 0.10625,
          "xanchor": "center",
          "xref": "paper",
          "y": 0.37000000000000005,
          "yanchor": "bottom",
          "yref": "paper"
         },
         {
          "font": {
           "size": 16
          },
          "showarrow": false,
          "text": "HG00268 - FIN",
          "x": 0.36875,
          "xanchor": "center",
          "xref": "paper",
          "y": 0.37000000000000005,
          "yanchor": "bottom",
          "yref": "paper"
         },
         {
          "font": {
           "size": 16
          },
          "showarrow": false,
          "text": "HG00269 - FIN",
          "x": 0.6312500000000001,
          "xanchor": "center",
          "xref": "paper",
          "y": 0.37000000000000005,
          "yanchor": "bottom",
          "yref": "paper"
         },
         {
          "font": {
           "size": 16
          },
          "showarrow": false,
          "text": "HG00271 - FIN",
          "x": 0.89375,
          "xanchor": "center",
          "xref": "paper",
          "y": 0.37000000000000005,
          "yanchor": "bottom",
          "yref": "paper"
         },
         {
          "font": {
           "size": 16
          },
          "showarrow": false,
          "text": "HG00272 - FIN",
          "x": 0.10625,
          "xanchor": "center",
          "xref": "paper",
          "y": 0.265,
          "yanchor": "bottom",
          "yref": "paper"
         },
         {
          "font": {
           "size": 16
          },
          "showarrow": false,
          "text": "HG00273 - FIN",
          "x": 0.36875,
          "xanchor": "center",
          "xref": "paper",
          "y": 0.265,
          "yanchor": "bottom",
          "yref": "paper"
         },
         {
          "font": {
           "size": 16
          },
          "showarrow": false,
          "text": "HG00274 - FIN",
          "x": 0.6312500000000001,
          "xanchor": "center",
          "xref": "paper",
          "y": 0.265,
          "yanchor": "bottom",
          "yref": "paper"
         },
         {
          "font": {
           "size": 16
          },
          "showarrow": false,
          "text": "HG00275 - FIN",
          "x": 0.89375,
          "xanchor": "center",
          "xref": "paper",
          "y": 0.265,
          "yanchor": "bottom",
          "yref": "paper"
         },
         {
          "font": {
           "size": 16
          },
          "showarrow": false,
          "text": "HG00276 - FIN",
          "x": 0.10625,
          "xanchor": "center",
          "xref": "paper",
          "y": 0.16000000000000003,
          "yanchor": "bottom",
          "yref": "paper"
         },
         {
          "font": {
           "size": 16
          },
          "showarrow": false,
          "text": "HG00277 - FIN",
          "x": 0.36875,
          "xanchor": "center",
          "xref": "paper",
          "y": 0.16000000000000003,
          "yanchor": "bottom",
          "yref": "paper"
         },
         {
          "font": {
           "size": 16
          },
          "showarrow": false,
          "text": "HG00278 - FIN",
          "x": 0.6312500000000001,
          "xanchor": "center",
          "xref": "paper",
          "y": 0.16000000000000003,
          "yanchor": "bottom",
          "yref": "paper"
         },
         {
          "font": {
           "size": 16
          },
          "showarrow": false,
          "text": "HG00280 - FIN",
          "x": 0.89375,
          "xanchor": "center",
          "xref": "paper",
          "y": 0.16000000000000003,
          "yanchor": "bottom",
          "yref": "paper"
         },
         {
          "font": {
           "size": 16
          },
          "showarrow": false,
          "text": "HG00281 - FIN",
          "x": 0.10625,
          "xanchor": "center",
          "xref": "paper",
          "y": 0.05500000000000001,
          "yanchor": "bottom",
          "yref": "paper"
         },
         {
          "font": {
           "size": 16
          },
          "showarrow": false,
          "text": "HG00282 - FIN",
          "x": 0.36875,
          "xanchor": "center",
          "xref": "paper",
          "y": 0.05500000000000001,
          "yanchor": "bottom",
          "yref": "paper"
         },
         {
          "font": {
           "size": 16
          },
          "showarrow": false,
          "text": "HG00284 - FIN",
          "x": 0.6312500000000001,
          "xanchor": "center",
          "xref": "paper",
          "y": 0.05500000000000001,
          "yanchor": "bottom",
          "yref": "paper"
         },
         {
          "font": {
           "size": 16
          },
          "showarrow": false,
          "text": "HG00285 - FIN",
          "x": 0.89375,
          "xanchor": "center",
          "xref": "paper",
          "y": 0.05500000000000001,
          "yanchor": "bottom",
          "yref": "paper"
         }
        ],
        "height": 1000,
        "showlegend": false,
        "template": {
         "data": {
          "bar": [
           {
            "error_x": {
             "color": "#2a3f5f"
            },
            "error_y": {
             "color": "#2a3f5f"
            },
            "marker": {
             "line": {
              "color": "#E5ECF6",
              "width": 0.5
             }
            },
            "type": "bar"
           }
          ],
          "barpolar": [
           {
            "marker": {
             "line": {
              "color": "#E5ECF6",
              "width": 0.5
             }
            },
            "type": "barpolar"
           }
          ],
          "carpet": [
           {
            "aaxis": {
             "endlinecolor": "#2a3f5f",
             "gridcolor": "white",
             "linecolor": "white",
             "minorgridcolor": "white",
             "startlinecolor": "#2a3f5f"
            },
            "baxis": {
             "endlinecolor": "#2a3f5f",
             "gridcolor": "white",
             "linecolor": "white",
             "minorgridcolor": "white",
             "startlinecolor": "#2a3f5f"
            },
            "type": "carpet"
           }
          ],
          "choropleth": [
           {
            "colorbar": {
             "outlinewidth": 0,
             "ticks": ""
            },
            "type": "choropleth"
           }
          ],
          "contour": [
           {
            "colorbar": {
             "outlinewidth": 0,
             "ticks": ""
            },
            "colorscale": [
             [
              0,
              "#0d0887"
             ],
             [
              0.1111111111111111,
              "#46039f"
             ],
             [
              0.2222222222222222,
              "#7201a8"
             ],
             [
              0.3333333333333333,
              "#9c179e"
             ],
             [
              0.4444444444444444,
              "#bd3786"
             ],
             [
              0.5555555555555556,
              "#d8576b"
             ],
             [
              0.6666666666666666,
              "#ed7953"
             ],
             [
              0.7777777777777778,
              "#fb9f3a"
             ],
             [
              0.8888888888888888,
              "#fdca26"
             ],
             [
              1,
              "#f0f921"
             ]
            ],
            "type": "contour"
           }
          ],
          "contourcarpet": [
           {
            "colorbar": {
             "outlinewidth": 0,
             "ticks": ""
            },
            "type": "contourcarpet"
           }
          ],
          "heatmap": [
           {
            "colorbar": {
             "outlinewidth": 0,
             "ticks": ""
            },
            "colorscale": [
             [
              0,
              "#0d0887"
             ],
             [
              0.1111111111111111,
              "#46039f"
             ],
             [
              0.2222222222222222,
              "#7201a8"
             ],
             [
              0.3333333333333333,
              "#9c179e"
             ],
             [
              0.4444444444444444,
              "#bd3786"
             ],
             [
              0.5555555555555556,
              "#d8576b"
             ],
             [
              0.6666666666666666,
              "#ed7953"
             ],
             [
              0.7777777777777778,
              "#fb9f3a"
             ],
             [
              0.8888888888888888,
              "#fdca26"
             ],
             [
              1,
              "#f0f921"
             ]
            ],
            "type": "heatmap"
           }
          ],
          "heatmapgl": [
           {
            "colorbar": {
             "outlinewidth": 0,
             "ticks": ""
            },
            "colorscale": [
             [
              0,
              "#0d0887"
             ],
             [
              0.1111111111111111,
              "#46039f"
             ],
             [
              0.2222222222222222,
              "#7201a8"
             ],
             [
              0.3333333333333333,
              "#9c179e"
             ],
             [
              0.4444444444444444,
              "#bd3786"
             ],
             [
              0.5555555555555556,
              "#d8576b"
             ],
             [
              0.6666666666666666,
              "#ed7953"
             ],
             [
              0.7777777777777778,
              "#fb9f3a"
             ],
             [
              0.8888888888888888,
              "#fdca26"
             ],
             [
              1,
              "#f0f921"
             ]
            ],
            "type": "heatmapgl"
           }
          ],
          "histogram": [
           {
            "marker": {
             "colorbar": {
              "outlinewidth": 0,
              "ticks": ""
             }
            },
            "type": "histogram"
           }
          ],
          "histogram2d": [
           {
            "colorbar": {
             "outlinewidth": 0,
             "ticks": ""
            },
            "colorscale": [
             [
              0,
              "#0d0887"
             ],
             [
              0.1111111111111111,
              "#46039f"
             ],
             [
              0.2222222222222222,
              "#7201a8"
             ],
             [
              0.3333333333333333,
              "#9c179e"
             ],
             [
              0.4444444444444444,
              "#bd3786"
             ],
             [
              0.5555555555555556,
              "#d8576b"
             ],
             [
              0.6666666666666666,
              "#ed7953"
             ],
             [
              0.7777777777777778,
              "#fb9f3a"
             ],
             [
              0.8888888888888888,
              "#fdca26"
             ],
             [
              1,
              "#f0f921"
             ]
            ],
            "type": "histogram2d"
           }
          ],
          "histogram2dcontour": [
           {
            "colorbar": {
             "outlinewidth": 0,
             "ticks": ""
            },
            "colorscale": [
             [
              0,
              "#0d0887"
             ],
             [
              0.1111111111111111,
              "#46039f"
             ],
             [
              0.2222222222222222,
              "#7201a8"
             ],
             [
              0.3333333333333333,
              "#9c179e"
             ],
             [
              0.4444444444444444,
              "#bd3786"
             ],
             [
              0.5555555555555556,
              "#d8576b"
             ],
             [
              0.6666666666666666,
              "#ed7953"
             ],
             [
              0.7777777777777778,
              "#fb9f3a"
             ],
             [
              0.8888888888888888,
              "#fdca26"
             ],
             [
              1,
              "#f0f921"
             ]
            ],
            "type": "histogram2dcontour"
           }
          ],
          "mesh3d": [
           {
            "colorbar": {
             "outlinewidth": 0,
             "ticks": ""
            },
            "type": "mesh3d"
           }
          ],
          "parcoords": [
           {
            "line": {
             "colorbar": {
              "outlinewidth": 0,
              "ticks": ""
             }
            },
            "type": "parcoords"
           }
          ],
          "pie": [
           {
            "automargin": true,
            "type": "pie"
           }
          ],
          "scatter": [
           {
            "marker": {
             "colorbar": {
              "outlinewidth": 0,
              "ticks": ""
             }
            },
            "type": "scatter"
           }
          ],
          "scatter3d": [
           {
            "line": {
             "colorbar": {
              "outlinewidth": 0,
              "ticks": ""
             }
            },
            "marker": {
             "colorbar": {
              "outlinewidth": 0,
              "ticks": ""
             }
            },
            "type": "scatter3d"
           }
          ],
          "scattercarpet": [
           {
            "marker": {
             "colorbar": {
              "outlinewidth": 0,
              "ticks": ""
             }
            },
            "type": "scattercarpet"
           }
          ],
          "scattergeo": [
           {
            "marker": {
             "colorbar": {
              "outlinewidth": 0,
              "ticks": ""
             }
            },
            "type": "scattergeo"
           }
          ],
          "scattergl": [
           {
            "marker": {
             "colorbar": {
              "outlinewidth": 0,
              "ticks": ""
             }
            },
            "type": "scattergl"
           }
          ],
          "scattermapbox": [
           {
            "marker": {
             "colorbar": {
              "outlinewidth": 0,
              "ticks": ""
             }
            },
            "type": "scattermapbox"
           }
          ],
          "scatterpolar": [
           {
            "marker": {
             "colorbar": {
              "outlinewidth": 0,
              "ticks": ""
             }
            },
            "type": "scatterpolar"
           }
          ],
          "scatterpolargl": [
           {
            "marker": {
             "colorbar": {
              "outlinewidth": 0,
              "ticks": ""
             }
            },
            "type": "scatterpolargl"
           }
          ],
          "scatterternary": [
           {
            "marker": {
             "colorbar": {
              "outlinewidth": 0,
              "ticks": ""
             }
            },
            "type": "scatterternary"
           }
          ],
          "surface": [
           {
            "colorbar": {
             "outlinewidth": 0,
             "ticks": ""
            },
            "colorscale": [
             [
              0,
              "#0d0887"
             ],
             [
              0.1111111111111111,
              "#46039f"
             ],
             [
              0.2222222222222222,
              "#7201a8"
             ],
             [
              0.3333333333333333,
              "#9c179e"
             ],
             [
              0.4444444444444444,
              "#bd3786"
             ],
             [
              0.5555555555555556,
              "#d8576b"
             ],
             [
              0.6666666666666666,
              "#ed7953"
             ],
             [
              0.7777777777777778,
              "#fb9f3a"
             ],
             [
              0.8888888888888888,
              "#fdca26"
             ],
             [
              1,
              "#f0f921"
             ]
            ],
            "type": "surface"
           }
          ],
          "table": [
           {
            "cells": {
             "fill": {
              "color": "#EBF0F8"
             },
             "line": {
              "color": "white"
             }
            },
            "header": {
             "fill": {
              "color": "#C8D4E3"
             },
             "line": {
              "color": "white"
             }
            },
            "type": "table"
           }
          ]
         },
         "layout": {
          "annotationdefaults": {
           "arrowcolor": "#2a3f5f",
           "arrowhead": 0,
           "arrowwidth": 1
          },
          "coloraxis": {
           "colorbar": {
            "outlinewidth": 0,
            "ticks": ""
           }
          },
          "colorscale": {
           "diverging": [
            [
             0,
             "#8e0152"
            ],
            [
             0.1,
             "#c51b7d"
            ],
            [
             0.2,
             "#de77ae"
            ],
            [
             0.3,
             "#f1b6da"
            ],
            [
             0.4,
             "#fde0ef"
            ],
            [
             0.5,
             "#f7f7f7"
            ],
            [
             0.6,
             "#e6f5d0"
            ],
            [
             0.7,
             "#b8e186"
            ],
            [
             0.8,
             "#7fbc41"
            ],
            [
             0.9,
             "#4d9221"
            ],
            [
             1,
             "#276419"
            ]
           ],
           "sequential": [
            [
             0,
             "#0d0887"
            ],
            [
             0.1111111111111111,
             "#46039f"
            ],
            [
             0.2222222222222222,
             "#7201a8"
            ],
            [
             0.3333333333333333,
             "#9c179e"
            ],
            [
             0.4444444444444444,
             "#bd3786"
            ],
            [
             0.5555555555555556,
             "#d8576b"
            ],
            [
             0.6666666666666666,
             "#ed7953"
            ],
            [
             0.7777777777777778,
             "#fb9f3a"
            ],
            [
             0.8888888888888888,
             "#fdca26"
            ],
            [
             1,
             "#f0f921"
            ]
           ],
           "sequentialminus": [
            [
             0,
             "#0d0887"
            ],
            [
             0.1111111111111111,
             "#46039f"
            ],
            [
             0.2222222222222222,
             "#7201a8"
            ],
            [
             0.3333333333333333,
             "#9c179e"
            ],
            [
             0.4444444444444444,
             "#bd3786"
            ],
            [
             0.5555555555555556,
             "#d8576b"
            ],
            [
             0.6666666666666666,
             "#ed7953"
            ],
            [
             0.7777777777777778,
             "#fb9f3a"
            ],
            [
             0.8888888888888888,
             "#fdca26"
            ],
            [
             1,
             "#f0f921"
            ]
           ]
          },
          "colorway": [
           "#636efa",
           "#EF553B",
           "#00cc96",
           "#ab63fa",
           "#FFA15A",
           "#19d3f3",
           "#FF6692",
           "#B6E880",
           "#FF97FF",
           "#FECB52"
          ],
          "font": {
           "color": "#2a3f5f"
          },
          "geo": {
           "bgcolor": "white",
           "lakecolor": "white",
           "landcolor": "#E5ECF6",
           "showlakes": true,
           "showland": true,
           "subunitcolor": "white"
          },
          "hoverlabel": {
           "align": "left"
          },
          "hovermode": "closest",
          "mapbox": {
           "style": "light"
          },
          "paper_bgcolor": "white",
          "plot_bgcolor": "#E5ECF6",
          "polar": {
           "angularaxis": {
            "gridcolor": "white",
            "linecolor": "white",
            "ticks": ""
           },
           "bgcolor": "#E5ECF6",
           "radialaxis": {
            "gridcolor": "white",
            "linecolor": "white",
            "ticks": ""
           }
          },
          "scene": {
           "xaxis": {
            "backgroundcolor": "#E5ECF6",
            "gridcolor": "white",
            "gridwidth": 2,
            "linecolor": "white",
            "showbackground": true,
            "ticks": "",
            "zerolinecolor": "white"
           },
           "yaxis": {
            "backgroundcolor": "#E5ECF6",
            "gridcolor": "white",
            "gridwidth": 2,
            "linecolor": "white",
            "showbackground": true,
            "ticks": "",
            "zerolinecolor": "white"
           },
           "zaxis": {
            "backgroundcolor": "#E5ECF6",
            "gridcolor": "white",
            "gridwidth": 2,
            "linecolor": "white",
            "showbackground": true,
            "ticks": "",
            "zerolinecolor": "white"
           }
          },
          "shapedefaults": {
           "line": {
            "color": "#2a3f5f"
           }
          },
          "ternary": {
           "aaxis": {
            "gridcolor": "white",
            "linecolor": "white",
            "ticks": ""
           },
           "baxis": {
            "gridcolor": "white",
            "linecolor": "white",
            "ticks": ""
           },
           "bgcolor": "#E5ECF6",
           "caxis": {
            "gridcolor": "white",
            "linecolor": "white",
            "ticks": ""
           }
          },
          "title": {
           "x": 0.05
          },
          "xaxis": {
           "automargin": true,
           "gridcolor": "white",
           "linecolor": "white",
           "ticks": "",
           "title": {
            "standoff": 15
           },
           "zerolinecolor": "white",
           "zerolinewidth": 2
          },
          "yaxis": {
           "automargin": true,
           "gridcolor": "white",
           "linecolor": "white",
           "ticks": "",
           "title": {
            "standoff": 15
           },
           "zerolinecolor": "white",
           "zerolinewidth": 2
          }
         }
        },
        "title": {
         "text": "Графики разложения отельных индивидов на компоненты"
        },
        "width": 800,
        "xaxis": {
         "anchor": "y",
         "domain": [
          0,
          0.2125
         ]
        },
        "xaxis10": {
         "anchor": "y10",
         "domain": [
          0.2625,
          0.475
         ]
        },
        "xaxis11": {
         "anchor": "y11",
         "domain": [
          0.525,
          0.7375
         ]
        },
        "xaxis12": {
         "anchor": "y12",
         "domain": [
          0.7875,
          1
         ]
        },
        "xaxis13": {
         "anchor": "y13",
         "domain": [
          0,
          0.2125
         ]
        },
        "xaxis14": {
         "anchor": "y14",
         "domain": [
          0.2625,
          0.475
         ]
        },
        "xaxis15": {
         "anchor": "y15",
         "domain": [
          0.525,
          0.7375
         ]
        },
        "xaxis16": {
         "anchor": "y16",
         "domain": [
          0.7875,
          1
         ]
        },
        "xaxis17": {
         "anchor": "y17",
         "domain": [
          0,
          0.2125
         ]
        },
        "xaxis18": {
         "anchor": "y18",
         "domain": [
          0.2625,
          0.475
         ]
        },
        "xaxis19": {
         "anchor": "y19",
         "domain": [
          0.525,
          0.7375
         ]
        },
        "xaxis2": {
         "anchor": "y2",
         "domain": [
          0.2625,
          0.475
         ]
        },
        "xaxis20": {
         "anchor": "y20",
         "domain": [
          0.7875,
          1
         ]
        },
        "xaxis21": {
         "anchor": "y21",
         "domain": [
          0,
          0.2125
         ]
        },
        "xaxis22": {
         "anchor": "y22",
         "domain": [
          0.2625,
          0.475
         ]
        },
        "xaxis23": {
         "anchor": "y23",
         "domain": [
          0.525,
          0.7375
         ]
        },
        "xaxis24": {
         "anchor": "y24",
         "domain": [
          0.7875,
          1
         ]
        },
        "xaxis25": {
         "anchor": "y25",
         "domain": [
          0,
          0.2125
         ]
        },
        "xaxis26": {
         "anchor": "y26",
         "domain": [
          0.2625,
          0.475
         ]
        },
        "xaxis27": {
         "anchor": "y27",
         "domain": [
          0.525,
          0.7375
         ]
        },
        "xaxis28": {
         "anchor": "y28",
         "domain": [
          0.7875,
          1
         ]
        },
        "xaxis29": {
         "anchor": "y29",
         "domain": [
          0,
          0.2125
         ]
        },
        "xaxis3": {
         "anchor": "y3",
         "domain": [
          0.525,
          0.7375
         ]
        },
        "xaxis30": {
         "anchor": "y30",
         "domain": [
          0.2625,
          0.475
         ]
        },
        "xaxis31": {
         "anchor": "y31",
         "domain": [
          0.525,
          0.7375
         ]
        },
        "xaxis32": {
         "anchor": "y32",
         "domain": [
          0.7875,
          1
         ]
        },
        "xaxis33": {
         "anchor": "y33",
         "domain": [
          0,
          0.2125
         ]
        },
        "xaxis34": {
         "anchor": "y34",
         "domain": [
          0.2625,
          0.475
         ]
        },
        "xaxis35": {
         "anchor": "y35",
         "domain": [
          0.525,
          0.7375
         ]
        },
        "xaxis36": {
         "anchor": "y36",
         "domain": [
          0.7875,
          1
         ]
        },
        "xaxis37": {
         "anchor": "y37",
         "domain": [
          0,
          0.2125
         ]
        },
        "xaxis38": {
         "anchor": "y38",
         "domain": [
          0.2625,
          0.475
         ]
        },
        "xaxis39": {
         "anchor": "y39",
         "domain": [
          0.525,
          0.7375
         ]
        },
        "xaxis4": {
         "anchor": "y4",
         "domain": [
          0.7875,
          1
         ]
        },
        "xaxis40": {
         "anchor": "y40",
         "domain": [
          0.7875,
          1
         ]
        },
        "xaxis5": {
         "anchor": "y5",
         "domain": [
          0,
          0.2125
         ]
        },
        "xaxis6": {
         "anchor": "y6",
         "domain": [
          0.2625,
          0.475
         ]
        },
        "xaxis7": {
         "anchor": "y7",
         "domain": [
          0.525,
          0.7375
         ]
        },
        "xaxis8": {
         "anchor": "y8",
         "domain": [
          0.7875,
          1
         ]
        },
        "xaxis9": {
         "anchor": "y9",
         "domain": [
          0,
          0.2125
         ]
        },
        "yaxis": {
         "anchor": "x",
         "domain": [
          0.9450000000000001,
          1
         ]
        },
        "yaxis10": {
         "anchor": "x10",
         "domain": [
          0.7350000000000001,
          0.7900000000000001
         ]
        },
        "yaxis11": {
         "anchor": "x11",
         "domain": [
          0.7350000000000001,
          0.7900000000000001
         ]
        },
        "yaxis12": {
         "anchor": "x12",
         "domain": [
          0.7350000000000001,
          0.7900000000000001
         ]
        },
        "yaxis13": {
         "anchor": "x13",
         "domain": [
          0.6300000000000001,
          0.6850000000000002
         ]
        },
        "yaxis14": {
         "anchor": "x14",
         "domain": [
          0.6300000000000001,
          0.6850000000000002
         ]
        },
        "yaxis15": {
         "anchor": "x15",
         "domain": [
          0.6300000000000001,
          0.6850000000000002
         ]
        },
        "yaxis16": {
         "anchor": "x16",
         "domain": [
          0.6300000000000001,
          0.6850000000000002
         ]
        },
        "yaxis17": {
         "anchor": "x17",
         "domain": [
          0.525,
          0.5800000000000001
         ]
        },
        "yaxis18": {
         "anchor": "x18",
         "domain": [
          0.525,
          0.5800000000000001
         ]
        },
        "yaxis19": {
         "anchor": "x19",
         "domain": [
          0.525,
          0.5800000000000001
         ]
        },
        "yaxis2": {
         "anchor": "x2",
         "domain": [
          0.9450000000000001,
          1
         ]
        },
        "yaxis20": {
         "anchor": "x20",
         "domain": [
          0.525,
          0.5800000000000001
         ]
        },
        "yaxis21": {
         "anchor": "x21",
         "domain": [
          0.42000000000000004,
          0.47500000000000003
         ]
        },
        "yaxis22": {
         "anchor": "x22",
         "domain": [
          0.42000000000000004,
          0.47500000000000003
         ]
        },
        "yaxis23": {
         "anchor": "x23",
         "domain": [
          0.42000000000000004,
          0.47500000000000003
         ]
        },
        "yaxis24": {
         "anchor": "x24",
         "domain": [
          0.42000000000000004,
          0.47500000000000003
         ]
        },
        "yaxis25": {
         "anchor": "x25",
         "domain": [
          0.31500000000000006,
          0.37000000000000005
         ]
        },
        "yaxis26": {
         "anchor": "x26",
         "domain": [
          0.31500000000000006,
          0.37000000000000005
         ]
        },
        "yaxis27": {
         "anchor": "x27",
         "domain": [
          0.31500000000000006,
          0.37000000000000005
         ]
        },
        "yaxis28": {
         "anchor": "x28",
         "domain": [
          0.31500000000000006,
          0.37000000000000005
         ]
        },
        "yaxis29": {
         "anchor": "x29",
         "domain": [
          0.21000000000000002,
          0.265
         ]
        },
        "yaxis3": {
         "anchor": "x3",
         "domain": [
          0.9450000000000001,
          1
         ]
        },
        "yaxis30": {
         "anchor": "x30",
         "domain": [
          0.21000000000000002,
          0.265
         ]
        },
        "yaxis31": {
         "anchor": "x31",
         "domain": [
          0.21000000000000002,
          0.265
         ]
        },
        "yaxis32": {
         "anchor": "x32",
         "domain": [
          0.21000000000000002,
          0.265
         ]
        },
        "yaxis33": {
         "anchor": "x33",
         "domain": [
          0.10500000000000001,
          0.16000000000000003
         ]
        },
        "yaxis34": {
         "anchor": "x34",
         "domain": [
          0.10500000000000001,
          0.16000000000000003
         ]
        },
        "yaxis35": {
         "anchor": "x35",
         "domain": [
          0.10500000000000001,
          0.16000000000000003
         ]
        },
        "yaxis36": {
         "anchor": "x36",
         "domain": [
          0.10500000000000001,
          0.16000000000000003
         ]
        },
        "yaxis37": {
         "anchor": "x37",
         "domain": [
          0,
          0.05500000000000001
         ]
        },
        "yaxis38": {
         "anchor": "x38",
         "domain": [
          0,
          0.05500000000000001
         ]
        },
        "yaxis39": {
         "anchor": "x39",
         "domain": [
          0,
          0.05500000000000001
         ]
        },
        "yaxis4": {
         "anchor": "x4",
         "domain": [
          0.9450000000000001,
          1
         ]
        },
        "yaxis40": {
         "anchor": "x40",
         "domain": [
          0,
          0.05500000000000001
         ]
        },
        "yaxis5": {
         "anchor": "x5",
         "domain": [
          0.8400000000000001,
          0.8950000000000001
         ]
        },
        "yaxis6": {
         "anchor": "x6",
         "domain": [
          0.8400000000000001,
          0.8950000000000001
         ]
        },
        "yaxis7": {
         "anchor": "x7",
         "domain": [
          0.8400000000000001,
          0.8950000000000001
         ]
        },
        "yaxis8": {
         "anchor": "x8",
         "domain": [
          0.8400000000000001,
          0.8950000000000001
         ]
        },
        "yaxis9": {
         "anchor": "x9",
         "domain": [
          0.7350000000000001,
          0.7900000000000001
         ]
        }
       }
      },
      "text/html": [
       "<div>\n",
       "        \n",
       "        \n",
       "            <div id=\"8f89c9c4-715a-4857-872e-9c17911237f8\" class=\"plotly-graph-div\" style=\"height:1000px; width:800px;\"></div>\n",
       "            <script type=\"text/javascript\">\n",
       "                require([\"plotly\"], function(Plotly) {\n",
       "                    window.PLOTLYENV=window.PLOTLYENV || {};\n",
       "                    \n",
       "                if (document.getElementById(\"8f89c9c4-715a-4857-872e-9c17911237f8\")) {\n",
       "                    Plotly.newPlot(\n",
       "                        '8f89c9c4-715a-4857-872e-9c17911237f8',\n",
       "                        [{\"hovertext\": [0.17185899999999998, 0.7999149999999999, 0.016705, 1e-05, 0.011512], \"type\": \"bar\", \"xaxis\": \"x\", \"y\": [0.17185899999999998, 0.7999149999999999, 0.016705, 1e-05, 0.011512], \"yaxis\": \"y\"}, {\"hovertext\": [0.44983599999999996, 0.321868, 0.000547, 0.024397, 0.203353], \"type\": \"bar\", \"xaxis\": \"x2\", \"y\": [0.44983599999999996, 0.321868, 0.000547, 0.024397, 0.203353], \"yaxis\": \"y2\"}, {\"hovertext\": [0.0020670000000000003, 0.834965, 0.162063, 1e-05, 0.0008939999999999999], \"type\": \"bar\", \"xaxis\": \"x3\", \"y\": [0.0020670000000000003, 0.834965, 0.162063, 1e-05, 0.0008939999999999999], \"yaxis\": \"y3\"}, {\"hovertext\": [1e-05, 0.22983, 0.352719, 0.163078, 0.254363], \"type\": \"bar\", \"xaxis\": \"x4\", \"y\": [1e-05, 0.22983, 0.352719, 0.163078, 0.254363], \"yaxis\": \"y4\"}, {\"hovertext\": [0.00098, 0.32747, 0.08715, 0.036509, 0.547892], \"type\": \"bar\", \"xaxis\": \"x5\", \"y\": [0.00098, 0.32747, 0.08715, 0.036509, 0.547892], \"yaxis\": \"y5\"}, {\"hovertext\": [0.034664999999999994, 0.693854, 1e-05, 1e-05, 0.271461], \"type\": \"bar\", \"xaxis\": \"x6\", \"y\": [0.034664999999999994, 0.693854, 1e-05, 1e-05, 0.271461], \"yaxis\": \"y6\"}, {\"hovertext\": [1e-05, 0.985035, 0.014006999999999999, 1e-05, 0.000938], \"type\": \"bar\", \"xaxis\": \"x7\", \"y\": [1e-05, 0.985035, 0.014006999999999999, 1e-05, 0.000938], \"yaxis\": \"y7\"}, {\"hovertext\": [0.628153, 0.351371, 0.003244, 0.017223, 1e-05], \"type\": \"bar\", \"xaxis\": \"x8\", \"y\": [0.628153, 0.351371, 0.003244, 0.017223, 1e-05], \"yaxis\": \"y8\"}, {\"hovertext\": [0.15398, 0.8246020000000001, 0.015864, 0.0055439999999999994, 1e-05], \"type\": \"bar\", \"xaxis\": \"x9\", \"y\": [0.15398, 0.8246020000000001, 0.015864, 0.0055439999999999994, 1e-05], \"yaxis\": \"y9\"}, {\"hovertext\": [0.0007650000000000001, 0.193234, 0.005483, 0.001074, 0.799443], \"type\": \"bar\", \"xaxis\": \"x10\", \"y\": [0.0007650000000000001, 0.193234, 0.005483, 0.001074, 0.799443], \"yaxis\": \"y10\"}, {\"hovertext\": [0.103934, 0.674946, 0.071757, 1e-05, 0.14935299999999999], \"type\": \"bar\", \"xaxis\": \"x11\", \"y\": [0.103934, 0.674946, 0.071757, 1e-05, 0.14935299999999999], \"yaxis\": \"y11\"}, {\"hovertext\": [0.751739, 0.086618, 1e-05, 0.16131099999999998, 0.000322], \"type\": \"bar\", \"xaxis\": \"x12\", \"y\": [0.751739, 0.086618, 1e-05, 0.16131099999999998, 0.000322], \"yaxis\": \"y12\"}, {\"hovertext\": [0.061538, 1e-05, 1e-05, 0.000151, 0.938292], \"type\": \"bar\", \"xaxis\": \"x13\", \"y\": [0.061538, 1e-05, 1e-05, 0.000151, 0.938292], \"yaxis\": \"y13\"}, {\"hovertext\": [0.543543, 0.451825, 0.000696, 0.003926, 1e-05], \"type\": \"bar\", \"xaxis\": \"x14\", \"y\": [0.543543, 0.451825, 0.000696, 0.003926, 1e-05], \"yaxis\": \"y14\"}, {\"hovertext\": [0.508288, 0.333075, 0.001954, 0.156673, 1e-05], \"type\": \"bar\", \"xaxis\": \"x15\", \"y\": [0.508288, 0.333075, 0.001954, 0.156673, 1e-05], \"yaxis\": \"y15\"}, {\"hovertext\": [0.06285299999999999, 0.766232, 0.012008, 0.001888, 0.157019], \"type\": \"bar\", \"xaxis\": \"x16\", \"y\": [0.06285299999999999, 0.766232, 0.012008, 0.001888, 0.157019], \"yaxis\": \"y16\"}, {\"hovertext\": [0.558817, 0.44115299999999996, 1e-05, 1e-05, 1e-05], \"type\": \"bar\", \"xaxis\": \"x17\", \"y\": [0.558817, 0.44115299999999996, 1e-05, 1e-05, 1e-05], \"yaxis\": \"y17\"}, {\"hovertext\": [1e-05, 0.732159, 0.080752, 1e-05, 0.187069], \"type\": \"bar\", \"xaxis\": \"x18\", \"y\": [1e-05, 0.732159, 0.080752, 1e-05, 0.187069], \"yaxis\": \"y18\"}, {\"hovertext\": [0.0016309999999999999, 0.18851400000000001, 1e-05, 1e-05, 0.8098350000000001], \"type\": \"bar\", \"xaxis\": \"x19\", \"y\": [0.0016309999999999999, 0.18851400000000001, 1e-05, 1e-05, 0.8098350000000001], \"yaxis\": \"y19\"}, {\"hovertext\": [0.498687, 0.0052049999999999996, 0.000276, 0.202497, 0.293335], \"type\": \"bar\", \"xaxis\": \"x20\", \"y\": [0.498687, 0.0052049999999999996, 0.000276, 0.202497, 0.293335], \"yaxis\": \"y20\"}, {\"hovertext\": [2.8000000000000003e-05, 0.7619020000000001, 0.137036, 0.0053100000000000005, 0.095724], \"type\": \"bar\", \"xaxis\": \"x21\", \"y\": [2.8000000000000003e-05, 0.7619020000000001, 0.137036, 0.0053100000000000005, 0.095724], \"yaxis\": \"y21\"}, {\"hovertext\": [1e-05, 0.87935, 0.116703, 0.003754, 0.000182], \"type\": \"bar\", \"xaxis\": \"x22\", \"y\": [1e-05, 0.87935, 0.116703, 0.003754, 0.000182], \"yaxis\": \"y22\"}, {\"hovertext\": [0.055425, 0.284242, 1e-05, 0.001916, 0.658408], \"type\": \"bar\", \"xaxis\": \"x23\", \"y\": [0.055425, 0.284242, 1e-05, 0.001916, 0.658408], \"yaxis\": \"y23\"}, {\"hovertext\": [1e-05, 0.8205950000000001, 0.177715, 1e-05, 0.0016699999999999998], \"type\": \"bar\", \"xaxis\": \"x24\", \"y\": [1e-05, 0.8205950000000001, 0.177715, 1e-05, 0.0016699999999999998], \"yaxis\": \"y24\"}, {\"hovertext\": [0.307172, 0.691229, 0.0015789999999999999, 1e-05, 1e-05], \"type\": \"bar\", \"xaxis\": \"x25\", \"y\": [0.307172, 0.691229, 0.0015789999999999999, 1e-05, 1e-05], \"yaxis\": \"y25\"}, {\"hovertext\": [0.8376790000000001, 0.001201, 1e-05, 0.1611, 1e-05], \"type\": \"bar\", \"xaxis\": \"x26\", \"y\": [0.8376790000000001, 0.001201, 1e-05, 0.1611, 1e-05], \"yaxis\": \"y26\"}, {\"hovertext\": [0.164722, 1e-05, 0.0016879999999999998, 0.00013000000000000002, 0.83345], \"type\": \"bar\", \"xaxis\": \"x27\", \"y\": [0.164722, 1e-05, 0.0016879999999999998, 0.00013000000000000002, 0.83345], \"yaxis\": \"y27\"}, {\"hovertext\": [1e-05, 0.122401, 1e-05, 0.0016079999999999998, 0.87597], \"type\": \"bar\", \"xaxis\": \"x28\", \"y\": [1e-05, 0.122401, 1e-05, 0.0016079999999999998, 0.87597], \"yaxis\": \"y28\"}, {\"hovertext\": [1e-05, 0.829167, 0.13126300000000002, 0.002309, 0.037251], \"type\": \"bar\", \"xaxis\": \"x29\", \"y\": [1e-05, 0.829167, 0.13126300000000002, 0.002309, 0.037251], \"yaxis\": \"y29\"}, {\"hovertext\": [0.001142, 0.370487, 0.001819, 0.00022799999999999999, 0.626325], \"type\": \"bar\", \"xaxis\": \"x30\", \"y\": [0.001142, 0.370487, 0.001819, 0.00022799999999999999, 0.626325], \"yaxis\": \"y30\"}, {\"hovertext\": [0.034695, 0.689542, 0.002226, 1e-05, 0.273528], \"type\": \"bar\", \"xaxis\": \"x31\", \"y\": [0.034695, 0.689542, 0.002226, 1e-05, 0.273528], \"yaxis\": \"y31\"}, {\"hovertext\": [0.648838, 1e-05, 0.002211, 0.348931, 1e-05], \"type\": \"bar\", \"xaxis\": \"x32\", \"y\": [0.648838, 1e-05, 0.002211, 0.348931, 1e-05], \"yaxis\": \"y32\"}, {\"hovertext\": [0.654985, 0.215915, 8.8e-05, 0.129002, 1e-05], \"type\": \"bar\", \"xaxis\": \"x33\", \"y\": [0.654985, 0.215915, 8.8e-05, 0.129002, 1e-05], \"yaxis\": \"y33\"}, {\"hovertext\": [1e-05, 0.176446, 1e-05, 1e-05, 0.8235239999999999], \"type\": \"bar\", \"xaxis\": \"x34\", \"y\": [1e-05, 0.176446, 1e-05, 1e-05, 0.8235239999999999], \"yaxis\": \"y34\"}, {\"hovertext\": [0.03589, 0.947693, 0.014878, 1e-05, 0.0015300000000000001], \"type\": \"bar\", \"xaxis\": \"x35\", \"y\": [0.03589, 0.947693, 0.014878, 1e-05, 0.0015300000000000001], \"yaxis\": \"y35\"}, {\"hovertext\": [1e-05, 0.8805639999999999, 0.11780299999999999, 0.0016129999999999999, 1e-05], \"type\": \"bar\", \"xaxis\": \"x36\", \"y\": [1e-05, 0.8805639999999999, 0.11780299999999999, 0.0016129999999999999, 1e-05], \"yaxis\": \"y36\"}, {\"hovertext\": [0.471649, 0.35695, 1e-05, 0.048345, 0.123047], \"type\": \"bar\", \"xaxis\": \"x37\", \"y\": [0.471649, 0.35695, 1e-05, 0.048345, 0.123047], \"yaxis\": \"y37\"}, {\"hovertext\": [1e-05, 0.455271, 0.375348, 0.168303, 0.001068], \"type\": \"bar\", \"xaxis\": \"x38\", \"y\": [1e-05, 0.455271, 0.375348, 0.168303, 0.001068], \"yaxis\": \"y38\"}, {\"hovertext\": [0.285193, 0.714777, 1e-05, 1e-05, 1e-05], \"type\": \"bar\", \"xaxis\": \"x39\", \"y\": [0.285193, 0.714777, 1e-05, 1e-05, 1e-05], \"yaxis\": \"y39\"}, {\"hovertext\": [1e-05, 1e-05, 0.031372000000000004, 0.05334, 0.9152680000000001], \"type\": \"bar\", \"xaxis\": \"x40\", \"y\": [1e-05, 1e-05, 0.031372000000000004, 0.05334, 0.9152680000000001], \"yaxis\": \"y40\"}],\n",
       "                        {\"annotations\": [{\"font\": {\"size\": 16}, \"showarrow\": false, \"text\": \"HG00239 - GBR\", \"x\": 0.10625, \"xanchor\": \"center\", \"xref\": \"paper\", \"y\": 1.0, \"yanchor\": \"bottom\", \"yref\": \"paper\"}, {\"font\": {\"size\": 16}, \"showarrow\": false, \"text\": \"HG00240 - GBR\", \"x\": 0.36875, \"xanchor\": \"center\", \"xref\": \"paper\", \"y\": 1.0, \"yanchor\": \"bottom\", \"yref\": \"paper\"}, {\"font\": {\"size\": 16}, \"showarrow\": false, \"text\": \"HG00242 - GBR\", \"x\": 0.6312500000000001, \"xanchor\": \"center\", \"xref\": \"paper\", \"y\": 1.0, \"yanchor\": \"bottom\", \"yref\": \"paper\"}, {\"font\": {\"size\": 16}, \"showarrow\": false, \"text\": \"HG00243 - GBR\", \"x\": 0.89375, \"xanchor\": \"center\", \"xref\": \"paper\", \"y\": 1.0, \"yanchor\": \"bottom\", \"yref\": \"paper\"}, {\"font\": {\"size\": 16}, \"showarrow\": false, \"text\": \"HG00244 - GBR\", \"x\": 0.10625, \"xanchor\": \"center\", \"xref\": \"paper\", \"y\": 0.8950000000000001, \"yanchor\": \"bottom\", \"yref\": \"paper\"}, {\"font\": {\"size\": 16}, \"showarrow\": false, \"text\": \"HG00245 - GBR\", \"x\": 0.36875, \"xanchor\": \"center\", \"xref\": \"paper\", \"y\": 0.8950000000000001, \"yanchor\": \"bottom\", \"yref\": \"paper\"}, {\"font\": {\"size\": 16}, \"showarrow\": false, \"text\": \"HG00246 - GBR\", \"x\": 0.6312500000000001, \"xanchor\": \"center\", \"xref\": \"paper\", \"y\": 0.8950000000000001, \"yanchor\": \"bottom\", \"yref\": \"paper\"}, {\"font\": {\"size\": 16}, \"showarrow\": false, \"text\": \"HG00250 - GBR\", \"x\": 0.89375, \"xanchor\": \"center\", \"xref\": \"paper\", \"y\": 0.8950000000000001, \"yanchor\": \"bottom\", \"yref\": \"paper\"}, {\"font\": {\"size\": 16}, \"showarrow\": false, \"text\": \"HG00251 - GBR\", \"x\": 0.10625, \"xanchor\": \"center\", \"xref\": \"paper\", \"y\": 0.7900000000000001, \"yanchor\": \"bottom\", \"yref\": \"paper\"}, {\"font\": {\"size\": 16}, \"showarrow\": false, \"text\": \"HG00252 - GBR\", \"x\": 0.36875, \"xanchor\": \"center\", \"xref\": \"paper\", \"y\": 0.7900000000000001, \"yanchor\": \"bottom\", \"yref\": \"paper\"}, {\"font\": {\"size\": 16}, \"showarrow\": false, \"text\": \"HG00253 - GBR\", \"x\": 0.6312500000000001, \"xanchor\": \"center\", \"xref\": \"paper\", \"y\": 0.7900000000000001, \"yanchor\": \"bottom\", \"yref\": \"paper\"}, {\"font\": {\"size\": 16}, \"showarrow\": false, \"text\": \"HG00254 - GBR\", \"x\": 0.89375, \"xanchor\": \"center\", \"xref\": \"paper\", \"y\": 0.7900000000000001, \"yanchor\": \"bottom\", \"yref\": \"paper\"}, {\"font\": {\"size\": 16}, \"showarrow\": false, \"text\": \"HG00255 - GBR\", \"x\": 0.10625, \"xanchor\": \"center\", \"xref\": \"paper\", \"y\": 0.6850000000000002, \"yanchor\": \"bottom\", \"yref\": \"paper\"}, {\"font\": {\"size\": 16}, \"showarrow\": false, \"text\": \"HG00256 - GBR\", \"x\": 0.36875, \"xanchor\": \"center\", \"xref\": \"paper\", \"y\": 0.6850000000000002, \"yanchor\": \"bottom\", \"yref\": \"paper\"}, {\"font\": {\"size\": 16}, \"showarrow\": false, \"text\": \"HG00257 - GBR\", \"x\": 0.6312500000000001, \"xanchor\": \"center\", \"xref\": \"paper\", \"y\": 0.6850000000000002, \"yanchor\": \"bottom\", \"yref\": \"paper\"}, {\"font\": {\"size\": 16}, \"showarrow\": false, \"text\": \"HG00258 - GBR\", \"x\": 0.89375, \"xanchor\": \"center\", \"xref\": \"paper\", \"y\": 0.6850000000000002, \"yanchor\": \"bottom\", \"yref\": \"paper\"}, {\"font\": {\"size\": 16}, \"showarrow\": false, \"text\": \"HG00259 - GBR\", \"x\": 0.10625, \"xanchor\": \"center\", \"xref\": \"paper\", \"y\": 0.5800000000000001, \"yanchor\": \"bottom\", \"yref\": \"paper\"}, {\"font\": {\"size\": 16}, \"showarrow\": false, \"text\": \"HG00260 - GBR\", \"x\": 0.36875, \"xanchor\": \"center\", \"xref\": \"paper\", \"y\": 0.5800000000000001, \"yanchor\": \"bottom\", \"yref\": \"paper\"}, {\"font\": {\"size\": 16}, \"showarrow\": false, \"text\": \"HG00261 - GBR\", \"x\": 0.6312500000000001, \"xanchor\": \"center\", \"xref\": \"paper\", \"y\": 0.5800000000000001, \"yanchor\": \"bottom\", \"yref\": \"paper\"}, {\"font\": {\"size\": 16}, \"showarrow\": false, \"text\": \"HG00262 - GBR\", \"x\": 0.89375, \"xanchor\": \"center\", \"xref\": \"paper\", \"y\": 0.5800000000000001, \"yanchor\": \"bottom\", \"yref\": \"paper\"}, {\"font\": {\"size\": 16}, \"showarrow\": false, \"text\": \"HG00263 - GBR\", \"x\": 0.10625, \"xanchor\": \"center\", \"xref\": \"paper\", \"y\": 0.47500000000000003, \"yanchor\": \"bottom\", \"yref\": \"paper\"}, {\"font\": {\"size\": 16}, \"showarrow\": false, \"text\": \"HG00264 - GBR\", \"x\": 0.36875, \"xanchor\": \"center\", \"xref\": \"paper\", \"y\": 0.47500000000000003, \"yanchor\": \"bottom\", \"yref\": \"paper\"}, {\"font\": {\"size\": 16}, \"showarrow\": false, \"text\": \"HG00265 - GBR\", \"x\": 0.6312500000000001, \"xanchor\": \"center\", \"xref\": \"paper\", \"y\": 0.47500000000000003, \"yanchor\": \"bottom\", \"yref\": \"paper\"}, {\"font\": {\"size\": 16}, \"showarrow\": false, \"text\": \"HG00266 - FIN\", \"x\": 0.89375, \"xanchor\": \"center\", \"xref\": \"paper\", \"y\": 0.47500000000000003, \"yanchor\": \"bottom\", \"yref\": \"paper\"}, {\"font\": {\"size\": 16}, \"showarrow\": false, \"text\": \"HG00267 - FIN\", \"x\": 0.10625, \"xanchor\": \"center\", \"xref\": \"paper\", \"y\": 0.37000000000000005, \"yanchor\": \"bottom\", \"yref\": \"paper\"}, {\"font\": {\"size\": 16}, \"showarrow\": false, \"text\": \"HG00268 - FIN\", \"x\": 0.36875, \"xanchor\": \"center\", \"xref\": \"paper\", \"y\": 0.37000000000000005, \"yanchor\": \"bottom\", \"yref\": \"paper\"}, {\"font\": {\"size\": 16}, \"showarrow\": false, \"text\": \"HG00269 - FIN\", \"x\": 0.6312500000000001, \"xanchor\": \"center\", \"xref\": \"paper\", \"y\": 0.37000000000000005, \"yanchor\": \"bottom\", \"yref\": \"paper\"}, {\"font\": {\"size\": 16}, \"showarrow\": false, \"text\": \"HG00271 - FIN\", \"x\": 0.89375, \"xanchor\": \"center\", \"xref\": \"paper\", \"y\": 0.37000000000000005, \"yanchor\": \"bottom\", \"yref\": \"paper\"}, {\"font\": {\"size\": 16}, \"showarrow\": false, \"text\": \"HG00272 - FIN\", \"x\": 0.10625, \"xanchor\": \"center\", \"xref\": \"paper\", \"y\": 0.265, \"yanchor\": \"bottom\", \"yref\": \"paper\"}, {\"font\": {\"size\": 16}, \"showarrow\": false, \"text\": \"HG00273 - FIN\", \"x\": 0.36875, \"xanchor\": \"center\", \"xref\": \"paper\", \"y\": 0.265, \"yanchor\": \"bottom\", \"yref\": \"paper\"}, {\"font\": {\"size\": 16}, \"showarrow\": false, \"text\": \"HG00274 - FIN\", \"x\": 0.6312500000000001, \"xanchor\": \"center\", \"xref\": \"paper\", \"y\": 0.265, \"yanchor\": \"bottom\", \"yref\": \"paper\"}, {\"font\": {\"size\": 16}, \"showarrow\": false, \"text\": \"HG00275 - FIN\", \"x\": 0.89375, \"xanchor\": \"center\", \"xref\": \"paper\", \"y\": 0.265, \"yanchor\": \"bottom\", \"yref\": \"paper\"}, {\"font\": {\"size\": 16}, \"showarrow\": false, \"text\": \"HG00276 - FIN\", \"x\": 0.10625, \"xanchor\": \"center\", \"xref\": \"paper\", \"y\": 0.16000000000000003, \"yanchor\": \"bottom\", \"yref\": \"paper\"}, {\"font\": {\"size\": 16}, \"showarrow\": false, \"text\": \"HG00277 - FIN\", \"x\": 0.36875, \"xanchor\": \"center\", \"xref\": \"paper\", \"y\": 0.16000000000000003, \"yanchor\": \"bottom\", \"yref\": \"paper\"}, {\"font\": {\"size\": 16}, \"showarrow\": false, \"text\": \"HG00278 - FIN\", \"x\": 0.6312500000000001, \"xanchor\": \"center\", \"xref\": \"paper\", \"y\": 0.16000000000000003, \"yanchor\": \"bottom\", \"yref\": \"paper\"}, {\"font\": {\"size\": 16}, \"showarrow\": false, \"text\": \"HG00280 - FIN\", \"x\": 0.89375, \"xanchor\": \"center\", \"xref\": \"paper\", \"y\": 0.16000000000000003, \"yanchor\": \"bottom\", \"yref\": \"paper\"}, {\"font\": {\"size\": 16}, \"showarrow\": false, \"text\": \"HG00281 - FIN\", \"x\": 0.10625, \"xanchor\": \"center\", \"xref\": \"paper\", \"y\": 0.05500000000000001, \"yanchor\": \"bottom\", \"yref\": \"paper\"}, {\"font\": {\"size\": 16}, \"showarrow\": false, \"text\": \"HG00282 - FIN\", \"x\": 0.36875, \"xanchor\": \"center\", \"xref\": \"paper\", \"y\": 0.05500000000000001, \"yanchor\": \"bottom\", \"yref\": \"paper\"}, {\"font\": {\"size\": 16}, \"showarrow\": false, \"text\": \"HG00284 - FIN\", \"x\": 0.6312500000000001, \"xanchor\": \"center\", \"xref\": \"paper\", \"y\": 0.05500000000000001, \"yanchor\": \"bottom\", \"yref\": \"paper\"}, {\"font\": {\"size\": 16}, \"showarrow\": false, \"text\": \"HG00285 - FIN\", \"x\": 0.89375, \"xanchor\": \"center\", \"xref\": \"paper\", \"y\": 0.05500000000000001, \"yanchor\": \"bottom\", \"yref\": \"paper\"}], \"height\": 1000, \"showlegend\": false, \"template\": {\"data\": {\"bar\": [{\"error_x\": {\"color\": \"#2a3f5f\"}, \"error_y\": {\"color\": \"#2a3f5f\"}, \"marker\": {\"line\": {\"color\": \"#E5ECF6\", \"width\": 0.5}}, \"type\": \"bar\"}], \"barpolar\": [{\"marker\": {\"line\": {\"color\": \"#E5ECF6\", \"width\": 0.5}}, \"type\": \"barpolar\"}], \"carpet\": [{\"aaxis\": {\"endlinecolor\": \"#2a3f5f\", \"gridcolor\": \"white\", \"linecolor\": \"white\", \"minorgridcolor\": \"white\", \"startlinecolor\": \"#2a3f5f\"}, \"baxis\": {\"endlinecolor\": \"#2a3f5f\", \"gridcolor\": \"white\", \"linecolor\": \"white\", \"minorgridcolor\": \"white\", \"startlinecolor\": \"#2a3f5f\"}, \"type\": \"carpet\"}], \"choropleth\": [{\"colorbar\": {\"outlinewidth\": 0, \"ticks\": \"\"}, \"type\": \"choropleth\"}], \"contour\": [{\"colorbar\": {\"outlinewidth\": 0, \"ticks\": \"\"}, \"colorscale\": [[0.0, \"#0d0887\"], [0.1111111111111111, \"#46039f\"], [0.2222222222222222, \"#7201a8\"], [0.3333333333333333, \"#9c179e\"], [0.4444444444444444, \"#bd3786\"], [0.5555555555555556, \"#d8576b\"], [0.6666666666666666, \"#ed7953\"], [0.7777777777777778, \"#fb9f3a\"], [0.8888888888888888, \"#fdca26\"], [1.0, \"#f0f921\"]], \"type\": \"contour\"}], \"contourcarpet\": [{\"colorbar\": {\"outlinewidth\": 0, \"ticks\": \"\"}, \"type\": \"contourcarpet\"}], \"heatmap\": [{\"colorbar\": {\"outlinewidth\": 0, \"ticks\": \"\"}, \"colorscale\": [[0.0, \"#0d0887\"], [0.1111111111111111, \"#46039f\"], [0.2222222222222222, \"#7201a8\"], [0.3333333333333333, \"#9c179e\"], [0.4444444444444444, \"#bd3786\"], [0.5555555555555556, \"#d8576b\"], [0.6666666666666666, \"#ed7953\"], [0.7777777777777778, \"#fb9f3a\"], [0.8888888888888888, \"#fdca26\"], [1.0, \"#f0f921\"]], \"type\": \"heatmap\"}], \"heatmapgl\": [{\"colorbar\": {\"outlinewidth\": 0, \"ticks\": \"\"}, \"colorscale\": [[0.0, \"#0d0887\"], [0.1111111111111111, \"#46039f\"], [0.2222222222222222, \"#7201a8\"], [0.3333333333333333, \"#9c179e\"], [0.4444444444444444, \"#bd3786\"], [0.5555555555555556, \"#d8576b\"], [0.6666666666666666, \"#ed7953\"], [0.7777777777777778, \"#fb9f3a\"], [0.8888888888888888, \"#fdca26\"], [1.0, \"#f0f921\"]], \"type\": \"heatmapgl\"}], \"histogram\": [{\"marker\": {\"colorbar\": {\"outlinewidth\": 0, \"ticks\": \"\"}}, \"type\": \"histogram\"}], \"histogram2d\": [{\"colorbar\": {\"outlinewidth\": 0, \"ticks\": \"\"}, \"colorscale\": [[0.0, \"#0d0887\"], [0.1111111111111111, \"#46039f\"], [0.2222222222222222, \"#7201a8\"], [0.3333333333333333, \"#9c179e\"], [0.4444444444444444, \"#bd3786\"], [0.5555555555555556, \"#d8576b\"], [0.6666666666666666, \"#ed7953\"], [0.7777777777777778, \"#fb9f3a\"], [0.8888888888888888, \"#fdca26\"], [1.0, \"#f0f921\"]], \"type\": \"histogram2d\"}], \"histogram2dcontour\": [{\"colorbar\": {\"outlinewidth\": 0, \"ticks\": \"\"}, \"colorscale\": [[0.0, \"#0d0887\"], [0.1111111111111111, \"#46039f\"], [0.2222222222222222, \"#7201a8\"], [0.3333333333333333, \"#9c179e\"], [0.4444444444444444, \"#bd3786\"], [0.5555555555555556, \"#d8576b\"], [0.6666666666666666, \"#ed7953\"], [0.7777777777777778, \"#fb9f3a\"], [0.8888888888888888, \"#fdca26\"], [1.0, \"#f0f921\"]], \"type\": \"histogram2dcontour\"}], \"mesh3d\": [{\"colorbar\": {\"outlinewidth\": 0, \"ticks\": \"\"}, \"type\": \"mesh3d\"}], \"parcoords\": [{\"line\": {\"colorbar\": {\"outlinewidth\": 0, \"ticks\": \"\"}}, \"type\": \"parcoords\"}], \"pie\": [{\"automargin\": true, \"type\": \"pie\"}], \"scatter\": [{\"marker\": {\"colorbar\": {\"outlinewidth\": 0, \"ticks\": \"\"}}, \"type\": \"scatter\"}], \"scatter3d\": [{\"line\": {\"colorbar\": {\"outlinewidth\": 0, \"ticks\": \"\"}}, \"marker\": {\"colorbar\": {\"outlinewidth\": 0, \"ticks\": \"\"}}, \"type\": \"scatter3d\"}], \"scattercarpet\": [{\"marker\": {\"colorbar\": {\"outlinewidth\": 0, \"ticks\": \"\"}}, \"type\": \"scattercarpet\"}], \"scattergeo\": [{\"marker\": {\"colorbar\": {\"outlinewidth\": 0, \"ticks\": \"\"}}, \"type\": \"scattergeo\"}], \"scattergl\": [{\"marker\": {\"colorbar\": {\"outlinewidth\": 0, \"ticks\": \"\"}}, \"type\": \"scattergl\"}], \"scattermapbox\": [{\"marker\": {\"colorbar\": {\"outlinewidth\": 0, \"ticks\": \"\"}}, \"type\": \"scattermapbox\"}], \"scatterpolar\": [{\"marker\": {\"colorbar\": {\"outlinewidth\": 0, \"ticks\": \"\"}}, \"type\": \"scatterpolar\"}], \"scatterpolargl\": [{\"marker\": {\"colorbar\": {\"outlinewidth\": 0, \"ticks\": \"\"}}, \"type\": \"scatterpolargl\"}], \"scatterternary\": [{\"marker\": {\"colorbar\": {\"outlinewidth\": 0, \"ticks\": \"\"}}, \"type\": \"scatterternary\"}], \"surface\": [{\"colorbar\": {\"outlinewidth\": 0, \"ticks\": \"\"}, \"colorscale\": [[0.0, \"#0d0887\"], [0.1111111111111111, \"#46039f\"], [0.2222222222222222, \"#7201a8\"], [0.3333333333333333, \"#9c179e\"], [0.4444444444444444, \"#bd3786\"], [0.5555555555555556, \"#d8576b\"], [0.6666666666666666, \"#ed7953\"], [0.7777777777777778, \"#fb9f3a\"], [0.8888888888888888, \"#fdca26\"], [1.0, \"#f0f921\"]], \"type\": \"surface\"}], \"table\": [{\"cells\": {\"fill\": {\"color\": \"#EBF0F8\"}, \"line\": {\"color\": \"white\"}}, \"header\": {\"fill\": {\"color\": \"#C8D4E3\"}, \"line\": {\"color\": \"white\"}}, \"type\": \"table\"}]}, \"layout\": {\"annotationdefaults\": {\"arrowcolor\": \"#2a3f5f\", \"arrowhead\": 0, \"arrowwidth\": 1}, \"coloraxis\": {\"colorbar\": {\"outlinewidth\": 0, \"ticks\": \"\"}}, \"colorscale\": {\"diverging\": [[0, \"#8e0152\"], [0.1, \"#c51b7d\"], [0.2, \"#de77ae\"], [0.3, \"#f1b6da\"], [0.4, \"#fde0ef\"], [0.5, \"#f7f7f7\"], [0.6, \"#e6f5d0\"], [0.7, \"#b8e186\"], [0.8, \"#7fbc41\"], [0.9, \"#4d9221\"], [1, \"#276419\"]], \"sequential\": [[0.0, \"#0d0887\"], [0.1111111111111111, \"#46039f\"], [0.2222222222222222, \"#7201a8\"], [0.3333333333333333, \"#9c179e\"], [0.4444444444444444, \"#bd3786\"], [0.5555555555555556, \"#d8576b\"], [0.6666666666666666, \"#ed7953\"], [0.7777777777777778, \"#fb9f3a\"], [0.8888888888888888, \"#fdca26\"], [1.0, \"#f0f921\"]], \"sequentialminus\": [[0.0, \"#0d0887\"], [0.1111111111111111, \"#46039f\"], [0.2222222222222222, \"#7201a8\"], [0.3333333333333333, \"#9c179e\"], [0.4444444444444444, \"#bd3786\"], [0.5555555555555556, \"#d8576b\"], [0.6666666666666666, \"#ed7953\"], [0.7777777777777778, \"#fb9f3a\"], [0.8888888888888888, \"#fdca26\"], [1.0, \"#f0f921\"]]}, \"colorway\": [\"#636efa\", \"#EF553B\", \"#00cc96\", \"#ab63fa\", \"#FFA15A\", \"#19d3f3\", \"#FF6692\", \"#B6E880\", \"#FF97FF\", \"#FECB52\"], \"font\": {\"color\": \"#2a3f5f\"}, \"geo\": {\"bgcolor\": \"white\", \"lakecolor\": \"white\", \"landcolor\": \"#E5ECF6\", \"showlakes\": true, \"showland\": true, \"subunitcolor\": \"white\"}, \"hoverlabel\": {\"align\": \"left\"}, \"hovermode\": \"closest\", \"mapbox\": {\"style\": \"light\"}, \"paper_bgcolor\": \"white\", \"plot_bgcolor\": \"#E5ECF6\", \"polar\": {\"angularaxis\": {\"gridcolor\": \"white\", \"linecolor\": \"white\", \"ticks\": \"\"}, \"bgcolor\": \"#E5ECF6\", \"radialaxis\": {\"gridcolor\": \"white\", \"linecolor\": \"white\", \"ticks\": \"\"}}, \"scene\": {\"xaxis\": {\"backgroundcolor\": \"#E5ECF6\", \"gridcolor\": \"white\", \"gridwidth\": 2, \"linecolor\": \"white\", \"showbackground\": true, \"ticks\": \"\", \"zerolinecolor\": \"white\"}, \"yaxis\": {\"backgroundcolor\": \"#E5ECF6\", \"gridcolor\": \"white\", \"gridwidth\": 2, \"linecolor\": \"white\", \"showbackground\": true, \"ticks\": \"\", \"zerolinecolor\": \"white\"}, \"zaxis\": {\"backgroundcolor\": \"#E5ECF6\", \"gridcolor\": \"white\", \"gridwidth\": 2, \"linecolor\": \"white\", \"showbackground\": true, \"ticks\": \"\", \"zerolinecolor\": \"white\"}}, \"shapedefaults\": {\"line\": {\"color\": \"#2a3f5f\"}}, \"ternary\": {\"aaxis\": {\"gridcolor\": \"white\", \"linecolor\": \"white\", \"ticks\": \"\"}, \"baxis\": {\"gridcolor\": \"white\", \"linecolor\": \"white\", \"ticks\": \"\"}, \"bgcolor\": \"#E5ECF6\", \"caxis\": {\"gridcolor\": \"white\", \"linecolor\": \"white\", \"ticks\": \"\"}}, \"title\": {\"x\": 0.05}, \"xaxis\": {\"automargin\": true, \"gridcolor\": \"white\", \"linecolor\": \"white\", \"ticks\": \"\", \"title\": {\"standoff\": 15}, \"zerolinecolor\": \"white\", \"zerolinewidth\": 2}, \"yaxis\": {\"automargin\": true, \"gridcolor\": \"white\", \"linecolor\": \"white\", \"ticks\": \"\", \"title\": {\"standoff\": 15}, \"zerolinecolor\": \"white\", \"zerolinewidth\": 2}}}, \"title\": {\"text\": \"\\u0413\\u0440\\u0430\\u0444\\u0438\\u043a\\u0438 \\u0440\\u0430\\u0437\\u043b\\u043e\\u0436\\u0435\\u043d\\u0438\\u044f \\u043e\\u0442\\u0435\\u043b\\u044c\\u043d\\u044b\\u0445 \\u0438\\u043d\\u0434\\u0438\\u0432\\u0438\\u0434\\u043e\\u0432 \\u043d\\u0430 \\u043a\\u043e\\u043c\\u043f\\u043e\\u043d\\u0435\\u043d\\u0442\\u044b\"}, \"width\": 800, \"xaxis\": {\"anchor\": \"y\", \"domain\": [0.0, 0.2125]}, \"xaxis10\": {\"anchor\": \"y10\", \"domain\": [0.2625, 0.475]}, \"xaxis11\": {\"anchor\": \"y11\", \"domain\": [0.525, 0.7375]}, \"xaxis12\": {\"anchor\": \"y12\", \"domain\": [0.7875, 1.0]}, \"xaxis13\": {\"anchor\": \"y13\", \"domain\": [0.0, 0.2125]}, \"xaxis14\": {\"anchor\": \"y14\", \"domain\": [0.2625, 0.475]}, \"xaxis15\": {\"anchor\": \"y15\", \"domain\": [0.525, 0.7375]}, \"xaxis16\": {\"anchor\": \"y16\", \"domain\": [0.7875, 1.0]}, \"xaxis17\": {\"anchor\": \"y17\", \"domain\": [0.0, 0.2125]}, \"xaxis18\": {\"anchor\": \"y18\", \"domain\": [0.2625, 0.475]}, \"xaxis19\": {\"anchor\": \"y19\", \"domain\": [0.525, 0.7375]}, \"xaxis2\": {\"anchor\": \"y2\", \"domain\": [0.2625, 0.475]}, \"xaxis20\": {\"anchor\": \"y20\", \"domain\": [0.7875, 1.0]}, \"xaxis21\": {\"anchor\": \"y21\", \"domain\": [0.0, 0.2125]}, \"xaxis22\": {\"anchor\": \"y22\", \"domain\": [0.2625, 0.475]}, \"xaxis23\": {\"anchor\": \"y23\", \"domain\": [0.525, 0.7375]}, \"xaxis24\": {\"anchor\": \"y24\", \"domain\": [0.7875, 1.0]}, \"xaxis25\": {\"anchor\": \"y25\", \"domain\": [0.0, 0.2125]}, \"xaxis26\": {\"anchor\": \"y26\", \"domain\": [0.2625, 0.475]}, \"xaxis27\": {\"anchor\": \"y27\", \"domain\": [0.525, 0.7375]}, \"xaxis28\": {\"anchor\": \"y28\", \"domain\": [0.7875, 1.0]}, \"xaxis29\": {\"anchor\": \"y29\", \"domain\": [0.0, 0.2125]}, \"xaxis3\": {\"anchor\": \"y3\", \"domain\": [0.525, 0.7375]}, \"xaxis30\": {\"anchor\": \"y30\", \"domain\": [0.2625, 0.475]}, \"xaxis31\": {\"anchor\": \"y31\", \"domain\": [0.525, 0.7375]}, \"xaxis32\": {\"anchor\": \"y32\", \"domain\": [0.7875, 1.0]}, \"xaxis33\": {\"anchor\": \"y33\", \"domain\": [0.0, 0.2125]}, \"xaxis34\": {\"anchor\": \"y34\", \"domain\": [0.2625, 0.475]}, \"xaxis35\": {\"anchor\": \"y35\", \"domain\": [0.525, 0.7375]}, \"xaxis36\": {\"anchor\": \"y36\", \"domain\": [0.7875, 1.0]}, \"xaxis37\": {\"anchor\": \"y37\", \"domain\": [0.0, 0.2125]}, \"xaxis38\": {\"anchor\": \"y38\", \"domain\": [0.2625, 0.475]}, \"xaxis39\": {\"anchor\": \"y39\", \"domain\": [0.525, 0.7375]}, \"xaxis4\": {\"anchor\": \"y4\", \"domain\": [0.7875, 1.0]}, \"xaxis40\": {\"anchor\": \"y40\", \"domain\": [0.7875, 1.0]}, \"xaxis5\": {\"anchor\": \"y5\", \"domain\": [0.0, 0.2125]}, \"xaxis6\": {\"anchor\": \"y6\", \"domain\": [0.2625, 0.475]}, \"xaxis7\": {\"anchor\": \"y7\", \"domain\": [0.525, 0.7375]}, \"xaxis8\": {\"anchor\": \"y8\", \"domain\": [0.7875, 1.0]}, \"xaxis9\": {\"anchor\": \"y9\", \"domain\": [0.0, 0.2125]}, \"yaxis\": {\"anchor\": \"x\", \"domain\": [0.9450000000000001, 1.0]}, \"yaxis10\": {\"anchor\": \"x10\", \"domain\": [0.7350000000000001, 0.7900000000000001]}, \"yaxis11\": {\"anchor\": \"x11\", \"domain\": [0.7350000000000001, 0.7900000000000001]}, \"yaxis12\": {\"anchor\": \"x12\", \"domain\": [0.7350000000000001, 0.7900000000000001]}, \"yaxis13\": {\"anchor\": \"x13\", \"domain\": [0.6300000000000001, 0.6850000000000002]}, \"yaxis14\": {\"anchor\": \"x14\", \"domain\": [0.6300000000000001, 0.6850000000000002]}, \"yaxis15\": {\"anchor\": \"x15\", \"domain\": [0.6300000000000001, 0.6850000000000002]}, \"yaxis16\": {\"anchor\": \"x16\", \"domain\": [0.6300000000000001, 0.6850000000000002]}, \"yaxis17\": {\"anchor\": \"x17\", \"domain\": [0.525, 0.5800000000000001]}, \"yaxis18\": {\"anchor\": \"x18\", \"domain\": [0.525, 0.5800000000000001]}, \"yaxis19\": {\"anchor\": \"x19\", \"domain\": [0.525, 0.5800000000000001]}, \"yaxis2\": {\"anchor\": \"x2\", \"domain\": [0.9450000000000001, 1.0]}, \"yaxis20\": {\"anchor\": \"x20\", \"domain\": [0.525, 0.5800000000000001]}, \"yaxis21\": {\"anchor\": \"x21\", \"domain\": [0.42000000000000004, 0.47500000000000003]}, \"yaxis22\": {\"anchor\": \"x22\", \"domain\": [0.42000000000000004, 0.47500000000000003]}, \"yaxis23\": {\"anchor\": \"x23\", \"domain\": [0.42000000000000004, 0.47500000000000003]}, \"yaxis24\": {\"anchor\": \"x24\", \"domain\": [0.42000000000000004, 0.47500000000000003]}, \"yaxis25\": {\"anchor\": \"x25\", \"domain\": [0.31500000000000006, 0.37000000000000005]}, \"yaxis26\": {\"anchor\": \"x26\", \"domain\": [0.31500000000000006, 0.37000000000000005]}, \"yaxis27\": {\"anchor\": \"x27\", \"domain\": [0.31500000000000006, 0.37000000000000005]}, \"yaxis28\": {\"anchor\": \"x28\", \"domain\": [0.31500000000000006, 0.37000000000000005]}, \"yaxis29\": {\"anchor\": \"x29\", \"domain\": [0.21000000000000002, 0.265]}, \"yaxis3\": {\"anchor\": \"x3\", \"domain\": [0.9450000000000001, 1.0]}, \"yaxis30\": {\"anchor\": \"x30\", \"domain\": [0.21000000000000002, 0.265]}, \"yaxis31\": {\"anchor\": \"x31\", \"domain\": [0.21000000000000002, 0.265]}, \"yaxis32\": {\"anchor\": \"x32\", \"domain\": [0.21000000000000002, 0.265]}, \"yaxis33\": {\"anchor\": \"x33\", \"domain\": [0.10500000000000001, 0.16000000000000003]}, \"yaxis34\": {\"anchor\": \"x34\", \"domain\": [0.10500000000000001, 0.16000000000000003]}, \"yaxis35\": {\"anchor\": \"x35\", \"domain\": [0.10500000000000001, 0.16000000000000003]}, \"yaxis36\": {\"anchor\": \"x36\", \"domain\": [0.10500000000000001, 0.16000000000000003]}, \"yaxis37\": {\"anchor\": \"x37\", \"domain\": [0.0, 0.05500000000000001]}, \"yaxis38\": {\"anchor\": \"x38\", \"domain\": [0.0, 0.05500000000000001]}, \"yaxis39\": {\"anchor\": \"x39\", \"domain\": [0.0, 0.05500000000000001]}, \"yaxis4\": {\"anchor\": \"x4\", \"domain\": [0.9450000000000001, 1.0]}, \"yaxis40\": {\"anchor\": \"x40\", \"domain\": [0.0, 0.05500000000000001]}, \"yaxis5\": {\"anchor\": \"x5\", \"domain\": [0.8400000000000001, 0.8950000000000001]}, \"yaxis6\": {\"anchor\": \"x6\", \"domain\": [0.8400000000000001, 0.8950000000000001]}, \"yaxis7\": {\"anchor\": \"x7\", \"domain\": [0.8400000000000001, 0.8950000000000001]}, \"yaxis8\": {\"anchor\": \"x8\", \"domain\": [0.8400000000000001, 0.8950000000000001]}, \"yaxis9\": {\"anchor\": \"x9\", \"domain\": [0.7350000000000001, 0.7900000000000001]}},\n",
       "                        {\"responsive\": true}\n",
       "                    ).then(function(){\n",
       "                            \n",
       "var gd = document.getElementById('8f89c9c4-715a-4857-872e-9c17911237f8');\n",
       "var x = new MutationObserver(function (mutations, observer) {{\n",
       "        var display = window.getComputedStyle(gd).display;\n",
       "        if (!display || display === 'none') {{\n",
       "            console.log([gd, 'removed!']);\n",
       "            Plotly.purge(gd);\n",
       "            observer.disconnect();\n",
       "        }}\n",
       "}});\n",
       "\n",
       "// Listen for the removal of the full notebook cells\n",
       "var notebookContainer = gd.closest('#notebook-container');\n",
       "if (notebookContainer) {{\n",
       "    x.observe(notebookContainer, {childList: true});\n",
       "}}\n",
       "\n",
       "// Listen for the clearing of the current output cell\n",
       "var outputEl = gd.closest('.output');\n",
       "if (outputEl) {{\n",
       "    x.observe(outputEl, {childList: true});\n",
       "}}\n",
       "\n",
       "                        })\n",
       "                };\n",
       "                });\n",
       "            </script>\n",
       "        </div>"
      ]
     },
     "metadata": {},
     "output_type": "display_data"
    }
   ],
   "source": [
    "start = 80\n",
    "end = 120\n",
    "cols = 4\n",
    "fig = make_subplots(rows = 10, \n",
    "                    cols = cols,\n",
    "                    subplot_titles = sub_names[start:end],                    \n",
    "                    #vertical_spacing = 0.08,\n",
    "                    #horizontal_spacing = None\n",
    "                   )\n",
    "for i in range(40):\n",
    "    fig.append_trace(go.Bar(\n",
    "        #x = ['comp1', 'comp2', 'comp3', 'comp4', 'comp5'],\n",
    "        y = df_Q.iloc[i, :],\n",
    "        hovertext = df_Q.iloc[i, :]\n",
    "    ), row = i // cols + 1, col = i % cols + 1)\n",
    "    #print(i // 4 + 1, i % 4 + 1, df_Q.iloc[i, :])\n",
    "#fig.update_layout(height = 300 + len(df_Q)//4 + 1, width=1000, title_text=\"Stacked subplots\")\n",
    "fig.update_layout(height = 100 * 10, \n",
    "                  width=200 * cols, \n",
    "                  title_text=\"Графики разложения отельных индивидов на компоненты\",\n",
    "                  showlegend = False\n",
    "                 )\n",
    "fig.show()"
   ]
  },
  {
   "cell_type": "code",
   "execution_count": 59,
   "metadata": {},
   "outputs": [
    {
     "data": {
      "application/vnd.plotly.v1+json": {
       "config": {
        "plotlyServerURL": "https://plot.ly"
       },
       "data": [
        {
         "hovertext": [
          0.17185899999999998,
          0.7999149999999999,
          0.016705,
          1e-05,
          0.011512
         ],
         "type": "bar",
         "xaxis": "x",
         "y": [
          0.17185899999999998,
          0.7999149999999999,
          0.016705,
          1e-05,
          0.011512
         ],
         "yaxis": "y"
        },
        {
         "hovertext": [
          0.44983599999999996,
          0.321868,
          0.000547,
          0.024397,
          0.203353
         ],
         "type": "bar",
         "xaxis": "x2",
         "y": [
          0.44983599999999996,
          0.321868,
          0.000547,
          0.024397,
          0.203353
         ],
         "yaxis": "y2"
        },
        {
         "hovertext": [
          0.0020670000000000003,
          0.834965,
          0.162063,
          1e-05,
          0.0008939999999999999
         ],
         "type": "bar",
         "xaxis": "x3",
         "y": [
          0.0020670000000000003,
          0.834965,
          0.162063,
          1e-05,
          0.0008939999999999999
         ],
         "yaxis": "y3"
        },
        {
         "hovertext": [
          1e-05,
          0.22983,
          0.352719,
          0.163078,
          0.254363
         ],
         "type": "bar",
         "xaxis": "x4",
         "y": [
          1e-05,
          0.22983,
          0.352719,
          0.163078,
          0.254363
         ],
         "yaxis": "y4"
        },
        {
         "hovertext": [
          0.00098,
          0.32747,
          0.08715,
          0.036509,
          0.547892
         ],
         "type": "bar",
         "xaxis": "x5",
         "y": [
          0.00098,
          0.32747,
          0.08715,
          0.036509,
          0.547892
         ],
         "yaxis": "y5"
        },
        {
         "hovertext": [
          0.034664999999999994,
          0.693854,
          1e-05,
          1e-05,
          0.271461
         ],
         "type": "bar",
         "xaxis": "x6",
         "y": [
          0.034664999999999994,
          0.693854,
          1e-05,
          1e-05,
          0.271461
         ],
         "yaxis": "y6"
        },
        {
         "hovertext": [
          1e-05,
          0.985035,
          0.014006999999999999,
          1e-05,
          0.000938
         ],
         "type": "bar",
         "xaxis": "x7",
         "y": [
          1e-05,
          0.985035,
          0.014006999999999999,
          1e-05,
          0.000938
         ],
         "yaxis": "y7"
        },
        {
         "hovertext": [
          0.628153,
          0.351371,
          0.003244,
          0.017223,
          1e-05
         ],
         "type": "bar",
         "xaxis": "x8",
         "y": [
          0.628153,
          0.351371,
          0.003244,
          0.017223,
          1e-05
         ],
         "yaxis": "y8"
        },
        {
         "hovertext": [
          0.15398,
          0.8246020000000001,
          0.015864,
          0.0055439999999999994,
          1e-05
         ],
         "type": "bar",
         "xaxis": "x9",
         "y": [
          0.15398,
          0.8246020000000001,
          0.015864,
          0.0055439999999999994,
          1e-05
         ],
         "yaxis": "y9"
        },
        {
         "hovertext": [
          0.0007650000000000001,
          0.193234,
          0.005483,
          0.001074,
          0.799443
         ],
         "type": "bar",
         "xaxis": "x10",
         "y": [
          0.0007650000000000001,
          0.193234,
          0.005483,
          0.001074,
          0.799443
         ],
         "yaxis": "y10"
        },
        {
         "hovertext": [
          0.103934,
          0.674946,
          0.071757,
          1e-05,
          0.14935299999999999
         ],
         "type": "bar",
         "xaxis": "x11",
         "y": [
          0.103934,
          0.674946,
          0.071757,
          1e-05,
          0.14935299999999999
         ],
         "yaxis": "y11"
        },
        {
         "hovertext": [
          0.751739,
          0.086618,
          1e-05,
          0.16131099999999998,
          0.000322
         ],
         "type": "bar",
         "xaxis": "x12",
         "y": [
          0.751739,
          0.086618,
          1e-05,
          0.16131099999999998,
          0.000322
         ],
         "yaxis": "y12"
        },
        {
         "hovertext": [
          0.061538,
          1e-05,
          1e-05,
          0.000151,
          0.938292
         ],
         "type": "bar",
         "xaxis": "x13",
         "y": [
          0.061538,
          1e-05,
          1e-05,
          0.000151,
          0.938292
         ],
         "yaxis": "y13"
        },
        {
         "hovertext": [
          0.543543,
          0.451825,
          0.000696,
          0.003926,
          1e-05
         ],
         "type": "bar",
         "xaxis": "x14",
         "y": [
          0.543543,
          0.451825,
          0.000696,
          0.003926,
          1e-05
         ],
         "yaxis": "y14"
        },
        {
         "hovertext": [
          0.508288,
          0.333075,
          0.001954,
          0.156673,
          1e-05
         ],
         "type": "bar",
         "xaxis": "x15",
         "y": [
          0.508288,
          0.333075,
          0.001954,
          0.156673,
          1e-05
         ],
         "yaxis": "y15"
        },
        {
         "hovertext": [
          0.06285299999999999,
          0.766232,
          0.012008,
          0.001888,
          0.157019
         ],
         "type": "bar",
         "xaxis": "x16",
         "y": [
          0.06285299999999999,
          0.766232,
          0.012008,
          0.001888,
          0.157019
         ],
         "yaxis": "y16"
        },
        {
         "hovertext": [
          0.558817,
          0.44115299999999996,
          1e-05,
          1e-05,
          1e-05
         ],
         "type": "bar",
         "xaxis": "x17",
         "y": [
          0.558817,
          0.44115299999999996,
          1e-05,
          1e-05,
          1e-05
         ],
         "yaxis": "y17"
        },
        {
         "hovertext": [
          1e-05,
          0.732159,
          0.080752,
          1e-05,
          0.187069
         ],
         "type": "bar",
         "xaxis": "x18",
         "y": [
          1e-05,
          0.732159,
          0.080752,
          1e-05,
          0.187069
         ],
         "yaxis": "y18"
        },
        {
         "hovertext": [
          0.0016309999999999999,
          0.18851400000000001,
          1e-05,
          1e-05,
          0.8098350000000001
         ],
         "type": "bar",
         "xaxis": "x19",
         "y": [
          0.0016309999999999999,
          0.18851400000000001,
          1e-05,
          1e-05,
          0.8098350000000001
         ],
         "yaxis": "y19"
        },
        {
         "hovertext": [
          0.498687,
          0.0052049999999999996,
          0.000276,
          0.202497,
          0.293335
         ],
         "type": "bar",
         "xaxis": "x20",
         "y": [
          0.498687,
          0.0052049999999999996,
          0.000276,
          0.202497,
          0.293335
         ],
         "yaxis": "y20"
        },
        {
         "hovertext": [
          2.8000000000000003e-05,
          0.7619020000000001,
          0.137036,
          0.0053100000000000005,
          0.095724
         ],
         "type": "bar",
         "xaxis": "x21",
         "y": [
          2.8000000000000003e-05,
          0.7619020000000001,
          0.137036,
          0.0053100000000000005,
          0.095724
         ],
         "yaxis": "y21"
        },
        {
         "hovertext": [
          1e-05,
          0.87935,
          0.116703,
          0.003754,
          0.000182
         ],
         "type": "bar",
         "xaxis": "x22",
         "y": [
          1e-05,
          0.87935,
          0.116703,
          0.003754,
          0.000182
         ],
         "yaxis": "y22"
        },
        {
         "hovertext": [
          0.055425,
          0.284242,
          1e-05,
          0.001916,
          0.658408
         ],
         "type": "bar",
         "xaxis": "x23",
         "y": [
          0.055425,
          0.284242,
          1e-05,
          0.001916,
          0.658408
         ],
         "yaxis": "y23"
        },
        {
         "hovertext": [
          1e-05,
          0.8205950000000001,
          0.177715,
          1e-05,
          0.0016699999999999998
         ],
         "type": "bar",
         "xaxis": "x24",
         "y": [
          1e-05,
          0.8205950000000001,
          0.177715,
          1e-05,
          0.0016699999999999998
         ],
         "yaxis": "y24"
        },
        {
         "hovertext": [
          0.307172,
          0.691229,
          0.0015789999999999999,
          1e-05,
          1e-05
         ],
         "type": "bar",
         "xaxis": "x25",
         "y": [
          0.307172,
          0.691229,
          0.0015789999999999999,
          1e-05,
          1e-05
         ],
         "yaxis": "y25"
        },
        {
         "hovertext": [
          0.8376790000000001,
          0.001201,
          1e-05,
          0.1611,
          1e-05
         ],
         "type": "bar",
         "xaxis": "x26",
         "y": [
          0.8376790000000001,
          0.001201,
          1e-05,
          0.1611,
          1e-05
         ],
         "yaxis": "y26"
        },
        {
         "hovertext": [
          0.164722,
          1e-05,
          0.0016879999999999998,
          0.00013000000000000002,
          0.83345
         ],
         "type": "bar",
         "xaxis": "x27",
         "y": [
          0.164722,
          1e-05,
          0.0016879999999999998,
          0.00013000000000000002,
          0.83345
         ],
         "yaxis": "y27"
        },
        {
         "hovertext": [
          1e-05,
          0.122401,
          1e-05,
          0.0016079999999999998,
          0.87597
         ],
         "type": "bar",
         "xaxis": "x28",
         "y": [
          1e-05,
          0.122401,
          1e-05,
          0.0016079999999999998,
          0.87597
         ],
         "yaxis": "y28"
        },
        {
         "hovertext": [
          1e-05,
          0.829167,
          0.13126300000000002,
          0.002309,
          0.037251
         ],
         "type": "bar",
         "xaxis": "x29",
         "y": [
          1e-05,
          0.829167,
          0.13126300000000002,
          0.002309,
          0.037251
         ],
         "yaxis": "y29"
        },
        {
         "hovertext": [
          0.001142,
          0.370487,
          0.001819,
          0.00022799999999999999,
          0.626325
         ],
         "type": "bar",
         "xaxis": "x30",
         "y": [
          0.001142,
          0.370487,
          0.001819,
          0.00022799999999999999,
          0.626325
         ],
         "yaxis": "y30"
        },
        {
         "hovertext": [
          0.034695,
          0.689542,
          0.002226,
          1e-05,
          0.273528
         ],
         "type": "bar",
         "xaxis": "x31",
         "y": [
          0.034695,
          0.689542,
          0.002226,
          1e-05,
          0.273528
         ],
         "yaxis": "y31"
        },
        {
         "hovertext": [
          0.648838,
          1e-05,
          0.002211,
          0.348931,
          1e-05
         ],
         "type": "bar",
         "xaxis": "x32",
         "y": [
          0.648838,
          1e-05,
          0.002211,
          0.348931,
          1e-05
         ],
         "yaxis": "y32"
        },
        {
         "hovertext": [
          0.654985,
          0.215915,
          8.8e-05,
          0.129002,
          1e-05
         ],
         "type": "bar",
         "xaxis": "x33",
         "y": [
          0.654985,
          0.215915,
          8.8e-05,
          0.129002,
          1e-05
         ],
         "yaxis": "y33"
        },
        {
         "hovertext": [
          1e-05,
          0.176446,
          1e-05,
          1e-05,
          0.8235239999999999
         ],
         "type": "bar",
         "xaxis": "x34",
         "y": [
          1e-05,
          0.176446,
          1e-05,
          1e-05,
          0.8235239999999999
         ],
         "yaxis": "y34"
        },
        {
         "hovertext": [
          0.03589,
          0.947693,
          0.014878,
          1e-05,
          0.0015300000000000001
         ],
         "type": "bar",
         "xaxis": "x35",
         "y": [
          0.03589,
          0.947693,
          0.014878,
          1e-05,
          0.0015300000000000001
         ],
         "yaxis": "y35"
        },
        {
         "hovertext": [
          1e-05,
          0.8805639999999999,
          0.11780299999999999,
          0.0016129999999999999,
          1e-05
         ],
         "type": "bar",
         "xaxis": "x36",
         "y": [
          1e-05,
          0.8805639999999999,
          0.11780299999999999,
          0.0016129999999999999,
          1e-05
         ],
         "yaxis": "y36"
        },
        {
         "hovertext": [
          0.471649,
          0.35695,
          1e-05,
          0.048345,
          0.123047
         ],
         "type": "bar",
         "xaxis": "x37",
         "y": [
          0.471649,
          0.35695,
          1e-05,
          0.048345,
          0.123047
         ],
         "yaxis": "y37"
        },
        {
         "hovertext": [
          1e-05,
          0.455271,
          0.375348,
          0.168303,
          0.001068
         ],
         "type": "bar",
         "xaxis": "x38",
         "y": [
          1e-05,
          0.455271,
          0.375348,
          0.168303,
          0.001068
         ],
         "yaxis": "y38"
        },
        {
         "hovertext": [
          0.285193,
          0.714777,
          1e-05,
          1e-05,
          1e-05
         ],
         "type": "bar",
         "xaxis": "x39",
         "y": [
          0.285193,
          0.714777,
          1e-05,
          1e-05,
          1e-05
         ],
         "yaxis": "y39"
        },
        {
         "hovertext": [
          1e-05,
          1e-05,
          0.031372000000000004,
          0.05334,
          0.9152680000000001
         ],
         "type": "bar",
         "xaxis": "x40",
         "y": [
          1e-05,
          1e-05,
          0.031372000000000004,
          0.05334,
          0.9152680000000001
         ],
         "yaxis": "y40"
        }
       ],
       "layout": {
        "annotations": [
         {
          "font": {
           "size": 16
          },
          "showarrow": false,
          "text": "HG00288 - FIN",
          "x": 0.10625,
          "xanchor": "center",
          "xref": "paper",
          "y": 1,
          "yanchor": "bottom",
          "yref": "paper"
         },
         {
          "font": {
           "size": 16
          },
          "showarrow": false,
          "text": "HG00290 - FIN",
          "x": 0.36875,
          "xanchor": "center",
          "xref": "paper",
          "y": 1,
          "yanchor": "bottom",
          "yref": "paper"
         },
         {
          "font": {
           "size": 16
          },
          "showarrow": false,
          "text": "HG00304 - FIN",
          "x": 0.6312500000000001,
          "xanchor": "center",
          "xref": "paper",
          "y": 1,
          "yanchor": "bottom",
          "yref": "paper"
         },
         {
          "font": {
           "size": 16
          },
          "showarrow": false,
          "text": "HG00306 - FIN",
          "x": 0.89375,
          "xanchor": "center",
          "xref": "paper",
          "y": 1,
          "yanchor": "bottom",
          "yref": "paper"
         },
         {
          "font": {
           "size": 16
          },
          "showarrow": false,
          "text": "HG00308 - FIN",
          "x": 0.10625,
          "xanchor": "center",
          "xref": "paper",
          "y": 0.8950000000000001,
          "yanchor": "bottom",
          "yref": "paper"
         },
         {
          "font": {
           "size": 16
          },
          "showarrow": false,
          "text": "HG00309 - FIN",
          "x": 0.36875,
          "xanchor": "center",
          "xref": "paper",
          "y": 0.8950000000000001,
          "yanchor": "bottom",
          "yref": "paper"
         },
         {
          "font": {
           "size": 16
          },
          "showarrow": false,
          "text": "HG00310 - FIN",
          "x": 0.6312500000000001,
          "xanchor": "center",
          "xref": "paper",
          "y": 0.8950000000000001,
          "yanchor": "bottom",
          "yref": "paper"
         },
         {
          "font": {
           "size": 16
          },
          "showarrow": false,
          "text": "HG00311 - FIN",
          "x": 0.89375,
          "xanchor": "center",
          "xref": "paper",
          "y": 0.8950000000000001,
          "yanchor": "bottom",
          "yref": "paper"
         },
         {
          "font": {
           "size": 16
          },
          "showarrow": false,
          "text": "HG00313 - FIN",
          "x": 0.10625,
          "xanchor": "center",
          "xref": "paper",
          "y": 0.7900000000000001,
          "yanchor": "bottom",
          "yref": "paper"
         },
         {
          "font": {
           "size": 16
          },
          "showarrow": false,
          "text": "HG00315 - FIN",
          "x": 0.36875,
          "xanchor": "center",
          "xref": "paper",
          "y": 0.7900000000000001,
          "yanchor": "bottom",
          "yref": "paper"
         },
         {
          "font": {
           "size": 16
          },
          "showarrow": false,
          "text": "HG00318 - FIN",
          "x": 0.6312500000000001,
          "xanchor": "center",
          "xref": "paper",
          "y": 0.7900000000000001,
          "yanchor": "bottom",
          "yref": "paper"
         },
         {
          "font": {
           "size": 16
          },
          "showarrow": false,
          "text": "HG00319 - FIN",
          "x": 0.89375,
          "xanchor": "center",
          "xref": "paper",
          "y": 0.7900000000000001,
          "yanchor": "bottom",
          "yref": "paper"
         },
         {
          "font": {
           "size": 16
          },
          "showarrow": false,
          "text": "HG00320 - FIN",
          "x": 0.10625,
          "xanchor": "center",
          "xref": "paper",
          "y": 0.6850000000000002,
          "yanchor": "bottom",
          "yref": "paper"
         },
         {
          "font": {
           "size": 16
          },
          "showarrow": false,
          "text": "HG00321 - FIN",
          "x": 0.36875,
          "xanchor": "center",
          "xref": "paper",
          "y": 0.6850000000000002,
          "yanchor": "bottom",
          "yref": "paper"
         },
         {
          "font": {
           "size": 16
          },
          "showarrow": false,
          "text": "HG00323 - FIN",
          "x": 0.6312500000000001,
          "xanchor": "center",
          "xref": "paper",
          "y": 0.6850000000000002,
          "yanchor": "bottom",
          "yref": "paper"
         },
         {
          "font": {
           "size": 16
          },
          "showarrow": false,
          "text": "HG00324 - FIN",
          "x": 0.89375,
          "xanchor": "center",
          "xref": "paper",
          "y": 0.6850000000000002,
          "yanchor": "bottom",
          "yref": "paper"
         },
         {
          "font": {
           "size": 16
          },
          "showarrow": false,
          "text": "HG00325 - FIN",
          "x": 0.10625,
          "xanchor": "center",
          "xref": "paper",
          "y": 0.5800000000000001,
          "yanchor": "bottom",
          "yref": "paper"
         },
         {
          "font": {
           "size": 16
          },
          "showarrow": false,
          "text": "HG00326 - FIN",
          "x": 0.36875,
          "xanchor": "center",
          "xref": "paper",
          "y": 0.5800000000000001,
          "yanchor": "bottom",
          "yref": "paper"
         },
         {
          "font": {
           "size": 16
          },
          "showarrow": false,
          "text": "HG00327 - FIN",
          "x": 0.6312500000000001,
          "xanchor": "center",
          "xref": "paper",
          "y": 0.5800000000000001,
          "yanchor": "bottom",
          "yref": "paper"
         },
         {
          "font": {
           "size": 16
          },
          "showarrow": false,
          "text": "HG00328 - FIN",
          "x": 0.89375,
          "xanchor": "center",
          "xref": "paper",
          "y": 0.5800000000000001,
          "yanchor": "bottom",
          "yref": "paper"
         },
         {
          "font": {
           "size": 16
          },
          "showarrow": false,
          "text": "HG00329 - FIN",
          "x": 0.10625,
          "xanchor": "center",
          "xref": "paper",
          "y": 0.47500000000000003,
          "yanchor": "bottom",
          "yref": "paper"
         },
         {
          "font": {
           "size": 16
          },
          "showarrow": false,
          "text": "HG00330 - FIN",
          "x": 0.36875,
          "xanchor": "center",
          "xref": "paper",
          "y": 0.47500000000000003,
          "yanchor": "bottom",
          "yref": "paper"
         },
         {
          "font": {
           "size": 16
          },
          "showarrow": false,
          "text": "HG00331 - FIN",
          "x": 0.6312500000000001,
          "xanchor": "center",
          "xref": "paper",
          "y": 0.47500000000000003,
          "yanchor": "bottom",
          "yref": "paper"
         },
         {
          "font": {
           "size": 16
          },
          "showarrow": false,
          "text": "HG00332 - FIN",
          "x": 0.89375,
          "xanchor": "center",
          "xref": "paper",
          "y": 0.47500000000000003,
          "yanchor": "bottom",
          "yref": "paper"
         },
         {
          "font": {
           "size": 16
          },
          "showarrow": false,
          "text": "HG00334 - FIN",
          "x": 0.10625,
          "xanchor": "center",
          "xref": "paper",
          "y": 0.37000000000000005,
          "yanchor": "bottom",
          "yref": "paper"
         },
         {
          "font": {
           "size": 16
          },
          "showarrow": false,
          "text": "HG00335 - FIN",
          "x": 0.36875,
          "xanchor": "center",
          "xref": "paper",
          "y": 0.37000000000000005,
          "yanchor": "bottom",
          "yref": "paper"
         },
         {
          "font": {
           "size": 16
          },
          "showarrow": false,
          "text": "HG00336 - FIN",
          "x": 0.6312500000000001,
          "xanchor": "center",
          "xref": "paper",
          "y": 0.37000000000000005,
          "yanchor": "bottom",
          "yref": "paper"
         },
         {
          "font": {
           "size": 16
          },
          "showarrow": false,
          "text": "HG00337 - FIN",
          "x": 0.89375,
          "xanchor": "center",
          "xref": "paper",
          "y": 0.37000000000000005,
          "yanchor": "bottom",
          "yref": "paper"
         },
         {
          "font": {
           "size": 16
          },
          "showarrow": false,
          "text": "HG00338 - FIN",
          "x": 0.10625,
          "xanchor": "center",
          "xref": "paper",
          "y": 0.265,
          "yanchor": "bottom",
          "yref": "paper"
         },
         {
          "font": {
           "size": 16
          },
          "showarrow": false,
          "text": "HG00339 - FIN",
          "x": 0.36875,
          "xanchor": "center",
          "xref": "paper",
          "y": 0.265,
          "yanchor": "bottom",
          "yref": "paper"
         },
         {
          "font": {
           "size": 16
          },
          "showarrow": false,
          "text": "HG00341 - FIN",
          "x": 0.6312500000000001,
          "xanchor": "center",
          "xref": "paper",
          "y": 0.265,
          "yanchor": "bottom",
          "yref": "paper"
         },
         {
          "font": {
           "size": 16
          },
          "showarrow": false,
          "text": "HG00342 - FIN",
          "x": 0.89375,
          "xanchor": "center",
          "xref": "paper",
          "y": 0.265,
          "yanchor": "bottom",
          "yref": "paper"
         },
         {
          "font": {
           "size": 16
          },
          "showarrow": false,
          "text": "HG00343 - FIN",
          "x": 0.10625,
          "xanchor": "center",
          "xref": "paper",
          "y": 0.16000000000000003,
          "yanchor": "bottom",
          "yref": "paper"
         },
         {
          "font": {
           "size": 16
          },
          "showarrow": false,
          "text": "HG00344 - FIN",
          "x": 0.36875,
          "xanchor": "center",
          "xref": "paper",
          "y": 0.16000000000000003,
          "yanchor": "bottom",
          "yref": "paper"
         },
         {
          "font": {
           "size": 16
          },
          "showarrow": false,
          "text": "HG00345 - FIN",
          "x": 0.6312500000000001,
          "xanchor": "center",
          "xref": "paper",
          "y": 0.16000000000000003,
          "yanchor": "bottom",
          "yref": "paper"
         },
         {
          "font": {
           "size": 16
          },
          "showarrow": false,
          "text": "HG00346 - FIN",
          "x": 0.89375,
          "xanchor": "center",
          "xref": "paper",
          "y": 0.16000000000000003,
          "yanchor": "bottom",
          "yref": "paper"
         },
         {
          "font": {
           "size": 16
          },
          "showarrow": false,
          "text": "HG00349 - FIN",
          "x": 0.10625,
          "xanchor": "center",
          "xref": "paper",
          "y": 0.05500000000000001,
          "yanchor": "bottom",
          "yref": "paper"
         },
         {
          "font": {
           "size": 16
          },
          "showarrow": false,
          "text": "HG00350 - FIN",
          "x": 0.36875,
          "xanchor": "center",
          "xref": "paper",
          "y": 0.05500000000000001,
          "yanchor": "bottom",
          "yref": "paper"
         },
         {
          "font": {
           "size": 16
          },
          "showarrow": false,
          "text": "HG00351 - FIN",
          "x": 0.6312500000000001,
          "xanchor": "center",
          "xref": "paper",
          "y": 0.05500000000000001,
          "yanchor": "bottom",
          "yref": "paper"
         },
         {
          "font": {
           "size": 16
          },
          "showarrow": false,
          "text": "HG00353 - FIN",
          "x": 0.89375,
          "xanchor": "center",
          "xref": "paper",
          "y": 0.05500000000000001,
          "yanchor": "bottom",
          "yref": "paper"
         }
        ],
        "height": 1000,
        "showlegend": false,
        "template": {
         "data": {
          "bar": [
           {
            "error_x": {
             "color": "#2a3f5f"
            },
            "error_y": {
             "color": "#2a3f5f"
            },
            "marker": {
             "line": {
              "color": "#E5ECF6",
              "width": 0.5
             }
            },
            "type": "bar"
           }
          ],
          "barpolar": [
           {
            "marker": {
             "line": {
              "color": "#E5ECF6",
              "width": 0.5
             }
            },
            "type": "barpolar"
           }
          ],
          "carpet": [
           {
            "aaxis": {
             "endlinecolor": "#2a3f5f",
             "gridcolor": "white",
             "linecolor": "white",
             "minorgridcolor": "white",
             "startlinecolor": "#2a3f5f"
            },
            "baxis": {
             "endlinecolor": "#2a3f5f",
             "gridcolor": "white",
             "linecolor": "white",
             "minorgridcolor": "white",
             "startlinecolor": "#2a3f5f"
            },
            "type": "carpet"
           }
          ],
          "choropleth": [
           {
            "colorbar": {
             "outlinewidth": 0,
             "ticks": ""
            },
            "type": "choropleth"
           }
          ],
          "contour": [
           {
            "colorbar": {
             "outlinewidth": 0,
             "ticks": ""
            },
            "colorscale": [
             [
              0,
              "#0d0887"
             ],
             [
              0.1111111111111111,
              "#46039f"
             ],
             [
              0.2222222222222222,
              "#7201a8"
             ],
             [
              0.3333333333333333,
              "#9c179e"
             ],
             [
              0.4444444444444444,
              "#bd3786"
             ],
             [
              0.5555555555555556,
              "#d8576b"
             ],
             [
              0.6666666666666666,
              "#ed7953"
             ],
             [
              0.7777777777777778,
              "#fb9f3a"
             ],
             [
              0.8888888888888888,
              "#fdca26"
             ],
             [
              1,
              "#f0f921"
             ]
            ],
            "type": "contour"
           }
          ],
          "contourcarpet": [
           {
            "colorbar": {
             "outlinewidth": 0,
             "ticks": ""
            },
            "type": "contourcarpet"
           }
          ],
          "heatmap": [
           {
            "colorbar": {
             "outlinewidth": 0,
             "ticks": ""
            },
            "colorscale": [
             [
              0,
              "#0d0887"
             ],
             [
              0.1111111111111111,
              "#46039f"
             ],
             [
              0.2222222222222222,
              "#7201a8"
             ],
             [
              0.3333333333333333,
              "#9c179e"
             ],
             [
              0.4444444444444444,
              "#bd3786"
             ],
             [
              0.5555555555555556,
              "#d8576b"
             ],
             [
              0.6666666666666666,
              "#ed7953"
             ],
             [
              0.7777777777777778,
              "#fb9f3a"
             ],
             [
              0.8888888888888888,
              "#fdca26"
             ],
             [
              1,
              "#f0f921"
             ]
            ],
            "type": "heatmap"
           }
          ],
          "heatmapgl": [
           {
            "colorbar": {
             "outlinewidth": 0,
             "ticks": ""
            },
            "colorscale": [
             [
              0,
              "#0d0887"
             ],
             [
              0.1111111111111111,
              "#46039f"
             ],
             [
              0.2222222222222222,
              "#7201a8"
             ],
             [
              0.3333333333333333,
              "#9c179e"
             ],
             [
              0.4444444444444444,
              "#bd3786"
             ],
             [
              0.5555555555555556,
              "#d8576b"
             ],
             [
              0.6666666666666666,
              "#ed7953"
             ],
             [
              0.7777777777777778,
              "#fb9f3a"
             ],
             [
              0.8888888888888888,
              "#fdca26"
             ],
             [
              1,
              "#f0f921"
             ]
            ],
            "type": "heatmapgl"
           }
          ],
          "histogram": [
           {
            "marker": {
             "colorbar": {
              "outlinewidth": 0,
              "ticks": ""
             }
            },
            "type": "histogram"
           }
          ],
          "histogram2d": [
           {
            "colorbar": {
             "outlinewidth": 0,
             "ticks": ""
            },
            "colorscale": [
             [
              0,
              "#0d0887"
             ],
             [
              0.1111111111111111,
              "#46039f"
             ],
             [
              0.2222222222222222,
              "#7201a8"
             ],
             [
              0.3333333333333333,
              "#9c179e"
             ],
             [
              0.4444444444444444,
              "#bd3786"
             ],
             [
              0.5555555555555556,
              "#d8576b"
             ],
             [
              0.6666666666666666,
              "#ed7953"
             ],
             [
              0.7777777777777778,
              "#fb9f3a"
             ],
             [
              0.8888888888888888,
              "#fdca26"
             ],
             [
              1,
              "#f0f921"
             ]
            ],
            "type": "histogram2d"
           }
          ],
          "histogram2dcontour": [
           {
            "colorbar": {
             "outlinewidth": 0,
             "ticks": ""
            },
            "colorscale": [
             [
              0,
              "#0d0887"
             ],
             [
              0.1111111111111111,
              "#46039f"
             ],
             [
              0.2222222222222222,
              "#7201a8"
             ],
             [
              0.3333333333333333,
              "#9c179e"
             ],
             [
              0.4444444444444444,
              "#bd3786"
             ],
             [
              0.5555555555555556,
              "#d8576b"
             ],
             [
              0.6666666666666666,
              "#ed7953"
             ],
             [
              0.7777777777777778,
              "#fb9f3a"
             ],
             [
              0.8888888888888888,
              "#fdca26"
             ],
             [
              1,
              "#f0f921"
             ]
            ],
            "type": "histogram2dcontour"
           }
          ],
          "mesh3d": [
           {
            "colorbar": {
             "outlinewidth": 0,
             "ticks": ""
            },
            "type": "mesh3d"
           }
          ],
          "parcoords": [
           {
            "line": {
             "colorbar": {
              "outlinewidth": 0,
              "ticks": ""
             }
            },
            "type": "parcoords"
           }
          ],
          "pie": [
           {
            "automargin": true,
            "type": "pie"
           }
          ],
          "scatter": [
           {
            "marker": {
             "colorbar": {
              "outlinewidth": 0,
              "ticks": ""
             }
            },
            "type": "scatter"
           }
          ],
          "scatter3d": [
           {
            "line": {
             "colorbar": {
              "outlinewidth": 0,
              "ticks": ""
             }
            },
            "marker": {
             "colorbar": {
              "outlinewidth": 0,
              "ticks": ""
             }
            },
            "type": "scatter3d"
           }
          ],
          "scattercarpet": [
           {
            "marker": {
             "colorbar": {
              "outlinewidth": 0,
              "ticks": ""
             }
            },
            "type": "scattercarpet"
           }
          ],
          "scattergeo": [
           {
            "marker": {
             "colorbar": {
              "outlinewidth": 0,
              "ticks": ""
             }
            },
            "type": "scattergeo"
           }
          ],
          "scattergl": [
           {
            "marker": {
             "colorbar": {
              "outlinewidth": 0,
              "ticks": ""
             }
            },
            "type": "scattergl"
           }
          ],
          "scattermapbox": [
           {
            "marker": {
             "colorbar": {
              "outlinewidth": 0,
              "ticks": ""
             }
            },
            "type": "scattermapbox"
           }
          ],
          "scatterpolar": [
           {
            "marker": {
             "colorbar": {
              "outlinewidth": 0,
              "ticks": ""
             }
            },
            "type": "scatterpolar"
           }
          ],
          "scatterpolargl": [
           {
            "marker": {
             "colorbar": {
              "outlinewidth": 0,
              "ticks": ""
             }
            },
            "type": "scatterpolargl"
           }
          ],
          "scatterternary": [
           {
            "marker": {
             "colorbar": {
              "outlinewidth": 0,
              "ticks": ""
             }
            },
            "type": "scatterternary"
           }
          ],
          "surface": [
           {
            "colorbar": {
             "outlinewidth": 0,
             "ticks": ""
            },
            "colorscale": [
             [
              0,
              "#0d0887"
             ],
             [
              0.1111111111111111,
              "#46039f"
             ],
             [
              0.2222222222222222,
              "#7201a8"
             ],
             [
              0.3333333333333333,
              "#9c179e"
             ],
             [
              0.4444444444444444,
              "#bd3786"
             ],
             [
              0.5555555555555556,
              "#d8576b"
             ],
             [
              0.6666666666666666,
              "#ed7953"
             ],
             [
              0.7777777777777778,
              "#fb9f3a"
             ],
             [
              0.8888888888888888,
              "#fdca26"
             ],
             [
              1,
              "#f0f921"
             ]
            ],
            "type": "surface"
           }
          ],
          "table": [
           {
            "cells": {
             "fill": {
              "color": "#EBF0F8"
             },
             "line": {
              "color": "white"
             }
            },
            "header": {
             "fill": {
              "color": "#C8D4E3"
             },
             "line": {
              "color": "white"
             }
            },
            "type": "table"
           }
          ]
         },
         "layout": {
          "annotationdefaults": {
           "arrowcolor": "#2a3f5f",
           "arrowhead": 0,
           "arrowwidth": 1
          },
          "coloraxis": {
           "colorbar": {
            "outlinewidth": 0,
            "ticks": ""
           }
          },
          "colorscale": {
           "diverging": [
            [
             0,
             "#8e0152"
            ],
            [
             0.1,
             "#c51b7d"
            ],
            [
             0.2,
             "#de77ae"
            ],
            [
             0.3,
             "#f1b6da"
            ],
            [
             0.4,
             "#fde0ef"
            ],
            [
             0.5,
             "#f7f7f7"
            ],
            [
             0.6,
             "#e6f5d0"
            ],
            [
             0.7,
             "#b8e186"
            ],
            [
             0.8,
             "#7fbc41"
            ],
            [
             0.9,
             "#4d9221"
            ],
            [
             1,
             "#276419"
            ]
           ],
           "sequential": [
            [
             0,
             "#0d0887"
            ],
            [
             0.1111111111111111,
             "#46039f"
            ],
            [
             0.2222222222222222,
             "#7201a8"
            ],
            [
             0.3333333333333333,
             "#9c179e"
            ],
            [
             0.4444444444444444,
             "#bd3786"
            ],
            [
             0.5555555555555556,
             "#d8576b"
            ],
            [
             0.6666666666666666,
             "#ed7953"
            ],
            [
             0.7777777777777778,
             "#fb9f3a"
            ],
            [
             0.8888888888888888,
             "#fdca26"
            ],
            [
             1,
             "#f0f921"
            ]
           ],
           "sequentialminus": [
            [
             0,
             "#0d0887"
            ],
            [
             0.1111111111111111,
             "#46039f"
            ],
            [
             0.2222222222222222,
             "#7201a8"
            ],
            [
             0.3333333333333333,
             "#9c179e"
            ],
            [
             0.4444444444444444,
             "#bd3786"
            ],
            [
             0.5555555555555556,
             "#d8576b"
            ],
            [
             0.6666666666666666,
             "#ed7953"
            ],
            [
             0.7777777777777778,
             "#fb9f3a"
            ],
            [
             0.8888888888888888,
             "#fdca26"
            ],
            [
             1,
             "#f0f921"
            ]
           ]
          },
          "colorway": [
           "#636efa",
           "#EF553B",
           "#00cc96",
           "#ab63fa",
           "#FFA15A",
           "#19d3f3",
           "#FF6692",
           "#B6E880",
           "#FF97FF",
           "#FECB52"
          ],
          "font": {
           "color": "#2a3f5f"
          },
          "geo": {
           "bgcolor": "white",
           "lakecolor": "white",
           "landcolor": "#E5ECF6",
           "showlakes": true,
           "showland": true,
           "subunitcolor": "white"
          },
          "hoverlabel": {
           "align": "left"
          },
          "hovermode": "closest",
          "mapbox": {
           "style": "light"
          },
          "paper_bgcolor": "white",
          "plot_bgcolor": "#E5ECF6",
          "polar": {
           "angularaxis": {
            "gridcolor": "white",
            "linecolor": "white",
            "ticks": ""
           },
           "bgcolor": "#E5ECF6",
           "radialaxis": {
            "gridcolor": "white",
            "linecolor": "white",
            "ticks": ""
           }
          },
          "scene": {
           "xaxis": {
            "backgroundcolor": "#E5ECF6",
            "gridcolor": "white",
            "gridwidth": 2,
            "linecolor": "white",
            "showbackground": true,
            "ticks": "",
            "zerolinecolor": "white"
           },
           "yaxis": {
            "backgroundcolor": "#E5ECF6",
            "gridcolor": "white",
            "gridwidth": 2,
            "linecolor": "white",
            "showbackground": true,
            "ticks": "",
            "zerolinecolor": "white"
           },
           "zaxis": {
            "backgroundcolor": "#E5ECF6",
            "gridcolor": "white",
            "gridwidth": 2,
            "linecolor": "white",
            "showbackground": true,
            "ticks": "",
            "zerolinecolor": "white"
           }
          },
          "shapedefaults": {
           "line": {
            "color": "#2a3f5f"
           }
          },
          "ternary": {
           "aaxis": {
            "gridcolor": "white",
            "linecolor": "white",
            "ticks": ""
           },
           "baxis": {
            "gridcolor": "white",
            "linecolor": "white",
            "ticks": ""
           },
           "bgcolor": "#E5ECF6",
           "caxis": {
            "gridcolor": "white",
            "linecolor": "white",
            "ticks": ""
           }
          },
          "title": {
           "x": 0.05
          },
          "xaxis": {
           "automargin": true,
           "gridcolor": "white",
           "linecolor": "white",
           "ticks": "",
           "title": {
            "standoff": 15
           },
           "zerolinecolor": "white",
           "zerolinewidth": 2
          },
          "yaxis": {
           "automargin": true,
           "gridcolor": "white",
           "linecolor": "white",
           "ticks": "",
           "title": {
            "standoff": 15
           },
           "zerolinecolor": "white",
           "zerolinewidth": 2
          }
         }
        },
        "title": {
         "text": "Графики разложения отельных индивидов на компоненты"
        },
        "width": 800,
        "xaxis": {
         "anchor": "y",
         "domain": [
          0,
          0.2125
         ]
        },
        "xaxis10": {
         "anchor": "y10",
         "domain": [
          0.2625,
          0.475
         ]
        },
        "xaxis11": {
         "anchor": "y11",
         "domain": [
          0.525,
          0.7375
         ]
        },
        "xaxis12": {
         "anchor": "y12",
         "domain": [
          0.7875,
          1
         ]
        },
        "xaxis13": {
         "anchor": "y13",
         "domain": [
          0,
          0.2125
         ]
        },
        "xaxis14": {
         "anchor": "y14",
         "domain": [
          0.2625,
          0.475
         ]
        },
        "xaxis15": {
         "anchor": "y15",
         "domain": [
          0.525,
          0.7375
         ]
        },
        "xaxis16": {
         "anchor": "y16",
         "domain": [
          0.7875,
          1
         ]
        },
        "xaxis17": {
         "anchor": "y17",
         "domain": [
          0,
          0.2125
         ]
        },
        "xaxis18": {
         "anchor": "y18",
         "domain": [
          0.2625,
          0.475
         ]
        },
        "xaxis19": {
         "anchor": "y19",
         "domain": [
          0.525,
          0.7375
         ]
        },
        "xaxis2": {
         "anchor": "y2",
         "domain": [
          0.2625,
          0.475
         ]
        },
        "xaxis20": {
         "anchor": "y20",
         "domain": [
          0.7875,
          1
         ]
        },
        "xaxis21": {
         "anchor": "y21",
         "domain": [
          0,
          0.2125
         ]
        },
        "xaxis22": {
         "anchor": "y22",
         "domain": [
          0.2625,
          0.475
         ]
        },
        "xaxis23": {
         "anchor": "y23",
         "domain": [
          0.525,
          0.7375
         ]
        },
        "xaxis24": {
         "anchor": "y24",
         "domain": [
          0.7875,
          1
         ]
        },
        "xaxis25": {
         "anchor": "y25",
         "domain": [
          0,
          0.2125
         ]
        },
        "xaxis26": {
         "anchor": "y26",
         "domain": [
          0.2625,
          0.475
         ]
        },
        "xaxis27": {
         "anchor": "y27",
         "domain": [
          0.525,
          0.7375
         ]
        },
        "xaxis28": {
         "anchor": "y28",
         "domain": [
          0.7875,
          1
         ]
        },
        "xaxis29": {
         "anchor": "y29",
         "domain": [
          0,
          0.2125
         ]
        },
        "xaxis3": {
         "anchor": "y3",
         "domain": [
          0.525,
          0.7375
         ]
        },
        "xaxis30": {
         "anchor": "y30",
         "domain": [
          0.2625,
          0.475
         ]
        },
        "xaxis31": {
         "anchor": "y31",
         "domain": [
          0.525,
          0.7375
         ]
        },
        "xaxis32": {
         "anchor": "y32",
         "domain": [
          0.7875,
          1
         ]
        },
        "xaxis33": {
         "anchor": "y33",
         "domain": [
          0,
          0.2125
         ]
        },
        "xaxis34": {
         "anchor": "y34",
         "domain": [
          0.2625,
          0.475
         ]
        },
        "xaxis35": {
         "anchor": "y35",
         "domain": [
          0.525,
          0.7375
         ]
        },
        "xaxis36": {
         "anchor": "y36",
         "domain": [
          0.7875,
          1
         ]
        },
        "xaxis37": {
         "anchor": "y37",
         "domain": [
          0,
          0.2125
         ]
        },
        "xaxis38": {
         "anchor": "y38",
         "domain": [
          0.2625,
          0.475
         ]
        },
        "xaxis39": {
         "anchor": "y39",
         "domain": [
          0.525,
          0.7375
         ]
        },
        "xaxis4": {
         "anchor": "y4",
         "domain": [
          0.7875,
          1
         ]
        },
        "xaxis40": {
         "anchor": "y40",
         "domain": [
          0.7875,
          1
         ]
        },
        "xaxis5": {
         "anchor": "y5",
         "domain": [
          0,
          0.2125
         ]
        },
        "xaxis6": {
         "anchor": "y6",
         "domain": [
          0.2625,
          0.475
         ]
        },
        "xaxis7": {
         "anchor": "y7",
         "domain": [
          0.525,
          0.7375
         ]
        },
        "xaxis8": {
         "anchor": "y8",
         "domain": [
          0.7875,
          1
         ]
        },
        "xaxis9": {
         "anchor": "y9",
         "domain": [
          0,
          0.2125
         ]
        },
        "yaxis": {
         "anchor": "x",
         "domain": [
          0.9450000000000001,
          1
         ]
        },
        "yaxis10": {
         "anchor": "x10",
         "domain": [
          0.7350000000000001,
          0.7900000000000001
         ]
        },
        "yaxis11": {
         "anchor": "x11",
         "domain": [
          0.7350000000000001,
          0.7900000000000001
         ]
        },
        "yaxis12": {
         "anchor": "x12",
         "domain": [
          0.7350000000000001,
          0.7900000000000001
         ]
        },
        "yaxis13": {
         "anchor": "x13",
         "domain": [
          0.6300000000000001,
          0.6850000000000002
         ]
        },
        "yaxis14": {
         "anchor": "x14",
         "domain": [
          0.6300000000000001,
          0.6850000000000002
         ]
        },
        "yaxis15": {
         "anchor": "x15",
         "domain": [
          0.6300000000000001,
          0.6850000000000002
         ]
        },
        "yaxis16": {
         "anchor": "x16",
         "domain": [
          0.6300000000000001,
          0.6850000000000002
         ]
        },
        "yaxis17": {
         "anchor": "x17",
         "domain": [
          0.525,
          0.5800000000000001
         ]
        },
        "yaxis18": {
         "anchor": "x18",
         "domain": [
          0.525,
          0.5800000000000001
         ]
        },
        "yaxis19": {
         "anchor": "x19",
         "domain": [
          0.525,
          0.5800000000000001
         ]
        },
        "yaxis2": {
         "anchor": "x2",
         "domain": [
          0.9450000000000001,
          1
         ]
        },
        "yaxis20": {
         "anchor": "x20",
         "domain": [
          0.525,
          0.5800000000000001
         ]
        },
        "yaxis21": {
         "anchor": "x21",
         "domain": [
          0.42000000000000004,
          0.47500000000000003
         ]
        },
        "yaxis22": {
         "anchor": "x22",
         "domain": [
          0.42000000000000004,
          0.47500000000000003
         ]
        },
        "yaxis23": {
         "anchor": "x23",
         "domain": [
          0.42000000000000004,
          0.47500000000000003
         ]
        },
        "yaxis24": {
         "anchor": "x24",
         "domain": [
          0.42000000000000004,
          0.47500000000000003
         ]
        },
        "yaxis25": {
         "anchor": "x25",
         "domain": [
          0.31500000000000006,
          0.37000000000000005
         ]
        },
        "yaxis26": {
         "anchor": "x26",
         "domain": [
          0.31500000000000006,
          0.37000000000000005
         ]
        },
        "yaxis27": {
         "anchor": "x27",
         "domain": [
          0.31500000000000006,
          0.37000000000000005
         ]
        },
        "yaxis28": {
         "anchor": "x28",
         "domain": [
          0.31500000000000006,
          0.37000000000000005
         ]
        },
        "yaxis29": {
         "anchor": "x29",
         "domain": [
          0.21000000000000002,
          0.265
         ]
        },
        "yaxis3": {
         "anchor": "x3",
         "domain": [
          0.9450000000000001,
          1
         ]
        },
        "yaxis30": {
         "anchor": "x30",
         "domain": [
          0.21000000000000002,
          0.265
         ]
        },
        "yaxis31": {
         "anchor": "x31",
         "domain": [
          0.21000000000000002,
          0.265
         ]
        },
        "yaxis32": {
         "anchor": "x32",
         "domain": [
          0.21000000000000002,
          0.265
         ]
        },
        "yaxis33": {
         "anchor": "x33",
         "domain": [
          0.10500000000000001,
          0.16000000000000003
         ]
        },
        "yaxis34": {
         "anchor": "x34",
         "domain": [
          0.10500000000000001,
          0.16000000000000003
         ]
        },
        "yaxis35": {
         "anchor": "x35",
         "domain": [
          0.10500000000000001,
          0.16000000000000003
         ]
        },
        "yaxis36": {
         "anchor": "x36",
         "domain": [
          0.10500000000000001,
          0.16000000000000003
         ]
        },
        "yaxis37": {
         "anchor": "x37",
         "domain": [
          0,
          0.05500000000000001
         ]
        },
        "yaxis38": {
         "anchor": "x38",
         "domain": [
          0,
          0.05500000000000001
         ]
        },
        "yaxis39": {
         "anchor": "x39",
         "domain": [
          0,
          0.05500000000000001
         ]
        },
        "yaxis4": {
         "anchor": "x4",
         "domain": [
          0.9450000000000001,
          1
         ]
        },
        "yaxis40": {
         "anchor": "x40",
         "domain": [
          0,
          0.05500000000000001
         ]
        },
        "yaxis5": {
         "anchor": "x5",
         "domain": [
          0.8400000000000001,
          0.8950000000000001
         ]
        },
        "yaxis6": {
         "anchor": "x6",
         "domain": [
          0.8400000000000001,
          0.8950000000000001
         ]
        },
        "yaxis7": {
         "anchor": "x7",
         "domain": [
          0.8400000000000001,
          0.8950000000000001
         ]
        },
        "yaxis8": {
         "anchor": "x8",
         "domain": [
          0.8400000000000001,
          0.8950000000000001
         ]
        },
        "yaxis9": {
         "anchor": "x9",
         "domain": [
          0.7350000000000001,
          0.7900000000000001
         ]
        }
       }
      },
      "text/html": [
       "<div>\n",
       "        \n",
       "        \n",
       "            <div id=\"268a6f4f-cda7-48a7-898c-d250592dc3d1\" class=\"plotly-graph-div\" style=\"height:1000px; width:800px;\"></div>\n",
       "            <script type=\"text/javascript\">\n",
       "                require([\"plotly\"], function(Plotly) {\n",
       "                    window.PLOTLYENV=window.PLOTLYENV || {};\n",
       "                    \n",
       "                if (document.getElementById(\"268a6f4f-cda7-48a7-898c-d250592dc3d1\")) {\n",
       "                    Plotly.newPlot(\n",
       "                        '268a6f4f-cda7-48a7-898c-d250592dc3d1',\n",
       "                        [{\"hovertext\": [0.17185899999999998, 0.7999149999999999, 0.016705, 1e-05, 0.011512], \"type\": \"bar\", \"xaxis\": \"x\", \"y\": [0.17185899999999998, 0.7999149999999999, 0.016705, 1e-05, 0.011512], \"yaxis\": \"y\"}, {\"hovertext\": [0.44983599999999996, 0.321868, 0.000547, 0.024397, 0.203353], \"type\": \"bar\", \"xaxis\": \"x2\", \"y\": [0.44983599999999996, 0.321868, 0.000547, 0.024397, 0.203353], \"yaxis\": \"y2\"}, {\"hovertext\": [0.0020670000000000003, 0.834965, 0.162063, 1e-05, 0.0008939999999999999], \"type\": \"bar\", \"xaxis\": \"x3\", \"y\": [0.0020670000000000003, 0.834965, 0.162063, 1e-05, 0.0008939999999999999], \"yaxis\": \"y3\"}, {\"hovertext\": [1e-05, 0.22983, 0.352719, 0.163078, 0.254363], \"type\": \"bar\", \"xaxis\": \"x4\", \"y\": [1e-05, 0.22983, 0.352719, 0.163078, 0.254363], \"yaxis\": \"y4\"}, {\"hovertext\": [0.00098, 0.32747, 0.08715, 0.036509, 0.547892], \"type\": \"bar\", \"xaxis\": \"x5\", \"y\": [0.00098, 0.32747, 0.08715, 0.036509, 0.547892], \"yaxis\": \"y5\"}, {\"hovertext\": [0.034664999999999994, 0.693854, 1e-05, 1e-05, 0.271461], \"type\": \"bar\", \"xaxis\": \"x6\", \"y\": [0.034664999999999994, 0.693854, 1e-05, 1e-05, 0.271461], \"yaxis\": \"y6\"}, {\"hovertext\": [1e-05, 0.985035, 0.014006999999999999, 1e-05, 0.000938], \"type\": \"bar\", \"xaxis\": \"x7\", \"y\": [1e-05, 0.985035, 0.014006999999999999, 1e-05, 0.000938], \"yaxis\": \"y7\"}, {\"hovertext\": [0.628153, 0.351371, 0.003244, 0.017223, 1e-05], \"type\": \"bar\", \"xaxis\": \"x8\", \"y\": [0.628153, 0.351371, 0.003244, 0.017223, 1e-05], \"yaxis\": \"y8\"}, {\"hovertext\": [0.15398, 0.8246020000000001, 0.015864, 0.0055439999999999994, 1e-05], \"type\": \"bar\", \"xaxis\": \"x9\", \"y\": [0.15398, 0.8246020000000001, 0.015864, 0.0055439999999999994, 1e-05], \"yaxis\": \"y9\"}, {\"hovertext\": [0.0007650000000000001, 0.193234, 0.005483, 0.001074, 0.799443], \"type\": \"bar\", \"xaxis\": \"x10\", \"y\": [0.0007650000000000001, 0.193234, 0.005483, 0.001074, 0.799443], \"yaxis\": \"y10\"}, {\"hovertext\": [0.103934, 0.674946, 0.071757, 1e-05, 0.14935299999999999], \"type\": \"bar\", \"xaxis\": \"x11\", \"y\": [0.103934, 0.674946, 0.071757, 1e-05, 0.14935299999999999], \"yaxis\": \"y11\"}, {\"hovertext\": [0.751739, 0.086618, 1e-05, 0.16131099999999998, 0.000322], \"type\": \"bar\", \"xaxis\": \"x12\", \"y\": [0.751739, 0.086618, 1e-05, 0.16131099999999998, 0.000322], \"yaxis\": \"y12\"}, {\"hovertext\": [0.061538, 1e-05, 1e-05, 0.000151, 0.938292], \"type\": \"bar\", \"xaxis\": \"x13\", \"y\": [0.061538, 1e-05, 1e-05, 0.000151, 0.938292], \"yaxis\": \"y13\"}, {\"hovertext\": [0.543543, 0.451825, 0.000696, 0.003926, 1e-05], \"type\": \"bar\", \"xaxis\": \"x14\", \"y\": [0.543543, 0.451825, 0.000696, 0.003926, 1e-05], \"yaxis\": \"y14\"}, {\"hovertext\": [0.508288, 0.333075, 0.001954, 0.156673, 1e-05], \"type\": \"bar\", \"xaxis\": \"x15\", \"y\": [0.508288, 0.333075, 0.001954, 0.156673, 1e-05], \"yaxis\": \"y15\"}, {\"hovertext\": [0.06285299999999999, 0.766232, 0.012008, 0.001888, 0.157019], \"type\": \"bar\", \"xaxis\": \"x16\", \"y\": [0.06285299999999999, 0.766232, 0.012008, 0.001888, 0.157019], \"yaxis\": \"y16\"}, {\"hovertext\": [0.558817, 0.44115299999999996, 1e-05, 1e-05, 1e-05], \"type\": \"bar\", \"xaxis\": \"x17\", \"y\": [0.558817, 0.44115299999999996, 1e-05, 1e-05, 1e-05], \"yaxis\": \"y17\"}, {\"hovertext\": [1e-05, 0.732159, 0.080752, 1e-05, 0.187069], \"type\": \"bar\", \"xaxis\": \"x18\", \"y\": [1e-05, 0.732159, 0.080752, 1e-05, 0.187069], \"yaxis\": \"y18\"}, {\"hovertext\": [0.0016309999999999999, 0.18851400000000001, 1e-05, 1e-05, 0.8098350000000001], \"type\": \"bar\", \"xaxis\": \"x19\", \"y\": [0.0016309999999999999, 0.18851400000000001, 1e-05, 1e-05, 0.8098350000000001], \"yaxis\": \"y19\"}, {\"hovertext\": [0.498687, 0.0052049999999999996, 0.000276, 0.202497, 0.293335], \"type\": \"bar\", \"xaxis\": \"x20\", \"y\": [0.498687, 0.0052049999999999996, 0.000276, 0.202497, 0.293335], \"yaxis\": \"y20\"}, {\"hovertext\": [2.8000000000000003e-05, 0.7619020000000001, 0.137036, 0.0053100000000000005, 0.095724], \"type\": \"bar\", \"xaxis\": \"x21\", \"y\": [2.8000000000000003e-05, 0.7619020000000001, 0.137036, 0.0053100000000000005, 0.095724], \"yaxis\": \"y21\"}, {\"hovertext\": [1e-05, 0.87935, 0.116703, 0.003754, 0.000182], \"type\": \"bar\", \"xaxis\": \"x22\", \"y\": [1e-05, 0.87935, 0.116703, 0.003754, 0.000182], \"yaxis\": \"y22\"}, {\"hovertext\": [0.055425, 0.284242, 1e-05, 0.001916, 0.658408], \"type\": \"bar\", \"xaxis\": \"x23\", \"y\": [0.055425, 0.284242, 1e-05, 0.001916, 0.658408], \"yaxis\": \"y23\"}, {\"hovertext\": [1e-05, 0.8205950000000001, 0.177715, 1e-05, 0.0016699999999999998], \"type\": \"bar\", \"xaxis\": \"x24\", \"y\": [1e-05, 0.8205950000000001, 0.177715, 1e-05, 0.0016699999999999998], \"yaxis\": \"y24\"}, {\"hovertext\": [0.307172, 0.691229, 0.0015789999999999999, 1e-05, 1e-05], \"type\": \"bar\", \"xaxis\": \"x25\", \"y\": [0.307172, 0.691229, 0.0015789999999999999, 1e-05, 1e-05], \"yaxis\": \"y25\"}, {\"hovertext\": [0.8376790000000001, 0.001201, 1e-05, 0.1611, 1e-05], \"type\": \"bar\", \"xaxis\": \"x26\", \"y\": [0.8376790000000001, 0.001201, 1e-05, 0.1611, 1e-05], \"yaxis\": \"y26\"}, {\"hovertext\": [0.164722, 1e-05, 0.0016879999999999998, 0.00013000000000000002, 0.83345], \"type\": \"bar\", \"xaxis\": \"x27\", \"y\": [0.164722, 1e-05, 0.0016879999999999998, 0.00013000000000000002, 0.83345], \"yaxis\": \"y27\"}, {\"hovertext\": [1e-05, 0.122401, 1e-05, 0.0016079999999999998, 0.87597], \"type\": \"bar\", \"xaxis\": \"x28\", \"y\": [1e-05, 0.122401, 1e-05, 0.0016079999999999998, 0.87597], \"yaxis\": \"y28\"}, {\"hovertext\": [1e-05, 0.829167, 0.13126300000000002, 0.002309, 0.037251], \"type\": \"bar\", \"xaxis\": \"x29\", \"y\": [1e-05, 0.829167, 0.13126300000000002, 0.002309, 0.037251], \"yaxis\": \"y29\"}, {\"hovertext\": [0.001142, 0.370487, 0.001819, 0.00022799999999999999, 0.626325], \"type\": \"bar\", \"xaxis\": \"x30\", \"y\": [0.001142, 0.370487, 0.001819, 0.00022799999999999999, 0.626325], \"yaxis\": \"y30\"}, {\"hovertext\": [0.034695, 0.689542, 0.002226, 1e-05, 0.273528], \"type\": \"bar\", \"xaxis\": \"x31\", \"y\": [0.034695, 0.689542, 0.002226, 1e-05, 0.273528], \"yaxis\": \"y31\"}, {\"hovertext\": [0.648838, 1e-05, 0.002211, 0.348931, 1e-05], \"type\": \"bar\", \"xaxis\": \"x32\", \"y\": [0.648838, 1e-05, 0.002211, 0.348931, 1e-05], \"yaxis\": \"y32\"}, {\"hovertext\": [0.654985, 0.215915, 8.8e-05, 0.129002, 1e-05], \"type\": \"bar\", \"xaxis\": \"x33\", \"y\": [0.654985, 0.215915, 8.8e-05, 0.129002, 1e-05], \"yaxis\": \"y33\"}, {\"hovertext\": [1e-05, 0.176446, 1e-05, 1e-05, 0.8235239999999999], \"type\": \"bar\", \"xaxis\": \"x34\", \"y\": [1e-05, 0.176446, 1e-05, 1e-05, 0.8235239999999999], \"yaxis\": \"y34\"}, {\"hovertext\": [0.03589, 0.947693, 0.014878, 1e-05, 0.0015300000000000001], \"type\": \"bar\", \"xaxis\": \"x35\", \"y\": [0.03589, 0.947693, 0.014878, 1e-05, 0.0015300000000000001], \"yaxis\": \"y35\"}, {\"hovertext\": [1e-05, 0.8805639999999999, 0.11780299999999999, 0.0016129999999999999, 1e-05], \"type\": \"bar\", \"xaxis\": \"x36\", \"y\": [1e-05, 0.8805639999999999, 0.11780299999999999, 0.0016129999999999999, 1e-05], \"yaxis\": \"y36\"}, {\"hovertext\": [0.471649, 0.35695, 1e-05, 0.048345, 0.123047], \"type\": \"bar\", \"xaxis\": \"x37\", \"y\": [0.471649, 0.35695, 1e-05, 0.048345, 0.123047], \"yaxis\": \"y37\"}, {\"hovertext\": [1e-05, 0.455271, 0.375348, 0.168303, 0.001068], \"type\": \"bar\", \"xaxis\": \"x38\", \"y\": [1e-05, 0.455271, 0.375348, 0.168303, 0.001068], \"yaxis\": \"y38\"}, {\"hovertext\": [0.285193, 0.714777, 1e-05, 1e-05, 1e-05], \"type\": \"bar\", \"xaxis\": \"x39\", \"y\": [0.285193, 0.714777, 1e-05, 1e-05, 1e-05], \"yaxis\": \"y39\"}, {\"hovertext\": [1e-05, 1e-05, 0.031372000000000004, 0.05334, 0.9152680000000001], \"type\": \"bar\", \"xaxis\": \"x40\", \"y\": [1e-05, 1e-05, 0.031372000000000004, 0.05334, 0.9152680000000001], \"yaxis\": \"y40\"}],\n",
       "                        {\"annotations\": [{\"font\": {\"size\": 16}, \"showarrow\": false, \"text\": \"HG00288 - FIN\", \"x\": 0.10625, \"xanchor\": \"center\", \"xref\": \"paper\", \"y\": 1.0, \"yanchor\": \"bottom\", \"yref\": \"paper\"}, {\"font\": {\"size\": 16}, \"showarrow\": false, \"text\": \"HG00290 - FIN\", \"x\": 0.36875, \"xanchor\": \"center\", \"xref\": \"paper\", \"y\": 1.0, \"yanchor\": \"bottom\", \"yref\": \"paper\"}, {\"font\": {\"size\": 16}, \"showarrow\": false, \"text\": \"HG00304 - FIN\", \"x\": 0.6312500000000001, \"xanchor\": \"center\", \"xref\": \"paper\", \"y\": 1.0, \"yanchor\": \"bottom\", \"yref\": \"paper\"}, {\"font\": {\"size\": 16}, \"showarrow\": false, \"text\": \"HG00306 - FIN\", \"x\": 0.89375, \"xanchor\": \"center\", \"xref\": \"paper\", \"y\": 1.0, \"yanchor\": \"bottom\", \"yref\": \"paper\"}, {\"font\": {\"size\": 16}, \"showarrow\": false, \"text\": \"HG00308 - FIN\", \"x\": 0.10625, \"xanchor\": \"center\", \"xref\": \"paper\", \"y\": 0.8950000000000001, \"yanchor\": \"bottom\", \"yref\": \"paper\"}, {\"font\": {\"size\": 16}, \"showarrow\": false, \"text\": \"HG00309 - FIN\", \"x\": 0.36875, \"xanchor\": \"center\", \"xref\": \"paper\", \"y\": 0.8950000000000001, \"yanchor\": \"bottom\", \"yref\": \"paper\"}, {\"font\": {\"size\": 16}, \"showarrow\": false, \"text\": \"HG00310 - FIN\", \"x\": 0.6312500000000001, \"xanchor\": \"center\", \"xref\": \"paper\", \"y\": 0.8950000000000001, \"yanchor\": \"bottom\", \"yref\": \"paper\"}, {\"font\": {\"size\": 16}, \"showarrow\": false, \"text\": \"HG00311 - FIN\", \"x\": 0.89375, \"xanchor\": \"center\", \"xref\": \"paper\", \"y\": 0.8950000000000001, \"yanchor\": \"bottom\", \"yref\": \"paper\"}, {\"font\": {\"size\": 16}, \"showarrow\": false, \"text\": \"HG00313 - FIN\", \"x\": 0.10625, \"xanchor\": \"center\", \"xref\": \"paper\", \"y\": 0.7900000000000001, \"yanchor\": \"bottom\", \"yref\": \"paper\"}, {\"font\": {\"size\": 16}, \"showarrow\": false, \"text\": \"HG00315 - FIN\", \"x\": 0.36875, \"xanchor\": \"center\", \"xref\": \"paper\", \"y\": 0.7900000000000001, \"yanchor\": \"bottom\", \"yref\": \"paper\"}, {\"font\": {\"size\": 16}, \"showarrow\": false, \"text\": \"HG00318 - FIN\", \"x\": 0.6312500000000001, \"xanchor\": \"center\", \"xref\": \"paper\", \"y\": 0.7900000000000001, \"yanchor\": \"bottom\", \"yref\": \"paper\"}, {\"font\": {\"size\": 16}, \"showarrow\": false, \"text\": \"HG00319 - FIN\", \"x\": 0.89375, \"xanchor\": \"center\", \"xref\": \"paper\", \"y\": 0.7900000000000001, \"yanchor\": \"bottom\", \"yref\": \"paper\"}, {\"font\": {\"size\": 16}, \"showarrow\": false, \"text\": \"HG00320 - FIN\", \"x\": 0.10625, \"xanchor\": \"center\", \"xref\": \"paper\", \"y\": 0.6850000000000002, \"yanchor\": \"bottom\", \"yref\": \"paper\"}, {\"font\": {\"size\": 16}, \"showarrow\": false, \"text\": \"HG00321 - FIN\", \"x\": 0.36875, \"xanchor\": \"center\", \"xref\": \"paper\", \"y\": 0.6850000000000002, \"yanchor\": \"bottom\", \"yref\": \"paper\"}, {\"font\": {\"size\": 16}, \"showarrow\": false, \"text\": \"HG00323 - FIN\", \"x\": 0.6312500000000001, \"xanchor\": \"center\", \"xref\": \"paper\", \"y\": 0.6850000000000002, \"yanchor\": \"bottom\", \"yref\": \"paper\"}, {\"font\": {\"size\": 16}, \"showarrow\": false, \"text\": \"HG00324 - FIN\", \"x\": 0.89375, \"xanchor\": \"center\", \"xref\": \"paper\", \"y\": 0.6850000000000002, \"yanchor\": \"bottom\", \"yref\": \"paper\"}, {\"font\": {\"size\": 16}, \"showarrow\": false, \"text\": \"HG00325 - FIN\", \"x\": 0.10625, \"xanchor\": \"center\", \"xref\": \"paper\", \"y\": 0.5800000000000001, \"yanchor\": \"bottom\", \"yref\": \"paper\"}, {\"font\": {\"size\": 16}, \"showarrow\": false, \"text\": \"HG00326 - FIN\", \"x\": 0.36875, \"xanchor\": \"center\", \"xref\": \"paper\", \"y\": 0.5800000000000001, \"yanchor\": \"bottom\", \"yref\": \"paper\"}, {\"font\": {\"size\": 16}, \"showarrow\": false, \"text\": \"HG00327 - FIN\", \"x\": 0.6312500000000001, \"xanchor\": \"center\", \"xref\": \"paper\", \"y\": 0.5800000000000001, \"yanchor\": \"bottom\", \"yref\": \"paper\"}, {\"font\": {\"size\": 16}, \"showarrow\": false, \"text\": \"HG00328 - FIN\", \"x\": 0.89375, \"xanchor\": \"center\", \"xref\": \"paper\", \"y\": 0.5800000000000001, \"yanchor\": \"bottom\", \"yref\": \"paper\"}, {\"font\": {\"size\": 16}, \"showarrow\": false, \"text\": \"HG00329 - FIN\", \"x\": 0.10625, \"xanchor\": \"center\", \"xref\": \"paper\", \"y\": 0.47500000000000003, \"yanchor\": \"bottom\", \"yref\": \"paper\"}, {\"font\": {\"size\": 16}, \"showarrow\": false, \"text\": \"HG00330 - FIN\", \"x\": 0.36875, \"xanchor\": \"center\", \"xref\": \"paper\", \"y\": 0.47500000000000003, \"yanchor\": \"bottom\", \"yref\": \"paper\"}, {\"font\": {\"size\": 16}, \"showarrow\": false, \"text\": \"HG00331 - FIN\", \"x\": 0.6312500000000001, \"xanchor\": \"center\", \"xref\": \"paper\", \"y\": 0.47500000000000003, \"yanchor\": \"bottom\", \"yref\": \"paper\"}, {\"font\": {\"size\": 16}, \"showarrow\": false, \"text\": \"HG00332 - FIN\", \"x\": 0.89375, \"xanchor\": \"center\", \"xref\": \"paper\", \"y\": 0.47500000000000003, \"yanchor\": \"bottom\", \"yref\": \"paper\"}, {\"font\": {\"size\": 16}, \"showarrow\": false, \"text\": \"HG00334 - FIN\", \"x\": 0.10625, \"xanchor\": \"center\", \"xref\": \"paper\", \"y\": 0.37000000000000005, \"yanchor\": \"bottom\", \"yref\": \"paper\"}, {\"font\": {\"size\": 16}, \"showarrow\": false, \"text\": \"HG00335 - FIN\", \"x\": 0.36875, \"xanchor\": \"center\", \"xref\": \"paper\", \"y\": 0.37000000000000005, \"yanchor\": \"bottom\", \"yref\": \"paper\"}, {\"font\": {\"size\": 16}, \"showarrow\": false, \"text\": \"HG00336 - FIN\", \"x\": 0.6312500000000001, \"xanchor\": \"center\", \"xref\": \"paper\", \"y\": 0.37000000000000005, \"yanchor\": \"bottom\", \"yref\": \"paper\"}, {\"font\": {\"size\": 16}, \"showarrow\": false, \"text\": \"HG00337 - FIN\", \"x\": 0.89375, \"xanchor\": \"center\", \"xref\": \"paper\", \"y\": 0.37000000000000005, \"yanchor\": \"bottom\", \"yref\": \"paper\"}, {\"font\": {\"size\": 16}, \"showarrow\": false, \"text\": \"HG00338 - FIN\", \"x\": 0.10625, \"xanchor\": \"center\", \"xref\": \"paper\", \"y\": 0.265, \"yanchor\": \"bottom\", \"yref\": \"paper\"}, {\"font\": {\"size\": 16}, \"showarrow\": false, \"text\": \"HG00339 - FIN\", \"x\": 0.36875, \"xanchor\": \"center\", \"xref\": \"paper\", \"y\": 0.265, \"yanchor\": \"bottom\", \"yref\": \"paper\"}, {\"font\": {\"size\": 16}, \"showarrow\": false, \"text\": \"HG00341 - FIN\", \"x\": 0.6312500000000001, \"xanchor\": \"center\", \"xref\": \"paper\", \"y\": 0.265, \"yanchor\": \"bottom\", \"yref\": \"paper\"}, {\"font\": {\"size\": 16}, \"showarrow\": false, \"text\": \"HG00342 - FIN\", \"x\": 0.89375, \"xanchor\": \"center\", \"xref\": \"paper\", \"y\": 0.265, \"yanchor\": \"bottom\", \"yref\": \"paper\"}, {\"font\": {\"size\": 16}, \"showarrow\": false, \"text\": \"HG00343 - FIN\", \"x\": 0.10625, \"xanchor\": \"center\", \"xref\": \"paper\", \"y\": 0.16000000000000003, \"yanchor\": \"bottom\", \"yref\": \"paper\"}, {\"font\": {\"size\": 16}, \"showarrow\": false, \"text\": \"HG00344 - FIN\", \"x\": 0.36875, \"xanchor\": \"center\", \"xref\": \"paper\", \"y\": 0.16000000000000003, \"yanchor\": \"bottom\", \"yref\": \"paper\"}, {\"font\": {\"size\": 16}, \"showarrow\": false, \"text\": \"HG00345 - FIN\", \"x\": 0.6312500000000001, \"xanchor\": \"center\", \"xref\": \"paper\", \"y\": 0.16000000000000003, \"yanchor\": \"bottom\", \"yref\": \"paper\"}, {\"font\": {\"size\": 16}, \"showarrow\": false, \"text\": \"HG00346 - FIN\", \"x\": 0.89375, \"xanchor\": \"center\", \"xref\": \"paper\", \"y\": 0.16000000000000003, \"yanchor\": \"bottom\", \"yref\": \"paper\"}, {\"font\": {\"size\": 16}, \"showarrow\": false, \"text\": \"HG00349 - FIN\", \"x\": 0.10625, \"xanchor\": \"center\", \"xref\": \"paper\", \"y\": 0.05500000000000001, \"yanchor\": \"bottom\", \"yref\": \"paper\"}, {\"font\": {\"size\": 16}, \"showarrow\": false, \"text\": \"HG00350 - FIN\", \"x\": 0.36875, \"xanchor\": \"center\", \"xref\": \"paper\", \"y\": 0.05500000000000001, \"yanchor\": \"bottom\", \"yref\": \"paper\"}, {\"font\": {\"size\": 16}, \"showarrow\": false, \"text\": \"HG00351 - FIN\", \"x\": 0.6312500000000001, \"xanchor\": \"center\", \"xref\": \"paper\", \"y\": 0.05500000000000001, \"yanchor\": \"bottom\", \"yref\": \"paper\"}, {\"font\": {\"size\": 16}, \"showarrow\": false, \"text\": \"HG00353 - FIN\", \"x\": 0.89375, \"xanchor\": \"center\", \"xref\": \"paper\", \"y\": 0.05500000000000001, \"yanchor\": \"bottom\", \"yref\": \"paper\"}], \"height\": 1000, \"showlegend\": false, \"template\": {\"data\": {\"bar\": [{\"error_x\": {\"color\": \"#2a3f5f\"}, \"error_y\": {\"color\": \"#2a3f5f\"}, \"marker\": {\"line\": {\"color\": \"#E5ECF6\", \"width\": 0.5}}, \"type\": \"bar\"}], \"barpolar\": [{\"marker\": {\"line\": {\"color\": \"#E5ECF6\", \"width\": 0.5}}, \"type\": \"barpolar\"}], \"carpet\": [{\"aaxis\": {\"endlinecolor\": \"#2a3f5f\", \"gridcolor\": \"white\", \"linecolor\": \"white\", \"minorgridcolor\": \"white\", \"startlinecolor\": \"#2a3f5f\"}, \"baxis\": {\"endlinecolor\": \"#2a3f5f\", \"gridcolor\": \"white\", \"linecolor\": \"white\", \"minorgridcolor\": \"white\", \"startlinecolor\": \"#2a3f5f\"}, \"type\": \"carpet\"}], \"choropleth\": [{\"colorbar\": {\"outlinewidth\": 0, \"ticks\": \"\"}, \"type\": \"choropleth\"}], \"contour\": [{\"colorbar\": {\"outlinewidth\": 0, \"ticks\": \"\"}, \"colorscale\": [[0.0, \"#0d0887\"], [0.1111111111111111, \"#46039f\"], [0.2222222222222222, \"#7201a8\"], [0.3333333333333333, \"#9c179e\"], [0.4444444444444444, \"#bd3786\"], [0.5555555555555556, \"#d8576b\"], [0.6666666666666666, \"#ed7953\"], [0.7777777777777778, \"#fb9f3a\"], [0.8888888888888888, \"#fdca26\"], [1.0, \"#f0f921\"]], \"type\": \"contour\"}], \"contourcarpet\": [{\"colorbar\": {\"outlinewidth\": 0, \"ticks\": \"\"}, \"type\": \"contourcarpet\"}], \"heatmap\": [{\"colorbar\": {\"outlinewidth\": 0, \"ticks\": \"\"}, \"colorscale\": [[0.0, \"#0d0887\"], [0.1111111111111111, \"#46039f\"], [0.2222222222222222, \"#7201a8\"], [0.3333333333333333, \"#9c179e\"], [0.4444444444444444, \"#bd3786\"], [0.5555555555555556, \"#d8576b\"], [0.6666666666666666, \"#ed7953\"], [0.7777777777777778, \"#fb9f3a\"], [0.8888888888888888, \"#fdca26\"], [1.0, \"#f0f921\"]], \"type\": \"heatmap\"}], \"heatmapgl\": [{\"colorbar\": {\"outlinewidth\": 0, \"ticks\": \"\"}, \"colorscale\": [[0.0, \"#0d0887\"], [0.1111111111111111, \"#46039f\"], [0.2222222222222222, \"#7201a8\"], [0.3333333333333333, \"#9c179e\"], [0.4444444444444444, \"#bd3786\"], [0.5555555555555556, \"#d8576b\"], [0.6666666666666666, \"#ed7953\"], [0.7777777777777778, \"#fb9f3a\"], [0.8888888888888888, \"#fdca26\"], [1.0, \"#f0f921\"]], \"type\": \"heatmapgl\"}], \"histogram\": [{\"marker\": {\"colorbar\": {\"outlinewidth\": 0, \"ticks\": \"\"}}, \"type\": \"histogram\"}], \"histogram2d\": [{\"colorbar\": {\"outlinewidth\": 0, \"ticks\": \"\"}, \"colorscale\": [[0.0, \"#0d0887\"], [0.1111111111111111, \"#46039f\"], [0.2222222222222222, \"#7201a8\"], [0.3333333333333333, \"#9c179e\"], [0.4444444444444444, \"#bd3786\"], [0.5555555555555556, \"#d8576b\"], [0.6666666666666666, \"#ed7953\"], [0.7777777777777778, \"#fb9f3a\"], [0.8888888888888888, \"#fdca26\"], [1.0, \"#f0f921\"]], \"type\": \"histogram2d\"}], \"histogram2dcontour\": [{\"colorbar\": {\"outlinewidth\": 0, \"ticks\": \"\"}, \"colorscale\": [[0.0, \"#0d0887\"], [0.1111111111111111, \"#46039f\"], [0.2222222222222222, \"#7201a8\"], [0.3333333333333333, \"#9c179e\"], [0.4444444444444444, \"#bd3786\"], [0.5555555555555556, \"#d8576b\"], [0.6666666666666666, \"#ed7953\"], [0.7777777777777778, \"#fb9f3a\"], [0.8888888888888888, \"#fdca26\"], [1.0, \"#f0f921\"]], \"type\": \"histogram2dcontour\"}], \"mesh3d\": [{\"colorbar\": {\"outlinewidth\": 0, \"ticks\": \"\"}, \"type\": \"mesh3d\"}], \"parcoords\": [{\"line\": {\"colorbar\": {\"outlinewidth\": 0, \"ticks\": \"\"}}, \"type\": \"parcoords\"}], \"pie\": [{\"automargin\": true, \"type\": \"pie\"}], \"scatter\": [{\"marker\": {\"colorbar\": {\"outlinewidth\": 0, \"ticks\": \"\"}}, \"type\": \"scatter\"}], \"scatter3d\": [{\"line\": {\"colorbar\": {\"outlinewidth\": 0, \"ticks\": \"\"}}, \"marker\": {\"colorbar\": {\"outlinewidth\": 0, \"ticks\": \"\"}}, \"type\": \"scatter3d\"}], \"scattercarpet\": [{\"marker\": {\"colorbar\": {\"outlinewidth\": 0, \"ticks\": \"\"}}, \"type\": \"scattercarpet\"}], \"scattergeo\": [{\"marker\": {\"colorbar\": {\"outlinewidth\": 0, \"ticks\": \"\"}}, \"type\": \"scattergeo\"}], \"scattergl\": [{\"marker\": {\"colorbar\": {\"outlinewidth\": 0, \"ticks\": \"\"}}, \"type\": \"scattergl\"}], \"scattermapbox\": [{\"marker\": {\"colorbar\": {\"outlinewidth\": 0, \"ticks\": \"\"}}, \"type\": \"scattermapbox\"}], \"scatterpolar\": [{\"marker\": {\"colorbar\": {\"outlinewidth\": 0, \"ticks\": \"\"}}, \"type\": \"scatterpolar\"}], \"scatterpolargl\": [{\"marker\": {\"colorbar\": {\"outlinewidth\": 0, \"ticks\": \"\"}}, \"type\": \"scatterpolargl\"}], \"scatterternary\": [{\"marker\": {\"colorbar\": {\"outlinewidth\": 0, \"ticks\": \"\"}}, \"type\": \"scatterternary\"}], \"surface\": [{\"colorbar\": {\"outlinewidth\": 0, \"ticks\": \"\"}, \"colorscale\": [[0.0, \"#0d0887\"], [0.1111111111111111, \"#46039f\"], [0.2222222222222222, \"#7201a8\"], [0.3333333333333333, \"#9c179e\"], [0.4444444444444444, \"#bd3786\"], [0.5555555555555556, \"#d8576b\"], [0.6666666666666666, \"#ed7953\"], [0.7777777777777778, \"#fb9f3a\"], [0.8888888888888888, \"#fdca26\"], [1.0, \"#f0f921\"]], \"type\": \"surface\"}], \"table\": [{\"cells\": {\"fill\": {\"color\": \"#EBF0F8\"}, \"line\": {\"color\": \"white\"}}, \"header\": {\"fill\": {\"color\": \"#C8D4E3\"}, \"line\": {\"color\": \"white\"}}, \"type\": \"table\"}]}, \"layout\": {\"annotationdefaults\": {\"arrowcolor\": \"#2a3f5f\", \"arrowhead\": 0, \"arrowwidth\": 1}, \"coloraxis\": {\"colorbar\": {\"outlinewidth\": 0, \"ticks\": \"\"}}, \"colorscale\": {\"diverging\": [[0, \"#8e0152\"], [0.1, \"#c51b7d\"], [0.2, \"#de77ae\"], [0.3, \"#f1b6da\"], [0.4, \"#fde0ef\"], [0.5, \"#f7f7f7\"], [0.6, \"#e6f5d0\"], [0.7, \"#b8e186\"], [0.8, \"#7fbc41\"], [0.9, \"#4d9221\"], [1, \"#276419\"]], \"sequential\": [[0.0, \"#0d0887\"], [0.1111111111111111, \"#46039f\"], [0.2222222222222222, \"#7201a8\"], [0.3333333333333333, \"#9c179e\"], [0.4444444444444444, \"#bd3786\"], [0.5555555555555556, \"#d8576b\"], [0.6666666666666666, \"#ed7953\"], [0.7777777777777778, \"#fb9f3a\"], [0.8888888888888888, \"#fdca26\"], [1.0, \"#f0f921\"]], \"sequentialminus\": [[0.0, \"#0d0887\"], [0.1111111111111111, \"#46039f\"], [0.2222222222222222, \"#7201a8\"], [0.3333333333333333, \"#9c179e\"], [0.4444444444444444, \"#bd3786\"], [0.5555555555555556, \"#d8576b\"], [0.6666666666666666, \"#ed7953\"], [0.7777777777777778, \"#fb9f3a\"], [0.8888888888888888, \"#fdca26\"], [1.0, \"#f0f921\"]]}, \"colorway\": [\"#636efa\", \"#EF553B\", \"#00cc96\", \"#ab63fa\", \"#FFA15A\", \"#19d3f3\", \"#FF6692\", \"#B6E880\", \"#FF97FF\", \"#FECB52\"], \"font\": {\"color\": \"#2a3f5f\"}, \"geo\": {\"bgcolor\": \"white\", \"lakecolor\": \"white\", \"landcolor\": \"#E5ECF6\", \"showlakes\": true, \"showland\": true, \"subunitcolor\": \"white\"}, \"hoverlabel\": {\"align\": \"left\"}, \"hovermode\": \"closest\", \"mapbox\": {\"style\": \"light\"}, \"paper_bgcolor\": \"white\", \"plot_bgcolor\": \"#E5ECF6\", \"polar\": {\"angularaxis\": {\"gridcolor\": \"white\", \"linecolor\": \"white\", \"ticks\": \"\"}, \"bgcolor\": \"#E5ECF6\", \"radialaxis\": {\"gridcolor\": \"white\", \"linecolor\": \"white\", \"ticks\": \"\"}}, \"scene\": {\"xaxis\": {\"backgroundcolor\": \"#E5ECF6\", \"gridcolor\": \"white\", \"gridwidth\": 2, \"linecolor\": \"white\", \"showbackground\": true, \"ticks\": \"\", \"zerolinecolor\": \"white\"}, \"yaxis\": {\"backgroundcolor\": \"#E5ECF6\", \"gridcolor\": \"white\", \"gridwidth\": 2, \"linecolor\": \"white\", \"showbackground\": true, \"ticks\": \"\", \"zerolinecolor\": \"white\"}, \"zaxis\": {\"backgroundcolor\": \"#E5ECF6\", \"gridcolor\": \"white\", \"gridwidth\": 2, \"linecolor\": \"white\", \"showbackground\": true, \"ticks\": \"\", \"zerolinecolor\": \"white\"}}, \"shapedefaults\": {\"line\": {\"color\": \"#2a3f5f\"}}, \"ternary\": {\"aaxis\": {\"gridcolor\": \"white\", \"linecolor\": \"white\", \"ticks\": \"\"}, \"baxis\": {\"gridcolor\": \"white\", \"linecolor\": \"white\", \"ticks\": \"\"}, \"bgcolor\": \"#E5ECF6\", \"caxis\": {\"gridcolor\": \"white\", \"linecolor\": \"white\", \"ticks\": \"\"}}, \"title\": {\"x\": 0.05}, \"xaxis\": {\"automargin\": true, \"gridcolor\": \"white\", \"linecolor\": \"white\", \"ticks\": \"\", \"title\": {\"standoff\": 15}, \"zerolinecolor\": \"white\", \"zerolinewidth\": 2}, \"yaxis\": {\"automargin\": true, \"gridcolor\": \"white\", \"linecolor\": \"white\", \"ticks\": \"\", \"title\": {\"standoff\": 15}, \"zerolinecolor\": \"white\", \"zerolinewidth\": 2}}}, \"title\": {\"text\": \"\\u0413\\u0440\\u0430\\u0444\\u0438\\u043a\\u0438 \\u0440\\u0430\\u0437\\u043b\\u043e\\u0436\\u0435\\u043d\\u0438\\u044f \\u043e\\u0442\\u0435\\u043b\\u044c\\u043d\\u044b\\u0445 \\u0438\\u043d\\u0434\\u0438\\u0432\\u0438\\u0434\\u043e\\u0432 \\u043d\\u0430 \\u043a\\u043e\\u043c\\u043f\\u043e\\u043d\\u0435\\u043d\\u0442\\u044b\"}, \"width\": 800, \"xaxis\": {\"anchor\": \"y\", \"domain\": [0.0, 0.2125]}, \"xaxis10\": {\"anchor\": \"y10\", \"domain\": [0.2625, 0.475]}, \"xaxis11\": {\"anchor\": \"y11\", \"domain\": [0.525, 0.7375]}, \"xaxis12\": {\"anchor\": \"y12\", \"domain\": [0.7875, 1.0]}, \"xaxis13\": {\"anchor\": \"y13\", \"domain\": [0.0, 0.2125]}, \"xaxis14\": {\"anchor\": \"y14\", \"domain\": [0.2625, 0.475]}, \"xaxis15\": {\"anchor\": \"y15\", \"domain\": [0.525, 0.7375]}, \"xaxis16\": {\"anchor\": \"y16\", \"domain\": [0.7875, 1.0]}, \"xaxis17\": {\"anchor\": \"y17\", \"domain\": [0.0, 0.2125]}, \"xaxis18\": {\"anchor\": \"y18\", \"domain\": [0.2625, 0.475]}, \"xaxis19\": {\"anchor\": \"y19\", \"domain\": [0.525, 0.7375]}, \"xaxis2\": {\"anchor\": \"y2\", \"domain\": [0.2625, 0.475]}, \"xaxis20\": {\"anchor\": \"y20\", \"domain\": [0.7875, 1.0]}, \"xaxis21\": {\"anchor\": \"y21\", \"domain\": [0.0, 0.2125]}, \"xaxis22\": {\"anchor\": \"y22\", \"domain\": [0.2625, 0.475]}, \"xaxis23\": {\"anchor\": \"y23\", \"domain\": [0.525, 0.7375]}, \"xaxis24\": {\"anchor\": \"y24\", \"domain\": [0.7875, 1.0]}, \"xaxis25\": {\"anchor\": \"y25\", \"domain\": [0.0, 0.2125]}, \"xaxis26\": {\"anchor\": \"y26\", \"domain\": [0.2625, 0.475]}, \"xaxis27\": {\"anchor\": \"y27\", \"domain\": [0.525, 0.7375]}, \"xaxis28\": {\"anchor\": \"y28\", \"domain\": [0.7875, 1.0]}, \"xaxis29\": {\"anchor\": \"y29\", \"domain\": [0.0, 0.2125]}, \"xaxis3\": {\"anchor\": \"y3\", \"domain\": [0.525, 0.7375]}, \"xaxis30\": {\"anchor\": \"y30\", \"domain\": [0.2625, 0.475]}, \"xaxis31\": {\"anchor\": \"y31\", \"domain\": [0.525, 0.7375]}, \"xaxis32\": {\"anchor\": \"y32\", \"domain\": [0.7875, 1.0]}, \"xaxis33\": {\"anchor\": \"y33\", \"domain\": [0.0, 0.2125]}, \"xaxis34\": {\"anchor\": \"y34\", \"domain\": [0.2625, 0.475]}, \"xaxis35\": {\"anchor\": \"y35\", \"domain\": [0.525, 0.7375]}, \"xaxis36\": {\"anchor\": \"y36\", \"domain\": [0.7875, 1.0]}, \"xaxis37\": {\"anchor\": \"y37\", \"domain\": [0.0, 0.2125]}, \"xaxis38\": {\"anchor\": \"y38\", \"domain\": [0.2625, 0.475]}, \"xaxis39\": {\"anchor\": \"y39\", \"domain\": [0.525, 0.7375]}, \"xaxis4\": {\"anchor\": \"y4\", \"domain\": [0.7875, 1.0]}, \"xaxis40\": {\"anchor\": \"y40\", \"domain\": [0.7875, 1.0]}, \"xaxis5\": {\"anchor\": \"y5\", \"domain\": [0.0, 0.2125]}, \"xaxis6\": {\"anchor\": \"y6\", \"domain\": [0.2625, 0.475]}, \"xaxis7\": {\"anchor\": \"y7\", \"domain\": [0.525, 0.7375]}, \"xaxis8\": {\"anchor\": \"y8\", \"domain\": [0.7875, 1.0]}, \"xaxis9\": {\"anchor\": \"y9\", \"domain\": [0.0, 0.2125]}, \"yaxis\": {\"anchor\": \"x\", \"domain\": [0.9450000000000001, 1.0]}, \"yaxis10\": {\"anchor\": \"x10\", \"domain\": [0.7350000000000001, 0.7900000000000001]}, \"yaxis11\": {\"anchor\": \"x11\", \"domain\": [0.7350000000000001, 0.7900000000000001]}, \"yaxis12\": {\"anchor\": \"x12\", \"domain\": [0.7350000000000001, 0.7900000000000001]}, \"yaxis13\": {\"anchor\": \"x13\", \"domain\": [0.6300000000000001, 0.6850000000000002]}, \"yaxis14\": {\"anchor\": \"x14\", \"domain\": [0.6300000000000001, 0.6850000000000002]}, \"yaxis15\": {\"anchor\": \"x15\", \"domain\": [0.6300000000000001, 0.6850000000000002]}, \"yaxis16\": {\"anchor\": \"x16\", \"domain\": [0.6300000000000001, 0.6850000000000002]}, \"yaxis17\": {\"anchor\": \"x17\", \"domain\": [0.525, 0.5800000000000001]}, \"yaxis18\": {\"anchor\": \"x18\", \"domain\": [0.525, 0.5800000000000001]}, \"yaxis19\": {\"anchor\": \"x19\", \"domain\": [0.525, 0.5800000000000001]}, \"yaxis2\": {\"anchor\": \"x2\", \"domain\": [0.9450000000000001, 1.0]}, \"yaxis20\": {\"anchor\": \"x20\", \"domain\": [0.525, 0.5800000000000001]}, \"yaxis21\": {\"anchor\": \"x21\", \"domain\": [0.42000000000000004, 0.47500000000000003]}, \"yaxis22\": {\"anchor\": \"x22\", \"domain\": [0.42000000000000004, 0.47500000000000003]}, \"yaxis23\": {\"anchor\": \"x23\", \"domain\": [0.42000000000000004, 0.47500000000000003]}, \"yaxis24\": {\"anchor\": \"x24\", \"domain\": [0.42000000000000004, 0.47500000000000003]}, \"yaxis25\": {\"anchor\": \"x25\", \"domain\": [0.31500000000000006, 0.37000000000000005]}, \"yaxis26\": {\"anchor\": \"x26\", \"domain\": [0.31500000000000006, 0.37000000000000005]}, \"yaxis27\": {\"anchor\": \"x27\", \"domain\": [0.31500000000000006, 0.37000000000000005]}, \"yaxis28\": {\"anchor\": \"x28\", \"domain\": [0.31500000000000006, 0.37000000000000005]}, \"yaxis29\": {\"anchor\": \"x29\", \"domain\": [0.21000000000000002, 0.265]}, \"yaxis3\": {\"anchor\": \"x3\", \"domain\": [0.9450000000000001, 1.0]}, \"yaxis30\": {\"anchor\": \"x30\", \"domain\": [0.21000000000000002, 0.265]}, \"yaxis31\": {\"anchor\": \"x31\", \"domain\": [0.21000000000000002, 0.265]}, \"yaxis32\": {\"anchor\": \"x32\", \"domain\": [0.21000000000000002, 0.265]}, \"yaxis33\": {\"anchor\": \"x33\", \"domain\": [0.10500000000000001, 0.16000000000000003]}, \"yaxis34\": {\"anchor\": \"x34\", \"domain\": [0.10500000000000001, 0.16000000000000003]}, \"yaxis35\": {\"anchor\": \"x35\", \"domain\": [0.10500000000000001, 0.16000000000000003]}, \"yaxis36\": {\"anchor\": \"x36\", \"domain\": [0.10500000000000001, 0.16000000000000003]}, \"yaxis37\": {\"anchor\": \"x37\", \"domain\": [0.0, 0.05500000000000001]}, \"yaxis38\": {\"anchor\": \"x38\", \"domain\": [0.0, 0.05500000000000001]}, \"yaxis39\": {\"anchor\": \"x39\", \"domain\": [0.0, 0.05500000000000001]}, \"yaxis4\": {\"anchor\": \"x4\", \"domain\": [0.9450000000000001, 1.0]}, \"yaxis40\": {\"anchor\": \"x40\", \"domain\": [0.0, 0.05500000000000001]}, \"yaxis5\": {\"anchor\": \"x5\", \"domain\": [0.8400000000000001, 0.8950000000000001]}, \"yaxis6\": {\"anchor\": \"x6\", \"domain\": [0.8400000000000001, 0.8950000000000001]}, \"yaxis7\": {\"anchor\": \"x7\", \"domain\": [0.8400000000000001, 0.8950000000000001]}, \"yaxis8\": {\"anchor\": \"x8\", \"domain\": [0.8400000000000001, 0.8950000000000001]}, \"yaxis9\": {\"anchor\": \"x9\", \"domain\": [0.7350000000000001, 0.7900000000000001]}},\n",
       "                        {\"responsive\": true}\n",
       "                    ).then(function(){\n",
       "                            \n",
       "var gd = document.getElementById('268a6f4f-cda7-48a7-898c-d250592dc3d1');\n",
       "var x = new MutationObserver(function (mutations, observer) {{\n",
       "        var display = window.getComputedStyle(gd).display;\n",
       "        if (!display || display === 'none') {{\n",
       "            console.log([gd, 'removed!']);\n",
       "            Plotly.purge(gd);\n",
       "            observer.disconnect();\n",
       "        }}\n",
       "}});\n",
       "\n",
       "// Listen for the removal of the full notebook cells\n",
       "var notebookContainer = gd.closest('#notebook-container');\n",
       "if (notebookContainer) {{\n",
       "    x.observe(notebookContainer, {childList: true});\n",
       "}}\n",
       "\n",
       "// Listen for the clearing of the current output cell\n",
       "var outputEl = gd.closest('.output');\n",
       "if (outputEl) {{\n",
       "    x.observe(outputEl, {childList: true});\n",
       "}}\n",
       "\n",
       "                        })\n",
       "                };\n",
       "                });\n",
       "            </script>\n",
       "        </div>"
      ]
     },
     "metadata": {},
     "output_type": "display_data"
    }
   ],
   "source": [
    "start = 120\n",
    "end = 160\n",
    "cols = 4\n",
    "fig = make_subplots(rows = 10, \n",
    "                    cols = cols,\n",
    "                    subplot_titles = sub_names[start:end],                    \n",
    "                    #vertical_spacing = 0.08,\n",
    "                    #horizontal_spacing = None\n",
    "                   )\n",
    "for i in range(40):\n",
    "    fig.append_trace(go.Bar(\n",
    "        #x = ['comp1', 'comp2', 'comp3', 'comp4', 'comp5'],\n",
    "        y = df_Q.iloc[i, :],\n",
    "        hovertext = df_Q.iloc[i, :]\n",
    "    ), row = i // cols + 1, col = i % cols + 1)\n",
    "    #print(i // 4 + 1, i % 4 + 1, df_Q.iloc[i, :])\n",
    "#fig.update_layout(height = 300 + len(df_Q)//4 + 1, width=1000, title_text=\"Stacked subplots\")\n",
    "fig.update_layout(height = 100 * 10, \n",
    "                  width=200 * cols, \n",
    "                  title_text=\"Графики разложения отельных индивидов на компоненты\",\n",
    "                  showlegend = False\n",
    "                 )\n",
    "fig.show()"
   ]
  }
 ],
 "metadata": {
  "kernelspec": {
   "display_name": "Python 3",
   "language": "python",
   "name": "python3"
  },
  "language_info": {
   "codemirror_mode": {
    "name": "ipython",
    "version": 3
   },
   "file_extension": ".py",
   "mimetype": "text/x-python",
   "name": "python",
   "nbconvert_exporter": "python",
   "pygments_lexer": "ipython3",
   "version": "3.7.2"
  }
 },
 "nbformat": 4,
 "nbformat_minor": 2
}
